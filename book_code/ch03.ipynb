{
 "cells": [
  {
   "cell_type": "markdown",
   "id": "11006eec",
   "metadata": {},
   "source": [
    "## Built-In Data Structures, Functions, and Files"
   ]
  },
  {
   "cell_type": "markdown",
   "id": "8d3d4b3b",
   "metadata": {},
   "source": [
    "### Tuples (Bộ dữ liệu)\n",
    "- Tuple là một cấu trúc dữ liệu bất biến (immutable) trong Python, có thể chứa nhiều phần tử khác nhau."
   ]
  },
  {
   "cell_type": "code",
   "execution_count": null,
   "id": "8890da2b",
   "metadata": {},
   "outputs": [
    {
     "data": {
      "text/plain": [
       "(4, 5, 6)"
      ]
     },
     "metadata": {},
     "output_type": "display_data"
    }
   ],
   "source": [
    "# Cách 1: Sử dụng dấu ngoặc đơn\n",
    "tup = (4, 5, 6)\n",
    "print(tup)  # Output: (4, 5, 6)\n"
   ]
  },
  {
   "cell_type": "code",
   "execution_count": null,
   "id": "4addc397",
   "metadata": {},
   "outputs": [
    {
     "data": {
      "text/plain": [
       "(4, 5, 6)"
      ]
     },
     "metadata": {},
     "output_type": "display_data"
    }
   ],
   "source": [
    "# Cách 2: Không cần dấu ngoặc đơn (tuple packing)\n",
    "tup = 4, 5, 6\n",
    "print(tup)  # Output: (4, 5, 6)"
   ]
  },
  {
   "cell_type": "code",
   "execution_count": null,
   "id": "3ac363fe",
   "metadata": {},
   "outputs": [
    {
     "data": {
      "text/plain": [
       "('s', 't', 'r', 'i', 'n', 'g')"
      ]
     },
     "metadata": {},
     "output_type": "display_data"
    }
   ],
   "source": [
    "# Cách 3: Sử dụng constructor tuple()\n",
    "tuple([4, 0, 2])  # Chuyển list thành tuple\n",
    "tup = tuple('string')  # Chuyển string thành tuple các ký tự\n",
    "print(tup)  # Output: ('s', 't', 'r', 'i', 'n', 'g')"
   ]
  },
  {
   "cell_type": "markdown",
   "id": "a5fd7474",
   "metadata": {},
   "source": [
    "#### Truy cập phần tử"
   ]
  },
  {
   "cell_type": "code",
   "execution_count": null,
   "id": "ffe092c0",
   "metadata": {},
   "outputs": [
    {
     "data": {
      "text/plain": [
       "'s'"
      ]
     },
     "metadata": {},
     "output_type": "display_data"
    }
   ],
   "source": [
    "# Truy cập phần tử đầu tiên\n",
    "print(tup[0])  # Output: 's'"
   ]
  },
  {
   "cell_type": "markdown",
   "id": "65654ce7",
   "metadata": {},
   "source": [
    "#### Nested Tuples (Tuple lồng nhau)"
   ]
  },
  {
   "cell_type": "code",
   "execution_count": null,
   "id": "2772a8c4",
   "metadata": {},
   "outputs": [
    {
     "data": {
      "text/plain": [
       "(7, 8)"
      ]
     },
     "metadata": {},
     "output_type": "display_data"
    }
   ],
   "source": [
    "# Tạo tuple chứa các tuple khác\n",
    "nested_tup = (4, 5, 6), (7, 8)\n",
    "print(nested_tup)        # Output: ((4, 5, 6), (7, 8))\n",
    "print(nested_tup[0])     # Output: (4, 5, 6) - tuple đầu tiên\n",
    "print(nested_tup[1])     # Output: (7, 8) - tuple thứ hai"
   ]
  },
  {
   "cell_type": "markdown",
   "id": "bbdbb848",
   "metadata": {},
   "source": [
    "#### Tính bất biến của Tuple"
   ]
  },
  {
   "cell_type": "code",
   "execution_count": null,
   "id": "12226a42",
   "metadata": {},
   "outputs": [
    {
     "ename": "TypeError",
     "evalue": "'tuple' object does not support item assignment",
     "output_type": "error",
     "traceback": [
      "\u001b[1;31m---------------------------------------------------------------------------\u001b[0m\n",
      "\u001b[1;31mTypeError\u001b[0m                                 Traceback (most recent call last)\n",
      "Cell \u001b[1;32mIn[20], line 3\u001b[0m\n",
      "\u001b[0;32m      1\u001b[0m \u001b[38;5;66;03m# Thay đổi phần tử trong tuple (không thể thực hiện)\u001b[39;00m\n",
      "\u001b[0;32m      2\u001b[0m tup \u001b[38;5;241m=\u001b[39m \u001b[38;5;28mtuple\u001b[39m([\u001b[38;5;124m'\u001b[39m\u001b[38;5;124mfoo\u001b[39m\u001b[38;5;124m'\u001b[39m, [\u001b[38;5;241m1\u001b[39m, \u001b[38;5;241m2\u001b[39m], \u001b[38;5;28;01mTrue\u001b[39;00m])\n",
      "\u001b[1;32m----> 3\u001b[0m \u001b[43mtup\u001b[49m\u001b[43m[\u001b[49m\u001b[38;5;241;43m2\u001b[39;49m\u001b[43m]\u001b[49m \u001b[38;5;241m=\u001b[39m \u001b[38;5;28;01mFalse\u001b[39;00m\n",
      "\n",
      "\u001b[1;31mTypeError\u001b[0m: 'tuple' object does not support item assignment"
     ]
    }
   ],
   "source": [
    "# Tuple bất biến - không thể thay đổi phần tử\n",
    "tup = tuple(['foo', [1, 2], True])\n",
    "# tup[2] = False  # Lỗi! Không thể gán lại"
   ]
  },
  {
   "cell_type": "code",
   "execution_count": null,
   "id": "07cb2612",
   "metadata": {},
   "outputs": [],
   "source": [
    "# Nhưng có thể thay đổi object bên trong nếu nó mutable\n",
    "tup[1].append(3)  # List bên trong vẫn có thể thay đổi\n",
    "print(tup)  # Output: ('foo', [1, 2, 3], True)"
   ]
  },
  {
   "cell_type": "markdown",
   "id": "7dee1b2b",
   "metadata": {},
   "source": [
    "#### Phép toán với Tuple"
   ]
  },
  {
   "cell_type": "code",
   "execution_count": null,
   "id": "396f1add",
   "metadata": {},
   "outputs": [],
   "source": [
    "# Nối tuple\n",
    "result = (4, None, 'foo') + (6, 0) + ('bar',)\n",
    "print(result)  # Output: (4, None, 'foo', 6, 0, 'bar')"
   ]
  },
  {
   "cell_type": "code",
   "execution_count": null,
   "id": "9bd7e15a",
   "metadata": {},
   "outputs": [],
   "source": [
    "# Nhân tuple\n",
    "repeated = ('foo', 'bar') * 4\n",
    "print(repeated)  # Output: ('foo', 'bar', 'foo', 'bar', 'foo', 'bar', 'foo', 'bar')"
   ]
  },
  {
   "cell_type": "markdown",
   "id": "3f84ab05",
   "metadata": {},
   "source": [
    "#### Tuple Unpacking (Giải nén tuple)"
   ]
  },
  {
   "cell_type": "code",
   "execution_count": null,
   "id": "17de4fb3",
   "metadata": {},
   "outputs": [],
   "source": [
    "# Gán nhiều biến cùng lúc\n",
    "tup = (4, 5, 6)\n",
    "a, b, c = tup\n",
    "print(b)  # Output: 5"
   ]
  },
  {
   "cell_type": "code",
   "execution_count": null,
   "id": "2da3d321",
   "metadata": {},
   "outputs": [],
   "source": [
    "# Unpacking tuple lồng nhau\n",
    "tup = 4, 5, (6, 7)\n",
    "a, b, (c, d) = tup\n",
    "print(d)  # Output: 7"
   ]
  },
  {
   "cell_type": "code",
   "execution_count": null,
   "id": "3bce3021",
   "metadata": {},
   "outputs": [],
   "source": [
    "# Hoán đổi giá trị biến\n",
    "a, b = 1, 2\n",
    "print(a, b)  # Output: 1 2\n",
    "b, a = a, b  # Hoán đổi\n",
    "print(a, b)  # Output: 2 1"
   ]
  },
  {
   "cell_type": "markdown",
   "id": "65c1477c",
   "metadata": {},
   "source": [
    "#### Unpacking trong vòng lặp"
   ]
  },
  {
   "cell_type": "code",
   "execution_count": null,
   "id": "cdf79c70",
   "metadata": {},
   "outputs": [],
   "source": [
    "# Unpacking trong for loop\n",
    "seq = [(1, 2, 3), (4, 5, 6), (7, 8, 9)]\n",
    "for a, b, c in seq:\n",
    "    print(f'a={a}, b={b}, c={c}')\n",
    "# Output:\n",
    "# a=1, b=2, c=3\n",
    "# a=4, b=5, c=6  \n",
    "# a=7, b=8, c=9"
   ]
  },
  {
   "cell_type": "markdown",
   "id": "dfd9b116",
   "metadata": {},
   "source": [
    "#### Variable-length unpacking với *rest"
   ]
  },
  {
   "cell_type": "code",
   "execution_count": null,
   "id": "5864d013",
   "metadata": {},
   "outputs": [],
   "source": [
    "# Sử dụng *rest để lấy phần còn lại\n",
    "values = 1, 2, 3, 4, 5\n",
    "a, b, *rest = values\n",
    "print(a)     # Output: 1\n",
    "print(b)     # Output: 2  \n",
    "print(rest)  # Output: [3, 4, 5]"
   ]
  },
  {
   "cell_type": "code",
   "execution_count": null,
   "id": "6a87f8f2",
   "metadata": {},
   "outputs": [],
   "source": [
    "# Bỏ qua phần còn lại với *_\n",
    "a, b, *_ = values  # _ là convention để chỉ biến không sử dụng"
   ]
  },
  {
   "cell_type": "markdown",
   "id": "28cbba61",
   "metadata": {},
   "source": [
    "#### Phương thức của Tuple"
   ]
  },
  {
   "cell_type": "code",
   "execution_count": null,
   "id": "0c74e9d1",
   "metadata": {},
   "outputs": [],
   "source": [
    "# count(): đếm số lần xuất hiện của một giá trị\n",
    "a = (1, 2, 2, 2, 3, 4, 2)\n",
    "count = a.count(2)\n",
    "print(count)  # Output: 4"
   ]
  },
  {
   "cell_type": "markdown",
   "id": "16506643",
   "metadata": {},
   "source": [
    "### Lists (Danh sách)\n",
    "- List là cấu trúc dữ liệu có thể thay đổi (mutable) và có thứ tự."
   ]
  },
  {
   "cell_type": "markdown",
   "id": "7be39687",
   "metadata": {},
   "source": [
    "#### Chuyển đổi giữa List và Tuple"
   ]
  },
  {
   "cell_type": "code",
   "execution_count": null,
   "id": "ca0ff6b9",
   "metadata": {},
   "outputs": [
    {
     "name": "stdout",
     "output_type": "stream",
     "text": [
      "['foo', 'bar', 'baz']\n"
     ]
    }
   ],
   "source": [
    "# Chuyển tuple thành list\n",
    "a_list = [2, 3, 7, None]\n",
    "tup = (\"foo\", \"bar\", \"baz\")\n",
    "b_list = list(tup)\n",
    "print(b_list)  # Output: ['foo', 'bar', 'baz']"
   ]
  },
  {
   "cell_type": "code",
   "execution_count": null,
   "id": "38cea1cf",
   "metadata": {},
   "outputs": [
    {
     "name": "stdout",
     "output_type": "stream",
     "text": [
      "['foo', 'peekaboo', 'baz']\n"
     ]
    }
   ],
   "source": [
    "# Thay đổi phần tử trong list\n",
    "b_list[1] = \"peekaboo\"\n",
    "print(b_list)  # Output: ['foo', 'peekaboo', 'baz']"
   ]
  },
  {
   "cell_type": "markdown",
   "id": "82a58d80",
   "metadata": {},
   "source": [
    "#### Thêm và xóa phần tử"
   ]
  },
  {
   "cell_type": "code",
   "execution_count": null,
   "id": "d24281c6",
   "metadata": {},
   "outputs": [
    {
     "name": "stdout",
     "output_type": "stream",
     "text": [
      "['foo', 'peekaboo', 'baz', 'dwarf']\n"
     ]
    }
   ],
   "source": [
    "# append(): thêm phần tử vào cuối\n",
    "b_list.append(\"dwarf\")\n",
    "print(b_list)  # Output: ['foo', 'peekaboo', 'baz', 'dwarf']"
   ]
  },
  {
   "cell_type": "code",
   "execution_count": null,
   "id": "136631fa",
   "metadata": {},
   "outputs": [
    {
     "name": "stdout",
     "output_type": "stream",
     "text": [
      "['foo', 'red', 'peekaboo', 'baz', 'dwarf']\n"
     ]
    }
   ],
   "source": [
    "# Chèn phần tử vào vị trí cụ thể\n",
    "b_list.insert(1, \"red\")\n",
    "print(b_list)  # Output: ['foo', 'red', 'peekaboo', 'baz', 'dwarf']"
   ]
  },
  {
   "cell_type": "code",
   "execution_count": null,
   "id": "6a72e3c3",
   "metadata": {},
   "outputs": [
    {
     "name": "stdout",
     "output_type": "stream",
     "text": [
      "['foo', 'red', 'baz', 'dwarf']\n"
     ]
    }
   ],
   "source": [
    "# pop(): xóa và trả về phần tử tại vị trí chỉ định\n",
    "b_list.pop(2)\n",
    "print(b_list)  # Output: ['foo', 'red', 'baz', 'dwarf']"
   ]
  },
  {
   "cell_type": "code",
   "execution_count": null,
   "id": "b2e6845e",
   "metadata": {},
   "outputs": [
    {
     "name": "stdout",
     "output_type": "stream",
     "text": [
      "['foo', 'red', 'baz', 'dwarf', 'foo']\n",
      "['red', 'baz', 'dwarf', 'foo']\n"
     ]
    }
   ],
   "source": [
    "# Thêm phần tử vào list\n",
    "b_list.append(\"foo\")\n",
    "print(b_list)  # Output: ['foo', 'red', 'baz', 'dwarf', 'foo']\n",
    "\n",
    "# Xóa phần tử theo giá trị\n",
    "b_list.remove(\"foo\")  # Chỉ xóa 'foo' đầu tiên\n",
    "print(b_list)  # Output: ['red', 'baz', 'dwarf', 'foo']"
   ]
  },
  {
   "cell_type": "markdown",
   "id": "6094b7b2",
   "metadata": {},
   "source": [
    "#### Kiểm tra sự tồn tại"
   ]
  },
  {
   "cell_type": "code",
   "execution_count": null,
   "id": "e22667ce",
   "metadata": {},
   "outputs": [
    {
     "name": "stdout",
     "output_type": "stream",
     "text": [
      "True\n"
     ]
    }
   ],
   "source": [
    "print(\"dwarf\" in b_list)      # Output: True"
   ]
  },
  {
   "cell_type": "code",
   "execution_count": null,
   "id": "ef8ec81a",
   "metadata": {},
   "outputs": [
    {
     "name": "stdout",
     "output_type": "stream",
     "text": [
      "False\n"
     ]
    }
   ],
   "source": [
    "print(\"dwarf\" not in b_list)  # Output: False"
   ]
  },
  {
   "cell_type": "markdown",
   "id": "7b979572",
   "metadata": {},
   "source": [
    "#### Nối list"
   ]
  },
  {
   "cell_type": "code",
   "execution_count": null,
   "id": "e73ab3f6",
   "metadata": {},
   "outputs": [
    {
     "name": "stdout",
     "output_type": "stream",
     "text": [
      "[4, None, 'foo', 7, 8, (2, 3)]\n"
     ]
    }
   ],
   "source": [
    "# Phép cộng tạo list mới\n",
    "result = [4, None, \"foo\"] + [7, 8, (2, 3)]\n",
    "print(result)  # Output: [4, None, 'foo', 7, 8, (2, 3)]"
   ]
  },
  {
   "cell_type": "code",
   "execution_count": null,
   "id": "d736b901",
   "metadata": {},
   "outputs": [],
   "source": [
    "# extend(): thêm phần tử từ list khác (in-place)\n",
    "x = [4, None, \"foo\"]\n",
    "x.extend([7, 8, (2, 3)])\n",
    "print(x)  # Output: [4, None, 'foo', 7, 8, (2, 3)]"
   ]
  },
  {
   "cell_type": "markdown",
   "id": "91a0d60b",
   "metadata": {},
   "source": [
    "#### Sắp xếp "
   ]
  },
  {
   "cell_type": "code",
   "execution_count": null,
   "id": "2cd21eb3",
   "metadata": {},
   "outputs": [],
   "source": [
    "# sort(): sắp xếp in-place\n",
    "a = [7, 2, 5, 1, 3]\n",
    "a.sort()\n",
    "print(a)  # Output: [1, 2, 3, 5, 7]"
   ]
  },
  {
   "cell_type": "code",
   "execution_count": null,
   "id": "5fddf0a3",
   "metadata": {},
   "outputs": [],
   "source": [
    "# Sắp xếp theo độ dài string\n",
    "b = [\"saw\", \"small\", \"He\", \"foxes\", \"six\"]\n",
    "b.sort(key=len)  # key=len nghĩa là sắp xếp theo độ dài\n",
    "print(b)  # Output: ['He', 'saw', 'six', 'small', 'foxes']"
   ]
  },
  {
   "cell_type": "markdown",
   "id": "a893b7ad",
   "metadata": {},
   "source": [
    "#### Slicing (Cắt list)"
   ]
  },
  {
   "cell_type": "code",
   "execution_count": null,
   "id": "2b975c39",
   "metadata": {},
   "outputs": [],
   "source": [
    "seq = [7, 2, 3, 7, 5, 6, 0, 1]"
   ]
  },
  {
   "cell_type": "code",
   "execution_count": null,
   "id": "ba0585e3",
   "metadata": {},
   "outputs": [
    {
     "name": "stdout",
     "output_type": "stream",
     "text": [
      "[2, 3, 7, 5]\n",
      "[7, 2, 3, 6, 3, 6, 0, 1]\n",
      "[7, 2, 3, 6, 3]\n",
      "[6, 3, 6, 0, 1]\n",
      "[3, 6, 0, 1]\n",
      "[3, 6, 3, 6]\n",
      "[7, 3, 3, 0]\n",
      "[1, 0, 6, 3, 6, 3, 2, 7]\n"
     ]
    }
   ],
   "source": [
    "# Cắt từ index 1 đến 5 (không bao gồm 5)\n",
    "print(seq[1:5])  # Output: [2, 3, 7, 5]\n",
    "\n",
    "# Gán slice với list mới\n",
    "seq[3:5] = [6, 3]\n",
    "print(seq)  # Output: [7, 2, 3, 6, 3, 6, 0, 1]\n",
    "\n",
    "# Slice từ đầu đến index 5\n",
    "print(seq[:5])   # Output: [7, 2, 3, 6, 3]\n",
    "# Slice từ index 3 đến cuối\n",
    "print(seq[3:])   # Output: [6, 3, 6, 0, 1]\n",
    "\n",
    "# Negative indexing\n",
    "print(seq[-4:])   # Output: [3, 6, 0, 1] - 4 phần tử cuối\n",
    "print(seq[-6:-2]) # Output: [6, 3, 6, 0] - từ index -6 đến -2\n",
    "\n",
    "# Step slicing\n",
    "print(seq[::2])   # Output: [7, 3, 3, 0] - lấy mỗi phần tử thứ 2\n",
    "print(seq[::-1])  # Output: [1, 0, 6, 3, 6, 3, 2, 7] - đảo ngược list"
   ]
  },
  {
   "cell_type": "markdown",
   "id": "5a8ed81a",
   "metadata": {},
   "source": [
    "### Dictionaries (Từ điển)\n",
    "- Dictionary là cấu trúc dữ liệu key-value có thể thay đổi."
   ]
  },
  {
   "cell_type": "markdown",
   "id": "22387ed3",
   "metadata": {},
   "source": [
    "#### Tạo Dictionary"
   ]
  },
  {
   "cell_type": "code",
   "execution_count": null,
   "id": "e7e3af14",
   "metadata": {},
   "outputs": [
    {
     "name": "stdout",
     "output_type": "stream",
     "text": [
      "{'a': 'some value', 'b': [1, 2, 3, 4]}\n"
     ]
    }
   ],
   "source": [
    "# Dictionary rỗng\n",
    "empty_dict = {}\n",
    "\n",
    "# Dictionary với dữ liệu\n",
    "d1 = {\"a\": \"some value\", \"b\": [1, 2, 3, 4]}\n",
    "print(d1)  # Output: {'a': 'some value', 'b': [1, 2, 3, 4]}"
   ]
  },
  {
   "cell_type": "code",
   "execution_count": null,
   "id": "a1d9d530",
   "metadata": {},
   "outputs": [
    {
     "name": "stdout",
     "output_type": "stream",
     "text": [
      "{'a': 'some value', 'b': [1, 2, 3, 4], 7: 'an integer'}\n",
      "[1, 2, 3, 4]\n"
     ]
    }
   ],
   "source": [
    "# Thêm key-value mới\n",
    "d1[7] = \"an integer\"  # Key có thể là số\n",
    "print(d1)       # Output: {'a': 'some value', 'b': [1, 2, 3, 4], 7: 'an integer'}\n",
    "print(d1[\"b\"])  # Output: [1, 2, 3, 4]"
   ]
  },
  {
   "cell_type": "markdown",
   "id": "60e79fb3",
   "metadata": {},
   "source": [
    "#### Kiểm tra key"
   ]
  },
  {
   "cell_type": "code",
   "execution_count": null,
   "id": "691196f9",
   "metadata": {},
   "outputs": [
    {
     "name": "stdout",
     "output_type": "stream",
     "text": [
      "True\n"
     ]
    }
   ],
   "source": [
    "# Kiểm tra key có tồn tại không\n",
    "print(\"b\" in d1)  # Output: True"
   ]
  },
  {
   "cell_type": "markdown",
   "id": "1e415bc5",
   "metadata": {},
   "source": [
    "#### Thao tác với Dictionary"
   ]
  },
  {
   "cell_type": "code",
   "execution_count": null,
   "id": "b6449973",
   "metadata": {},
   "outputs": [
    {
     "name": "stdout",
     "output_type": "stream",
     "text": [
      "{'a': 'some value', 'b': [1, 2, 3, 4], 7: 'an integer', 5: 'some value', 'dummy': 'another value'}\n",
      "{'a': 'some value', 'b': [1, 2, 3, 4], 7: 'an integer', 'dummy': 'another value'}\n",
      "another value\n",
      "{'a': 'some value', 'b': [1, 2, 3, 4], 7: 'an integer'}\n"
     ]
    }
   ],
   "source": [
    "# Thêm nhiều key-value\n",
    "d1[5] = \"some value\"\n",
    "d1[\"dummy\"] = \"another value\"\n",
    "print(d1)\n",
    "\n",
    "# Xóa key bằng del\n",
    "del d1[5]\n",
    "print(d1)\n",
    "\n",
    "# pop(): xóa và trả về value\n",
    "ret = d1.pop(\"dummy\")\n",
    "print(ret)  # Output: 'another value'\n",
    "print(d1)"
   ]
  },
  {
   "cell_type": "markdown",
   "id": "f0ba852d",
   "metadata": {},
   "source": [
    "#### Lấy keys, values, items"
   ]
  },
  {
   "cell_type": "code",
   "execution_count": null,
   "id": "7e733564",
   "metadata": {},
   "outputs": [
    {
     "name": "stdout",
     "output_type": "stream",
     "text": [
      "['a', 'b', 7]\n",
      "['some value', [1, 2, 3, 4], 'an integer']\n",
      "[('a', 'some value'), ('b', [1, 2, 3, 4]), (7, 'an integer')]\n"
     ]
    }
   ],
   "source": [
    "# keys(): lấy tất cả keys\n",
    "print(list(d1.keys()))    # Output: ['a', 'b', 7]\n",
    "\n",
    "# values(): lấy tất cả values  \n",
    "print(list(d1.values()))  # Output: ['some value', [1, 2, 3, 4], 'an integer']\n",
    "\n",
    "# items(): lấy các cặp key-value\n",
    "print(list(d1.items()))   # Output: [('a', 'some value'), ('b', [1, 2, 3, 4]), (7, 'an integer')]"
   ]
  },
  {
   "cell_type": "code",
   "execution_count": null,
   "id": "111c21c0",
   "metadata": {},
   "outputs": [],
   "source": [
    "# update(): cập nhật từ dict khác\n",
    "d1.update({\"b\": \"foo\", \"c\": 12})\n",
    "print(d1)  # Output: {'a': 'some value', 'b': 'foo', 7: 'an integer', 'c': 12}"
   ]
  },
  {
   "cell_type": "markdown",
   "id": "4f880932",
   "metadata": {},
   "source": [
    "#### Tạo Dictionary từ sequences"
   ]
  },
  {
   "cell_type": "code",
   "execution_count": null,
   "id": "f42dab5d",
   "metadata": {},
   "outputs": [],
   "source": [
    "# Tạo dict từ zip object\n",
    "tuples = zip(range(5), reversed(range(5)))\n",
    "print(tuples)  # zip object\n",
    "mapping = dict(tuples)\n",
    "print(mapping)  # Output: {0: 4, 1: 3, 2: 2, 3: 1, 4: 0}"
   ]
  },
  {
   "cell_type": "markdown",
   "id": "222c94d8",
   "metadata": {},
   "source": [
    "#### Nhóm dữ liệu theo key"
   ]
  },
  {
   "cell_type": "code",
   "execution_count": null,
   "id": "aac146f0",
   "metadata": {},
   "outputs": [
    {
     "name": "stdout",
     "output_type": "stream",
     "text": [
      "{'a': ['apple', 'atom'], 'b': ['bat', 'bar', 'book']}\n"
     ]
    }
   ],
   "source": [
    "words = [\"apple\", \"bat\", \"bar\", \"atom\", \"book\"]\n",
    "\n",
    "# Cách thủ công\n",
    "by_letter = {}\n",
    "for word in words:\n",
    "    letter = word[0]  # Lấy chữ cái đầu\n",
    "    if letter not in by_letter:\n",
    "        by_letter[letter] = [word]\n",
    "    else:\n",
    "        by_letter[letter].append(word)\n",
    "print(by_letter)  # Output: {'a': ['apple', 'atom'], 'b': ['bat', 'bar', 'book']}"
   ]
  },
  {
   "cell_type": "code",
   "execution_count": null,
   "id": "9d6c8e7c",
   "metadata": {},
   "outputs": [
    {
     "name": "stdout",
     "output_type": "stream",
     "text": [
      "{'a': ['apple', 'atom'], 'b': ['bat', 'bar', 'book']}\n"
     ]
    }
   ],
   "source": [
    "# Sử dụng setdefault()\n",
    "by_letter = {}\n",
    "for word in words:\n",
    "    letter = word[0]\n",
    "    # setdefault() trả về value nếu key tồn tại, nếu không thì set value mặc định\n",
    "    by_letter.setdefault(letter, []).append(word)\n",
    "print(by_letter)"
   ]
  },
  {
   "cell_type": "code",
   "execution_count": null,
   "id": "fff49230",
   "metadata": {},
   "outputs": [
    {
     "name": "stdout",
     "output_type": "stream",
     "text": [
      "defaultdict(<class 'list'>, {'a': ['apple', 'atom'], 'b': ['bat', 'bar', 'book']})\n"
     ]
    }
   ],
   "source": [
    "# Sử dụng defaultdict\n",
    "from collections import defaultdict\n",
    "by_letter = defaultdict(list)  # Tự động tạo list nếu key chưa tồn tại\n",
    "for word in words:\n",
    "    by_letter[word[0]].append(word)\n",
    "print(by_letter)"
   ]
  },
  {
   "cell_type": "markdown",
   "id": "c0dfb9da",
   "metadata": {},
   "source": [
    "#### Valid Dictionary Keys"
   ]
  },
  {
   "cell_type": "code",
   "execution_count": null,
   "id": "d84b74ce",
   "metadata": {},
   "outputs": [
    {
     "name": "stdout",
     "output_type": "stream",
     "text": [
      "7525051258838487376\n",
      "-9209053662355515447\n"
     ]
    }
   ],
   "source": [
    "# Key phải là hashable (immutable)\n",
    "print(hash(\"string\"))        # String có thể hash\n",
    "print(hash((1, 2, (2, 3))))  # Tuple có thể hash\n",
    "# hash((1, 2, [2, 3]))       # Lỗi! List không thể hash vì mutable"
   ]
  },
  {
   "cell_type": "code",
   "execution_count": null,
   "id": "dab13e8b",
   "metadata": {},
   "outputs": [
    {
     "name": "stdout",
     "output_type": "stream",
     "text": [
      "{(1, 2, 3): 5}\n"
     ]
    }
   ],
   "source": [
    "# Sử dụng tuple làm key\n",
    "d = {}\n",
    "d[tuple([1, 2, 3])] = 5\n",
    "print(d)  # Output: {(1, 2, 3): 5}"
   ]
  },
  {
   "cell_type": "markdown",
   "id": "f7d6c68d",
   "metadata": {},
   "source": [
    "### Sets (Tập hợp)\n",
    "- Set là collection không có thứ tự và không có phần tử trùng lặp."
   ]
  },
  {
   "cell_type": "markdown",
   "id": "2a8831b2",
   "metadata": {},
   "source": [
    "#### Tạo Set"
   ]
  },
  {
   "cell_type": "code",
   "execution_count": null,
   "id": "f4af299a",
   "metadata": {},
   "outputs": [],
   "source": [
    "# Từ list (loại bỏ duplicate)\n",
    "print(set([2, 2, 2, 1, 3, 3]))  # Output: {1, 2, 3}\n",
    "\n",
    "# Set literal\n",
    "print({2, 2, 2, 1, 3, 3})       # Output: {1, 2, 3}"
   ]
  },
  {
   "cell_type": "markdown",
   "id": "1a2e6ac9",
   "metadata": {},
   "source": [
    "#### Phép toán Set"
   ]
  },
  {
   "cell_type": "code",
   "execution_count": null,
   "id": "0d35389e",
   "metadata": {},
   "outputs": [],
   "source": [
    "a = {1, 2, 3, 4, 5}\n",
    "b = {3, 4, 5, 6, 7, 8}"
   ]
  },
  {
   "cell_type": "code",
   "execution_count": null,
   "id": "a76f8b7f",
   "metadata": {},
   "outputs": [
    {
     "name": "stdout",
     "output_type": "stream",
     "text": [
      "{1, 2, 3, 4, 5, 6, 7, 8}\n",
      "{1, 2, 3, 4, 5, 6, 7, 8}\n"
     ]
    }
   ],
   "source": [
    "# Union (hợp): tất cả phần tử của cả hai set\n",
    "print(a.union(b))    # Output: {1, 2, 3, 4, 5, 6, 7, 8}\n",
    "print(a | b)         # Toán tử | cũng là union"
   ]
  },
  {
   "cell_type": "code",
   "execution_count": null,
   "id": "9086aa18",
   "metadata": {},
   "outputs": [
    {
     "name": "stdout",
     "output_type": "stream",
     "text": [
      "{3, 4, 5}\n",
      "{3, 4, 5}\n"
     ]
    }
   ],
   "source": [
    "# Intersection (giao): phần tử chung\n",
    "print(a.intersection(b))  # Output: {3, 4, 5}\n",
    "print(a & b)             # Toán tử & cũng là intersection"
   ]
  },
  {
   "cell_type": "code",
   "execution_count": null,
   "id": "bcb301f1",
   "metadata": {},
   "outputs": [
    {
     "name": "stdout",
     "output_type": "stream",
     "text": [
      "{1, 2, 3, 4, 5, 6, 7, 8}\n",
      "{3, 4, 5}\n"
     ]
    }
   ],
   "source": [
    "# In-place operations\n",
    "c = a.copy()\n",
    "c |= b  # Equivalent to c = c.union(b)\n",
    "print(c)  # Output: {1, 2, 3, 4, 5, 6, 7, 8}\n",
    "\n",
    "d = a.copy()  \n",
    "d &= b  # Equivalent to d = d.intersection(b)\n",
    "print(d)  # Output: {3, 4, 5}"
   ]
  },
  {
   "cell_type": "markdown",
   "id": "5a2b9b40",
   "metadata": {},
   "source": [
    "#### Set từ dữ liệu phức tạp"
   ]
  },
  {
   "cell_type": "code",
   "execution_count": null,
   "id": "3ef473cd",
   "metadata": {},
   "outputs": [
    {
     "name": "stdout",
     "output_type": "stream",
     "text": [
      "{(1, 2, 3, 4)}\n"
     ]
    }
   ],
   "source": [
    "# Chỉ có thể chứa immutable objects\n",
    "my_data = [1, 2, 3, 4]\n",
    "my_set = {tuple(my_data)}  # Convert list to tuple first\n",
    "print(my_set)  # Output: {(1, 2, 3, 4)}"
   ]
  },
  {
   "cell_type": "markdown",
   "id": "9da23273",
   "metadata": {},
   "source": [
    "#### Subset và Superset"
   ]
  },
  {
   "cell_type": "code",
   "execution_count": null,
   "id": "592cd914",
   "metadata": {},
   "outputs": [
    {
     "name": "stdout",
     "output_type": "stream",
     "text": [
      "True\n",
      "True\n",
      "True\n"
     ]
    }
   ],
   "source": [
    "a_set = {1, 2, 3, 4, 5}\n",
    "\n",
    "# issubset(): kiểm tra subset\n",
    "print({1, 2, 3}.issubset(a_set))    # Output: True\n",
    "\n",
    "# issuperset(): kiểm tra superset  \n",
    "print(a_set.issuperset({1, 2, 3}))  # Output: True\n",
    "\n",
    "# So sánh set\n",
    "print({1, 2, 3} == {3, 2, 1})       # Output: True (thứ tự không quan trọng)"
   ]
  },
  {
   "cell_type": "markdown",
   "id": "83324789",
   "metadata": {},
   "source": [
    "### Built-in Functions"
   ]
  },
  {
   "cell_type": "markdown",
   "id": "62d9304c",
   "metadata": {},
   "source": [
    "#### Sorted"
   ]
  },
  {
   "cell_type": "code",
   "execution_count": null,
   "id": "bcce021c",
   "metadata": {},
   "outputs": [],
   "source": [
    "# sorted(): trả về list đã sắp xếp (không thay đổi original)\n",
    "print(sorted([7, 1, 2, 6, 0, 3, 2]))  # Output: [0, 1, 2, 2, 3, 6, 7]\n",
    "print(sorted(\"horse race\"))            \n",
    "# Output: [' ', 'a', 'c', 'e', 'e', 'h', 'o', 'r', 'r', 's']"
   ]
  },
  {
   "cell_type": "markdown",
   "id": "c7936e8b",
   "metadata": {},
   "source": [
    "#### Zip"
   ]
  },
  {
   "cell_type": "code",
   "execution_count": null,
   "id": "efa666b5",
   "metadata": {},
   "outputs": [],
   "source": [
    "# zip(): ghép các sequence lại với nhau\n",
    "seq1 = [\"foo\", \"bar\", \"baz\"]\n",
    "seq2 = [\"one\", \"two\", \"three\"]\n",
    "zipped = zip(seq1, seq2)\n",
    "print(list(zipped))  # Output: [('foo', 'one'), ('bar', 'two'), ('baz', 'three')]\n",
    "\n",
    "# Zip nhiều sequences\n",
    "seq3 = [False, True]\n",
    "print(list(zip(seq1, seq2, seq3)))  # Output: [('foo', 'one', False), ('bar', 'two', True)]\n",
    "# Chú ý: zip dừng khi sequence ngắn nhất hết phần tử"
   ]
  },
  {
   "cell_type": "markdown",
   "id": "7568a5c0",
   "metadata": {},
   "source": [
    "#### Enumerate"
   ]
  },
  {
   "cell_type": "code",
   "execution_count": null,
   "id": "5a310e6a",
   "metadata": {},
   "outputs": [],
   "source": [
    "# enumerate(): tạo index cho vòng lặp\n",
    "for index, (a, b) in enumerate(zip(seq1, seq2)):\n",
    "    print(f\"{index}: {a}, {b}\")"
   ]
  },
  {
   "cell_type": "markdown",
   "id": "52112c17",
   "metadata": {},
   "source": [
    "#### Reversed"
   ]
  },
  {
   "cell_type": "code",
   "execution_count": null,
   "id": "f8c2fbf0",
   "metadata": {},
   "outputs": [],
   "source": [
    "# reversed(): đảo ngược sequence\n",
    "print(list(reversed(range(10)))) "
   ]
  },
  {
   "cell_type": "markdown",
   "id": "10fe1cf9",
   "metadata": {},
   "source": [
    "### List/Dict/Set Comprehensions"
   ]
  },
  {
   "cell_type": "markdown",
   "id": "f381ef53",
   "metadata": {},
   "source": [
    "#### List Comprehension"
   ]
  },
  {
   "cell_type": "code",
   "execution_count": null,
   "id": "972af702",
   "metadata": {},
   "outputs": [
    {
     "name": "stdout",
     "output_type": "stream",
     "text": [
      "['BAT', 'CAR', 'DOVE', 'PYTHON']\n"
     ]
    }
   ],
   "source": [
    "strings = [\"a\", \"as\", \"bat\", \"car\", \"dove\", \"python\"]\n",
    "\n",
    "# Basic list comprehension với điều kiện\n",
    "result = [x.upper() for x in strings if len(x) > 2]\n",
    "print(result)  # Output: ['BAT', 'CAR', 'DOVE', 'PYTHON']"
   ]
  },
  {
   "cell_type": "markdown",
   "id": "09602cec",
   "metadata": {},
   "source": [
    "#### Set Comprehension"
   ]
  },
  {
   "cell_type": "code",
   "execution_count": null,
   "id": "722ad910",
   "metadata": {},
   "outputs": [],
   "source": [
    "# Set comprehension: loại bỏ duplicate\n",
    "unique_lengths = {len(x) for x in strings}\n",
    "print(unique_lengths)  # Output: {1, 2, 3, 4, 6}\n",
    "\n",
    "# Equivalent với map()\n",
    "print(set(map(len, strings)))  # Same result"
   ]
  },
  {
   "cell_type": "markdown",
   "id": "e38ad0ac",
   "metadata": {},
   "source": [
    "#### Dict Comprehension"
   ]
  },
  {
   "cell_type": "code",
   "execution_count": null,
   "id": "30e84b49",
   "metadata": {},
   "outputs": [],
   "source": [
    "# Dict comprehension\n",
    "loc_mapping = {value: index for index, value in enumerate(strings)}\n",
    "print(loc_mapping)  # Output: {'a': 0, 'as': 1, 'bat': 2, 'car': 3, 'dove': 4, 'python': 5}"
   ]
  },
  {
   "cell_type": "markdown",
   "id": "e49e41ba",
   "metadata": {},
   "source": [
    "#### Nested List Comprehension"
   ]
  },
  {
   "cell_type": "code",
   "execution_count": null,
   "id": "5f8acf88",
   "metadata": {},
   "outputs": [],
   "source": [
    "all_data = [[\"John\", \"Emily\", \"Michael\", \"Mary\", \"Steven\"],\n",
    "            [\"Maria\", \"Juan\", \"Javier\", \"Natalia\", \"Pilar\"]]"
   ]
  },
  {
   "cell_type": "code",
   "execution_count": null,
   "id": "8e1b5bf9",
   "metadata": {},
   "outputs": [],
   "source": [
    "# Cách thủ công\n",
    "names_of_interest = []\n",
    "for names in all_data:\n",
    "    enough_as = [name for name in names if name.count(\"a\") >= 2]\n",
    "    names_of_interest.extend(enough_as)\n",
    "print(names_of_interest)  # Output: ['Maria', 'Natalia']"
   ]
  },
  {
   "cell_type": "code",
   "execution_count": null,
   "id": "bfee6e19",
   "metadata": {},
   "outputs": [],
   "source": [
    "# Nested comprehension\n",
    "result = [name for names in all_data for name in names\n",
    "          if name.count(\"a\") >= 2]\n",
    "print(result)  # Output: ['Maria', 'Natalia']"
   ]
  },
  {
   "cell_type": "markdown",
   "id": "53b72d73",
   "metadata": {},
   "source": [
    "#### Flattening với Comprehension"
   ]
  },
  {
   "cell_type": "code",
   "execution_count": null,
   "id": "13b238c5",
   "metadata": {},
   "outputs": [],
   "source": [
    "some_tuples = [(1, 2, 3), (4, 5, 6), (7, 8, 9)]\n",
    "\n",
    "# Flatten tuple thành list\n",
    "flattened = [x for tup in some_tuples for x in tup]\n",
    "print(flattened)  # Output: [1, 2, 3, 4, 5, 6, 7, 8, 9]"
   ]
  },
  {
   "cell_type": "code",
   "execution_count": null,
   "id": "380b0896",
   "metadata": {},
   "outputs": [],
   "source": [
    "# Equivalent manual approach:\n",
    "flattened = []\n",
    "for tup in some_tuples:\n",
    "    for x in tup:\n",
    "        flattened.append(x)\n",
    "\n",
    "# List of lists comprehension\n",
    "print([[x for x in tup] for tup in some_tuples])\n",
    "# Output: [[1, 2, 3], [4, 5, 6], [7, 8, 9]]"
   ]
  },
  {
   "cell_type": "markdown",
   "id": "b059e4b2",
   "metadata": {},
   "source": [
    "### Functions (Hàm)"
   ]
  },
  {
   "cell_type": "markdown",
   "id": "e239a334",
   "metadata": {},
   "source": [
    "#### Định nghĩa Function cơ bản"
   ]
  },
  {
   "cell_type": "code",
   "execution_count": null,
   "id": "65306c0d",
   "metadata": {},
   "outputs": [],
   "source": [
    "def my_function(x, y):\n",
    "    return x + y"
   ]
  },
  {
   "cell_type": "code",
   "execution_count": null,
   "id": "e453e6a3",
   "metadata": {},
   "outputs": [],
   "source": [
    "# Gọi function\n",
    "result = my_function(1, 2)\n",
    "print(result)  # Output: 3"
   ]
  },
  {
   "cell_type": "markdown",
   "id": "019f3852",
   "metadata": {},
   "source": [
    "#### Function không return"
   ]
  },
  {
   "cell_type": "code",
   "execution_count": null,
   "id": "cb0e437c",
   "metadata": {},
   "outputs": [],
   "source": [
    "def function_without_return(x):\n",
    "    \"\"\"Function chỉ print, không return\"\"\"\n",
    "    print(x)\n",
    "\n",
    "# Function không return sẽ return None\n",
    "result = function_without_return(\"hello!\")  # Print: hello!\n",
    "print(result)  # Output: None"
   ]
  },
  {
   "cell_type": "markdown",
   "id": "83eff3ec",
   "metadata": {},
   "source": [
    "#### Default Parameters"
   ]
  },
  {
   "cell_type": "code",
   "execution_count": null,
   "id": "753839bf",
   "metadata": {},
   "outputs": [],
   "source": [
    "def my_function2(x, y, z=1.5):\n",
    "    if z > 1:\n",
    "        return z * (x + y)\n",
    "    else:\n",
    "        return z / (x + y)"
   ]
  },
  {
   "cell_type": "code",
   "execution_count": null,
   "id": "53d7ee89",
   "metadata": {},
   "outputs": [],
   "source": [
    "# Các cách gọi function\n",
    "print(my_function2(5, 6, z=0.7))  # Output: 0.06363636363636364\n",
    "print(my_function2(3.14, 7, 3.5)) # Output: 35.49\n",
    "print(my_function2(10, 20))       # Output: 45.0 (sử dụng z=1.5 mặc định)"
   ]
  },
  {
   "cell_type": "markdown",
   "id": "fdd37cb2",
   "metadata": {},
   "source": [
    "#### Variable Scope"
   ]
  },
  {
   "cell_type": "code",
   "execution_count": null,
   "id": "df0ba359",
   "metadata": {},
   "outputs": [],
   "source": [
    "# Global variable\n",
    "a = []\n",
    "\n",
    "def func():\n",
    "    \"\"\"Function modify global variable\"\"\"\n",
    "    # Truy cập global variable (mutable object)\n",
    "    for i in range(5):\n",
    "        a.append(i)"
   ]
  },
  {
   "cell_type": "code",
   "execution_count": null,
   "id": "c2f08890",
   "metadata": {},
   "outputs": [],
   "source": [
    "func()\n",
    "print(a)  # Output: [0, 1, 2, 3, 4]\n",
    "func()    # Gọi lại function\n",
    "print(a)  # Output: [0, 1, 2, 3, 4, 0, 1, 2, 3, 4]"
   ]
  },
  {
   "cell_type": "code",
   "execution_count": null,
   "id": "7bd7a9a2",
   "metadata": {},
   "outputs": [],
   "source": [
    "# Sử dụng global keyword để rebind global variable\n",
    "a = None\n",
    "def bind_a_variable():\n",
    "    global a  # Khai báo sử dụng global variable\n",
    "    a = []\n",
    "\n",
    "bind_a_variable()\n",
    "print(a)  # Output: []"
   ]
  },
  {
   "cell_type": "markdown",
   "id": "e10275fe",
   "metadata": {},
   "source": [
    "#### Functions as Objects"
   ]
  },
  {
   "cell_type": "code",
   "execution_count": null,
   "id": "f462b9da",
   "metadata": {},
   "outputs": [],
   "source": [
    "states = [\"   Alabama \", \"Georgia!\", \"Georgia\", \"georgia\", \"FlOrIda\",\n",
    "          \"south   carolina##\", \"West virginia?\"]"
   ]
  },
  {
   "cell_type": "code",
   "execution_count": null,
   "id": "7adf42d0",
   "metadata": {},
   "outputs": [],
   "source": [
    "# Function xử lý string\n",
    "import re\n",
    "\n",
    "def clean_strings(strings):\n",
    "    \"\"\"Function để clean list of strings\"\"\"\n",
    "    result = []\n",
    "    for value in strings:\n",
    "        value = value.strip()                    # Loại bỏ whitespace\n",
    "        value = re.sub(\"[!#?]\", \"\", value)      # Loại bỏ punctuation\n",
    "        value = value.title()                   # Capitalize từng từ\n",
    "        result.append(value)\n",
    "    return result"
   ]
  },
  {
   "cell_type": "code",
   "execution_count": null,
   "id": "0aa07e5f",
   "metadata": {},
   "outputs": [],
   "source": [
    "clean_strings(states)"
   ]
  },
  {
   "cell_type": "code",
   "execution_count": null,
   "id": "b39335c8",
   "metadata": {},
   "outputs": [],
   "source": [
    "# Refactor: sử dụng list of functions\n",
    "def remove_punctuation(value):\n",
    "    return re.sub(\"[!#?]\", \"\", value)\n",
    "\n",
    "# List các function để apply\n",
    "clean_ops = [str.strip, remove_punctuation, str.title]\n",
    "\n",
    "def clean_strings(strings, ops):\n",
    "    \"\"\"Function nhận list of operations\"\"\"\n",
    "    result = []\n",
    "    for value in strings:\n",
    "        for func in ops:  # Apply từng function\n",
    "            value = func(value)\n",
    "        result.append(value)\n",
    "    return result"
   ]
  },
  {
   "cell_type": "code",
   "execution_count": null,
   "id": "dd7435f7",
   "metadata": {},
   "outputs": [],
   "source": [
    "clean_strings(states, clean_ops)"
   ]
  },
  {
   "cell_type": "code",
   "execution_count": null,
   "id": "41167f57",
   "metadata": {},
   "outputs": [],
   "source": [
    "# Sử dụng map() để apply function\n",
    "for x in map(remove_punctuation, states):\n",
    "    print(x)"
   ]
  },
  {
   "cell_type": "markdown",
   "id": "2f46d1bb",
   "metadata": {},
   "source": [
    "#### Lambda Functions"
   ]
  },
  {
   "cell_type": "code",
   "execution_count": null,
   "id": "4e3cf429",
   "metadata": {},
   "outputs": [],
   "source": [
    "# Function thông thường\n",
    "def short_function(x):\n",
    "    return x * 2\n",
    "\n",
    "# Lambda function (anonymous function)\n",
    "equiv_anon = lambda x: x * 2"
   ]
  },
  {
   "cell_type": "code",
   "execution_count": null,
   "id": "28802b70",
   "metadata": {},
   "outputs": [],
   "source": [
    "# Sử dụng lambda với higher-order function\n",
    "def apply_to_list(some_list, f):\n",
    "    return [f(x) for x in some_list]\n",
    "\n",
    "ints = [4, 0, 1, 5, 6]\n",
    "result = apply_to_list(ints, lambda x: x * 2)\n",
    "print(result)  # Output: [8, 0, 2, 10, 12]"
   ]
  },
  {
   "cell_type": "code",
   "execution_count": null,
   "id": "d5777426",
   "metadata": {},
   "outputs": [],
   "source": [
    "# Lambda trong sorting\n",
    "strings = [\"foo\", \"card\", \"bar\", \"aaaa\", \"abab\"]\n",
    "strings.sort(key=lambda x: len(set(x)))  # Sort theo số ký tự unique\n",
    "print(strings)  # Output: ['aaaa', 'foo', 'bar', 'card', 'abab']"
   ]
  },
  {
   "cell_type": "markdown",
   "id": "cfa3e25f",
   "metadata": {},
   "source": [
    "### Generators (Bộ sinh)"
   ]
  },
  {
   "cell_type": "markdown",
   "id": "6001c709",
   "metadata": {},
   "source": [
    "#### Generator Functions"
   ]
  },
  {
   "cell_type": "code",
   "execution_count": null,
   "id": "cce2e0c0",
   "metadata": {},
   "outputs": [],
   "source": [
    "def squares(n=10):\n",
    "    \"\"\"Generator function tạo bình phương các số\"\"\"\n",
    "    print(f\"Generating squares from 1 to {n ** 2}\")\n",
    "    for i in range(1, n + 1):\n",
    "        yield i ** 2  # yield thay vì return"
   ]
  },
  {
   "cell_type": "code",
   "execution_count": null,
   "id": "23e468fb",
   "metadata": {},
   "outputs": [
    {
     "name": "stdout",
     "output_type": "stream",
     "text": [
      "<generator object squares at 0x000001EDDF4E7E60>\n"
     ]
    }
   ],
   "source": [
    "# Tạo generator object\n",
    "gen = squares()\n",
    "print(gen)  # Output: <generator object squares at 0x...>"
   ]
  },
  {
   "cell_type": "code",
   "execution_count": null,
   "id": "81b5e37e",
   "metadata": {},
   "outputs": [],
   "source": [
    "# Iterate qua generator\n",
    "for x in gen:\n",
    "    print(x, end=\" \")  # Output: 1 4 9 16 25 36 49 64 81 100"
   ]
  },
  {
   "cell_type": "markdown",
   "id": "01f4752d",
   "metadata": {},
   "source": [
    "#### Generator Expressions"
   ]
  },
  {
   "cell_type": "code",
   "execution_count": null,
   "id": "a43b61b7",
   "metadata": {},
   "outputs": [],
   "source": [
    "# Generator expression\n",
    "gen = (x ** 2 for x in range(100))\n",
    "print(gen)  # Output: <generator object <genexpr> at 0x...>"
   ]
  },
  {
   "cell_type": "code",
   "execution_count": null,
   "id": "fe54ddcc",
   "metadata": {},
   "outputs": [],
   "source": [
    "# Sử dụng trong function calls\n",
    "print(sum(x ** 2 for x in range(100)))  # Output: 328350\n",
    "print(dict((i, i ** 2) for i in range(5)))  # Output: {0: 0, 1: 1, 2: 4, 3: 9, 4: 16}"
   ]
  },
  {
   "cell_type": "markdown",
   "id": "fce69fb5",
   "metadata": {},
   "source": [
    "#### itertools.groupby"
   ]
  },
  {
   "cell_type": "code",
   "execution_count": null,
   "id": "ca0b8a4f",
   "metadata": {},
   "outputs": [
    {
     "name": "stdout",
     "output_type": "stream",
     "text": [
      "A ['Alan', 'Adam']\n",
      "W ['Wes', 'Will']\n",
      "A ['Albert']\n",
      "S ['Steven']\n"
     ]
    }
   ],
   "source": [
    "import itertools\n",
    "\n",
    "def first_letter(x):\n",
    "    return x[0]\n",
    "\n",
    "names = [\"Alan\", \"Adam\", \"Wes\", \"Will\", \"Albert\", \"Steven\"]\n",
    "\n",
    "# groupby(): nhóm các phần tử liên tiếp có cùng key\n",
    "for letter, names in itertools.groupby(names, first_letter):\n",
    "    print(letter, list(names))  # names là generator nên cần list()\n",
    "# Output:\n",
    "# A ['Alan', 'Adam']\n",
    "# W ['Wes', 'Will']  \n",
    "# A ['Albert']\n",
    "# S ['Steven']"
   ]
  },
  {
   "cell_type": "markdown",
   "id": "c48c1744",
   "metadata": {},
   "source": [
    "### Exception Handling "
   ]
  },
  {
   "cell_type": "markdown",
   "id": "f847e2b9",
   "metadata": {},
   "source": [
    "#### Basic Exception Handling"
   ]
  },
  {
   "cell_type": "code",
   "execution_count": null,
   "id": "5cc58f4f",
   "metadata": {},
   "outputs": [],
   "source": [
    "# Function có thể raise exception\n",
    "print(float(\"1.2345\"))  # Output: 1.2345\n",
    "# float(\"something\")    # ValueError!"
   ]
  },
  {
   "cell_type": "code",
   "execution_count": null,
   "id": "20941365",
   "metadata": {},
   "outputs": [],
   "source": [
    "def attempt_float(x):\n",
    "    \"\"\"Safely convert to float\"\"\"\n",
    "    try:\n",
    "        return float(x)\n",
    "    except:\n",
    "        return x  # Trả về original value nếu không convert được"
   ]
  },
  {
   "cell_type": "code",
   "execution_count": null,
   "id": "8bc421e6",
   "metadata": {},
   "outputs": [
    {
     "name": "stdout",
     "output_type": "stream",
     "text": [
      "1.2345\n",
      "something\n"
     ]
    }
   ],
   "source": [
    "print(attempt_float(\"1.2345\"))   # Output: 1.2345\n",
    "print(attempt_float(\"something\")) # Output: something"
   ]
  },
  {
   "cell_type": "markdown",
   "id": "061d9e0b",
   "metadata": {},
   "source": [
    "#### Specific Exception Types"
   ]
  },
  {
   "cell_type": "code",
   "execution_count": null,
   "id": "8214ba0f",
   "metadata": {},
   "outputs": [],
   "source": [
    "float((1, 2)) # float((1, 2))  # TypeError!"
   ]
  },
  {
   "cell_type": "code",
   "execution_count": null,
   "id": "1e89f7e0",
   "metadata": {},
   "outputs": [],
   "source": [
    "# Handle multiple exception types\n",
    "def attempt_float(x):\n",
    "    \"\"\"Handle multiple exception types\"\"\"\n",
    "    try:\n",
    "        return float(x)\n",
    "    except (TypeError, ValueError):  # Tuple of exception types\n",
    "        return x\n",
    "\n",
    "print(attempt_float((1, 2)))  # Output: (1, 2)"
   ]
  },
  {
   "cell_type": "markdown",
   "id": "735abdc4",
   "metadata": {},
   "source": [
    "### File Operations"
   ]
  },
  {
   "cell_type": "markdown",
   "id": "0ea05ab5",
   "metadata": {},
   "source": [
    "#### Basic File Reading"
   ]
  },
  {
   "cell_type": "code",
   "execution_count": null,
   "id": "1bcac289",
   "metadata": {},
   "outputs": [],
   "source": [
    "# Mở file (cần đóng sau khi sử dụng)\n",
    "path = \"examples/segismundo.txt\"\n",
    "f = open(path, encoding=\"utf-8\")"
   ]
  },
  {
   "cell_type": "code",
   "execution_count": null,
   "id": "8ad4a809",
   "metadata": {},
   "outputs": [],
   "source": [
    "# Đọc file thành list of lines\n",
    "lines = [x.rstrip() for x in open(path, encoding=\"utf-8\")]\n",
    "print(lines)"
   ]
  },
  {
   "cell_type": "code",
   "execution_count": null,
   "id": "8493cd32",
   "metadata": {},
   "outputs": [],
   "source": [
    "f.close()  # Quan trọng: phải đóng file"
   ]
  },
  {
   "cell_type": "code",
   "execution_count": null,
   "id": "2ae1d4b7",
   "metadata": {},
   "outputs": [],
   "source": [
    "# Sử dụng with để mỏ file (tự động đóng file)\n",
    "with open(path, encoding=\"utf-8\") as f:\n",
    "    lines = [x.rstrip() for x in f]"
   ]
  },
  {
   "cell_type": "code",
   "execution_count": null,
   "id": "b6050430",
   "metadata": {},
   "outputs": [],
   "source": [
    "# Mở file ở chế độ mặc định (text mode)\n",
    "f1 = open(path)\n",
    "\n",
    "# Đọc 10 ký tự đầu tiên từ file (theo kiểu text, chuỗi str)\n",
    "f1.read(10)\n",
    "\n",
    "# Mở file ở chế độ nhị phân (binary mode)\n",
    "# mode=\"rb\" nghĩa là: read + binary\n",
    "f2 = open(path, mode=\"rb\")\n",
    "\n",
    "# Đọc 10 byte đầu tiên từ file (theo kiểu bytes, không phải chuỗi str)\n",
    "f2.read(10)\n",
    "\n",
    "# Kiểm tra vị trí con trỏ đọc trong file text (tính theo ký tự)\n",
    "f1.tell()\n",
    "\n",
    "# Kiểm tra vị trí con trỏ đọc trong file nhị phân (tính theo byte)\n",
    "f2.tell()"
   ]
  },
  {
   "cell_type": "code",
   "execution_count": null,
   "id": "63dc71ff",
   "metadata": {},
   "outputs": [
    {
     "data": {
      "text/plain": [
       "'utf-8'"
      ]
     },
     "metadata": {},
     "output_type": "display_data"
    }
   ],
   "source": [
    "import sys\n",
    "# Kiểm tra encoding mặc định của Python\n",
    "# Thường sẽ trả về \"utf-8\"\n",
    "sys.getdefaultencoding()"
   ]
  },
  {
   "cell_type": "code",
   "execution_count": null,
   "id": "c3891b0b",
   "metadata": {},
   "outputs": [],
   "source": [
    "# Di chuyển con trỏ đọc của file text (f1) đến vị trí thứ 3 (theo ký tự)\n",
    "f1.seek(3)\n",
    "\n",
    "# Đọc 1 ký tự tại vị trí con trỏ\n",
    "f1.read(1)\n",
    "\n",
    "# Kiểm tra vị trí con trỏ hiện tại sau khi đọc\n",
    "f1.tell()"
   ]
  },
  {
   "cell_type": "code",
   "execution_count": null,
   "id": "6e1c3a5a",
   "metadata": {},
   "outputs": [],
   "source": [
    "f1.close()\n",
    "f2.close()"
   ]
  },
  {
   "cell_type": "code",
   "execution_count": null,
   "id": "d602a87f",
   "metadata": {},
   "outputs": [],
   "source": [
    "path  # Đường dẫn đến file gốc (file cần đọc dữ liệu)\n",
    "\n",
    "# Ghi dữ liệu vào file \"tmp.txt\" bằng context manager (with)\n",
    "with open(\"tmp.txt\", mode=\"w\") as handle:\n",
    "    # Duyệt qua từng dòng trong file gốc (open(path))\n",
    "    # Điều kiện: chỉ lấy những dòng có độ dài > 1 (loại bỏ dòng trống hoặc chỉ có ký tự xuống dòng \"\\n\")\n",
    "    # writelines() sẽ ghi tất cả các dòng thỏa điều kiện vào \"tmp.txt\"\n",
    "    handle.writelines(x for x in open(path) if len(x) > 1)\n",
    "\n",
    "# Mở lại file \"tmp.txt\" ở chế độ mặc định (read, text mode)\n",
    "with open(\"tmp.txt\") as f:\n",
    "    # Đọc toàn bộ nội dung file và trả về dạng list,\n",
    "    # trong đó mỗi phần tử là một dòng (bao gồm cả ký tự xuống dòng \"\\n\")\n",
    "    lines = f.readlines()\n",
    "\n",
    "# Hiển thị danh sách các dòng trong \"tmp.txt\"\n",
    "lines\n"
   ]
  },
  {
   "cell_type": "code",
   "execution_count": null,
   "id": "412b526a",
   "metadata": {},
   "outputs": [],
   "source": [
    "import os\n",
    "# Xóa file tạm \"tmp.txt\" sau khi sử dụng xong\n",
    "os.remove(\"tmp.txt\")"
   ]
  },
  {
   "cell_type": "code",
   "execution_count": null,
   "id": "341a54d1",
   "metadata": {},
   "outputs": [],
   "source": [
    "# Đọc 10 ký tự đầu tiên từ file gốc (theo kiểu text, chuỗi str)\n",
    "with open(path) as f:\n",
    "    chars = f.read(10)\n",
    "\n",
    "chars\n",
    "len(chars)"
   ]
  },
  {
   "cell_type": "code",
   "execution_count": null,
   "id": "638f0eca",
   "metadata": {},
   "outputs": [],
   "source": [
    "# Đọc 10 byte đầu tiên từ file gốc (theo kiểu bytes, không phải chuỗi str)\n",
    "with open(path, mode=\"rb\") as f:\n",
    "    data = f.read(10)\n",
    "\n",
    "data"
   ]
  },
  {
   "cell_type": "code",
   "execution_count": null,
   "id": "a6729240",
   "metadata": {},
   "outputs": [],
   "source": [
    "# Giải mã bytes thành chuỗi str (theo chuẩn UTF-8)\n",
    "data.decode(\"utf-8\")\n",
    "data[:4].decode(\"utf-8\")"
   ]
  },
  {
   "cell_type": "code",
   "execution_count": null,
   "id": "a17ca929",
   "metadata": {},
   "outputs": [],
   "source": [
    "# Đặt tên file đích (nơi sẽ ghi nội dung)\n",
    "sink_path = \"sink.txt\"\n",
    "\n",
    "# Mở file nguồn (path) ở chế độ mặc định (read text, UTF-8)\n",
    "with open(path) as source:\n",
    "    # Mở file đích ở chế độ \"x\" (exclusive creation)\n",
    "    # - Tạo mới file, nếu file đã tồn tại thì sẽ báo lỗi\n",
    "    # - encoding=\"iso-8859-1\" nghĩa là ghi dữ liệu với bảng mã Latin-1\n",
    "    with open(sink_path, \"x\", encoding=\"iso-8859-1\") as sink:\n",
    "        # Đọc toàn bộ nội dung từ file nguồn và ghi vào file đích\n",
    "        sink.write(source.read())\n",
    "\n",
    "# Mở lại file đích ở chế độ đọc text, với encoding ISO-8859-1\n",
    "with open(sink_path, encoding=\"iso-8859-1\") as f:\n",
    "    # Đọc 10 ký tự đầu tiên từ file đích và in ra màn hình\n",
    "    print(f.read(10))\n"
   ]
  },
  {
   "cell_type": "code",
   "execution_count": null,
   "id": "6f60c941",
   "metadata": {},
   "outputs": [],
   "source": [
    "os.remove(sink_path)"
   ]
  },
  {
   "cell_type": "code",
   "execution_count": null,
   "id": "fe09ccfd",
   "metadata": {},
   "outputs": [],
   "source": [
    "# Mở file ở chế độ đọc text, UTF-8\n",
    "f = open(path, encoding='utf-8')\n",
    "# Đọc 5 ký tự đầu tiên\n",
    "f.read(5)\n",
    "# Di chuyển con trỏ đọc đến vị trí thứ 4 (theo ký tự)\n",
    "f.seek(4)\n",
    "# Đọc 1 ký tự tại vị trí con trỏ\n",
    "f.read(1)\n",
    "# Đóng file sau khi sử dụng\n",
    "f.close()"
   ]
  },
  {
   "cell_type": "code",
   "execution_count": null,
   "id": "0e888440",
   "metadata": {},
   "outputs": [],
   "source": []
  }
 ],
 "metadata": {
  "language_info": {
   "name": "python"
  }
 },
 "nbformat": 4,
 "nbformat_minor": 5
}
