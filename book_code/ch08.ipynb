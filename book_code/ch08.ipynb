{
 "cells": [
  {
   "cell_type": "markdown",
   "metadata": {},
   "source": [
    "# CHƯƠNG 8 Xử lý dữ liệu: Nối, Kết hợp và Định hình lại"
   ]
  },
  {
   "cell_type": "markdown",
   "metadata": {},
   "source": [
    "## 8.1 Lập chỉ mục phân cấp"
   ]
  },
  {
   "cell_type": "markdown",
   "metadata": {},
   "source": [
    "### Lập chỉ mục phân cấp là một tính năng quan trọng của pandas, cho phép bạn có nhiều (hai hoặc nhiều) mức chỉ mục trên một trục. Một cách khác để hiểu về nó là nó cung cấp cho bạn cách làm việc với dữ liệu có chiều cao hơn ở dạng chiều thấp hơn. Hãy bắt đầu với một ví dụ đơn giản: tạo một Series với danh sách các danh sách (hoặc mảng) làm chỉ mục:"
   ]
  },
  {
   "cell_type": "code",
   "execution_count": 1,
   "metadata": {},
   "outputs": [],
   "source": [
    "import numpy as np\n",
    "import pandas as pd\n",
    "pd.options.display.max_rows = 20\n",
    "pd.options.display.max_colwidth = 80\n",
    "pd.options.display.max_columns = 20\n",
    "np.random.seed(12345)\n",
    "import matplotlib.pyplot as plt\n",
    "plt.rc(\"figure\", figsize=(10, 6))\n",
    "np.set_printoptions(precision=4, suppress=True)"
   ]
  },
  {
   "cell_type": "code",
   "execution_count": 2,
   "metadata": {},
   "outputs": [],
   "source": [
    "data = pd.Series(np.random.uniform(size=9),\n",
    "                 index=[[\"a\", \"a\", \"a\", \"b\", \"b\", \"c\", \"c\", \"d\", \"d\"],\n",
    "                        [1, 2, 3, 1, 3, 1, 2, 2, 3]])\n",
    "data"
   ]
  },
  {
   "cell_type": "markdown",
   "metadata": {},
   "source": [
    "### Những gì bạn đang thấy là một cái nhìn đẹp mắt về một Chuỗi với Đa Chỉ số làm chỉ số của nó. Các \"khoảng trống\" trong màn hình chỉ số có nghĩa là \"sử dụng nhãn ngay phía trên\":"
   ]
  },
  {
   "cell_type": "code",
   "execution_count": 3,
   "metadata": {},
   "outputs": [],
   "source": [
    "data.index"
   ]
  },
  {
   "cell_type": "code",
   "execution_count": 4,
   "metadata": {},
   "outputs": [],
   "source": [
    "data[\"b\"]\n",
    "data[\"b\":\"c\"]\n",
    "data.loc[[\"b\", \"d\"]]"
   ]
  },
  {
   "cell_type": "code",
   "execution_count": 5,
   "metadata": {},
   "outputs": [],
   "source": [
    "data.loc[:, 2]"
   ]
  },
  {
   "cell_type": "markdown",
   "metadata": {},
   "source": [
    "### Lập chỉ mục phân cấp đóng vai trò quan trọng trong việc định hình lại dữ liệu và trong các hoạt động dựa trên nhóm như tạo bảng trục. Ví dụ: bạn có thể sắp xếp lại dữ liệu này thành một DataFrame bằng phương thức unstack của nó:"
   ]
  },
  {
   "cell_type": "code",
   "execution_count": 6,
   "metadata": {},
   "outputs": [],
   "source": [
    "data.unstack()"
   ]
  },
  {
   "cell_type": "code",
   "execution_count": 7,
   "metadata": {},
   "outputs": [],
   "source": [
    "data.unstack().stack()"
   ]
  },
  {
   "cell_type": "code",
   "execution_count": 8,
   "metadata": {},
   "outputs": [],
   "source": [
    "frame = pd.DataFrame(np.arange(12).reshape((4, 3)),\n",
    "                     index=[[\"a\", \"a\", \"b\", \"b\"], [1, 2, 1, 2]],\n",
    "                     columns=[[\"Ohio\", \"Ohio\", \"Colorado\"],\n",
    "                              [\"Green\", \"Red\", \"Green\"]])\n",
    "frame"
   ]
  },
  {
   "cell_type": "code",
   "execution_count": 9,
   "metadata": {},
   "outputs": [],
   "source": [
    "frame.index.names = [\"key1\", \"key2\"]\n",
    "frame.columns.names = [\"state\", \"color\"]\n",
    "frame"
   ]
  },
  {
   "cell_type": "markdown",
   "metadata": {},
   "source": [
    "### Hãy lưu ý rằng tên chỉ mục \"state\" và \"color\" không phải là một phần của nhãn hàng (giá trị frame.index)."
   ]
  },
  {
   "cell_type": "code",
   "execution_count": 10,
   "metadata": {},
   "outputs": [],
   "source": [
    "frame.index.nlevels"
   ]
  },
  {
   "cell_type": "code",
   "execution_count": 11,
   "metadata": {},
   "outputs": [],
   "source": [
    "frame[\"Ohio\"]"
   ]
  },
  {
   "cell_type": "markdown",
   "metadata": {},
   "source": [
    "## Sắp xếp lại và Sắp xếp các Cấp độ\n",
    "### Đôi khi bạn có thể cần sắp xếp lại thứ tự các cấp độ trên một trục hoặc sắp xếp dữ liệu theo các giá trị trong một cấp độ cụ thể. Phương thức swaplevel lấy hai số hoặc tên cấp độ và trả về một đối tượng mới với các cấp độ được hoán đổi (nhưng dữ liệu không bị thay đổi):"
   ]
  },
  {
   "cell_type": "code",
   "execution_count": 12,
   "metadata": {},
   "outputs": [],
   "source": [
    "frame.swaplevel(\"key1\", \"key2\")"
   ]
  },
  {
   "cell_type": "markdown",
   "metadata": {},
   "source": [
    "### sort_index by default sorts the data lexicographically using all the index levels, but you can choose to use only a single level or a subset of levels to sort by passing the level argument. For example:"
   ]
  },
  {
   "cell_type": "code",
   "execution_count": 13,
   "metadata": {},
   "outputs": [],
   "source": [
    "frame.sort_index(level=1)\n",
    "frame.swaplevel(0, 1).sort_index(level=0)"
   ]
  },
  {
   "cell_type": "markdown",
   "metadata": {},
   "source": [
    "### Hiệu suất lựa chọn dữ liệu sẽ tốt hơn nhiều trên các đối tượng được lập chỉ mục theo thứ bậc nếu chỉ mục được sắp xếp theo thứ tự từ điển bắt đầu từ cấp ngoài cùng—tức là kết quả của việc gọi sort_index(level=0) hoặc sort_index()."
   ]
  },
  {
   "cell_type": "markdown",
   "metadata": {},
   "source": [
    "## Thống kê Tóm tắt theo Cấp độ\n",
    "### Nhiều thống kê mô tả và tóm tắt trên DataFrame và Series có tùy chọn cấp độ trong đó bạn có thể chỉ định cấp độ bạn muốn tổng hợp trên một trục ​​cụ thể. Hãy xem xét DataFrame ở trên; chúng ta có thể tổng hợp theo cấp độ trên cả hàng và cột, như sau:"
   ]
  },
  {
   "cell_type": "code",
   "execution_count": 14,
   "metadata": {},
   "outputs": [],
   "source": [
    "frame.groupby(level=\"key2\").sum()\n",
    "frame.groupby(level=\"color\", axis=\"columns\").sum()"
   ]
  },
  {
   "cell_type": "markdown",
   "metadata": {},
   "source": [
    "## Lập chỉ mục với các cột của DataFrame\n",
    "### Việc muốn sử dụng một hoặc nhiều cột từ DataFrame làm chỉ mục hàng không phải là điều bất thường; ngoài ra, bạn có thể muốn di chuyển chỉ mục hàng vào các cột của DataFrame. Dưới đây là một ví dụ về DataFrame:"
   ]
  },
  {
   "cell_type": "code",
   "execution_count": 15,
   "metadata": {},
   "outputs": [],
   "source": [
    "frame = pd.DataFrame({\"a\": range(7), \"b\": range(7, 0, -1),\n",
    "                      \"c\": [\"one\", \"one\", \"one\", \"two\", \"two\",\n",
    "                            \"two\", \"two\"],\n",
    "                      \"d\": [0, 1, 2, 0, 1, 2, 3]})\n",
    "frame"
   ]
  },
  {
   "cell_type": "code",
   "execution_count": 16,
   "metadata": {},
   "outputs": [],
   "source": [
    "frame2 = frame.set_index([\"c\", \"d\"])\n",
    "frame2"
   ]
  },
  {
   "cell_type": "code",
   "execution_count": 17,
   "metadata": {},
   "outputs": [],
   "source": [
    "frame.set_index([\"c\", \"d\"], drop=False)"
   ]
  },
  {
   "cell_type": "code",
   "execution_count": 18,
   "metadata": {},
   "outputs": [],
   "source": [
    "frame2.reset_index()"
   ]
  },
  {
   "cell_type": "markdown",
   "metadata": {},
   "source": [
    "## 8.2 Kết hợp và Hợp nhất các Tập dữ liệu\n",
    "### Dữ liệu chứa trong các đối tượng pandas có thể được kết hợp theo một số cách:\n",
    "### pandas.merge\n",
    "### Kết nối các hàng trong DataFrame dựa trên một hoặc nhiều khóa. Điều này sẽ quen thuộc với người dùng SQL hoặc các cơ sở dữ liệu quan hệ khác, vì nó triển khai các thao tác kết nối cơ sở dữ liệu.\n",
    "### pandas.concat\n",
    "### Ghép hoặc \"xếp chồng\" các đối tượng lại với nhau dọc theo một trục.\n",
    "### combine_first\n",
    "### Ghép các dữ liệu chồng chéo với nhau để lấp đầy các giá trị bị thiếu trong một đối tượng bằng các giá trị từ một đối tượng khác."
   ]
  },
  {
   "cell_type": "markdown",
   "metadata": {},
   "source": [
    "## Nối DataFrame theo kiểu cơ sở dữ liệu\n",
    "### Các thao tác hợp nhất hoặc nối kết hợp các tập dữ liệu bằng cách liên kết các hàng bằng một hoặc nhiều khóa. Các thao tác này đặc biệt quan trọng trong cơ sở dữ liệu quan hệ (ví dụ: dựa trên SQL).\n",
    "### Hàm pandas.merge trong pandas là điểm khởi đầu chính để sử dụng các thuật toán này trên dữ liệu của bạn. \n",
    "### Hãy bắt đầu với một ví dụ đơn giản:"
   ]
  },
  {
   "cell_type": "code",
   "execution_count": 19,
   "metadata": {},
   "outputs": [],
   "source": [
    "df1 = pd.DataFrame({\"key\": [\"b\", \"b\", \"a\", \"c\", \"a\", \"a\", \"b\"],\n",
    "                    \"data1\": pd.Series(range(7), dtype=\"Int64\")})\n",
    "df2 = pd.DataFrame({\"key\": [\"a\", \"b\", \"d\"],\n",
    "                    \"data2\": pd.Series(range(3), dtype=\"Int64\")})\n",
    "df1\n",
    "df2"
   ]
  },
  {
   "cell_type": "markdown",
   "metadata": {},
   "source": [
    "### Đây là một ví dụ về phép nối nhiều-một; dữ liệu trong df1 có nhiều hàng được gắn nhãn a và b, trong khi df2 chỉ có một hàng cho mỗi giá trị trong cột khóa. Gọi pandas.merge với các đối tượng này, chúng ta thu được:"
   ]
  },
  {
   "cell_type": "code",
   "execution_count": 20,
   "metadata": {},
   "outputs": [],
   "source": [
    "pd.merge(df1, df2)"
   ]
  },
  {
   "cell_type": "markdown",
   "metadata": {},
   "source": [
    "### Lưu ý rằng tôi không chỉ định cột nào sẽ được nối. Nếu thông tin đó không được chỉ định, pandas.merge sẽ sử dụng các tên cột chồng chéo làm khóa. Tuy nhiên, tốt hơn hết là nên chỉ định rõ ràng:"
   ]
  },
  {
   "cell_type": "code",
   "execution_count": 21,
   "metadata": {},
   "outputs": [],
   "source": [
    "pd.merge(df1, df2, on=\"key\")"
   ]
  },
  {
   "cell_type": "code",
   "execution_count": 22,
   "metadata": {},
   "outputs": [],
   "source": [
    "df3 = pd.DataFrame({\"lkey\": [\"b\", \"b\", \"a\", \"c\", \"a\", \"a\", \"b\"],\n",
    "                    \"data1\": pd.Series(range(7), dtype=\"Int64\")})\n",
    "df4 = pd.DataFrame({\"rkey\": [\"a\", \"b\", \"d\"],\n",
    "                    \"data2\": pd.Series(range(3), dtype=\"Int64\")})\n",
    "pd.merge(df3, df4, left_on=\"lkey\", right_on=\"rkey\")"
   ]
  },
  {
   "cell_type": "markdown",
   "metadata": {},
   "source": [
    "### Bạn có thể nhận thấy các giá trị \"c\" và \"d\" cùng dữ liệu liên quan bị thiếu trong kết quả. Theo mặc định, pandas.merge thực hiện phép nối \"bên trong\"; các khóa trong kết quả là giao điểm, hoặc tập hợp chung được tìm thấy trong cả hai bảng. Các tùy chọn khả thi khác là \"trái\", \"phải\" và \"ngoài\". Phép nối ngoài lấy hợp của các khóa, kết hợp hiệu ứng của việc áp dụng cả phép nối trái và phải:"
   ]
  },
  {
   "cell_type": "code",
   "execution_count": 23,
   "metadata": {},
   "outputs": [],
   "source": [
    "pd.merge(df1, df2, how=\"outer\")\n",
    "pd.merge(df3, df4, left_on=\"lkey\", right_on=\"rkey\", how=\"outer\")"
   ]
  },
  {
   "cell_type": "code",
   "execution_count": 24,
   "metadata": {},
   "outputs": [],
   "source": [
    "df1 = pd.DataFrame({\"key\": [\"b\", \"b\", \"a\", \"c\", \"a\", \"b\"],\n",
    "                    \"data1\": pd.Series(range(6), dtype=\"Int64\")})\n",
    "df2 = pd.DataFrame({\"key\": [\"a\", \"b\", \"a\", \"b\", \"d\"],\n",
    "                    \"data2\": pd.Series(range(5), dtype=\"Int64\")})\n",
    "df1\n",
    "df2\n",
    "pd.merge(df1, df2, on=\"key\", how=\"left\")"
   ]
  },
  {
   "cell_type": "code",
   "execution_count": 25,
   "metadata": {},
   "outputs": [],
   "source": [
    "pd.merge(df1, df2, how=\"inner\")"
   ]
  },
  {
   "cell_type": "code",
   "execution_count": 26,
   "metadata": {},
   "outputs": [],
   "source": [
    "left = pd.DataFrame({\"key1\": [\"foo\", \"foo\", \"bar\"],\n",
    "                     \"key2\": [\"one\", \"two\", \"one\"],\n",
    "                     \"lval\": pd.Series([1, 2, 3], dtype='Int64')})\n",
    "right = pd.DataFrame({\"key1\": [\"foo\", \"foo\", \"bar\", \"bar\"],\n",
    "                      \"key2\": [\"one\", \"one\", \"one\", \"two\"],\n",
    "                      \"rval\": pd.Series([4, 5, 6, 7], dtype='Int64')})\n",
    "pd.merge(left, right, on=[\"key1\", \"key2\"], how=\"outer\")"
   ]
  },
  {
   "cell_type": "markdown",
   "metadata": {},
   "source": [
    "### Khi bạn nối các cột với nhau, các chỉ mục trên các đối tượng DataFrame đã truyền sẽ bị loại bỏ. Nếu bạn cần giữ nguyên các giá trị chỉ mục, bạn có thể sử dụng reset_index để thêm chỉ mục vào các cột."
   ]
  },
  {
   "cell_type": "code",
   "execution_count": 27,
   "metadata": {},
   "outputs": [],
   "source": [
    "pd.merge(left, right, on=\"key1\")"
   ]
  },
  {
   "cell_type": "code",
   "execution_count": 28,
   "metadata": {},
   "outputs": [],
   "source": [
    "pd.merge(left, right, on=\"key1\", suffixes=(\"_left\", \"_right\"))"
   ]
  },
  {
   "cell_type": "markdown",
   "metadata": {},
   "source": [
    "### Hợp nhất trên Chỉ mục\n",
    "### Trong một số trường hợp, khóa hợp nhất trong DataFrame sẽ được tìm thấy trong chỉ mục (nhãn hàng) của nó. Trong trường hợp này, bạn có thể truyền left_index=True hoặc right_index=True (hoặc cả hai) để chỉ định rằng chỉ mục nên được sử dụng làm khóa hợp nhất:"
   ]
  },
  {
   "cell_type": "code",
   "execution_count": 29,
   "metadata": {},
   "outputs": [],
   "source": [
    "left1 = pd.DataFrame({\"key\": [\"a\", \"b\", \"a\", \"a\", \"b\", \"c\"],\n",
    "                      \"value\": pd.Series(range(6), dtype=\"Int64\")})\n",
    "right1 = pd.DataFrame({\"group_val\": [3.5, 7]}, index=[\"a\", \"b\"])\n",
    "left1\n",
    "right1\n",
    "pd.merge(left1, right1, left_on=\"key\", right_index=True)"
   ]
  },
  {
   "cell_type": "markdown",
   "metadata": {},
   "source": [
    "### Nếu bạn xem xét kỹ ở đây, bạn sẽ thấy các giá trị chỉ mục cho left1 đã được giữ nguyên, trong khi ở các ví dụ khác ở trên, các chỉ mục của các đối tượng DataFrame đầu vào bị loại bỏ. Vì chỉ mục của right1 là duy nhất, phép hợp nhất \"nhiều-một\" này (với phương thức how=\"inner\" mặc định) có thể giữ nguyên các giá trị chỉ mục từ left1 tương ứng với các hàng trong đầu ra."
   ]
  },
  {
   "cell_type": "code",
   "execution_count": 30,
   "metadata": {},
   "outputs": [],
   "source": [
    "pd.merge(left1, right1, left_on=\"key\", right_index=True, how=\"outer\")"
   ]
  },
  {
   "cell_type": "code",
   "execution_count": 31,
   "metadata": {},
   "outputs": [],
   "source": [
    "lefth = pd.DataFrame({\"key1\": [\"Ohio\", \"Ohio\", \"Ohio\",\n",
    "                               \"Nevada\", \"Nevada\"],\n",
    "                      \"key2\": [2000, 2001, 2002, 2001, 2002],\n",
    "                      \"data\": pd.Series(range(5), dtype=\"Int64\")})\n",
    "righth_index = pd.MultiIndex.from_arrays(\n",
    "    [\n",
    "        [\"Nevada\", \"Nevada\", \"Ohio\", \"Ohio\", \"Ohio\", \"Ohio\"],\n",
    "        [2001, 2000, 2000, 2000, 2001, 2002]\n",
    "    ]\n",
    ")\n",
    "righth = pd.DataFrame({\"event1\": pd.Series([0, 2, 4, 6, 8, 10], dtype=\"Int64\",\n",
    "                                           index=righth_index),\n",
    "                       \"event2\": pd.Series([1, 3, 5, 7, 9, 11], dtype=\"Int64\",\n",
    "                                           index=righth_index)})\n",
    "lefth\n",
    "righth"
   ]
  },
  {
   "cell_type": "code",
   "execution_count": 32,
   "metadata": {},
   "outputs": [],
   "source": [
    "pd.merge(lefth, righth, left_on=[\"key1\", \"key2\"], right_index=True)\n",
    "pd.merge(lefth, righth, left_on=[\"key1\", \"key2\"],\n",
    "         right_index=True, how=\"outer\")"
   ]
  },
  {
   "cell_type": "code",
   "execution_count": 33,
   "metadata": {},
   "outputs": [],
   "source": [
    "left2 = pd.DataFrame([[1., 2.], [3., 4.], [5., 6.]],\n",
    "                     index=[\"a\", \"c\", \"e\"],\n",
    "                     columns=[\"Ohio\", \"Nevada\"]).astype(\"Int64\")\n",
    "right2 = pd.DataFrame([[7., 8.], [9., 10.], [11., 12.], [13, 14]],\n",
    "                      index=[\"b\", \"c\", \"d\", \"e\"],\n",
    "                      columns=[\"Missouri\", \"Alabama\"]).astype(\"Int64\")\n",
    "left2\n",
    "right2\n",
    "pd.merge(left2, right2, how=\"outer\", left_index=True, right_index=True)"
   ]
  },
  {
   "cell_type": "code",
   "execution_count": 34,
   "metadata": {},
   "outputs": [],
   "source": [
    "left2.join(right2, how=\"outer\")"
   ]
  },
  {
   "cell_type": "code",
   "execution_count": 35,
   "metadata": {},
   "outputs": [],
   "source": [
    "left1.join(right1, on=\"key\")"
   ]
  },
  {
   "cell_type": "code",
   "execution_count": 36,
   "metadata": {},
   "outputs": [],
   "source": [
    "another = pd.DataFrame([[7., 8.], [9., 10.], [11., 12.], [16., 17.]],\n",
    "                       index=[\"a\", \"c\", \"e\", \"f\"],\n",
    "                       columns=[\"New York\", \"Oregon\"])\n",
    "another\n",
    "left2.join([right2, another])\n",
    "left2.join([right2, another], how=\"outer\")"
   ]
  },
  {
   "cell_type": "markdown",
   "metadata": {},
   "source": [
    "### Ghép nối dọc theo trục\n",
    "### Một loại thao tác kết hợp dữ liệu khác được gọi thay thế cho nhau là ghép nối hoặc xếp chồng. Hàm ghép nối của NumPy có thể thực hiện điều này với các mảng NumPy:"
   ]
  },
  {
   "cell_type": "code",
   "execution_count": 37,
   "metadata": {},
   "outputs": [],
   "source": [
    "arr = np.arange(12).reshape((3, 4))\n",
    "arr\n",
    "np.concatenate([arr, arr], axis=1)"
   ]
  },
  {
   "cell_type": "markdown",
   "metadata": {},
   "source": [
    "## 8.2 Kết hợp và hợp nhất các tập dữ liệu"
   ]
  },
  {
   "cell_type": "markdown",
   "metadata": {},
   "source": [
    "## Tham gia DataFrame theo kiểu cơ sở dữ liệu"
   ]
  },
  {
   "cell_type": "code",
   "execution_count": 38,
   "metadata": {},
   "outputs": [],
   "source": [
    "s1 = pd.Series([0, 1], index=[\"a\", \"b\"], dtype=\"Int64\")\n",
    "s2 = pd.Series([2, 3, 4], index=[\"c\", \"d\", \"e\"], dtype=\"Int64\")\n",
    "s3 = pd.Series([5, 6], index=[\"f\", \"g\"], dtype=\"Int64\")"
   ]
  },
  {
   "cell_type": "code",
   "execution_count": 39,
   "metadata": {},
   "outputs": [],
   "source": [
    "s1\n",
    "s2\n",
    "s3\n",
    "pd.concat([s1, s2, s3])"
   ]
  },
  {
   "cell_type": "code",
   "execution_count": 40,
   "metadata": {},
   "outputs": [],
   "source": [
    "pd.concat([s1, s2, s3], axis=\"columns\")"
   ]
  },
  {
   "cell_type": "code",
   "execution_count": 41,
   "metadata": {},
   "outputs": [],
   "source": [
    "s4 = pd.concat([s1, s3])\n",
    "s4\n",
    "pd.concat([s1, s4], axis=\"columns\")\n",
    "pd.concat([s1, s4], axis=\"columns\", join=\"inner\")"
   ]
  },
  {
   "cell_type": "code",
   "execution_count": 42,
   "metadata": {},
   "outputs": [],
   "source": [
    "result = pd.concat([s1, s1, s3], keys=[\"one\", \"two\", \"three\"])\n",
    "result\n",
    "result.unstack()"
   ]
  },
  {
   "cell_type": "code",
   "execution_count": 43,
   "metadata": {},
   "outputs": [],
   "source": [
    "pd.concat([s1, s2, s3], axis=\"columns\", keys=[\"one\", \"two\", \"three\"])"
   ]
  },
  {
   "cell_type": "code",
   "execution_count": 44,
   "metadata": {},
   "outputs": [],
   "source": [
    "df1 = pd.DataFrame(np.arange(6).reshape(3, 2), index=[\"a\", \"b\", \"c\"],\n",
    "                   columns=[\"one\", \"two\"])\n",
    "df2 = pd.DataFrame(5 + np.arange(4).reshape(2, 2), index=[\"a\", \"c\"],\n",
    "                   columns=[\"three\", \"four\"])\n",
    "df1\n",
    "df2\n",
    "pd.concat([df1, df2], axis=\"columns\", keys=[\"level1\", \"level2\"])"
   ]
  },
  {
   "cell_type": "code",
   "execution_count": 45,
   "metadata": {},
   "outputs": [],
   "source": [
    "pd.concat({\"level1\": df1, \"level2\": df2}, axis=\"columns\")"
   ]
  },
  {
   "cell_type": "code",
   "execution_count": 46,
   "metadata": {},
   "outputs": [],
   "source": [
    "pd.concat([df1, df2], axis=\"columns\", keys=[\"level1\", \"level2\"],\n",
    "          names=[\"upper\", \"lower\"])"
   ]
  },
  {
   "cell_type": "code",
   "execution_count": 47,
   "metadata": {},
   "outputs": [],
   "source": [
    "df1 = pd.DataFrame(np.random.standard_normal((3, 4)),\n",
    "                   columns=[\"a\", \"b\", \"c\", \"d\"])\n",
    "df2 = pd.DataFrame(np.random.standard_normal((2, 3)),\n",
    "                   columns=[\"b\", \"d\", \"a\"])\n",
    "df1\n",
    "df2"
   ]
  },
  {
   "cell_type": "code",
   "execution_count": 48,
   "metadata": {},
   "outputs": [],
   "source": [
    "pd.concat([df1, df2], ignore_index=True)"
   ]
  },
  {
   "cell_type": "markdown",
   "metadata": {},
   "source": [
    "### Kết hợp Dữ liệu với Chồng chéo\n",
    "### Có một tình huống kết hợp dữ liệu khác không thể được biểu diễn bằng phép hợp nhất hoặc phép nối. Bạn có thể có hai tập dữ liệu với các chỉ mục chồng chéo toàn bộ hoặc một phần. Để minh họa, hãy xem xét hàm where của NumPy, thực hiện tương đương với biểu thức if-else hướng mảng:"
   ]
  },
  {
   "cell_type": "code",
   "execution_count": 49,
   "metadata": {},
   "outputs": [],
   "source": [
    "a = pd.Series([np.nan, 2.5, 0.0, 3.5, 4.5, np.nan],\n",
    "              index=[\"f\", \"e\", \"d\", \"c\", \"b\", \"a\"])\n",
    "b = pd.Series([0., np.nan, 2., np.nan, np.nan, 5.],\n",
    "              index=[\"a\", \"b\", \"c\", \"d\", \"e\", \"f\"])\n",
    "a\n",
    "b\n",
    "np.where(pd.isna(a), b, a)"
   ]
  },
  {
   "cell_type": "code",
   "execution_count": 50,
   "metadata": {},
   "outputs": [],
   "source": [
    "a.combine_first(b)"
   ]
  },
  {
   "cell_type": "code",
   "execution_count": 51,
   "metadata": {},
   "outputs": [],
   "source": [
    "df1 = pd.DataFrame({\"a\": [1., np.nan, 5., np.nan],\n",
    "                    \"b\": [np.nan, 2., np.nan, 6.],\n",
    "                    \"c\": range(2, 18, 4)})\n",
    "df2 = pd.DataFrame({\"a\": [5., 4., np.nan, 3., 7.],\n",
    "                    \"b\": [np.nan, 3., 4., 6., 8.]})\n",
    "df1\n",
    "df2\n",
    "df1.combine_first(df2)"
   ]
  },
  {
   "cell_type": "markdown",
   "metadata": {},
   "source": [
    "## 8.3 Định hình lại và Xoay trục\n",
    "### Có một số thao tác cơ bản để sắp xếp lại dữ liệu dạng bảng. Chúng được gọi là thao tác định hình lại hoặc xoay trục.\n",
    "### Định hình lại bằng Lập chỉ mục Phân cấp\n",
    "### Lập chỉ mục phân cấp cung cấp một cách nhất quán để sắp xếp lại dữ liệu trong một DataFrame.\n",
    "### Có hai thao tác chính:\n",
    "### xếp chồng\n",
    "### Thao tác này \"xoay\" hoặc xoay trục từ các cột trong dữ liệu sang các hàng.\n",
    "### hủy xếp chồng\n",
    "### Thao tác này xoay trục từ các hàng sang các cột.\n",
    "### Tôi sẽ minh họa các thao tác này thông qua một loạt ví dụ. Hãy xem xét một Data-Frame nhỏ với các mảng chuỗi làm chỉ mục hàng và cột:"
   ]
  },
  {
   "cell_type": "code",
   "execution_count": 52,
   "metadata": {},
   "outputs": [],
   "source": [
    "data = pd.DataFrame(np.arange(6).reshape((2, 3)),\n",
    "                    index=pd.Index([\"Ohio\", \"Colorado\"], name=\"state\"),\n",
    "                    columns=pd.Index([\"one\", \"two\", \"three\"],\n",
    "                    name=\"number\"))\n",
    "data"
   ]
  },
  {
   "cell_type": "code",
   "execution_count": 53,
   "metadata": {},
   "outputs": [],
   "source": [
    "result = data.stack()\n",
    "result"
   ]
  },
  {
   "cell_type": "code",
   "execution_count": 54,
   "metadata": {},
   "outputs": [],
   "source": [
    "result.unstack()"
   ]
  },
  {
   "cell_type": "code",
   "execution_count": 55,
   "metadata": {},
   "outputs": [],
   "source": [
    "result.unstack(level=0)\n",
    "result.unstack(level=\"state\")"
   ]
  },
  {
   "cell_type": "code",
   "execution_count": 56,
   "metadata": {},
   "outputs": [],
   "source": [
    "s1 = pd.Series([0, 1, 2, 3], index=[\"a\", \"b\", \"c\", \"d\"], dtype=\"Int64\")\n",
    "s2 = pd.Series([4, 5, 6], index=[\"c\", \"d\", \"e\"], dtype=\"Int64\")\n",
    "data2 = pd.concat([s1, s2], keys=[\"one\", \"two\"])\n",
    "data2"
   ]
  },
  {
   "cell_type": "code",
   "execution_count": 57,
   "metadata": {},
   "outputs": [],
   "source": [
    "data2.unstack()\n",
    "data2.unstack().stack()\n",
    "data2.unstack().stack(dropna=False)"
   ]
  },
  {
   "cell_type": "code",
   "execution_count": 58,
   "metadata": {},
   "outputs": [],
   "source": [
    "df = pd.DataFrame({\"left\": result, \"right\": result + 5},\n",
    "                  columns=pd.Index([\"left\", \"right\"], name=\"side\"))\n",
    "df\n",
    "df.unstack(level=\"state\")"
   ]
  },
  {
   "cell_type": "code",
   "execution_count": 59,
   "metadata": {},
   "outputs": [],
   "source": [
    "df.unstack(level=\"state\").stack(level=\"side\")"
   ]
  },
  {
   "cell_type": "markdown",
   "metadata": {},
   "source": [
    "### Chuyển đổi định dạng \"Dài\" sang \"Rộng\"\n",
    "### Một cách phổ biến để lưu trữ nhiều chuỗi thời gian trong cơ sở dữ liệu và tệp CSV là đôi khi được gọi là định dạng dài hoặc định dạng xếp chồng. Ở định dạng này, các giá trị riêng lẻ được biểu diễn bằng một hàng duy nhất trong bảng thay vì nhiều giá trị trên mỗi hàng."
   ]
  },
  {
   "cell_type": "code",
   "execution_count": 60,
   "metadata": {},
   "outputs": [],
   "source": [
    "data = pd.read_csv(\"examples/macrodata.csv\")\n",
    "data = data.loc[:, [\"year\", \"quarter\", \"realgdp\", \"infl\", \"unemp\"]]\n",
    "data.head()"
   ]
  },
  {
   "cell_type": "code",
   "execution_count": 61,
   "metadata": {},
   "outputs": [],
   "source": [
    "periods = pd.PeriodIndex(year=data.pop(\"year\"),\n",
    "                         quarter=data.pop(\"quarter\"),\n",
    "                         name=\"date\")\n",
    "periods\n",
    "data.index = periods.to_timestamp(\"D\")\n",
    "data.head()"
   ]
  },
  {
   "cell_type": "code",
   "execution_count": 62,
   "metadata": {},
   "outputs": [],
   "source": [
    "data = data.reindex(columns=[\"realgdp\", \"infl\", \"unemp\"])\n",
    "data.columns.name = \"item\"\n",
    "data.head()"
   ]
  },
  {
   "cell_type": "code",
   "execution_count": 63,
   "metadata": {},
   "outputs": [],
   "source": [
    "long_data = (data.stack()\n",
    "             .reset_index()\n",
    "             .rename(columns={0: \"value\"}))"
   ]
  },
  {
   "cell_type": "code",
   "execution_count": 64,
   "metadata": {},
   "outputs": [],
   "source": [
    "long_data[:10]"
   ]
  },
  {
   "cell_type": "code",
   "execution_count": 65,
   "metadata": {},
   "outputs": [],
   "source": [
    "pivoted = long_data.pivot(index=\"date\", columns=\"item\",\n",
    "                          values=\"value\")\n",
    "pivoted.head()"
   ]
  },
  {
   "cell_type": "code",
   "execution_count": 66,
   "metadata": {},
   "outputs": [],
   "source": [
    "long_data.index.name = None"
   ]
  },
  {
   "cell_type": "code",
   "execution_count": 67,
   "metadata": {},
   "outputs": [],
   "source": [
    "long_data[\"value2\"] = np.random.standard_normal(len(long_data))\n",
    "long_data[:10]"
   ]
  },
  {
   "cell_type": "code",
   "execution_count": 68,
   "metadata": {},
   "outputs": [],
   "source": [
    "pivoted = long_data.pivot(index=\"date\", columns=\"item\")\n",
    "pivoted.head()\n",
    "pivoted[\"value\"].head()"
   ]
  },
  {
   "cell_type": "code",
   "execution_count": 69,
   "metadata": {},
   "outputs": [],
   "source": [
    "unstacked = long_data.set_index([\"date\", \"item\"]).unstack(level=\"item\")\n",
    "unstacked.head()"
   ]
  },
  {
   "cell_type": "code",
   "execution_count": 70,
   "metadata": {},
   "outputs": [],
   "source": []
  },
  {
   "cell_type": "markdown",
   "metadata": {},
   "source": [
    "### Xoay định dạng \"Rộng\" sang \"Dài\"\n",
    "### Một phép toán ngược để xoay cho DataFrame là pandas.melt. Thay vì biến đổi một cột thành nhiều cột trong một DataFrame mới, nó sẽ hợp nhất nhiều cột thành một, tạo ra một DataFrame dài hơn dữ liệu đầu vào. Hãy xem một ví dụ:"
   ]
  },
  {
   "cell_type": "code",
   "execution_count": 71,
   "metadata": {},
   "outputs": [],
   "source": [
    "df = pd.DataFrame({\"key\": [\"foo\", \"bar\", \"baz\"],\n",
    "                   \"A\": [1, 2, 3],\n",
    "                   \"B\": [4, 5, 6],\n",
    "                   \"C\": [7, 8, 9]})\n",
    "df"
   ]
  },
  {
   "cell_type": "code",
   "execution_count": 72,
   "metadata": {},
   "outputs": [],
   "source": [
    "melted = pd.melt(df, id_vars=\"key\")\n",
    "melted"
   ]
  },
  {
   "cell_type": "code",
   "execution_count": 73,
   "metadata": {},
   "outputs": [],
   "source": [
    "reshaped = melted.pivot(index=\"key\", columns=\"variable\",\n",
    "                        values=\"value\")\n",
    "reshaped"
   ]
  },
  {
   "cell_type": "code",
   "execution_count": 74,
   "metadata": {},
   "outputs": [],
   "source": [
    "reshaped.reset_index()"
   ]
  },
  {
   "cell_type": "code",
   "execution_count": 75,
   "metadata": {},
   "outputs": [],
   "source": [
    "pd.melt(df, id_vars=\"key\", value_vars=[\"A\", \"B\"])"
   ]
  },
  {
   "cell_type": "code",
   "execution_count": 76,
   "metadata": {},
   "outputs": [],
   "source": [
    "pd.melt(df, value_vars=[\"A\", \"B\", \"C\"])\n",
    "pd.melt(df, value_vars=[\"key\", \"A\", \"B\"])"
   ]
  },
  {
   "cell_type": "markdown",
   "metadata": {},
   "source": [
    "## 8.4 Kết luận\n",
    "### Giờ đây, khi bạn đã nắm được một số kiến ​​thức cơ bản về Pandas để nhập, làm sạch và sắp xếp dữ liệu, chúng ta đã sẵn sàng chuyển sang trực quan hóa dữ liệu với matplotlib. Chúng ta sẽ quay lại khám phá các khía cạnh khác của Pandas ở phần sau của cuốn sách khi thảo luận về các phân tích nâng cao hơn."
   ]
  }
 ],
 "metadata": {
  "kernelspec": {
   "display_name": "Python 3",
   "language": "python",
   "name": "python3"
  },
  "language_info": {
   "codemirror_mode": {
    "name": "ipython",
    "version": 3
   },
   "file_extension": ".py",
   "mimetype": "text/x-python",
   "name": "python",
   "nbconvert_exporter": "python",
   "pygments_lexer": "ipython3",
   "version": "3.7.6"
  }
 },
 "nbformat": 4,
 "nbformat_minor": 4
}
