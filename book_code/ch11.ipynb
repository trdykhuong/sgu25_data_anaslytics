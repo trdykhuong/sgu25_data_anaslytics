{
 "cells": [
  {
   "cell_type": "markdown",
   "id": "818971b8",
   "metadata": {},
   "source": [
    "## Chương 11"
   ]
  },
  {
   "cell_type": "markdown",
   "id": "ecddf3c0",
   "metadata": {},
   "source": [
    "### 1. Khởi tạo và khai báo thư viện"
   ]
  },
  {
   "cell_type": "code",
   "execution_count": 1,
   "id": "dfbb7d95",
   "metadata": {},
   "outputs": [],
   "source": [
    "import numpy as np\n",
    "import pandas as pd\n",
    "np.random.seed(12345) # Thiết lập seed cho numpy để tái tạo kết quả\n",
    "import matplotlib.pyplot as plt # Thư viện vẽ biểu đồ\n",
    "plt.rc(\"figure\", figsize=(10, 6)) # Thiết lập kích thước biểu đồ mặc định\n",
    "PREVIOUS_MAX_ROWS = pd.options.display.max_rows # Lưu lại tùy chọn hiển thị ban đầu\n",
    "pd.options.display.max_columns = 20 # Hiển thị tối đa 20 cột\n",
    "pd.options.display.max_rows = 20 # Hiển thị tối đa 20 hàng\n",
    "pd.options.display.max_colwidth = 80 # Thiết lập chiều rộng cột tối đa\n",
    "np.set_printoptions(precision=4, suppress=True) # Thiết lập tùy chọn hiển thị của numpy"
   ]
  },
  {
   "cell_type": "code",
   "execution_count": 2,
   "id": "b76c076f",
   "metadata": {},
   "outputs": [],
   "source": [
    "import numpy as np\n",
    "import pandas as pd"
   ]
  },
  {
   "cell_type": "markdown",
   "id": "115e1a80",
   "metadata": {},
   "source": [
    "### 2. Làm việc với Datetime"
   ]
  },
  {
   "cell_type": "code",
   "execution_count": 3,
   "id": "2228eefd",
   "metadata": {},
   "outputs": [
    {
     "data": {
      "text/plain": [
       "(2025, 9, 25)"
      ]
     },
     "execution_count": 3,
     "metadata": {},
     "output_type": "execute_result"
    }
   ],
   "source": [
    "from datetime import datetime\n",
    "now = datetime.now()\n",
    "now\n",
    "now.year, now.month, now.day"
   ]
  },
  {
   "cell_type": "markdown",
   "id": "9df4e6a9",
   "metadata": {},
   "source": [
    "- Tạo đối tượng datetime hiện tại\n"
   ]
  },
  {
   "cell_type": "code",
   "execution_count": 4,
   "id": "1d9b15da",
   "metadata": {},
   "outputs": [
    {
     "data": {
      "text/plain": [
       "56700"
      ]
     },
     "execution_count": 4,
     "metadata": {},
     "output_type": "execute_result"
    }
   ],
   "source": [
    "delta = datetime(2011, 1, 7) - datetime(2008, 6, 24, 8, 15)\n",
    "delta\n",
    "delta.days\n",
    "delta.seconds"
   ]
  },
  {
   "cell_type": "markdown",
   "id": "7b0ce74f",
   "metadata": {},
   "source": [
    "- Tính toán khoảng cách thời gian giữa hai ngày\n",
    "- Truy xuất số ngày và giây từ timedelta"
   ]
  },
  {
   "cell_type": "markdown",
   "id": "9e67229b",
   "metadata": {},
   "source": [
    "### 3. Sử dụng timedelta"
   ]
  },
  {
   "cell_type": "code",
   "execution_count": null,
   "id": "ebf04536",
   "metadata": {},
   "outputs": [
    {
     "data": {
      "text/plain": [
       "datetime.datetime(2010, 12, 14, 0, 0)"
      ]
     },
     "execution_count": 5,
     "metadata": {},
     "output_type": "execute_result"
    }
   ],
   "source": [
    "from datetime import timedelta\n",
    "start = datetime(2011, 1, 7) # Ngày bắt đầu\n",
    "start + timedelta(12) # Cộng thêm 12 ngày\n",
    "start - 2 * timedelta(12) # Trừ đi 24 ngày"
   ]
  },
  {
   "cell_type": "markdown",
   "id": "cf5e96d9",
   "metadata": {},
   "source": [
    "- Sử dụng timedelta để cộng/trừ thời gian\n",
    "- Có thể nhân timedelta với số"
   ]
  },
  {
   "cell_type": "markdown",
   "id": "811e6921",
   "metadata": {},
   "source": [
    "### 4. Format và parse datetime"
   ]
  },
  {
   "cell_type": "code",
   "execution_count": 6,
   "id": "49ed9d6b",
   "metadata": {},
   "outputs": [
    {
     "data": {
      "text/plain": [
       "'2011-01-03'"
      ]
     },
     "execution_count": 6,
     "metadata": {},
     "output_type": "execute_result"
    }
   ],
   "source": [
    "stamp = datetime(2011, 1, 3) # Tạo đối tượng datetime\n",
    "str(stamp) # Chuyển đổi thành chuỗi\n",
    "stamp.strftime(\"%Y-%m-%d\") # Định dạng datetime thành chuỗi với định dạng cụ thể"
   ]
  },
  {
   "cell_type": "code",
   "execution_count": 7,
   "id": "532723d0",
   "metadata": {},
   "outputs": [
    {
     "data": {
      "text/plain": [
       "[datetime.datetime(2011, 7, 6, 0, 0), datetime.datetime(2011, 8, 6, 0, 0)]"
      ]
     },
     "execution_count": 7,
     "metadata": {},
     "output_type": "execute_result"
    }
   ],
   "source": [
    "value = \"2011-01-03\" # Chuỗi ngày tháng\n",
    "datetime.strptime(value, \"%Y-%m-%d\") # Phân tích chuỗi thành đối tượng datetime\n",
    "datestrs = [\"7/6/2011\", \"8/6/2011\"] # Danh sách chuỗi ngày tháng\n",
    "[datetime.strptime(x, \"%m/%d/%Y\") for x in datestrs] # Phân tích từng chuỗi trong danh sách"
   ]
  },
  {
   "cell_type": "markdown",
   "id": "f5235a0b",
   "metadata": {},
   "source": [
    "- strftime(): chuyển datetime thành string với format\n",
    "- strptime(): chuyển string thành datetime"
   ]
  },
  {
   "cell_type": "code",
   "execution_count": null,
   "id": "bb1ebf4c",
   "metadata": {},
   "outputs": [],
   "source": [
    "datestrs = [\"2011-07-06 12:00:00\", \"2011-08-06 00:00:00\"]\n",
    "pd.to_datetime(datestrs) # Chuyển đổi danh sách chuỗi thành DatetimeIndex"
   ]
  },
  {
   "cell_type": "code",
   "execution_count": null,
   "id": "9afc34d7",
   "metadata": {},
   "outputs": [],
   "source": [
    "idx = pd.to_datetime(datestrs + [None]) # Thêm giá trị None để tạo giá trị NaT trong Datetime\n",
    "idx\n",
    "idx[2] # Truy cập giá trị NaT\n",
    "pd.isna(idx) # Kiểm tra giá trị NaT trong DatetimeIndex"
   ]
  },
  {
   "cell_type": "markdown",
   "id": "42af7fb3",
   "metadata": {},
   "source": [
    "- pd.to_datetime() tự động nhận dạng format\n",
    "- Xử lý được giá trị None/NaN"
   ]
  },
  {
   "cell_type": "markdown",
   "id": "49321b69",
   "metadata": {},
   "source": [
    "### 5. Time Series cơ bản"
   ]
  },
  {
   "cell_type": "code",
   "execution_count": 8,
   "id": "f5628825",
   "metadata": {},
   "outputs": [
    {
     "data": {
      "text/plain": [
       "2011-01-02   -0.204708\n",
       "2011-01-05    0.478943\n",
       "2011-01-07   -0.519439\n",
       "2011-01-08   -0.555730\n",
       "2011-01-10    1.965781\n",
       "2011-01-12    1.393406\n",
       "dtype: float64"
      ]
     },
     "execution_count": 8,
     "metadata": {},
     "output_type": "execute_result"
    }
   ],
   "source": [
    "dates = [datetime(2011, 1, 2), datetime(2011, 1, 5),\n",
    "         datetime(2011, 1, 7), datetime(2011, 1, 8),\n",
    "         datetime(2011, 1, 10), datetime(2011, 1, 12)] # Danh sách các ngày\n",
    "ts = pd.Series(np.random.standard_normal(6), index=dates) # Tạo Series với index là các ngày\n",
    "ts"
   ]
  },
  {
   "cell_type": "code",
   "execution_count": 9,
   "id": "2d8aec1e",
   "metadata": {},
   "outputs": [
    {
     "data": {
      "text/plain": [
       "DatetimeIndex(['2011-01-02', '2011-01-05', '2011-01-07', '2011-01-08',\n",
       "               '2011-01-10', '2011-01-12'],\n",
       "              dtype='datetime64[ns]', freq=None)"
      ]
     },
     "execution_count": 9,
     "metadata": {},
     "output_type": "execute_result"
    }
   ],
   "source": [
    "ts.index # DatetimeIndex"
   ]
  },
  {
   "cell_type": "code",
   "execution_count": 10,
   "id": "12f1d6d8",
   "metadata": {},
   "outputs": [
    {
     "data": {
      "text/plain": [
       "2011-01-02   -0.409415\n",
       "2011-01-05         NaN\n",
       "2011-01-07   -1.038877\n",
       "2011-01-08         NaN\n",
       "2011-01-10    3.931561\n",
       "2011-01-12         NaN\n",
       "dtype: float64"
      ]
     },
     "execution_count": 10,
     "metadata": {},
     "output_type": "execute_result"
    }
   ],
   "source": [
    "ts + ts[::2] # Cộng Series với chính nó, bỏ qua một số giá trị để tạo NaN"
   ]
  },
  {
   "cell_type": "markdown",
   "id": "e3cf7700",
   "metadata": {},
   "source": [
    "- Tạo Series với DatetimeIndex\n",
    "- Các phép toán tự động align theo index"
   ]
  },
  {
   "cell_type": "markdown",
   "id": "543671ad",
   "metadata": {},
   "source": [
    "### 6. Indexing và slicing"
   ]
  },
  {
   "cell_type": "code",
   "execution_count": 11,
   "id": "6390aa7f",
   "metadata": {},
   "outputs": [
    {
     "data": {
      "text/plain": [
       "dtype('<M8[ns]')"
      ]
     },
     "execution_count": 11,
     "metadata": {},
     "output_type": "execute_result"
    }
   ],
   "source": [
    "ts.index.dtype # Kiểu dữ liệu của index là datetime64[ns]"
   ]
  },
  {
   "cell_type": "code",
   "execution_count": 12,
   "id": "42ecb9ad",
   "metadata": {},
   "outputs": [
    {
     "data": {
      "text/plain": [
       "Timestamp('2011-01-02 00:00:00')"
      ]
     },
     "execution_count": 12,
     "metadata": {},
     "output_type": "execute_result"
    }
   ],
   "source": [
    "stamp = ts.index[0] # Lấy phần tử đầu tiên của index\n",
    "stamp # Hiển thị phần tử đầu tiên"
   ]
  },
  {
   "cell_type": "code",
   "execution_count": 13,
   "id": "2a9a54a8",
   "metadata": {},
   "outputs": [
    {
     "data": {
      "text/plain": [
       "np.float64(-0.5194387150567381)"
      ]
     },
     "execution_count": 13,
     "metadata": {},
     "output_type": "execute_result"
    }
   ],
   "source": [
    "stamp = ts.index[2] # Lấy phần tử thứ ba của index\n",
    "ts[stamp] # Truy cập giá trị tương ứng với phần tử thứ ba"
   ]
  },
  {
   "cell_type": "code",
   "execution_count": null,
   "id": "a3ef0e26",
   "metadata": {},
   "outputs": [
    {
     "data": {
      "text/plain": [
       "np.float64(1.9657805725027142)"
      ]
     },
     "execution_count": 14,
     "metadata": {},
     "output_type": "execute_result"
    }
   ],
   "source": [
    "ts[\"2011-01-10\"] # Truy cập giá trị theo chuỗi ngày tháng"
   ]
  },
  {
   "cell_type": "markdown",
   "id": "7535457d",
   "metadata": {},
   "source": [
    "- Index có dtype datetime64[ns]\n",
    "- Có thể truy cập bằng timestamp hoặc string"
   ]
  },
  {
   "cell_type": "markdown",
   "id": "d9170129",
   "metadata": {},
   "source": [
    "### 7. Slicing với năm/tháng"
   ]
  },
  {
   "cell_type": "code",
   "execution_count": 15,
   "id": "1e9b4715",
   "metadata": {},
   "outputs": [
    {
     "data": {
      "text/plain": [
       "2001-01-01    1.599534\n",
       "2001-01-02    0.474071\n",
       "2001-01-03    0.151326\n",
       "2001-01-04   -0.542173\n",
       "2001-01-05   -0.475496\n",
       "                ...   \n",
       "2001-12-27    0.057874\n",
       "2001-12-28   -0.433739\n",
       "2001-12-29    0.092698\n",
       "2001-12-30   -1.397820\n",
       "2001-12-31    1.457823\n",
       "Freq: D, Length: 365, dtype: float64"
      ]
     },
     "execution_count": 15,
     "metadata": {},
     "output_type": "execute_result"
    }
   ],
   "source": [
    "longer_ts = pd.Series(np.random.standard_normal(1000),\n",
    "                      index=pd.date_range(\"2000-01-01\", periods=1000)) # Tạo Series dài với index là dải ngày\n",
    "longer_ts # Hiển thị Series dài\n",
    "longer_ts[\"2001\"] # Truy cập giá trị theo năm"
   ]
  },
  {
   "cell_type": "code",
   "execution_count": 16,
   "id": "390036ff",
   "metadata": {},
   "outputs": [
    {
     "data": {
      "text/plain": [
       "2001-05-01   -0.622547\n",
       "2001-05-02    0.936289\n",
       "2001-05-03    0.750018\n",
       "2001-05-04   -0.056715\n",
       "2001-05-05    2.300675\n",
       "                ...   \n",
       "2001-05-27    0.235477\n",
       "2001-05-28    0.111835\n",
       "2001-05-29   -1.251504\n",
       "2001-05-30   -2.949343\n",
       "2001-05-31    0.634634\n",
       "Freq: D, Length: 31, dtype: float64"
      ]
     },
     "execution_count": 16,
     "metadata": {},
     "output_type": "execute_result"
    }
   ],
   "source": [
    "longer_ts[\"2001-05\"] # Truy cập giá trị theo tháng trong năm 2001"
   ]
  },
  {
   "cell_type": "markdown",
   "id": "f39a3a6e",
   "metadata": {},
   "source": [
    "### 8.  Range slicing và truncate"
   ]
  },
  {
   "cell_type": "code",
   "execution_count": 17,
   "id": "d4835ffb",
   "metadata": {},
   "outputs": [
    {
     "data": {
      "text/plain": [
       "2011-01-07   -0.519439\n",
       "2011-01-08   -0.555730\n",
       "2011-01-10    1.965781\n",
       "dtype: float64"
      ]
     },
     "execution_count": 17,
     "metadata": {},
     "output_type": "execute_result"
    }
   ],
   "source": [
    "ts[datetime(2011, 1, 7):] # Slicing từ ngày 2011-01-07 trở đi\n",
    "ts[datetime(2011, 1, 7):datetime(2011, 1, 10)] # Slicing từ ngày 2011-01-07 đến 2011-01-10"
   ]
  },
  {
   "cell_type": "code",
   "execution_count": 18,
   "id": "9f572795",
   "metadata": {},
   "outputs": [
    {
     "data": {
      "text/plain": [
       "2011-01-07   -0.519439\n",
       "2011-01-08   -0.555730\n",
       "2011-01-10    1.965781\n",
       "dtype: float64"
      ]
     },
     "execution_count": 18,
     "metadata": {},
     "output_type": "execute_result"
    }
   ],
   "source": [
    "ts \n",
    "ts[\"2011-01-06\":\"2011-01-11\"] # Slicing từ ngày 2011-01-06 đến 2011-01-11"
   ]
  },
  {
   "cell_type": "code",
   "execution_count": 19,
   "id": "ca581c26",
   "metadata": {},
   "outputs": [
    {
     "data": {
      "text/plain": [
       "2011-01-02   -0.204708\n",
       "2011-01-05    0.478943\n",
       "2011-01-07   -0.519439\n",
       "2011-01-08   -0.555730\n",
       "dtype: float64"
      ]
     },
     "execution_count": 19,
     "metadata": {},
     "output_type": "execute_result"
    }
   ],
   "source": [
    "ts.truncate(after=\"2011-01-09\") # Cắt bỏ dữ liệu sau ngày 2011-01-09"
   ]
  },
  {
   "cell_type": "markdown",
   "id": "9d4e8e1f",
   "metadata": {},
   "source": [
    "- Slice với range thời gian\n",
    "- truncate() để cắt bỏ dữ liệu trước/sau một thời điểm"
   ]
  },
  {
   "cell_type": "markdown",
   "id": "42b6d741",
   "metadata": {},
   "source": [
    "### 9. DataFrame với DatetimeIndex\n"
   ]
  },
  {
   "cell_type": "code",
   "execution_count": 20,
   "id": "f9d665c0",
   "metadata": {},
   "outputs": [
    {
     "data": {
      "text/html": [
       "<div>\n",
       "<style scoped>\n",
       "    .dataframe tbody tr th:only-of-type {\n",
       "        vertical-align: middle;\n",
       "    }\n",
       "\n",
       "    .dataframe tbody tr th {\n",
       "        vertical-align: top;\n",
       "    }\n",
       "\n",
       "    .dataframe thead th {\n",
       "        text-align: right;\n",
       "    }\n",
       "</style>\n",
       "<table border=\"1\" class=\"dataframe\">\n",
       "  <thead>\n",
       "    <tr style=\"text-align: right;\">\n",
       "      <th></th>\n",
       "      <th>Colorado</th>\n",
       "      <th>Texas</th>\n",
       "      <th>New York</th>\n",
       "      <th>Ohio</th>\n",
       "    </tr>\n",
       "  </thead>\n",
       "  <tbody>\n",
       "    <tr>\n",
       "      <th>2001-05-02</th>\n",
       "      <td>-0.006045</td>\n",
       "      <td>0.490094</td>\n",
       "      <td>-0.277186</td>\n",
       "      <td>-0.707213</td>\n",
       "    </tr>\n",
       "    <tr>\n",
       "      <th>2001-05-09</th>\n",
       "      <td>-0.560107</td>\n",
       "      <td>2.735527</td>\n",
       "      <td>0.927335</td>\n",
       "      <td>1.513906</td>\n",
       "    </tr>\n",
       "    <tr>\n",
       "      <th>2001-05-16</th>\n",
       "      <td>0.538600</td>\n",
       "      <td>1.273768</td>\n",
       "      <td>0.667876</td>\n",
       "      <td>-0.969206</td>\n",
       "    </tr>\n",
       "    <tr>\n",
       "      <th>2001-05-23</th>\n",
       "      <td>1.676091</td>\n",
       "      <td>-0.817649</td>\n",
       "      <td>0.050188</td>\n",
       "      <td>1.951312</td>\n",
       "    </tr>\n",
       "    <tr>\n",
       "      <th>2001-05-30</th>\n",
       "      <td>3.260383</td>\n",
       "      <td>0.963301</td>\n",
       "      <td>1.201206</td>\n",
       "      <td>-1.852001</td>\n",
       "    </tr>\n",
       "  </tbody>\n",
       "</table>\n",
       "</div>"
      ],
      "text/plain": [
       "            Colorado     Texas  New York      Ohio\n",
       "2001-05-02 -0.006045  0.490094 -0.277186 -0.707213\n",
       "2001-05-09 -0.560107  2.735527  0.927335  1.513906\n",
       "2001-05-16  0.538600  1.273768  0.667876 -0.969206\n",
       "2001-05-23  1.676091 -0.817649  0.050188  1.951312\n",
       "2001-05-30  3.260383  0.963301  1.201206 -1.852001"
      ]
     },
     "execution_count": 20,
     "metadata": {},
     "output_type": "execute_result"
    }
   ],
   "source": [
    "dates = pd.date_range(\"2000-01-01\", periods=100, freq=\"W-WED\") # Tạo dải ngày với tần suất hàng tuần vào thứ Tư\n",
    "long_df = pd.DataFrame(np.random.standard_normal((100, 4)),\n",
    "                       index=dates,\n",
    "                       columns=[\"Colorado\", \"Texas\",\n",
    "                                \"New York\", \"Ohio\"]) # Tạo DataFrame với dữ liệu ngẫu nhiên và index là dải ngày\n",
    "long_df.loc[\"2001-05\"] # Truy cập dữ liệu của tháng 5 năm 2001"
   ]
  },
  {
   "cell_type": "markdown",
   "id": "40fc2913",
   "metadata": {},
   "source": [
    "- DataFrame cũng hỗ trợ DatetimeIndex\n",
    "- Có thể slice như Series"
   ]
  },
  {
   "cell_type": "markdown",
   "id": "0ab0bd92",
   "metadata": {},
   "source": [
    "### 10. Duplicate index"
   ]
  },
  {
   "cell_type": "code",
   "execution_count": 21,
   "id": "3e6691d6",
   "metadata": {},
   "outputs": [
    {
     "data": {
      "text/plain": [
       "2000-01-01    0\n",
       "2000-01-02    1\n",
       "2000-01-02    2\n",
       "2000-01-02    3\n",
       "2000-01-03    4\n",
       "dtype: int64"
      ]
     },
     "execution_count": 21,
     "metadata": {},
     "output_type": "execute_result"
    }
   ],
   "source": [
    "dates = pd.DatetimeIndex([\"2000-01-01\", \"2000-01-02\", \"2000-01-02\",\n",
    "                          \"2000-01-02\", \"2000-01-03\"]) # Tạo DatetimeIndex với các giá trị trùng lặp\n",
    "dup_ts = pd.Series(np.arange(5), index=dates) # Tạo Series với index là DatetimeIndex có giá trị trùng lặp\n",
    "dup_ts"
   ]
  },
  {
   "cell_type": "code",
   "execution_count": null,
   "id": "9a32bd3c",
   "metadata": {},
   "outputs": [
    {
     "data": {
      "text/plain": [
       "False"
      ]
     },
     "execution_count": 22,
     "metadata": {},
     "output_type": "execute_result"
    }
   ],
   "source": [
    "dup_ts.index.is_unique # Kiểm tra xem index có giá trị trùng lặp không\n"
   ]
  },
  {
   "cell_type": "code",
   "execution_count": 23,
   "id": "c7b31de9",
   "metadata": {},
   "outputs": [
    {
     "data": {
      "text/plain": [
       "2000-01-02    1\n",
       "2000-01-02    2\n",
       "2000-01-02    3\n",
       "dtype: int64"
      ]
     },
     "execution_count": 23,
     "metadata": {},
     "output_type": "execute_result"
    }
   ],
   "source": [
    "dup_ts[\"2000-01-03\"]  # not duplicated\n",
    "dup_ts[\"2000-01-02\"]  # duplicated"
   ]
  },
  {
   "cell_type": "markdown",
   "id": "73461a14",
   "metadata": {},
   "source": [
    "- Index có thể bị duplicate\n",
    "- Truy cập duplicate index trả về Series\n",
    "- Dùng groupby để aggregate"
   ]
  },
  {
   "cell_type": "code",
   "execution_count": null,
   "id": "9833064e",
   "metadata": {},
   "outputs": [
    {
     "data": {
      "text/plain": [
       "2000-01-01    1\n",
       "2000-01-02    3\n",
       "2000-01-03    1\n",
       "dtype: int64"
      ]
     },
     "execution_count": 24,
     "metadata": {},
     "output_type": "execute_result"
    }
   ],
   "source": [
    "grouped = dup_ts.groupby(level=0) # Nhóm theo index (level=0)\n",
    "grouped.mean() # Tính trung bình cho mỗi nhóm\n",
    "grouped.count() # Đếm số phần tử trong mỗi nhóm"
   ]
  },
  {
   "cell_type": "markdown",
   "id": "96593572",
   "metadata": {},
   "source": [
    "### 11. Resampling"
   ]
  },
  {
   "cell_type": "code",
   "execution_count": 26,
   "id": "34fd5567",
   "metadata": {},
   "outputs": [
    {
     "data": {
      "text/plain": [
       "<pandas.core.resample.DatetimeIndexResampler object at 0x000002906AFBE210>"
      ]
     },
     "execution_count": 26,
     "metadata": {},
     "output_type": "execute_result"
    }
   ],
   "source": [
    "ts\n",
    "resampler = ts.resample(\"D\") # Resample theo tần suất hàng ngày\n",
    "resampler"
   ]
  },
  {
   "cell_type": "markdown",
   "id": "dccb1870",
   "metadata": {},
   "source": [
    "### 12. Date ranges"
   ]
  },
  {
   "cell_type": "code",
   "execution_count": 27,
   "id": "f30051c6",
   "metadata": {},
   "outputs": [
    {
     "data": {
      "text/plain": [
       "DatetimeIndex(['2012-04-01', '2012-04-02', '2012-04-03', '2012-04-04',\n",
       "               '2012-04-05', '2012-04-06', '2012-04-07', '2012-04-08',\n",
       "               '2012-04-09', '2012-04-10', '2012-04-11', '2012-04-12',\n",
       "               '2012-04-13', '2012-04-14', '2012-04-15', '2012-04-16',\n",
       "               '2012-04-17', '2012-04-18', '2012-04-19', '2012-04-20',\n",
       "               '2012-04-21', '2012-04-22', '2012-04-23', '2012-04-24',\n",
       "               '2012-04-25', '2012-04-26', '2012-04-27', '2012-04-28',\n",
       "               '2012-04-29', '2012-04-30', '2012-05-01', '2012-05-02',\n",
       "               '2012-05-03', '2012-05-04', '2012-05-05', '2012-05-06',\n",
       "               '2012-05-07', '2012-05-08', '2012-05-09', '2012-05-10',\n",
       "               '2012-05-11', '2012-05-12', '2012-05-13', '2012-05-14',\n",
       "               '2012-05-15', '2012-05-16', '2012-05-17', '2012-05-18',\n",
       "               '2012-05-19', '2012-05-20', '2012-05-21', '2012-05-22',\n",
       "               '2012-05-23', '2012-05-24', '2012-05-25', '2012-05-26',\n",
       "               '2012-05-27', '2012-05-28', '2012-05-29', '2012-05-30',\n",
       "               '2012-05-31', '2012-06-01'],\n",
       "              dtype='datetime64[ns]', freq='D')"
      ]
     },
     "execution_count": 27,
     "metadata": {},
     "output_type": "execute_result"
    }
   ],
   "source": [
    "index = pd.date_range(\"2012-04-01\", \"2012-06-01\") # Tạo dải ngày từ 2012-04-01 đến 2012-06-01\n",
    "index"
   ]
  },
  {
   "cell_type": "code",
   "execution_count": 28,
   "id": "068edb85",
   "metadata": {},
   "outputs": [
    {
     "data": {
      "text/plain": [
       "DatetimeIndex(['2012-05-13', '2012-05-14', '2012-05-15', '2012-05-16',\n",
       "               '2012-05-17', '2012-05-18', '2012-05-19', '2012-05-20',\n",
       "               '2012-05-21', '2012-05-22', '2012-05-23', '2012-05-24',\n",
       "               '2012-05-25', '2012-05-26', '2012-05-27', '2012-05-28',\n",
       "               '2012-05-29', '2012-05-30', '2012-05-31', '2012-06-01'],\n",
       "              dtype='datetime64[ns]', freq='D')"
      ]
     },
     "execution_count": 28,
     "metadata": {},
     "output_type": "execute_result"
    }
   ],
   "source": [
    "pd.date_range(start=\"2012-04-01\", periods=20) # Tạo dải ngày bắt đầu từ 2012-04-01 với 20 phần tử\n",
    "pd.date_range(end=\"2012-06-01\", periods=20) # Tạo dải ngày kết thúc vào 2012-06-01 với 20 phần tử"
   ]
  },
  {
   "cell_type": "code",
   "execution_count": 29,
   "id": "89cb99a7",
   "metadata": {},
   "outputs": [
    {
     "name": "stderr",
     "output_type": "stream",
     "text": [
      "C:\\Users\\khoat\\AppData\\Local\\Temp\\ipykernel_9808\\143936493.py:1: FutureWarning: 'BM' is deprecated and will be removed in a future version, please use 'BME' instead.\n",
      "  pd.date_range(\"2000-01-01\", \"2000-12-01\", freq=\"BM\") # Tạo dải ngày cuối cùng của mỗi tháng trong năm 2000\n"
     ]
    },
    {
     "data": {
      "text/plain": [
       "DatetimeIndex(['2000-01-31', '2000-02-29', '2000-03-31', '2000-04-28',\n",
       "               '2000-05-31', '2000-06-30', '2000-07-31', '2000-08-31',\n",
       "               '2000-09-29', '2000-10-31', '2000-11-30'],\n",
       "              dtype='datetime64[ns]', freq='BME')"
      ]
     },
     "execution_count": 29,
     "metadata": {},
     "output_type": "execute_result"
    }
   ],
   "source": [
    "pd.date_range(\"2000-01-01\", \"2000-12-01\", freq=\"BM\") # Tạo dải ngày cuối cùng của mỗi tháng trong năm 2000"
   ]
  },
  {
   "cell_type": "code",
   "execution_count": 30,
   "id": "f5b61221",
   "metadata": {},
   "outputs": [
    {
     "data": {
      "text/plain": [
       "DatetimeIndex(['2012-05-02 12:56:31', '2012-05-03 12:56:31',\n",
       "               '2012-05-04 12:56:31', '2012-05-05 12:56:31',\n",
       "               '2012-05-06 12:56:31'],\n",
       "              dtype='datetime64[ns]', freq='D')"
      ]
     },
     "execution_count": 30,
     "metadata": {},
     "output_type": "execute_result"
    }
   ],
   "source": [
    "pd.date_range(\"2012-05-02 12:56:31\", periods=5) # Tạo dải ngày bắt đầu từ 2012-05-02 12:56:31 với 5 phần tử"
   ]
  },
  {
   "cell_type": "code",
   "execution_count": 31,
   "id": "bbfa5bf3",
   "metadata": {},
   "outputs": [
    {
     "data": {
      "text/plain": [
       "DatetimeIndex(['2012-05-02', '2012-05-03', '2012-05-04', '2012-05-05',\n",
       "               '2012-05-06'],\n",
       "              dtype='datetime64[ns]', freq='D')"
      ]
     },
     "execution_count": 31,
     "metadata": {},
     "output_type": "execute_result"
    }
   ],
   "source": [
    "pd.date_range(\"2012-05-02 12:56:31\", periods=5, normalize=True) # Tạo dải ngày bắt đầu từ 2012-05-02 với 5 phần tử, thời gian được chuẩn hóa về 00:00:00 \n",
    "# normalize=True chuyển đổi thời gian về đầu ngày (00:00:00)"
   ]
  },
  {
   "cell_type": "markdown",
   "id": "e22a1111",
   "metadata": {},
   "source": [
    "- date_range() tạo DatetimeIndex\n",
    "- Nhiều option: start/end, periods, freq, normalize"
   ]
  },
  {
   "cell_type": "markdown",
   "id": "fd80cd0e",
   "metadata": {},
   "source": [
    "### 13. Offset objects"
   ]
  },
  {
   "cell_type": "code",
   "execution_count": 32,
   "id": "0df97f7a",
   "metadata": {},
   "outputs": [
    {
     "data": {
      "text/plain": [
       "<Hour>"
      ]
     },
     "execution_count": 32,
     "metadata": {},
     "output_type": "execute_result"
    }
   ],
   "source": [
    "from pandas.tseries.offsets import Hour, Minute\n",
    "hour = Hour() # Tạo đối tượng offset đại diện cho một giờ\n",
    "hour"
   ]
  },
  {
   "cell_type": "code",
   "execution_count": 33,
   "id": "892bff99",
   "metadata": {},
   "outputs": [
    {
     "data": {
      "text/plain": [
       "<4 * Hours>"
      ]
     },
     "execution_count": 33,
     "metadata": {},
     "output_type": "execute_result"
    }
   ],
   "source": [
    "four_hours = Hour(4) # Tạo đối tượng offset đại diện cho 4 giờ\n",
    "four_hours"
   ]
  },
  {
   "cell_type": "code",
   "execution_count": 34,
   "id": "965aa409",
   "metadata": {},
   "outputs": [
    {
     "name": "stderr",
     "output_type": "stream",
     "text": [
      "C:\\Users\\khoat\\AppData\\Local\\Temp\\ipykernel_9808\\3249796395.py:1: FutureWarning: 'H' is deprecated and will be removed in a future version, please use 'h' instead.\n",
      "  pd.date_range(\"2000-01-01\", \"2000-01-03 23:59\", freq=\"4H\") # Tạo dải ngày với tần suất 4 giờ từ 2000-01-01 đến 2000-01-03 23:59\n"
     ]
    },
    {
     "data": {
      "text/plain": [
       "DatetimeIndex(['2000-01-01 00:00:00', '2000-01-01 04:00:00',\n",
       "               '2000-01-01 08:00:00', '2000-01-01 12:00:00',\n",
       "               '2000-01-01 16:00:00', '2000-01-01 20:00:00',\n",
       "               '2000-01-02 00:00:00', '2000-01-02 04:00:00',\n",
       "               '2000-01-02 08:00:00', '2000-01-02 12:00:00',\n",
       "               '2000-01-02 16:00:00', '2000-01-02 20:00:00',\n",
       "               '2000-01-03 00:00:00', '2000-01-03 04:00:00',\n",
       "               '2000-01-03 08:00:00', '2000-01-03 12:00:00',\n",
       "               '2000-01-03 16:00:00', '2000-01-03 20:00:00'],\n",
       "              dtype='datetime64[ns]', freq='4h')"
      ]
     },
     "execution_count": 34,
     "metadata": {},
     "output_type": "execute_result"
    }
   ],
   "source": [
    "pd.date_range(\"2000-01-01\", \"2000-01-03 23:59\", freq=\"4H\") # Tạo dải ngày với tần suất 4 giờ từ 2000-01-01 đến 2000-01-03 23:59"
   ]
  },
  {
   "cell_type": "code",
   "execution_count": 35,
   "id": "2c53f246",
   "metadata": {},
   "outputs": [
    {
     "data": {
      "text/plain": [
       "<150 * Minutes>"
      ]
     },
     "execution_count": 35,
     "metadata": {},
     "output_type": "execute_result"
    }
   ],
   "source": [
    "Hour(2) + Minute(30) # Cộng hai đối tượng offset lại với nhau"
   ]
  },
  {
   "cell_type": "code",
   "execution_count": null,
   "id": "a7dc4792",
   "metadata": {},
   "outputs": [],
   "source": [
    "pd.date_range(\"2000-01-01\", periods=10, freq=\"1h30min\") # Tạo dải ngày với tần suất 1 giờ 30 phút, bắt đầu từ 2000-01-01"
   ]
  },
  {
   "cell_type": "markdown",
   "id": "7645b2aa",
   "metadata": {},
   "source": [
    "- Offset objects để định nghĩa frequency\n",
    "- Có thể cộng các offset với nhau"
   ]
  },
  {
   "cell_type": "markdown",
   "id": "d0e2c38f",
   "metadata": {},
   "source": [
    "### 14. Week of month"
   ]
  },
  {
   "cell_type": "code",
   "execution_count": 36,
   "id": "dfe25564",
   "metadata": {},
   "outputs": [
    {
     "data": {
      "text/plain": [
       "[Timestamp('2012-01-20 00:00:00'),\n",
       " Timestamp('2012-02-17 00:00:00'),\n",
       " Timestamp('2012-03-16 00:00:00'),\n",
       " Timestamp('2012-04-20 00:00:00'),\n",
       " Timestamp('2012-05-18 00:00:00'),\n",
       " Timestamp('2012-06-15 00:00:00'),\n",
       " Timestamp('2012-07-20 00:00:00'),\n",
       " Timestamp('2012-08-17 00:00:00')]"
      ]
     },
     "execution_count": 36,
     "metadata": {},
     "output_type": "execute_result"
    }
   ],
   "source": [
    "monthly_dates = pd.date_range(\"2012-01-01\", \"2012-09-01\", freq=\"WOM-3FRI\") # Tạo dải ngày với tần suất là thứ Sáu thứ 3 của mỗi tháng từ 2012-01-01 đến 2012-09-01\n",
    "list(monthly_dates) "
   ]
  },
  {
   "cell_type": "markdown",
   "id": "b1fa5c25",
   "metadata": {},
   "source": [
    "### 15. Shifting data"
   ]
  },
  {
   "cell_type": "code",
   "execution_count": 38,
   "id": "26cc05d1",
   "metadata": {},
   "outputs": [
    {
     "name": "stderr",
     "output_type": "stream",
     "text": [
      "C:\\Users\\khoat\\AppData\\Local\\Temp\\ipykernel_9808\\3282500410.py:2: FutureWarning: 'M' is deprecated and will be removed in a future version, please use 'ME' instead.\n",
      "  index=pd.date_range(\"2000-01-01\", periods=4, freq=\"M\")) # Tạo Series với index là cuối mỗi tháng\n"
     ]
    },
    {
     "data": {
      "text/plain": [
       "2000-01-31   -0.932454\n",
       "2000-02-29   -0.229331\n",
       "2000-03-31         NaN\n",
       "2000-04-30         NaN\n",
       "Freq: ME, dtype: float64"
      ]
     },
     "execution_count": 38,
     "metadata": {},
     "output_type": "execute_result"
    }
   ],
   "source": [
    "ts = pd.Series(np.random.standard_normal(4),\n",
    "               index=pd.date_range(\"2000-01-01\", periods=4, freq=\"M\")) # Tạo Series với index là cuối mỗi tháng\n",
    "ts\n",
    "ts.shift(2) # Dịch chuyển dữ liệu xuống 2 vị trí\n",
    "ts.shift(-2) # Dịch chuyển dữ liệu lên 2 vị trí"
   ]
  },
  {
   "cell_type": "code",
   "execution_count": 39,
   "id": "4127f95a",
   "metadata": {},
   "outputs": [
    {
     "name": "stderr",
     "output_type": "stream",
     "text": [
      "C:\\Users\\khoat\\AppData\\Local\\Temp\\ipykernel_9808\\4187507398.py:1: FutureWarning: 'M' is deprecated and will be removed in a future version, please use 'ME' instead.\n",
      "  ts.shift(2, freq=\"M\") # Dịch chuyển index xuống 2 tháng\n"
     ]
    },
    {
     "data": {
      "text/plain": [
       "2000-03-31   -0.116696\n",
       "2000-04-30    2.389645\n",
       "2000-05-31   -0.932454\n",
       "2000-06-30   -0.229331\n",
       "Freq: ME, dtype: float64"
      ]
     },
     "execution_count": 39,
     "metadata": {},
     "output_type": "execute_result"
    }
   ],
   "source": [
    "ts.shift(2, freq=\"M\") # Dịch chuyển index xuống 2 tháng"
   ]
  },
  {
   "cell_type": "code",
   "execution_count": 40,
   "id": "b25fd82f",
   "metadata": {},
   "outputs": [
    {
     "name": "stderr",
     "output_type": "stream",
     "text": [
      "C:\\Users\\khoat\\AppData\\Local\\Temp\\ipykernel_9808\\2864266675.py:2: FutureWarning: 'T' is deprecated and will be removed in a future version, please use 'min' instead.\n",
      "  ts.shift(1, freq=\"90T\") # Dịch chuyển index xuống 90 phút\n"
     ]
    },
    {
     "data": {
      "text/plain": [
       "2000-01-31 01:30:00   -0.116696\n",
       "2000-02-29 01:30:00    2.389645\n",
       "2000-03-31 01:30:00   -0.932454\n",
       "2000-04-30 01:30:00   -0.229331\n",
       "dtype: float64"
      ]
     },
     "execution_count": 40,
     "metadata": {},
     "output_type": "execute_result"
    }
   ],
   "source": [
    "ts.shift(3, freq=\"D\") # Dịch chuyển index xuống 3 ngày\n",
    "ts.shift(1, freq=\"90T\") # Dịch chuyển index xuống 90 phút"
   ]
  },
  {
   "cell_type": "markdown",
   "id": "96f82f50",
   "metadata": {},
   "source": [
    "### 16. Offset arithmetic"
   ]
  },
  {
   "cell_type": "code",
   "execution_count": null,
   "id": "7cf71864",
   "metadata": {},
   "outputs": [
    {
     "data": {
      "text/plain": [
       "Timestamp('2011-11-20 00:00:00')"
      ]
     },
     "execution_count": 41,
     "metadata": {},
     "output_type": "execute_result"
    }
   ],
   "source": [
    "from pandas.tseries.offsets import Day, MonthEnd\n",
    "now = datetime(2011, 11, 17)\n",
    "now + 3 * Day() # Cộng thêm 3 ngày"
   ]
  },
  {
   "cell_type": "code",
   "execution_count": 42,
   "id": "e67b9c22",
   "metadata": {},
   "outputs": [
    {
     "data": {
      "text/plain": [
       "Timestamp('2011-12-31 00:00:00')"
      ]
     },
     "execution_count": 42,
     "metadata": {},
     "output_type": "execute_result"
    }
   ],
   "source": [
    "now + MonthEnd() # Chuyển đến cuối tháng hiện tại\n",
    "now + MonthEnd(2) # Chuyển đến cuối tháng kế tiếp"
   ]
  },
  {
   "cell_type": "code",
   "execution_count": 43,
   "id": "78180599",
   "metadata": {},
   "outputs": [
    {
     "data": {
      "text/plain": [
       "Timestamp('2011-10-31 00:00:00')"
      ]
     },
     "execution_count": 43,
     "metadata": {},
     "output_type": "execute_result"
    }
   ],
   "source": [
    "offset = MonthEnd() # Tạo đối tượng offset đại diện cho cuối tháng\n",
    "offset.rollforward(now) # Chuyển đến cuối tháng kế tiếp nếu ngày hiện tại không phải là cuối tháng\n",
    "offset.rollback(now) # Chuyển đến cuối tháng trước đó nếu ngày hiện tại không phải là cuối tháng"
   ]
  },
  {
   "cell_type": "markdown",
   "id": "118a83f1",
   "metadata": {},
   "source": [
    "- Arithmetic với datetime objects\n",
    "- rollforward/rollback để snap to business dates"
   ]
  },
  {
   "cell_type": "markdown",
   "id": "84864002",
   "metadata": {},
   "source": [
    "### 17. Groupby với offsets"
   ]
  },
  {
   "cell_type": "code",
   "execution_count": 44,
   "id": "e1270c18",
   "metadata": {},
   "outputs": [
    {
     "data": {
      "text/plain": [
       "2000-01-31   -0.338963\n",
       "2000-02-29    0.081409\n",
       "2000-03-31    0.297908\n",
       "dtype: float64"
      ]
     },
     "execution_count": 44,
     "metadata": {},
     "output_type": "execute_result"
    }
   ],
   "source": [
    "ts = pd.Series(np.random.standard_normal(20),\n",
    "               index=pd.date_range(\"2000-01-15\", periods=20, freq=\"4D\")) # Tạo Series với index là dải ngày cách nhau 4 ngày, bắt đầu từ 2000-01-15\n",
    "ts\n",
    "ts.groupby(MonthEnd().rollforward).mean() # Nhóm theo cuối tháng và tính trung bình mỗi nhóm"
   ]
  },
  {
   "cell_type": "code",
   "execution_count": 45,
   "id": "4df82f0e",
   "metadata": {},
   "outputs": [
    {
     "name": "stderr",
     "output_type": "stream",
     "text": [
      "C:\\Users\\khoat\\AppData\\Local\\Temp\\ipykernel_9808\\3995749685.py:1: FutureWarning: 'M' is deprecated and will be removed in a future version, please use 'ME' instead.\n",
      "  ts.resample(\"M\").mean() # Resample theo cuối tháng và tính trung bình mỗi nhóm\n"
     ]
    },
    {
     "data": {
      "text/plain": [
       "2000-01-31   -0.338963\n",
       "2000-02-29    0.081409\n",
       "2000-03-31    0.297908\n",
       "Freq: ME, dtype: float64"
      ]
     },
     "execution_count": 45,
     "metadata": {},
     "output_type": "execute_result"
    }
   ],
   "source": [
    "ts.resample(\"M\").mean() # Resample theo cuối tháng và tính trung bình mỗi nhóm"
   ]
  },
  {
   "cell_type": "markdown",
   "id": "d2e5514d",
   "metadata": {},
   "source": [
    "- Group theo business logic phức tạp\n",
    "- resample() thường đơn giản hơn\n"
   ]
  },
  {
   "cell_type": "markdown",
   "id": "05a96b5e",
   "metadata": {},
   "source": [
    "### 18. Time zones"
   ]
  },
  {
   "cell_type": "code",
   "execution_count": 46,
   "id": "895db532",
   "metadata": {},
   "outputs": [
    {
     "data": {
      "text/plain": [
       "['US/Eastern', 'US/Hawaii', 'US/Mountain', 'US/Pacific', 'UTC']"
      ]
     },
     "execution_count": 46,
     "metadata": {},
     "output_type": "execute_result"
    }
   ],
   "source": [
    "import pytz\n",
    "pytz.common_timezones[-5:] # Hiển thị 5 múi giờ phổ biến cuối cùng"
   ]
  },
  {
   "cell_type": "code",
   "execution_count": 47,
   "id": "701a42c6",
   "metadata": {},
   "outputs": [
    {
     "data": {
      "text/plain": [
       "<DstTzInfo 'America/New_York' LMT-1 day, 19:04:00 STD>"
      ]
     },
     "execution_count": 47,
     "metadata": {},
     "output_type": "execute_result"
    }
   ],
   "source": [
    "tz = pytz.timezone(\"America/New_York\") # Thiết lập múi giờ New York\n",
    "tz"
   ]
  },
  {
   "cell_type": "code",
   "execution_count": 48,
   "id": "3e32c80c",
   "metadata": {},
   "outputs": [
    {
     "data": {
      "text/plain": [
       "2012-03-09 09:30:00   -0.797246\n",
       "2012-03-10 09:30:00    0.472879\n",
       "2012-03-11 09:30:00    0.522356\n",
       "2012-03-12 09:30:00   -0.546348\n",
       "2012-03-13 09:30:00   -0.733537\n",
       "2012-03-14 09:30:00    1.302736\n",
       "Freq: D, dtype: float64"
      ]
     },
     "execution_count": 48,
     "metadata": {},
     "output_type": "execute_result"
    }
   ],
   "source": [
    "dates = pd.date_range(\"2012-03-09 09:30\", periods=6) # Tạo dải ngày bắt đầu từ 2012-03-09 09:30 với 6 phần tử\n",
    "ts = pd.Series(np.random.standard_normal(len(dates)), index=dates) # Tạo Series với index là dải ngày\n",
    "ts"
   ]
  },
  {
   "cell_type": "code",
   "execution_count": null,
   "id": "8b844bde",
   "metadata": {},
   "outputs": [
    {
     "name": "stdout",
     "output_type": "stream",
     "text": [
      "None\n"
     ]
    }
   ],
   "source": [
    "print(ts.index.tz) # Hiển thị thông tin về múi giờ của index (None nếu chưa được thiết lập)"
   ]
  },
  {
   "cell_type": "code",
   "execution_count": 50,
   "id": "c4d1c28d",
   "metadata": {},
   "outputs": [
    {
     "data": {
      "text/plain": [
       "DatetimeIndex(['2012-03-09 09:30:00+00:00', '2012-03-10 09:30:00+00:00',\n",
       "               '2012-03-11 09:30:00+00:00', '2012-03-12 09:30:00+00:00',\n",
       "               '2012-03-13 09:30:00+00:00', '2012-03-14 09:30:00+00:00',\n",
       "               '2012-03-15 09:30:00+00:00', '2012-03-16 09:30:00+00:00',\n",
       "               '2012-03-17 09:30:00+00:00', '2012-03-18 09:30:00+00:00'],\n",
       "              dtype='datetime64[ns, UTC]', freq='D')"
      ]
     },
     "execution_count": 50,
     "metadata": {},
     "output_type": "execute_result"
    }
   ],
   "source": [
    "pd.date_range(\"2012-03-09 09:30\", periods=10, tz=\"UTC\") # Tạo dải ngày với múi giờ UTC"
   ]
  },
  {
   "cell_type": "code",
   "execution_count": 51,
   "id": "6efe71f1",
   "metadata": {},
   "outputs": [
    {
     "data": {
      "text/plain": [
       "DatetimeIndex(['2012-03-09 09:30:00+00:00', '2012-03-10 09:30:00+00:00',\n",
       "               '2012-03-11 09:30:00+00:00', '2012-03-12 09:30:00+00:00',\n",
       "               '2012-03-13 09:30:00+00:00', '2012-03-14 09:30:00+00:00'],\n",
       "              dtype='datetime64[ns, UTC]', freq='D')"
      ]
     },
     "execution_count": 51,
     "metadata": {},
     "output_type": "execute_result"
    }
   ],
   "source": [
    "ts\n",
    "ts_utc = ts.tz_localize(\"UTC\") # Thiết lập múi giờ UTC cho Series\n",
    "# tz_localize() không thay đổi giá trị thời gian, chỉ thêm thông tin múi giờ\n",
    "ts_utc\n",
    "ts_utc.index"
   ]
  },
  {
   "cell_type": "code",
   "execution_count": 52,
   "id": "6ec2f12a",
   "metadata": {},
   "outputs": [
    {
     "data": {
      "text/plain": [
       "2012-03-09 04:30:00-05:00   -0.797246\n",
       "2012-03-10 04:30:00-05:00    0.472879\n",
       "2012-03-11 05:30:00-04:00    0.522356\n",
       "2012-03-12 05:30:00-04:00   -0.546348\n",
       "2012-03-13 05:30:00-04:00   -0.733537\n",
       "2012-03-14 05:30:00-04:00    1.302736\n",
       "Freq: D, dtype: float64"
      ]
     },
     "execution_count": 52,
     "metadata": {},
     "output_type": "execute_result"
    }
   ],
   "source": [
    "ts_utc.tz_convert(\"America/New_York\") # Chuyển đổi sang múi giờ New York\n",
    "# tz_convert() chuyển đổi giá trị thời gian sang múi giờ khác"
   ]
  },
  {
   "cell_type": "code",
   "execution_count": 53,
   "id": "58318206",
   "metadata": {},
   "outputs": [
    {
     "data": {
      "text/plain": [
       "2012-03-09 15:30:00+01:00   -0.797246\n",
       "2012-03-10 15:30:00+01:00    0.472879\n",
       "2012-03-11 14:30:00+01:00    0.522356\n",
       "2012-03-12 14:30:00+01:00   -0.546348\n",
       "2012-03-13 14:30:00+01:00   -0.733537\n",
       "2012-03-14 14:30:00+01:00    1.302736\n",
       "dtype: float64"
      ]
     },
     "execution_count": 53,
     "metadata": {},
     "output_type": "execute_result"
    }
   ],
   "source": [
    "ts_eastern = ts.tz_localize(\"America/New_York\") # Thiết lập múi giờ New York cho Series\n",
    "ts_eastern.tz_convert(\"UTC\") # Chuyển đổi sang múi giờ UTC\n",
    "ts_eastern.tz_convert(\"Europe/Berlin\") # Chuyển đổi sang múi giờ Berlin "
   ]
  },
  {
   "cell_type": "code",
   "execution_count": 54,
   "id": "15ef1ae5",
   "metadata": {},
   "outputs": [
    {
     "data": {
      "text/plain": [
       "DatetimeIndex(['2012-03-09 09:30:00+08:00', '2012-03-10 09:30:00+08:00',\n",
       "               '2012-03-11 09:30:00+08:00', '2012-03-12 09:30:00+08:00',\n",
       "               '2012-03-13 09:30:00+08:00', '2012-03-14 09:30:00+08:00'],\n",
       "              dtype='datetime64[ns, Asia/Shanghai]', freq=None)"
      ]
     },
     "execution_count": 54,
     "metadata": {},
     "output_type": "execute_result"
    }
   ],
   "source": [
    "ts.index.tz_localize(\"Asia/Shanghai\") # Thiết lập múi giờ Thượng Hải cho index ban đầu (không có múi giờ)"
   ]
  },
  {
   "cell_type": "code",
   "execution_count": 55,
   "id": "894a3b68",
   "metadata": {},
   "outputs": [
    {
     "data": {
      "text/plain": [
       "Timestamp('2011-03-11 23:00:00-0500', tz='America/New_York')"
      ]
     },
     "execution_count": 55,
     "metadata": {},
     "output_type": "execute_result"
    }
   ],
   "source": [
    "stamp = pd.Timestamp(\"2011-03-12 04:00\") # Tạo đối tượng Timestamp\n",
    "stamp_utc = stamp.tz_localize(\"utc\") # Thiết lập múi giờ UTC cho Timestamp\n",
    "stamp_utc.tz_convert(\"America/New_York\") # Chuyển đổi sang múi giờ New York"
   ]
  },
  {
   "cell_type": "code",
   "execution_count": 56,
   "id": "5455f336",
   "metadata": {},
   "outputs": [
    {
     "data": {
      "text/plain": [
       "Timestamp('2011-03-12 04:00:00+0300', tz='Europe/Moscow')"
      ]
     },
     "execution_count": 56,
     "metadata": {},
     "output_type": "execute_result"
    }
   ],
   "source": [
    "stamp_moscow = pd.Timestamp(\"2011-03-12 04:00\", tz=\"Europe/Moscow\") # Tạo đối tượng Timestamp với múi giờ Moscow\n",
    "stamp_moscow"
   ]
  },
  {
   "cell_type": "code",
   "execution_count": 57,
   "id": "e9d876b3",
   "metadata": {},
   "outputs": [
    {
     "data": {
      "text/plain": [
       "1299902400000000000"
      ]
     },
     "execution_count": 57,
     "metadata": {},
     "output_type": "execute_result"
    }
   ],
   "source": [
    "stamp_utc.value # Số nanosecond kể từ thời điểm 1970-01-01 00:00:00 UTC\n",
    "stamp_utc.tz_convert(\"America/New_York\").value # Chuyển đổi sang múi giờ New York"
   ]
  },
  {
   "cell_type": "code",
   "execution_count": 58,
   "id": "f43f6536",
   "metadata": {},
   "outputs": [
    {
     "data": {
      "text/plain": [
       "Timestamp('2012-03-11 03:30:00-0400', tz='US/Eastern')"
      ]
     },
     "execution_count": 58,
     "metadata": {},
     "output_type": "execute_result"
    }
   ],
   "source": [
    "stamp = pd.Timestamp(\"2012-03-11 01:30\", tz=\"US/Eastern\") # Tạo đối tượng Timestamp với múi giờ US/Eastern\n",
    "stamp\n",
    "stamp + Hour() # Cộng thêm một giờ, chú ý đến việc chuyển đổi giờ mùa hè"
   ]
  },
  {
   "cell_type": "code",
   "execution_count": null,
   "id": "0badccc3",
   "metadata": {},
   "outputs": [],
   "source": [
    "stamp = pd.Timestamp(\"2012-11-04 00:30\", tz=\"US/Eastern\") # Tạo đối tượng Timestamp với múi giờ US/Eastern vào ngày chuyển đổi giờ mùa hè\n",
    "stamp\n",
    "stamp + 2 * Hour() # Cộng thêm 2 giờ, chú ý đến việc chuyển đổi giờ mùa hè"
   ]
  },
  {
   "cell_type": "code",
   "execution_count": 59,
   "id": "3f857aca",
   "metadata": {},
   "outputs": [
    {
     "data": {
      "text/plain": [
       "DatetimeIndex(['2012-03-07 09:30:00+00:00', '2012-03-08 09:30:00+00:00',\n",
       "               '2012-03-09 09:30:00+00:00', '2012-03-12 09:30:00+00:00',\n",
       "               '2012-03-13 09:30:00+00:00', '2012-03-14 09:30:00+00:00',\n",
       "               '2012-03-15 09:30:00+00:00'],\n",
       "              dtype='datetime64[ns, UTC]', freq=None)"
      ]
     },
     "execution_count": 59,
     "metadata": {},
     "output_type": "execute_result"
    }
   ],
   "source": [
    "dates = pd.date_range(\"2012-03-07 09:30\", periods=10, freq=\"B\") # Tạo dải ngày với tần suất ngày làm việc (Business Day)\n",
    "ts = pd.Series(np.random.standard_normal(len(dates)), index=dates) # Tạo Series với index là dải ngày làm việc\n",
    "ts\n",
    "ts1 = ts[:7].tz_localize(\"Europe/London\") # Thiết lập múi giờ London cho phần đầu của Series\n",
    "ts2 = ts1[2:].tz_convert(\"Europe/Moscow\") # Chuyển đổi phần sau của Series sang múi giờ Moscow\n",
    "result = ts1 + ts2 \n",
    "result.index"
   ]
  },
  {
   "cell_type": "markdown",
   "id": "f51bbde9",
   "metadata": {},
   "source": [
    "- pytz để làm việc với timezone\n",
    "- tz_localize(): gán timezone cho naive datetime\n",
    "- tz_convert(): chuyển đổi giữa các timezone\n",
    "- Quan trọng cho dữ liệu global"
   ]
  },
  {
   "cell_type": "markdown",
   "id": "579ee545",
   "metadata": {},
   "source": [
    "### 19. Period objects"
   ]
  },
  {
   "cell_type": "code",
   "execution_count": 60,
   "id": "40c6858e",
   "metadata": {},
   "outputs": [
    {
     "name": "stderr",
     "output_type": "stream",
     "text": [
      "C:\\Users\\khoat\\AppData\\Local\\Temp\\ipykernel_9808\\4090015632.py:1: FutureWarning: 'A-DEC' is deprecated and will be removed in a future version, please use 'Y-DEC' instead.\n",
      "  p = pd.Period(\"2011\", freq=\"A-DEC\") # Tạo đối tượng Period đại diện cho năm 2011 với tần suất kết thúc vào tháng 12\n"
     ]
    },
    {
     "data": {
      "text/plain": [
       "Period('2011', 'Y-DEC')"
      ]
     },
     "execution_count": 60,
     "metadata": {},
     "output_type": "execute_result"
    }
   ],
   "source": [
    "p = pd.Period(\"2011\", freq=\"A-DEC\") # Tạo đối tượng Period đại diện cho năm 2011 với tần suất kết thúc vào tháng 12\n",
    "p"
   ]
  },
  {
   "cell_type": "markdown",
   "id": "00adbf5c",
   "metadata": {},
   "source": [
    "- Period: đại diện cho khoảng thời gian (không phải thời điểm)\n",
    "- PeriodIndex: tương tự DatetimeIndex nhưng cho periods\n",
    "- Hữu ích cho dữ liệu quarterly, yearly"
   ]
  },
  {
   "cell_type": "code",
   "execution_count": 61,
   "id": "187c7f8d",
   "metadata": {},
   "outputs": [
    {
     "data": {
      "text/plain": [
       "Period('2009', 'Y-DEC')"
      ]
     },
     "execution_count": 61,
     "metadata": {},
     "output_type": "execute_result"
    }
   ],
   "source": [
    "p + 5\n",
    "p - 2"
   ]
  },
  {
   "cell_type": "code",
   "execution_count": 63,
   "id": "47b94b67",
   "metadata": {},
   "outputs": [
    {
     "name": "stderr",
     "output_type": "stream",
     "text": [
      "C:\\Users\\khoat\\AppData\\Local\\Temp\\ipykernel_9808\\2501935153.py:1: FutureWarning: 'A-DEC' is deprecated and will be removed in a future version, please use 'Y-DEC' instead.\n",
      "  pd.Period(\"2014\", freq=\"A-DEC\") - p\n"
     ]
    },
    {
     "data": {
      "text/plain": [
       "<3 * YearEnds: month=12>"
      ]
     },
     "execution_count": 63,
     "metadata": {},
     "output_type": "execute_result"
    }
   ],
   "source": [
    "pd.Period(\"2014\", freq=\"A-DEC\") - p "
   ]
  },
  {
   "cell_type": "code",
   "execution_count": 64,
   "id": "368df728",
   "metadata": {},
   "outputs": [
    {
     "data": {
      "text/plain": [
       "PeriodIndex(['2000-01', '2000-02', '2000-03', '2000-04', '2000-05', '2000-06'], dtype='period[M]')"
      ]
     },
     "execution_count": 64,
     "metadata": {},
     "output_type": "execute_result"
    }
   ],
   "source": [
    "periods = pd.period_range(\"2000-01-01\", \"2000-06-30\", freq=\"M\") # PeriodIndex từ tháng 1/2000 đến 6/2000.\n",
    "periods"
   ]
  },
  {
   "cell_type": "code",
   "execution_count": 65,
   "id": "c6f102fb",
   "metadata": {},
   "outputs": [
    {
     "data": {
      "text/plain": [
       "2000-01   -0.172670\n",
       "2000-02    0.680215\n",
       "2000-03    1.607578\n",
       "2000-04    0.200381\n",
       "2000-05   -0.834068\n",
       "2000-06   -0.302988\n",
       "Freq: M, dtype: float64"
      ]
     },
     "execution_count": 65,
     "metadata": {},
     "output_type": "execute_result"
    }
   ],
   "source": [
    "pd.Series(np.random.standard_normal(6), index=periods) # Tạo Series với index là PeriodIndex"
   ]
  },
  {
   "cell_type": "code",
   "execution_count": 66,
   "id": "f5fc7fcf",
   "metadata": {},
   "outputs": [
    {
     "data": {
      "text/plain": [
       "PeriodIndex(['2001Q3', '2002Q2', '2003Q1'], dtype='period[Q-DEC]')"
      ]
     },
     "execution_count": 66,
     "metadata": {},
     "output_type": "execute_result"
    }
   ],
   "source": [
    "values = [\"2001Q3\", \"2002Q2\", \"2003Q1\"] # Chuỗi đại diện cho các quý\n",
    "index = pd.PeriodIndex(values, freq=\"Q-DEC\") # Tạo PeriodIndex từ chuỗi với tần suất quý kết thúc vào tháng 12\n",
    "index"
   ]
  },
  {
   "cell_type": "markdown",
   "id": "61655179",
   "metadata": {},
   "source": [
    "### 20. Period frequency conversion"
   ]
  },
  {
   "cell_type": "code",
   "execution_count": 67,
   "id": "97c4bd54",
   "metadata": {},
   "outputs": [
    {
     "name": "stderr",
     "output_type": "stream",
     "text": [
      "C:\\Users\\khoat\\AppData\\Local\\Temp\\ipykernel_9808\\1117541127.py:1: FutureWarning: 'A-DEC' is deprecated and will be removed in a future version, please use 'Y-DEC' instead.\n",
      "  p = pd.Period(\"2011\", freq=\"A-DEC\") # Tạo đối tượng Period đại diện cho năm 2011 với tần suất kết thúc vào tháng 12\n"
     ]
    },
    {
     "data": {
      "text/plain": [
       "Period('2011-12', 'M')"
      ]
     },
     "execution_count": 67,
     "metadata": {},
     "output_type": "execute_result"
    }
   ],
   "source": [
    "p = pd.Period(\"2011\", freq=\"A-DEC\") # Tạo đối tượng Period đại diện cho năm 2011 với tần suất kết thúc vào tháng 12\n",
    "p\n",
    "p.asfreq(\"M\", how=\"start\") # Chuyển annual thành monthly (đầu năm)\n",
    "p.asfreq(\"M\", how=\"end\") # Chuyển annual thành monthly (cuối năm)\n",
    "p.asfreq(\"M\") # Mặc định chuyển annual thành monthly (cuối năm)"
   ]
  },
  {
   "cell_type": "markdown",
   "id": "7d299678",
   "metadata": {},
   "source": [
    "- asfreq() chuyển đổi frequency của period\n",
    "- how=\"start\"/\"end\" quyết định logic chuyển đổi"
   ]
  },
  {
   "cell_type": "code",
   "execution_count": 68,
   "id": "c3b3638d",
   "metadata": {},
   "outputs": [
    {
     "name": "stderr",
     "output_type": "stream",
     "text": [
      "C:\\Users\\khoat\\AppData\\Local\\Temp\\ipykernel_9808\\1360820513.py:1: FutureWarning: 'A-JUN' is deprecated and will be removed in a future version, please use 'Y-JUN' instead.\n",
      "  p = pd.Period(\"2011\", freq=\"A-JUN\") # Tạo đối tượng Period đại diện cho năm 2011 với tần suất kết thúc vào tháng 6\n"
     ]
    },
    {
     "data": {
      "text/plain": [
       "Period('2011-06', 'M')"
      ]
     },
     "execution_count": 68,
     "metadata": {},
     "output_type": "execute_result"
    }
   ],
   "source": [
    "p = pd.Period(\"2011\", freq=\"A-JUN\") # Tạo đối tượng Period đại diện cho năm 2011 với tần suất kết thúc vào tháng 6\n",
    "p\n",
    "p.asfreq(\"M\", how=\"start\")\n",
    "p.asfreq(\"M\", how=\"end\")"
   ]
  },
  {
   "cell_type": "code",
   "execution_count": null,
   "id": "53f14e32",
   "metadata": {},
   "outputs": [],
   "source": [
    "p = pd.Period(\"Aug-2011\", \"M\") # Tạo đối tượng Period đại diện cho tháng 8 năm 2011 với tần suất hàng tháng\n",
    "p.asfreq(\"A-JUN\") # Chuyển monthly thành annual với tần suất kết thúc vào tháng 6"
   ]
  },
  {
   "cell_type": "code",
   "execution_count": 69,
   "id": "5af6e259",
   "metadata": {},
   "outputs": [
    {
     "name": "stderr",
     "output_type": "stream",
     "text": [
      "C:\\Users\\khoat\\AppData\\Local\\Temp\\ipykernel_9808\\3693961160.py:1: FutureWarning: 'A-DEC' is deprecated and will be removed in a future version, please use 'Y-DEC' instead.\n",
      "  periods = pd.period_range(\"2006\", \"2009\", freq=\"A-DEC\") # Tạo PeriodIndex từ năm 2006 đến 2009 với tần suất hàng năm kết thúc vào tháng 12\n"
     ]
    },
    {
     "data": {
      "text/plain": [
       "2006-01    1.663261\n",
       "2007-01   -0.996206\n",
       "2008-01    1.521760\n",
       "2009-01    0.244175\n",
       "Freq: M, dtype: float64"
      ]
     },
     "execution_count": 69,
     "metadata": {},
     "output_type": "execute_result"
    }
   ],
   "source": [
    "periods = pd.period_range(\"2006\", \"2009\", freq=\"A-DEC\") # Tạo PeriodIndex từ năm 2006 đến 2009 với tần suất hàng năm kết thúc vào tháng 12\n",
    "ts = pd.Series(np.random.standard_normal(len(periods)), index=periods) # Tạo Series với index là PeriodIndex\n",
    "ts\n",
    "ts.asfreq(\"M\", how=\"start\")"
   ]
  },
  {
   "cell_type": "code",
   "execution_count": null,
   "id": "774ea4d5",
   "metadata": {},
   "outputs": [
    {
     "name": "stderr",
     "output_type": "stream",
     "text": [
      "C:\\Users\\khoat\\AppData\\Local\\Temp\\ipykernel_9808\\2984082239.py:1: FutureWarning: PeriodDtype[B] is deprecated and will be removed in a future version. Use a DatetimeIndex with freq='B' instead\n",
      "  ts.asfreq(\"B\", how=\"end\")\n"
     ]
    },
    {
     "data": {
      "text/plain": [
       "2006-12-29    1.663261\n",
       "2007-12-31   -0.996206\n",
       "2008-12-31    1.521760\n",
       "2009-12-31    0.244175\n",
       "Freq: B, dtype: float64"
      ]
     },
     "execution_count": 70,
     "metadata": {},
     "output_type": "execute_result"
    }
   ],
   "source": [
    "ts.asfreq(\"B\", how=\"end\") # Chuyển annual thành business day (cuối năm)"
   ]
  },
  {
   "cell_type": "code",
   "execution_count": 71,
   "id": "94889f2a",
   "metadata": {},
   "outputs": [
    {
     "data": {
      "text/plain": [
       "Period('2012Q4', 'Q-JAN')"
      ]
     },
     "execution_count": 71,
     "metadata": {},
     "output_type": "execute_result"
    }
   ],
   "source": [
    "p = pd.Period(\"2012Q4\", freq=\"Q-JAN\") # Tạo đối tượng Period đại diện cho quý 4 năm 2012 với tần suất kết thúc vào tháng 1\n",
    "p"
   ]
  },
  {
   "cell_type": "code",
   "execution_count": null,
   "id": "52000812",
   "metadata": {},
   "outputs": [
    {
     "data": {
      "text/plain": [
       "Period('2012-01-31', 'D')"
      ]
     },
     "execution_count": 72,
     "metadata": {},
     "output_type": "execute_result"
    }
   ],
   "source": [
    "p.asfreq(\"D\", how=\"start\") # Chuyển annual thành daily (bắt đầu năm)\n",
    "p.asfreq(\"D\", how=\"end\") # Chuyển annual thành daily (cuối năm) "
   ]
  },
  {
   "cell_type": "markdown",
   "id": "1463ecef",
   "metadata": {},
   "source": [
    "### 21. Period và Timestamp conversion"
   ]
  },
  {
   "cell_type": "code",
   "execution_count": null,
   "id": "1ac36cbb",
   "metadata": {},
   "outputs": [],
   "source": [
    "p4pm = (p.asfreq(\"B\", how=\"end\") - 1).asfreq(\"T\", how=\"start\") + 16 * 60 # Chuyển quý 4 năm 2012 thành ngày làm việc cuối cùng của quý, sau đó chuyển thành phút và cộng thêm 16 giờ (4 PM)\n",
    "p4pm\n",
    "p4pm.to_timestamp() # Chuyển Period thành Timestamp"
   ]
  },
  {
   "cell_type": "code",
   "execution_count": 73,
   "id": "090784e1",
   "metadata": {},
   "outputs": [
    {
     "name": "stderr",
     "output_type": "stream",
     "text": [
      "C:\\Users\\khoat\\AppData\\Local\\Temp\\ipykernel_9808\\2319307031.py:4: FutureWarning: PeriodDtype[B] is deprecated and will be removed in a future version. Use a DatetimeIndex with freq='B' instead\n",
      "  new_periods = (periods.asfreq(\"B\", \"end\") - 1).asfreq(\"H\", \"start\") + 16 # Chuyển mỗi quý thành ngày làm việc cuối cùng của quý, sau đó chuyển thành giờ và cộng thêm 16 giờ\n",
      "C:\\Users\\khoat\\AppData\\Local\\Temp\\ipykernel_9808\\2319307031.py:4: FutureWarning: 'H' is deprecated and will be removed in a future version, please use 'h' instead.\n",
      "  new_periods = (periods.asfreq(\"B\", \"end\") - 1).asfreq(\"H\", \"start\") + 16 # Chuyển mỗi quý thành ngày làm việc cuối cùng của quý, sau đó chuyển thành giờ và cộng thêm 16 giờ\n"
     ]
    },
    {
     "data": {
      "text/plain": [
       "2010-10-28 16:00:00    0\n",
       "2011-01-28 16:00:00    1\n",
       "2011-04-28 16:00:00    2\n",
       "2011-07-28 16:00:00    3\n",
       "2011-10-28 16:00:00    4\n",
       "2012-01-30 16:00:00    5\n",
       "dtype: int64"
      ]
     },
     "execution_count": 73,
     "metadata": {},
     "output_type": "execute_result"
    }
   ],
   "source": [
    "periods = pd.period_range(\"2011Q3\", \"2012Q4\", freq=\"Q-JAN\") # Tạo PeriodIndex từ quý 3 năm 2011 đến quý 4 năm 2012 với tần suất quý kết thúc vào tháng 1\n",
    "ts = pd.Series(np.arange(len(periods)), index=periods) # Tạo Series với index là PeriodIndex\n",
    "ts\n",
    "new_periods = (periods.asfreq(\"B\", \"end\") - 1).asfreq(\"H\", \"start\") + 16 # Chuyển mỗi quý thành ngày làm việc cuối cùng của quý, sau đó chuyển thành giờ và cộng thêm 16 giờ\n",
    "ts.index = new_periods.to_timestamp() # Chuyển index thành Timestamps\n",
    "ts"
   ]
  },
  {
   "cell_type": "code",
   "execution_count": 74,
   "id": "b6cca758",
   "metadata": {},
   "outputs": [
    {
     "name": "stderr",
     "output_type": "stream",
     "text": [
      "C:\\Users\\khoat\\AppData\\Local\\Temp\\ipykernel_9808\\374715908.py:1: FutureWarning: 'M' is deprecated and will be removed in a future version, please use 'ME' instead.\n",
      "  dates = pd.date_range(\"2000-01-01\", periods=3, freq=\"M\") # Tạo dải ngày với tần suất hàng tháng\n"
     ]
    },
    {
     "data": {
      "text/plain": [
       "2000-01    0.423331\n",
       "2000-02   -0.654040\n",
       "2000-03    2.089154\n",
       "Freq: M, dtype: float64"
      ]
     },
     "execution_count": 74,
     "metadata": {},
     "output_type": "execute_result"
    }
   ],
   "source": [
    "dates = pd.date_range(\"2000-01-01\", periods=3, freq=\"M\") # Tạo dải ngày với tần suất hàng tháng\n",
    "ts = pd.Series(np.random.standard_normal(3), index=dates) # Tạo Series với index là dải ngày\n",
    "ts\n",
    "pts = ts.to_period() # Chuyển Series thành Period Series\n",
    "pts"
   ]
  },
  {
   "cell_type": "code",
   "execution_count": 75,
   "id": "db134e20",
   "metadata": {},
   "outputs": [
    {
     "data": {
      "text/plain": [
       "2000-01   -0.060220\n",
       "2000-01   -0.167933\n",
       "2000-01    0.631634\n",
       "2000-02   -1.594313\n",
       "2000-02   -1.519937\n",
       "2000-02    1.108752\n",
       "Freq: M, dtype: float64"
      ]
     },
     "execution_count": 75,
     "metadata": {},
     "output_type": "execute_result"
    }
   ],
   "source": [
    "dates = pd.date_range(\"2000-01-29\", periods=6) # Tạo dải ngày bắt đầu từ 2000-01-29 với 6 phần tử\n",
    "ts2 = pd.Series(np.random.standard_normal(6), index=dates) # Tạo Series với index là dải ngày\n",
    "ts2\n",
    "ts2.to_period(\"M\")"
   ]
  },
  {
   "cell_type": "code",
   "execution_count": 76,
   "id": "bb0c7de4",
   "metadata": {},
   "outputs": [
    {
     "data": {
      "text/plain": [
       "2000-01-29 23:59:59.999999999   -0.060220\n",
       "2000-01-30 23:59:59.999999999   -0.167933\n",
       "2000-01-31 23:59:59.999999999    0.631634\n",
       "2000-02-01 23:59:59.999999999   -1.594313\n",
       "2000-02-02 23:59:59.999999999   -1.519937\n",
       "2000-02-03 23:59:59.999999999    1.108752\n",
       "Freq: D, dtype: float64"
      ]
     },
     "execution_count": 76,
     "metadata": {},
     "output_type": "execute_result"
    }
   ],
   "source": [
    "pts = ts2.to_period() # Chuyển Series thành Period Series\n",
    "pts\n",
    "pts.to_timestamp(how=\"end\")"
   ]
  },
  {
   "cell_type": "markdown",
   "id": "304e57a4",
   "metadata": {},
   "source": [
    "### 22. Quarterly data"
   ]
  },
  {
   "cell_type": "code",
   "execution_count": 77,
   "id": "d56d1b3a",
   "metadata": {},
   "outputs": [
    {
     "data": {
      "text/plain": [
       "0      1\n",
       "1      2\n",
       "2      3\n",
       "3      4\n",
       "4      1\n",
       "      ..\n",
       "198    3\n",
       "199    4\n",
       "200    1\n",
       "201    2\n",
       "202    3\n",
       "Name: quarter, Length: 203, dtype: int64"
      ]
     },
     "execution_count": 77,
     "metadata": {},
     "output_type": "execute_result"
    }
   ],
   "source": [
    "data = pd.read_csv(\"examples/macrodata.csv\")\n",
    "data.head(5)\n",
    "data[\"year\"]\n",
    "data[\"quarter\"]"
   ]
  },
  {
   "cell_type": "code",
   "execution_count": 78,
   "id": "b638a13c",
   "metadata": {},
   "outputs": [
    {
     "name": "stderr",
     "output_type": "stream",
     "text": [
      "C:\\Users\\khoat\\AppData\\Local\\Temp\\ipykernel_9808\\1339030684.py:1: FutureWarning: Constructing PeriodIndex from fields is deprecated. Use PeriodIndex.from_fields instead.\n",
      "  index = pd.PeriodIndex(year=data[\"year\"], quarter=data[\"quarter\"],\n"
     ]
    },
    {
     "data": {
      "text/plain": [
       "1959Q1    0.00\n",
       "1959Q2    2.34\n",
       "1959Q3    2.74\n",
       "1959Q4    0.27\n",
       "1960Q1    2.31\n",
       "          ... \n",
       "2008Q3   -3.16\n",
       "2008Q4   -8.79\n",
       "2009Q1    0.94\n",
       "2009Q2    3.37\n",
       "2009Q3    3.56\n",
       "Freq: Q-DEC, Name: infl, Length: 203, dtype: float64"
      ]
     },
     "execution_count": 78,
     "metadata": {},
     "output_type": "execute_result"
    }
   ],
   "source": [
    "index = pd.PeriodIndex(year=data[\"year\"], quarter=data[\"quarter\"],\n",
    "                       freq=\"Q-DEC\") # Tạo PeriodIndex từ cột year và quarter với tần suất quý kết thúc vào tháng 12\n",
    "index\n",
    "data.index = index\n",
    "data[\"infl\"] # Thêm cột \"infl\" vào DataFrame"
   ]
  },
  {
   "cell_type": "code",
   "execution_count": 81,
   "id": "e2630897",
   "metadata": {},
   "outputs": [
    {
     "name": "stderr",
     "output_type": "stream",
     "text": [
      "C:\\Users\\khoat\\AppData\\Local\\Temp\\ipykernel_9808\\2604284034.py:4: FutureWarning: 'M' is deprecated and will be removed in a future version, please use 'ME' instead.\n",
      "  ts.resample(\"M\").mean() # Resample theo tần suất hàng tháng và tính trung bình mỗi nhóm\n",
      "C:\\Users\\khoat\\AppData\\Local\\Temp\\ipykernel_9808\\2604284034.py:5: FutureWarning: The 'kind' keyword in Series.resample is deprecated and will be removed in a future version. Explicitly cast the index to the desired type instead\n",
      "  ts.resample(\"M\", kind=\"period\").mean() # Resample theo tần suất hàng tháng và chuyển đổi index thành PeriodIndex, sau đó tính trung bình mỗi nhóm\n",
      "C:\\Users\\khoat\\AppData\\Local\\Temp\\ipykernel_9808\\2604284034.py:5: FutureWarning: 'M' is deprecated and will be removed in a future version, please use 'ME' instead.\n",
      "  ts.resample(\"M\", kind=\"period\").mean() # Resample theo tần suất hàng tháng và chuyển đổi index thành PeriodIndex, sau đó tính trung bình mỗi nhóm\n"
     ]
    },
    {
     "data": {
      "text/plain": [
       "2000-01    0.114463\n",
       "2000-02   -0.126161\n",
       "2000-03   -0.030804\n",
       "2000-04    0.168500\n",
       "Freq: M, dtype: float64"
      ]
     },
     "execution_count": 81,
     "metadata": {},
     "output_type": "execute_result"
    }
   ],
   "source": [
    "dates = pd.date_range(\"2000-01-01\", periods=100) # Tạo dải ngày với 100 phần tử\n",
    "ts = pd.Series(np.random.standard_normal(len(dates)), index=dates) # Tạo Series với index là dải ngày\n",
    "ts\n",
    "ts.resample(\"M\").mean() # Resample theo tần suất hàng tháng và tính trung bình mỗi nhóm\n",
    "ts.resample(\"M\", kind=\"period\").mean() # Resample theo tần suất hàng tháng và chuyển đổi index thành PeriodIndex, sau đó tính trung bình mỗi nhóm"
   ]
  },
  {
   "cell_type": "code",
   "execution_count": 82,
   "id": "5176ad7d",
   "metadata": {},
   "outputs": [
    {
     "name": "stderr",
     "output_type": "stream",
     "text": [
      "C:\\Users\\khoat\\AppData\\Local\\Temp\\ipykernel_9808\\49400891.py:1: FutureWarning: 'T' is deprecated and will be removed in a future version, please use 'min' instead.\n",
      "  dates = pd.date_range(\"2000-01-01\", periods=12, freq=\"T\") # Tạo dải ngày với tần suất hàng phút\n"
     ]
    },
    {
     "data": {
      "text/plain": [
       "2000-01-01 00:00:00     0\n",
       "2000-01-01 00:01:00     1\n",
       "2000-01-01 00:02:00     2\n",
       "2000-01-01 00:03:00     3\n",
       "2000-01-01 00:04:00     4\n",
       "2000-01-01 00:05:00     5\n",
       "2000-01-01 00:06:00     6\n",
       "2000-01-01 00:07:00     7\n",
       "2000-01-01 00:08:00     8\n",
       "2000-01-01 00:09:00     9\n",
       "2000-01-01 00:10:00    10\n",
       "2000-01-01 00:11:00    11\n",
       "Freq: min, dtype: int64"
      ]
     },
     "execution_count": 82,
     "metadata": {},
     "output_type": "execute_result"
    }
   ],
   "source": [
    "dates = pd.date_range(\"2000-01-01\", periods=12, freq=\"T\") # Tạo dải ngày với tần suất hàng phút\n",
    "ts = pd.Series(np.arange(len(dates)), index=dates) # Tạo Series với index là dải ngày\n",
    "ts"
   ]
  },
  {
   "cell_type": "markdown",
   "id": "0e1c7a54",
   "metadata": {},
   "source": [
    "### 23. Resample 5 phút với các option"
   ]
  },
  {
   "cell_type": "code",
   "execution_count": 83,
   "id": "806c71b1",
   "metadata": {},
   "outputs": [
    {
     "data": {
      "text/plain": [
       "2000-01-01 00:00:00    10\n",
       "2000-01-01 00:05:00    35\n",
       "2000-01-01 00:10:00    21\n",
       "Freq: 5min, dtype: int64"
      ]
     },
     "execution_count": 83,
     "metadata": {},
     "output_type": "execute_result"
    }
   ],
   "source": [
    "ts.resample(\"5min\").sum() # Resample theo tần suất 5 phút và tính tổng mỗi nhóm"
   ]
  },
  {
   "cell_type": "code",
   "execution_count": 84,
   "id": "ff1c5a74",
   "metadata": {},
   "outputs": [
    {
     "data": {
      "text/plain": [
       "1999-12-31 23:55:00     0\n",
       "2000-01-01 00:00:00    15\n",
       "2000-01-01 00:05:00    40\n",
       "2000-01-01 00:10:00    11\n",
       "Freq: 5min, dtype: int64"
      ]
     },
     "execution_count": 84,
     "metadata": {},
     "output_type": "execute_result"
    }
   ],
   "source": [
    "ts.resample(\"5min\", closed=\"right\").sum() # Resample theo tần suất 5 phút, đóng cửa bên phải và tính tổng mỗi nhóm"
   ]
  },
  {
   "cell_type": "code",
   "execution_count": 85,
   "id": "5ea4c951",
   "metadata": {},
   "outputs": [
    {
     "data": {
      "text/plain": [
       "2000-01-01 00:00:00     0\n",
       "2000-01-01 00:05:00    15\n",
       "2000-01-01 00:10:00    40\n",
       "2000-01-01 00:15:00    11\n",
       "Freq: 5min, dtype: int64"
      ]
     },
     "execution_count": 85,
     "metadata": {},
     "output_type": "execute_result"
    }
   ],
   "source": [
    "ts.resample(\"5min\", closed=\"right\", label=\"right\").sum() # Resample theo tần suất 5 phút, đóng cửa bên phải, gán nhãn bên phải và tính tổng mỗi nhóm"
   ]
  },
  {
   "cell_type": "markdown",
   "id": "e435c006",
   "metadata": {},
   "source": [
    "### 24. Offset label"
   ]
  },
  {
   "cell_type": "code",
   "execution_count": null,
   "id": "e9999a4a",
   "metadata": {},
   "outputs": [
    {
     "data": {
      "text/plain": [
       "1999-12-31 23:59:59     0\n",
       "2000-01-01 00:04:59    15\n",
       "2000-01-01 00:09:59    40\n",
       "2000-01-01 00:14:59    11\n",
       "Freq: 5min, dtype: int64"
      ]
     },
     "execution_count": 86,
     "metadata": {},
     "output_type": "execute_result"
    }
   ],
   "source": [
    "from pandas.tseries.frequencies import to_offset\n",
    "result = ts.resample(\"5min\", closed=\"right\", label=\"right\").sum() # Resample theo tần suất 5 phút, đóng cửa bên phải, gán nhãn bên phải và tính tổng mỗi nhóm\n",
    "result.index = result.index + to_offset(\"-1s\") # Dịch chuyển nhãn index lùi lại 1 giây\n",
    "result"
   ]
  },
  {
   "cell_type": "code",
   "execution_count": null,
   "id": "5eef46fe",
   "metadata": {},
   "outputs": [
    {
     "data": {
      "text/html": [
       "<div>\n",
       "<style scoped>\n",
       "    .dataframe tbody tr th:only-of-type {\n",
       "        vertical-align: middle;\n",
       "    }\n",
       "\n",
       "    .dataframe tbody tr th {\n",
       "        vertical-align: top;\n",
       "    }\n",
       "\n",
       "    .dataframe thead th {\n",
       "        text-align: right;\n",
       "    }\n",
       "</style>\n",
       "<table border=\"1\" class=\"dataframe\">\n",
       "  <thead>\n",
       "    <tr style=\"text-align: right;\">\n",
       "      <th></th>\n",
       "      <th>open</th>\n",
       "      <th>high</th>\n",
       "      <th>low</th>\n",
       "      <th>close</th>\n",
       "    </tr>\n",
       "  </thead>\n",
       "  <tbody>\n",
       "    <tr>\n",
       "      <th>2000-01-01 00:00:00</th>\n",
       "      <td>4</td>\n",
       "      <td>9</td>\n",
       "      <td>3</td>\n",
       "      <td>6</td>\n",
       "    </tr>\n",
       "    <tr>\n",
       "      <th>2000-01-01 00:05:00</th>\n",
       "      <td>7</td>\n",
       "      <td>10</td>\n",
       "      <td>1</td>\n",
       "      <td>8</td>\n",
       "    </tr>\n",
       "    <tr>\n",
       "      <th>2000-01-01 00:10:00</th>\n",
       "      <td>0</td>\n",
       "      <td>11</td>\n",
       "      <td>0</td>\n",
       "      <td>11</td>\n",
       "    </tr>\n",
       "  </tbody>\n",
       "</table>\n",
       "</div>"
      ],
      "text/plain": [
       "                     open  high  low  close\n",
       "2000-01-01 00:00:00     4     9    3      6\n",
       "2000-01-01 00:05:00     7    10    1      8\n",
       "2000-01-01 00:10:00     0    11    0     11"
      ]
     },
     "execution_count": 87,
     "metadata": {},
     "output_type": "execute_result"
    }
   ],
   "source": [
    "ts = pd.Series(np.random.permutation(np.arange(len(dates))), index=dates) # Tạo Series với dữ liệu ngẫu nhiên và index là dải ngày\n",
    "ts.resample(\"5min\").ohlc() # Resample theo tần suất 5 phút và tính open, high, low, close cho mỗi nhóm\n",
    "# .ohlc() tạo DataFrame với các cột open, high, low, close"
   ]
  },
  {
   "cell_type": "markdown",
   "id": "a797ed29",
   "metadata": {},
   "source": [
    "### 25. Upsampling và downsampling"
   ]
  },
  {
   "cell_type": "code",
   "execution_count": 88,
   "id": "766fe225",
   "metadata": {},
   "outputs": [
    {
     "data": {
      "text/html": [
       "<div>\n",
       "<style scoped>\n",
       "    .dataframe tbody tr th:only-of-type {\n",
       "        vertical-align: middle;\n",
       "    }\n",
       "\n",
       "    .dataframe tbody tr th {\n",
       "        vertical-align: top;\n",
       "    }\n",
       "\n",
       "    .dataframe thead th {\n",
       "        text-align: right;\n",
       "    }\n",
       "</style>\n",
       "<table border=\"1\" class=\"dataframe\">\n",
       "  <thead>\n",
       "    <tr style=\"text-align: right;\">\n",
       "      <th></th>\n",
       "      <th>Colorado</th>\n",
       "      <th>Texas</th>\n",
       "      <th>New York</th>\n",
       "      <th>Ohio</th>\n",
       "    </tr>\n",
       "  </thead>\n",
       "  <tbody>\n",
       "    <tr>\n",
       "      <th>2000-01-05</th>\n",
       "      <td>-0.309315</td>\n",
       "      <td>-0.046347</td>\n",
       "      <td>-0.960136</td>\n",
       "      <td>-1.699319</td>\n",
       "    </tr>\n",
       "    <tr>\n",
       "      <th>2000-01-12</th>\n",
       "      <td>-0.862164</td>\n",
       "      <td>0.708329</td>\n",
       "      <td>-2.331460</td>\n",
       "      <td>0.423585</td>\n",
       "    </tr>\n",
       "  </tbody>\n",
       "</table>\n",
       "</div>"
      ],
      "text/plain": [
       "            Colorado     Texas  New York      Ohio\n",
       "2000-01-05 -0.309315 -0.046347 -0.960136 -1.699319\n",
       "2000-01-12 -0.862164  0.708329 -2.331460  0.423585"
      ]
     },
     "execution_count": 88,
     "metadata": {},
     "output_type": "execute_result"
    }
   ],
   "source": [
    "frame = pd.DataFrame(np.random.standard_normal((2, 4)),\n",
    "                     index=pd.date_range(\"2000-01-01\", periods=2,\n",
    "                                         freq=\"W-WED\"),\n",
    "                     columns=[\"Colorado\", \"Texas\", \"New York\", \"Ohio\"]) # Tạo DataFrame với dữ liệu ngẫu nhiên và index là dải ngày hàng tuần vào thứ Tư\n",
    "frame"
   ]
  },
  {
   "cell_type": "code",
   "execution_count": 89,
   "id": "377c1fca",
   "metadata": {},
   "outputs": [
    {
     "data": {
      "text/html": [
       "<div>\n",
       "<style scoped>\n",
       "    .dataframe tbody tr th:only-of-type {\n",
       "        vertical-align: middle;\n",
       "    }\n",
       "\n",
       "    .dataframe tbody tr th {\n",
       "        vertical-align: top;\n",
       "    }\n",
       "\n",
       "    .dataframe thead th {\n",
       "        text-align: right;\n",
       "    }\n",
       "</style>\n",
       "<table border=\"1\" class=\"dataframe\">\n",
       "  <thead>\n",
       "    <tr style=\"text-align: right;\">\n",
       "      <th></th>\n",
       "      <th>Colorado</th>\n",
       "      <th>Texas</th>\n",
       "      <th>New York</th>\n",
       "      <th>Ohio</th>\n",
       "    </tr>\n",
       "  </thead>\n",
       "  <tbody>\n",
       "    <tr>\n",
       "      <th>2000-01-05</th>\n",
       "      <td>-0.309315</td>\n",
       "      <td>-0.046347</td>\n",
       "      <td>-0.960136</td>\n",
       "      <td>-1.699319</td>\n",
       "    </tr>\n",
       "    <tr>\n",
       "      <th>2000-01-06</th>\n",
       "      <td>NaN</td>\n",
       "      <td>NaN</td>\n",
       "      <td>NaN</td>\n",
       "      <td>NaN</td>\n",
       "    </tr>\n",
       "    <tr>\n",
       "      <th>2000-01-07</th>\n",
       "      <td>NaN</td>\n",
       "      <td>NaN</td>\n",
       "      <td>NaN</td>\n",
       "      <td>NaN</td>\n",
       "    </tr>\n",
       "    <tr>\n",
       "      <th>2000-01-08</th>\n",
       "      <td>NaN</td>\n",
       "      <td>NaN</td>\n",
       "      <td>NaN</td>\n",
       "      <td>NaN</td>\n",
       "    </tr>\n",
       "    <tr>\n",
       "      <th>2000-01-09</th>\n",
       "      <td>NaN</td>\n",
       "      <td>NaN</td>\n",
       "      <td>NaN</td>\n",
       "      <td>NaN</td>\n",
       "    </tr>\n",
       "    <tr>\n",
       "      <th>2000-01-10</th>\n",
       "      <td>NaN</td>\n",
       "      <td>NaN</td>\n",
       "      <td>NaN</td>\n",
       "      <td>NaN</td>\n",
       "    </tr>\n",
       "    <tr>\n",
       "      <th>2000-01-11</th>\n",
       "      <td>NaN</td>\n",
       "      <td>NaN</td>\n",
       "      <td>NaN</td>\n",
       "      <td>NaN</td>\n",
       "    </tr>\n",
       "    <tr>\n",
       "      <th>2000-01-12</th>\n",
       "      <td>-0.862164</td>\n",
       "      <td>0.708329</td>\n",
       "      <td>-2.331460</td>\n",
       "      <td>0.423585</td>\n",
       "    </tr>\n",
       "  </tbody>\n",
       "</table>\n",
       "</div>"
      ],
      "text/plain": [
       "            Colorado     Texas  New York      Ohio\n",
       "2000-01-05 -0.309315 -0.046347 -0.960136 -1.699319\n",
       "2000-01-06       NaN       NaN       NaN       NaN\n",
       "2000-01-07       NaN       NaN       NaN       NaN\n",
       "2000-01-08       NaN       NaN       NaN       NaN\n",
       "2000-01-09       NaN       NaN       NaN       NaN\n",
       "2000-01-10       NaN       NaN       NaN       NaN\n",
       "2000-01-11       NaN       NaN       NaN       NaN\n",
       "2000-01-12 -0.862164  0.708329 -2.331460  0.423585"
      ]
     },
     "execution_count": 89,
     "metadata": {},
     "output_type": "execute_result"
    }
   ],
   "source": [
    "df_daily = frame.resample(\"D\").asfreq() # Resample theo tần suất hàng ngày, sử dụng asfreq() để giữ nguyên giá trị gốc\n",
    "df_daily"
   ]
  },
  {
   "cell_type": "markdown",
   "id": "122b65dd",
   "metadata": {},
   "source": [
    "### 26. Fill forward"
   ]
  },
  {
   "cell_type": "code",
   "execution_count": 90,
   "id": "12c3cfbc",
   "metadata": {},
   "outputs": [
    {
     "data": {
      "text/html": [
       "<div>\n",
       "<style scoped>\n",
       "    .dataframe tbody tr th:only-of-type {\n",
       "        vertical-align: middle;\n",
       "    }\n",
       "\n",
       "    .dataframe tbody tr th {\n",
       "        vertical-align: top;\n",
       "    }\n",
       "\n",
       "    .dataframe thead th {\n",
       "        text-align: right;\n",
       "    }\n",
       "</style>\n",
       "<table border=\"1\" class=\"dataframe\">\n",
       "  <thead>\n",
       "    <tr style=\"text-align: right;\">\n",
       "      <th></th>\n",
       "      <th>Colorado</th>\n",
       "      <th>Texas</th>\n",
       "      <th>New York</th>\n",
       "      <th>Ohio</th>\n",
       "    </tr>\n",
       "  </thead>\n",
       "  <tbody>\n",
       "    <tr>\n",
       "      <th>2000-01-05</th>\n",
       "      <td>-0.309315</td>\n",
       "      <td>-0.046347</td>\n",
       "      <td>-0.960136</td>\n",
       "      <td>-1.699319</td>\n",
       "    </tr>\n",
       "    <tr>\n",
       "      <th>2000-01-06</th>\n",
       "      <td>-0.309315</td>\n",
       "      <td>-0.046347</td>\n",
       "      <td>-0.960136</td>\n",
       "      <td>-1.699319</td>\n",
       "    </tr>\n",
       "    <tr>\n",
       "      <th>2000-01-07</th>\n",
       "      <td>-0.309315</td>\n",
       "      <td>-0.046347</td>\n",
       "      <td>-0.960136</td>\n",
       "      <td>-1.699319</td>\n",
       "    </tr>\n",
       "    <tr>\n",
       "      <th>2000-01-08</th>\n",
       "      <td>-0.309315</td>\n",
       "      <td>-0.046347</td>\n",
       "      <td>-0.960136</td>\n",
       "      <td>-1.699319</td>\n",
       "    </tr>\n",
       "    <tr>\n",
       "      <th>2000-01-09</th>\n",
       "      <td>-0.309315</td>\n",
       "      <td>-0.046347</td>\n",
       "      <td>-0.960136</td>\n",
       "      <td>-1.699319</td>\n",
       "    </tr>\n",
       "    <tr>\n",
       "      <th>2000-01-10</th>\n",
       "      <td>-0.309315</td>\n",
       "      <td>-0.046347</td>\n",
       "      <td>-0.960136</td>\n",
       "      <td>-1.699319</td>\n",
       "    </tr>\n",
       "    <tr>\n",
       "      <th>2000-01-11</th>\n",
       "      <td>-0.309315</td>\n",
       "      <td>-0.046347</td>\n",
       "      <td>-0.960136</td>\n",
       "      <td>-1.699319</td>\n",
       "    </tr>\n",
       "    <tr>\n",
       "      <th>2000-01-12</th>\n",
       "      <td>-0.862164</td>\n",
       "      <td>0.708329</td>\n",
       "      <td>-2.331460</td>\n",
       "      <td>0.423585</td>\n",
       "    </tr>\n",
       "  </tbody>\n",
       "</table>\n",
       "</div>"
      ],
      "text/plain": [
       "            Colorado     Texas  New York      Ohio\n",
       "2000-01-05 -0.309315 -0.046347 -0.960136 -1.699319\n",
       "2000-01-06 -0.309315 -0.046347 -0.960136 -1.699319\n",
       "2000-01-07 -0.309315 -0.046347 -0.960136 -1.699319\n",
       "2000-01-08 -0.309315 -0.046347 -0.960136 -1.699319\n",
       "2000-01-09 -0.309315 -0.046347 -0.960136 -1.699319\n",
       "2000-01-10 -0.309315 -0.046347 -0.960136 -1.699319\n",
       "2000-01-11 -0.309315 -0.046347 -0.960136 -1.699319\n",
       "2000-01-12 -0.862164  0.708329 -2.331460  0.423585"
      ]
     },
     "execution_count": 90,
     "metadata": {},
     "output_type": "execute_result"
    }
   ],
   "source": [
    "frame.resample(\"D\").ffill() # Resample theo tần suất hàng ngày và sử dụng phương pháp forward fill để điền giá trị\n",
    "# ffill() điền giá trị trước đó vào các vị trí NaN"
   ]
  },
  {
   "cell_type": "code",
   "execution_count": 91,
   "id": "c9571aeb",
   "metadata": {},
   "outputs": [
    {
     "data": {
      "text/html": [
       "<div>\n",
       "<style scoped>\n",
       "    .dataframe tbody tr th:only-of-type {\n",
       "        vertical-align: middle;\n",
       "    }\n",
       "\n",
       "    .dataframe tbody tr th {\n",
       "        vertical-align: top;\n",
       "    }\n",
       "\n",
       "    .dataframe thead th {\n",
       "        text-align: right;\n",
       "    }\n",
       "</style>\n",
       "<table border=\"1\" class=\"dataframe\">\n",
       "  <thead>\n",
       "    <tr style=\"text-align: right;\">\n",
       "      <th></th>\n",
       "      <th>Colorado</th>\n",
       "      <th>Texas</th>\n",
       "      <th>New York</th>\n",
       "      <th>Ohio</th>\n",
       "    </tr>\n",
       "  </thead>\n",
       "  <tbody>\n",
       "    <tr>\n",
       "      <th>2000-01-05</th>\n",
       "      <td>-0.309315</td>\n",
       "      <td>-0.046347</td>\n",
       "      <td>-0.960136</td>\n",
       "      <td>-1.699319</td>\n",
       "    </tr>\n",
       "    <tr>\n",
       "      <th>2000-01-06</th>\n",
       "      <td>-0.309315</td>\n",
       "      <td>-0.046347</td>\n",
       "      <td>-0.960136</td>\n",
       "      <td>-1.699319</td>\n",
       "    </tr>\n",
       "    <tr>\n",
       "      <th>2000-01-07</th>\n",
       "      <td>-0.309315</td>\n",
       "      <td>-0.046347</td>\n",
       "      <td>-0.960136</td>\n",
       "      <td>-1.699319</td>\n",
       "    </tr>\n",
       "    <tr>\n",
       "      <th>2000-01-08</th>\n",
       "      <td>NaN</td>\n",
       "      <td>NaN</td>\n",
       "      <td>NaN</td>\n",
       "      <td>NaN</td>\n",
       "    </tr>\n",
       "    <tr>\n",
       "      <th>2000-01-09</th>\n",
       "      <td>NaN</td>\n",
       "      <td>NaN</td>\n",
       "      <td>NaN</td>\n",
       "      <td>NaN</td>\n",
       "    </tr>\n",
       "    <tr>\n",
       "      <th>2000-01-10</th>\n",
       "      <td>NaN</td>\n",
       "      <td>NaN</td>\n",
       "      <td>NaN</td>\n",
       "      <td>NaN</td>\n",
       "    </tr>\n",
       "    <tr>\n",
       "      <th>2000-01-11</th>\n",
       "      <td>NaN</td>\n",
       "      <td>NaN</td>\n",
       "      <td>NaN</td>\n",
       "      <td>NaN</td>\n",
       "    </tr>\n",
       "    <tr>\n",
       "      <th>2000-01-12</th>\n",
       "      <td>-0.862164</td>\n",
       "      <td>0.708329</td>\n",
       "      <td>-2.331460</td>\n",
       "      <td>0.423585</td>\n",
       "    </tr>\n",
       "  </tbody>\n",
       "</table>\n",
       "</div>"
      ],
      "text/plain": [
       "            Colorado     Texas  New York      Ohio\n",
       "2000-01-05 -0.309315 -0.046347 -0.960136 -1.699319\n",
       "2000-01-06 -0.309315 -0.046347 -0.960136 -1.699319\n",
       "2000-01-07 -0.309315 -0.046347 -0.960136 -1.699319\n",
       "2000-01-08       NaN       NaN       NaN       NaN\n",
       "2000-01-09       NaN       NaN       NaN       NaN\n",
       "2000-01-10       NaN       NaN       NaN       NaN\n",
       "2000-01-11       NaN       NaN       NaN       NaN\n",
       "2000-01-12 -0.862164  0.708329 -2.331460  0.423585"
      ]
     },
     "execution_count": 91,
     "metadata": {},
     "output_type": "execute_result"
    }
   ],
   "source": [
    "frame.resample(\"D\").ffill(limit=2) # Resample theo tần suất hàng ngày và sử dụng phương pháp forward fill để điền giá trị, giới hạn số lần điền là 2"
   ]
  },
  {
   "cell_type": "code",
   "execution_count": 92,
   "id": "50fd8eb3",
   "metadata": {},
   "outputs": [
    {
     "data": {
      "text/html": [
       "<div>\n",
       "<style scoped>\n",
       "    .dataframe tbody tr th:only-of-type {\n",
       "        vertical-align: middle;\n",
       "    }\n",
       "\n",
       "    .dataframe tbody tr th {\n",
       "        vertical-align: top;\n",
       "    }\n",
       "\n",
       "    .dataframe thead th {\n",
       "        text-align: right;\n",
       "    }\n",
       "</style>\n",
       "<table border=\"1\" class=\"dataframe\">\n",
       "  <thead>\n",
       "    <tr style=\"text-align: right;\">\n",
       "      <th></th>\n",
       "      <th>Colorado</th>\n",
       "      <th>Texas</th>\n",
       "      <th>New York</th>\n",
       "      <th>Ohio</th>\n",
       "    </tr>\n",
       "  </thead>\n",
       "  <tbody>\n",
       "    <tr>\n",
       "      <th>2000-01-06</th>\n",
       "      <td>-0.309315</td>\n",
       "      <td>-0.046347</td>\n",
       "      <td>-0.960136</td>\n",
       "      <td>-1.699319</td>\n",
       "    </tr>\n",
       "    <tr>\n",
       "      <th>2000-01-13</th>\n",
       "      <td>-0.862164</td>\n",
       "      <td>0.708329</td>\n",
       "      <td>-2.331460</td>\n",
       "      <td>0.423585</td>\n",
       "    </tr>\n",
       "  </tbody>\n",
       "</table>\n",
       "</div>"
      ],
      "text/plain": [
       "            Colorado     Texas  New York      Ohio\n",
       "2000-01-06 -0.309315 -0.046347 -0.960136 -1.699319\n",
       "2000-01-13 -0.862164  0.708329 -2.331460  0.423585"
      ]
     },
     "execution_count": 92,
     "metadata": {},
     "output_type": "execute_result"
    }
   ],
   "source": [
    "frame.resample(\"W-THU\").ffill() # Resample theo tần suất hàng tuần vào thứ Năm và sử dụng phương pháp forward fill để điền giá trị"
   ]
  },
  {
   "cell_type": "markdown",
   "id": "d6ff787c",
   "metadata": {},
   "source": [
    "### 27. Resample với Period index"
   ]
  },
  {
   "cell_type": "code",
   "execution_count": 93,
   "id": "a241c014",
   "metadata": {},
   "outputs": [
    {
     "name": "stderr",
     "output_type": "stream",
     "text": [
      "C:\\Users\\khoat\\AppData\\Local\\Temp\\ipykernel_9808\\288988662.py:6: FutureWarning: 'A-DEC' is deprecated and will be removed in a future version, please use 'Y-DEC' instead.\n",
      "  annual_frame = frame.resample(\"A-DEC\").mean() # Resample theo tần suất hàng năm kết thúc vào tháng 12 và tính trung bình mỗi nhóm\n",
      "C:\\Users\\khoat\\AppData\\Local\\Temp\\ipykernel_9808\\288988662.py:6: FutureWarning: Resampling with a PeriodIndex is deprecated. Cast index to DatetimeIndex before resampling instead.\n",
      "  annual_frame = frame.resample(\"A-DEC\").mean() # Resample theo tần suất hàng năm kết thúc vào tháng 12 và tính trung bình mỗi nhóm\n"
     ]
    },
    {
     "data": {
      "text/html": [
       "<div>\n",
       "<style scoped>\n",
       "    .dataframe tbody tr th:only-of-type {\n",
       "        vertical-align: middle;\n",
       "    }\n",
       "\n",
       "    .dataframe tbody tr th {\n",
       "        vertical-align: top;\n",
       "    }\n",
       "\n",
       "    .dataframe thead th {\n",
       "        text-align: right;\n",
       "    }\n",
       "</style>\n",
       "<table border=\"1\" class=\"dataframe\">\n",
       "  <thead>\n",
       "    <tr style=\"text-align: right;\">\n",
       "      <th></th>\n",
       "      <th>Colorado</th>\n",
       "      <th>Texas</th>\n",
       "      <th>New York</th>\n",
       "      <th>Ohio</th>\n",
       "    </tr>\n",
       "  </thead>\n",
       "  <tbody>\n",
       "    <tr>\n",
       "      <th>2000</th>\n",
       "      <td>-0.129317</td>\n",
       "      <td>0.282221</td>\n",
       "      <td>0.033571</td>\n",
       "      <td>-0.085365</td>\n",
       "    </tr>\n",
       "    <tr>\n",
       "      <th>2001</th>\n",
       "      <td>0.051928</td>\n",
       "      <td>-0.538338</td>\n",
       "      <td>0.266009</td>\n",
       "      <td>0.115617</td>\n",
       "    </tr>\n",
       "  </tbody>\n",
       "</table>\n",
       "</div>"
      ],
      "text/plain": [
       "      Colorado     Texas  New York      Ohio\n",
       "2000 -0.129317  0.282221  0.033571 -0.085365\n",
       "2001  0.051928 -0.538338  0.266009  0.115617"
      ]
     },
     "execution_count": 93,
     "metadata": {},
     "output_type": "execute_result"
    }
   ],
   "source": [
    "frame = pd.DataFrame(np.random.standard_normal((24, 4)),\n",
    "                     index=pd.period_range(\"1-2000\", \"12-2001\",\n",
    "                                           freq=\"M\"),\n",
    "                     columns=[\"Colorado\", \"Texas\", \"New York\", \"Ohio\"]) # Tạo DataFrame với dữ liệu ngẫu nhiên và index là PeriodIndex hàng tháng từ 1/2000 đến 12/2001\n",
    "frame.head()\n",
    "annual_frame = frame.resample(\"A-DEC\").mean() # Resample theo tần suất hàng năm kết thúc vào tháng 12 và tính trung bình mỗi nhóm\n",
    "annual_frame"
   ]
  },
  {
   "cell_type": "markdown",
   "id": "f2bb44ea",
   "metadata": {},
   "source": [
    "### 28. Upsample quarterly với ffill"
   ]
  },
  {
   "cell_type": "code",
   "execution_count": 94,
   "id": "8cd01870",
   "metadata": {},
   "outputs": [
    {
     "name": "stderr",
     "output_type": "stream",
     "text": [
      "C:\\Users\\khoat\\AppData\\Local\\Temp\\ipykernel_9808\\238922892.py:2: FutureWarning: Resampling with a PeriodIndex is deprecated. Cast index to DatetimeIndex before resampling instead.\n",
      "  annual_frame.resample(\"Q-DEC\").ffill() # Resample theo tần suất hàng quý kết thúc vào tháng 12 và sử dụng phương pháp forward fill để điền giá trị\n",
      "C:\\Users\\khoat\\AppData\\Local\\Temp\\ipykernel_9808\\238922892.py:3: FutureWarning: The 'convention' keyword in DataFrame.resample is deprecated and will be removed in a future version. Explicitly cast PeriodIndex to DatetimeIndex before resampling instead.\n",
      "  annual_frame.resample(\"Q-DEC\", convention=\"end\").asfreq()   # Resample theo tần suất hàng quý kết thúc vào tháng 12, sử dụng asfreq() để giữ nguyên giá trị gốc, với convention=\"end\" để gán nhãn cuối kỳ\n",
      "C:\\Users\\khoat\\AppData\\Local\\Temp\\ipykernel_9808\\238922892.py:3: FutureWarning: Resampling with a PeriodIndex is deprecated. Cast index to DatetimeIndex before resampling instead.\n",
      "  annual_frame.resample(\"Q-DEC\", convention=\"end\").asfreq()   # Resample theo tần suất hàng quý kết thúc vào tháng 12, sử dụng asfreq() để giữ nguyên giá trị gốc, với convention=\"end\" để gán nhãn cuối kỳ\n"
     ]
    },
    {
     "data": {
      "text/html": [
       "<div>\n",
       "<style scoped>\n",
       "    .dataframe tbody tr th:only-of-type {\n",
       "        vertical-align: middle;\n",
       "    }\n",
       "\n",
       "    .dataframe tbody tr th {\n",
       "        vertical-align: top;\n",
       "    }\n",
       "\n",
       "    .dataframe thead th {\n",
       "        text-align: right;\n",
       "    }\n",
       "</style>\n",
       "<table border=\"1\" class=\"dataframe\">\n",
       "  <thead>\n",
       "    <tr style=\"text-align: right;\">\n",
       "      <th></th>\n",
       "      <th>Colorado</th>\n",
       "      <th>Texas</th>\n",
       "      <th>New York</th>\n",
       "      <th>Ohio</th>\n",
       "    </tr>\n",
       "  </thead>\n",
       "  <tbody>\n",
       "    <tr>\n",
       "      <th>2000Q4</th>\n",
       "      <td>-0.129317</td>\n",
       "      <td>0.282221</td>\n",
       "      <td>0.033571</td>\n",
       "      <td>-0.085365</td>\n",
       "    </tr>\n",
       "    <tr>\n",
       "      <th>2001Q1</th>\n",
       "      <td>NaN</td>\n",
       "      <td>NaN</td>\n",
       "      <td>NaN</td>\n",
       "      <td>NaN</td>\n",
       "    </tr>\n",
       "    <tr>\n",
       "      <th>2001Q2</th>\n",
       "      <td>NaN</td>\n",
       "      <td>NaN</td>\n",
       "      <td>NaN</td>\n",
       "      <td>NaN</td>\n",
       "    </tr>\n",
       "    <tr>\n",
       "      <th>2001Q3</th>\n",
       "      <td>NaN</td>\n",
       "      <td>NaN</td>\n",
       "      <td>NaN</td>\n",
       "      <td>NaN</td>\n",
       "    </tr>\n",
       "    <tr>\n",
       "      <th>2001Q4</th>\n",
       "      <td>0.051928</td>\n",
       "      <td>-0.538338</td>\n",
       "      <td>0.266009</td>\n",
       "      <td>0.115617</td>\n",
       "    </tr>\n",
       "  </tbody>\n",
       "</table>\n",
       "</div>"
      ],
      "text/plain": [
       "        Colorado     Texas  New York      Ohio\n",
       "2000Q4 -0.129317  0.282221  0.033571 -0.085365\n",
       "2001Q1       NaN       NaN       NaN       NaN\n",
       "2001Q2       NaN       NaN       NaN       NaN\n",
       "2001Q3       NaN       NaN       NaN       NaN\n",
       "2001Q4  0.051928 -0.538338  0.266009  0.115617"
      ]
     },
     "execution_count": 94,
     "metadata": {},
     "output_type": "execute_result"
    }
   ],
   "source": [
    "# Q-DEC: Quarterly, year ending in December\n",
    "annual_frame.resample(\"Q-DEC\").ffill() # Resample theo tần suất hàng quý kết thúc vào tháng 12 và sử dụng phương pháp forward fill để điền giá trị\n",
    "annual_frame.resample(\"Q-DEC\", convention=\"end\").asfreq()   # Resample theo tần suất hàng quý kết thúc vào tháng 12, sử dụng asfreq() để giữ nguyên giá trị gốc, với convention=\"end\" để gán nhãn cuối kỳ"
   ]
  },
  {
   "cell_type": "markdown",
   "id": "7c7de783",
   "metadata": {},
   "source": [
    "### 29. Resample quarterly khác"
   ]
  },
  {
   "cell_type": "code",
   "execution_count": 95,
   "id": "d709e5a7",
   "metadata": {},
   "outputs": [
    {
     "name": "stderr",
     "output_type": "stream",
     "text": [
      "C:\\Users\\khoat\\AppData\\Local\\Temp\\ipykernel_9808\\2405765215.py:1: FutureWarning: Resampling with a PeriodIndex is deprecated. Cast index to DatetimeIndex before resampling instead.\n",
      "  annual_frame.resample(\"Q-MAR\").ffill() # Resample theo tần suất hàng quý kết thúc vào tháng 3 và sử dụng phương pháp forward fill để điền giá trị\n"
     ]
    },
    {
     "data": {
      "text/html": [
       "<div>\n",
       "<style scoped>\n",
       "    .dataframe tbody tr th:only-of-type {\n",
       "        vertical-align: middle;\n",
       "    }\n",
       "\n",
       "    .dataframe tbody tr th {\n",
       "        vertical-align: top;\n",
       "    }\n",
       "\n",
       "    .dataframe thead th {\n",
       "        text-align: right;\n",
       "    }\n",
       "</style>\n",
       "<table border=\"1\" class=\"dataframe\">\n",
       "  <thead>\n",
       "    <tr style=\"text-align: right;\">\n",
       "      <th></th>\n",
       "      <th>Colorado</th>\n",
       "      <th>Texas</th>\n",
       "      <th>New York</th>\n",
       "      <th>Ohio</th>\n",
       "    </tr>\n",
       "  </thead>\n",
       "  <tbody>\n",
       "    <tr>\n",
       "      <th>2000Q4</th>\n",
       "      <td>-0.129317</td>\n",
       "      <td>0.282221</td>\n",
       "      <td>0.033571</td>\n",
       "      <td>-0.085365</td>\n",
       "    </tr>\n",
       "    <tr>\n",
       "      <th>2001Q1</th>\n",
       "      <td>-0.129317</td>\n",
       "      <td>0.282221</td>\n",
       "      <td>0.033571</td>\n",
       "      <td>-0.085365</td>\n",
       "    </tr>\n",
       "    <tr>\n",
       "      <th>2001Q2</th>\n",
       "      <td>-0.129317</td>\n",
       "      <td>0.282221</td>\n",
       "      <td>0.033571</td>\n",
       "      <td>-0.085365</td>\n",
       "    </tr>\n",
       "    <tr>\n",
       "      <th>2001Q3</th>\n",
       "      <td>-0.129317</td>\n",
       "      <td>0.282221</td>\n",
       "      <td>0.033571</td>\n",
       "      <td>-0.085365</td>\n",
       "    </tr>\n",
       "    <tr>\n",
       "      <th>2001Q4</th>\n",
       "      <td>0.051928</td>\n",
       "      <td>-0.538338</td>\n",
       "      <td>0.266009</td>\n",
       "      <td>0.115617</td>\n",
       "    </tr>\n",
       "    <tr>\n",
       "      <th>2002Q1</th>\n",
       "      <td>0.051928</td>\n",
       "      <td>-0.538338</td>\n",
       "      <td>0.266009</td>\n",
       "      <td>0.115617</td>\n",
       "    </tr>\n",
       "    <tr>\n",
       "      <th>2002Q2</th>\n",
       "      <td>0.051928</td>\n",
       "      <td>-0.538338</td>\n",
       "      <td>0.266009</td>\n",
       "      <td>0.115617</td>\n",
       "    </tr>\n",
       "    <tr>\n",
       "      <th>2002Q3</th>\n",
       "      <td>0.051928</td>\n",
       "      <td>-0.538338</td>\n",
       "      <td>0.266009</td>\n",
       "      <td>0.115617</td>\n",
       "    </tr>\n",
       "  </tbody>\n",
       "</table>\n",
       "</div>"
      ],
      "text/plain": [
       "        Colorado     Texas  New York      Ohio\n",
       "2000Q4 -0.129317  0.282221  0.033571 -0.085365\n",
       "2001Q1 -0.129317  0.282221  0.033571 -0.085365\n",
       "2001Q2 -0.129317  0.282221  0.033571 -0.085365\n",
       "2001Q3 -0.129317  0.282221  0.033571 -0.085365\n",
       "2001Q4  0.051928 -0.538338  0.266009  0.115617\n",
       "2002Q1  0.051928 -0.538338  0.266009  0.115617\n",
       "2002Q2  0.051928 -0.538338  0.266009  0.115617\n",
       "2002Q3  0.051928 -0.538338  0.266009  0.115617"
      ]
     },
     "execution_count": 95,
     "metadata": {},
     "output_type": "execute_result"
    }
   ],
   "source": [
    "annual_frame.resample(\"Q-MAR\").ffill() # Resample theo tần suất hàng quý kết thúc vào tháng 3 và sử dụng phương pháp forward fill để điền giá trị"
   ]
  },
  {
   "cell_type": "code",
   "execution_count": 96,
   "id": "ac4b6c22",
   "metadata": {},
   "outputs": [
    {
     "data": {
      "text/html": [
       "<div>\n",
       "<style scoped>\n",
       "    .dataframe tbody tr th:only-of-type {\n",
       "        vertical-align: middle;\n",
       "    }\n",
       "\n",
       "    .dataframe tbody tr th {\n",
       "        vertical-align: top;\n",
       "    }\n",
       "\n",
       "    .dataframe thead th {\n",
       "        text-align: right;\n",
       "    }\n",
       "</style>\n",
       "<table border=\"1\" class=\"dataframe\">\n",
       "  <thead>\n",
       "    <tr style=\"text-align: right;\">\n",
       "      <th></th>\n",
       "      <th>time</th>\n",
       "      <th>value</th>\n",
       "    </tr>\n",
       "  </thead>\n",
       "  <tbody>\n",
       "    <tr>\n",
       "      <th>0</th>\n",
       "      <td>2017-05-20 00:00:00</td>\n",
       "      <td>0</td>\n",
       "    </tr>\n",
       "    <tr>\n",
       "      <th>1</th>\n",
       "      <td>2017-05-20 00:01:00</td>\n",
       "      <td>1</td>\n",
       "    </tr>\n",
       "    <tr>\n",
       "      <th>2</th>\n",
       "      <td>2017-05-20 00:02:00</td>\n",
       "      <td>2</td>\n",
       "    </tr>\n",
       "    <tr>\n",
       "      <th>3</th>\n",
       "      <td>2017-05-20 00:03:00</td>\n",
       "      <td>3</td>\n",
       "    </tr>\n",
       "    <tr>\n",
       "      <th>4</th>\n",
       "      <td>2017-05-20 00:04:00</td>\n",
       "      <td>4</td>\n",
       "    </tr>\n",
       "    <tr>\n",
       "      <th>5</th>\n",
       "      <td>2017-05-20 00:05:00</td>\n",
       "      <td>5</td>\n",
       "    </tr>\n",
       "    <tr>\n",
       "      <th>6</th>\n",
       "      <td>2017-05-20 00:06:00</td>\n",
       "      <td>6</td>\n",
       "    </tr>\n",
       "    <tr>\n",
       "      <th>7</th>\n",
       "      <td>2017-05-20 00:07:00</td>\n",
       "      <td>7</td>\n",
       "    </tr>\n",
       "    <tr>\n",
       "      <th>8</th>\n",
       "      <td>2017-05-20 00:08:00</td>\n",
       "      <td>8</td>\n",
       "    </tr>\n",
       "    <tr>\n",
       "      <th>9</th>\n",
       "      <td>2017-05-20 00:09:00</td>\n",
       "      <td>9</td>\n",
       "    </tr>\n",
       "    <tr>\n",
       "      <th>10</th>\n",
       "      <td>2017-05-20 00:10:00</td>\n",
       "      <td>10</td>\n",
       "    </tr>\n",
       "    <tr>\n",
       "      <th>11</th>\n",
       "      <td>2017-05-20 00:11:00</td>\n",
       "      <td>11</td>\n",
       "    </tr>\n",
       "    <tr>\n",
       "      <th>12</th>\n",
       "      <td>2017-05-20 00:12:00</td>\n",
       "      <td>12</td>\n",
       "    </tr>\n",
       "    <tr>\n",
       "      <th>13</th>\n",
       "      <td>2017-05-20 00:13:00</td>\n",
       "      <td>13</td>\n",
       "    </tr>\n",
       "    <tr>\n",
       "      <th>14</th>\n",
       "      <td>2017-05-20 00:14:00</td>\n",
       "      <td>14</td>\n",
       "    </tr>\n",
       "  </tbody>\n",
       "</table>\n",
       "</div>"
      ],
      "text/plain": [
       "                  time  value\n",
       "0  2017-05-20 00:00:00      0\n",
       "1  2017-05-20 00:01:00      1\n",
       "2  2017-05-20 00:02:00      2\n",
       "3  2017-05-20 00:03:00      3\n",
       "4  2017-05-20 00:04:00      4\n",
       "5  2017-05-20 00:05:00      5\n",
       "6  2017-05-20 00:06:00      6\n",
       "7  2017-05-20 00:07:00      7\n",
       "8  2017-05-20 00:08:00      8\n",
       "9  2017-05-20 00:09:00      9\n",
       "10 2017-05-20 00:10:00     10\n",
       "11 2017-05-20 00:11:00     11\n",
       "12 2017-05-20 00:12:00     12\n",
       "13 2017-05-20 00:13:00     13\n",
       "14 2017-05-20 00:14:00     14"
      ]
     },
     "execution_count": 96,
     "metadata": {},
     "output_type": "execute_result"
    }
   ],
   "source": [
    "N = 15\n",
    "times = pd.date_range(\"2017-05-20 00:00\", freq=\"1min\", periods=N) # Tạo dải ngày với tần suất 1 phút, bắt đầu từ 2017-05-20 00:00 với N phần tử\n",
    "df = pd.DataFrame({\"time\": times,\n",
    "                   \"value\": np.arange(N)}) # Tạo DataFrame với cột \"time\" và \"value\"\n",
    "df"
   ]
  },
  {
   "cell_type": "code",
   "execution_count": 97,
   "id": "0bb04cb6",
   "metadata": {},
   "outputs": [
    {
     "data": {
      "text/html": [
       "<div>\n",
       "<style scoped>\n",
       "    .dataframe tbody tr th:only-of-type {\n",
       "        vertical-align: middle;\n",
       "    }\n",
       "\n",
       "    .dataframe tbody tr th {\n",
       "        vertical-align: top;\n",
       "    }\n",
       "\n",
       "    .dataframe thead th {\n",
       "        text-align: right;\n",
       "    }\n",
       "</style>\n",
       "<table border=\"1\" class=\"dataframe\">\n",
       "  <thead>\n",
       "    <tr style=\"text-align: right;\">\n",
       "      <th></th>\n",
       "      <th>value</th>\n",
       "    </tr>\n",
       "    <tr>\n",
       "      <th>time</th>\n",
       "      <th></th>\n",
       "    </tr>\n",
       "  </thead>\n",
       "  <tbody>\n",
       "    <tr>\n",
       "      <th>2017-05-20 00:00:00</th>\n",
       "      <td>5</td>\n",
       "    </tr>\n",
       "    <tr>\n",
       "      <th>2017-05-20 00:05:00</th>\n",
       "      <td>5</td>\n",
       "    </tr>\n",
       "    <tr>\n",
       "      <th>2017-05-20 00:10:00</th>\n",
       "      <td>5</td>\n",
       "    </tr>\n",
       "  </tbody>\n",
       "</table>\n",
       "</div>"
      ],
      "text/plain": [
       "                     value\n",
       "time                      \n",
       "2017-05-20 00:00:00      5\n",
       "2017-05-20 00:05:00      5\n",
       "2017-05-20 00:10:00      5"
      ]
     },
     "execution_count": 97,
     "metadata": {},
     "output_type": "execute_result"
    }
   ],
   "source": [
    "df.set_index(\"time\").resample(\"5min\").count() # Đặt cột \"time\" làm index, resample theo tần suất 5 phút và đếm số phần tử trong mỗi nhóm"
   ]
  },
  {
   "cell_type": "markdown",
   "id": "8815084c",
   "metadata": {},
   "source": [
    "### 30. DataFrame với key"
   ]
  },
  {
   "cell_type": "code",
   "execution_count": 98,
   "id": "b2a6ea53",
   "metadata": {},
   "outputs": [
    {
     "data": {
      "text/html": [
       "<div>\n",
       "<style scoped>\n",
       "    .dataframe tbody tr th:only-of-type {\n",
       "        vertical-align: middle;\n",
       "    }\n",
       "\n",
       "    .dataframe tbody tr th {\n",
       "        vertical-align: top;\n",
       "    }\n",
       "\n",
       "    .dataframe thead th {\n",
       "        text-align: right;\n",
       "    }\n",
       "</style>\n",
       "<table border=\"1\" class=\"dataframe\">\n",
       "  <thead>\n",
       "    <tr style=\"text-align: right;\">\n",
       "      <th></th>\n",
       "      <th>time</th>\n",
       "      <th>key</th>\n",
       "      <th>value</th>\n",
       "    </tr>\n",
       "  </thead>\n",
       "  <tbody>\n",
       "    <tr>\n",
       "      <th>0</th>\n",
       "      <td>2017-05-20 00:00:00</td>\n",
       "      <td>a</td>\n",
       "      <td>0.0</td>\n",
       "    </tr>\n",
       "    <tr>\n",
       "      <th>1</th>\n",
       "      <td>2017-05-20 00:00:00</td>\n",
       "      <td>b</td>\n",
       "      <td>1.0</td>\n",
       "    </tr>\n",
       "    <tr>\n",
       "      <th>2</th>\n",
       "      <td>2017-05-20 00:00:00</td>\n",
       "      <td>c</td>\n",
       "      <td>2.0</td>\n",
       "    </tr>\n",
       "    <tr>\n",
       "      <th>3</th>\n",
       "      <td>2017-05-20 00:01:00</td>\n",
       "      <td>a</td>\n",
       "      <td>3.0</td>\n",
       "    </tr>\n",
       "    <tr>\n",
       "      <th>4</th>\n",
       "      <td>2017-05-20 00:01:00</td>\n",
       "      <td>b</td>\n",
       "      <td>4.0</td>\n",
       "    </tr>\n",
       "    <tr>\n",
       "      <th>5</th>\n",
       "      <td>2017-05-20 00:01:00</td>\n",
       "      <td>c</td>\n",
       "      <td>5.0</td>\n",
       "    </tr>\n",
       "    <tr>\n",
       "      <th>6</th>\n",
       "      <td>2017-05-20 00:02:00</td>\n",
       "      <td>a</td>\n",
       "      <td>6.0</td>\n",
       "    </tr>\n",
       "  </tbody>\n",
       "</table>\n",
       "</div>"
      ],
      "text/plain": [
       "                 time key  value\n",
       "0 2017-05-20 00:00:00   a    0.0\n",
       "1 2017-05-20 00:00:00   b    1.0\n",
       "2 2017-05-20 00:00:00   c    2.0\n",
       "3 2017-05-20 00:01:00   a    3.0\n",
       "4 2017-05-20 00:01:00   b    4.0\n",
       "5 2017-05-20 00:01:00   c    5.0\n",
       "6 2017-05-20 00:02:00   a    6.0"
      ]
     },
     "execution_count": 98,
     "metadata": {},
     "output_type": "execute_result"
    }
   ],
   "source": [
    "df2 = pd.DataFrame({\"time\": times.repeat(3),\n",
    "                    \"key\": np.tile([\"a\", \"b\", \"c\"], N),\n",
    "                    \"value\": np.arange(N * 3.)})\n",
    "df2.head(7)"
   ]
  },
  {
   "cell_type": "markdown",
   "id": "8762d15f",
   "metadata": {},
   "source": [
    "### 31. Grouper cho time\n"
   ]
  },
  {
   "cell_type": "code",
   "execution_count": 99,
   "id": "9e36d948",
   "metadata": {},
   "outputs": [],
   "source": [
    "time_key = pd.Grouper(freq=\"5min\")"
   ]
  },
  {
   "cell_type": "markdown",
   "id": "ef9e4548",
   "metadata": {},
   "source": [
    "### 32. Groupby với key và time"
   ]
  },
  {
   "cell_type": "code",
   "execution_count": 100,
   "id": "0d6fe652",
   "metadata": {},
   "outputs": [
    {
     "data": {
      "text/html": [
       "<div>\n",
       "<style scoped>\n",
       "    .dataframe tbody tr th:only-of-type {\n",
       "        vertical-align: middle;\n",
       "    }\n",
       "\n",
       "    .dataframe tbody tr th {\n",
       "        vertical-align: top;\n",
       "    }\n",
       "\n",
       "    .dataframe thead th {\n",
       "        text-align: right;\n",
       "    }\n",
       "</style>\n",
       "<table border=\"1\" class=\"dataframe\">\n",
       "  <thead>\n",
       "    <tr style=\"text-align: right;\">\n",
       "      <th></th>\n",
       "      <th>key</th>\n",
       "      <th>time</th>\n",
       "      <th>value</th>\n",
       "    </tr>\n",
       "  </thead>\n",
       "  <tbody>\n",
       "    <tr>\n",
       "      <th>0</th>\n",
       "      <td>a</td>\n",
       "      <td>2017-05-20 00:00:00</td>\n",
       "      <td>30.0</td>\n",
       "    </tr>\n",
       "    <tr>\n",
       "      <th>1</th>\n",
       "      <td>a</td>\n",
       "      <td>2017-05-20 00:05:00</td>\n",
       "      <td>105.0</td>\n",
       "    </tr>\n",
       "    <tr>\n",
       "      <th>2</th>\n",
       "      <td>a</td>\n",
       "      <td>2017-05-20 00:10:00</td>\n",
       "      <td>180.0</td>\n",
       "    </tr>\n",
       "    <tr>\n",
       "      <th>3</th>\n",
       "      <td>b</td>\n",
       "      <td>2017-05-20 00:00:00</td>\n",
       "      <td>35.0</td>\n",
       "    </tr>\n",
       "    <tr>\n",
       "      <th>4</th>\n",
       "      <td>b</td>\n",
       "      <td>2017-05-20 00:05:00</td>\n",
       "      <td>110.0</td>\n",
       "    </tr>\n",
       "    <tr>\n",
       "      <th>5</th>\n",
       "      <td>b</td>\n",
       "      <td>2017-05-20 00:10:00</td>\n",
       "      <td>185.0</td>\n",
       "    </tr>\n",
       "    <tr>\n",
       "      <th>6</th>\n",
       "      <td>c</td>\n",
       "      <td>2017-05-20 00:00:00</td>\n",
       "      <td>40.0</td>\n",
       "    </tr>\n",
       "    <tr>\n",
       "      <th>7</th>\n",
       "      <td>c</td>\n",
       "      <td>2017-05-20 00:05:00</td>\n",
       "      <td>115.0</td>\n",
       "    </tr>\n",
       "    <tr>\n",
       "      <th>8</th>\n",
       "      <td>c</td>\n",
       "      <td>2017-05-20 00:10:00</td>\n",
       "      <td>190.0</td>\n",
       "    </tr>\n",
       "  </tbody>\n",
       "</table>\n",
       "</div>"
      ],
      "text/plain": [
       "  key                time  value\n",
       "0   a 2017-05-20 00:00:00   30.0\n",
       "1   a 2017-05-20 00:05:00  105.0\n",
       "2   a 2017-05-20 00:10:00  180.0\n",
       "3   b 2017-05-20 00:00:00   35.0\n",
       "4   b 2017-05-20 00:05:00  110.0\n",
       "5   b 2017-05-20 00:10:00  185.0\n",
       "6   c 2017-05-20 00:00:00   40.0\n",
       "7   c 2017-05-20 00:05:00  115.0\n",
       "8   c 2017-05-20 00:10:00  190.0"
      ]
     },
     "execution_count": 100,
     "metadata": {},
     "output_type": "execute_result"
    }
   ],
   "source": [
    "resampled = (df2.set_index(\"time\")\n",
    "             .groupby([\"key\", time_key])\n",
    "             .sum())\n",
    "resampled\n",
    "resampled.reset_index()"
   ]
  },
  {
   "cell_type": "markdown",
   "id": "0d7cfad2",
   "metadata": {},
   "source": [
    "### 33. Đọc dữ liệu stock"
   ]
  },
  {
   "cell_type": "code",
   "execution_count": 101,
   "id": "6031fb7e",
   "metadata": {},
   "outputs": [],
   "source": [
    "close_px_all = pd.read_csv(\"examples/stock_px.csv\", \n",
    "                           parse_dates=True, index_col=0) # Đọc dữ liệu từ file CSV, phân tích ngày tháng và đặt cột đầu tiên làm index\n",
    "close_px = close_px_all[[\"AAPL\", \"MSFT\", \"XOM\"]] # Lấy dữ liệu của các cột AAPL, MSFT, XOM\n",
    "close_px = close_px.resample(\"B\").ffill() # Resample theo tần suất ngày làm việc và sử dụng phương pháp forward fill để điền giá trị"
   ]
  },
  {
   "cell_type": "markdown",
   "id": "f1427a33",
   "metadata": {},
   "source": [
    "### 34. Plot rolling mean"
   ]
  },
  {
   "cell_type": "code",
   "execution_count": 102,
   "id": "4bfe15e7",
   "metadata": {},
   "outputs": [
    {
     "data": {
      "text/plain": [
       "<Axes: >"
      ]
     },
     "execution_count": 102,
     "metadata": {},
     "output_type": "execute_result"
    },
    {
     "data": {
      "image/png": "[encoded data removed]",
      "text/plain": [
       "<Figure size 1000x600 with 1 Axes>"
      ]
     },
     "metadata": {},
     "output_type": "display_data"
    }
   ],
   "source": [
    "close_px[\"AAPL\"].plot() # Vẽ biểu đồ giá cổ phiếu AAPL\n",
    "close_px[\"AAPL\"].rolling(250).mean().plot() # Tính trung bình động với cửa sổ 250 ngày và vẽ biểu đồ"
   ]
  },
  {
   "cell_type": "markdown",
   "id": "0a1f26af",
   "metadata": {},
   "source": [
    "### 35. Rolling std của pct_change"
   ]
  },
  {
   "cell_type": "code",
   "execution_count": 103,
   "id": "fbf086fd",
   "metadata": {},
   "outputs": [
    {
     "data": {
      "text/plain": [
       "<Axes: >"
      ]
     },
     "execution_count": 103,
     "metadata": {},
     "output_type": "execute_result"
    },
    {
     "data": {
      "image/png": "[encoded data removed]",
      "text/plain": [
       "<Figure size 1000x600 with 1 Axes>"
      ]
     },
     "metadata": {},
     "output_type": "display_data"
    }
   ],
   "source": [
    "plt.figure()\n",
    "std250 = close_px[\"AAPL\"].pct_change().rolling(250, min_periods=10).std() # Tính độ lệch chuẩn của tỷ suất thay đổi với cửa sổ 250 ngày, yêu cầu tối thiểu 10 giá trị không phải NaN\n",
    "std250[5:12] # Hiển thị các giá trị từ chỉ số 5 đến 11\n",
    "std250.plot() # Vẽ biểu đồ độ lệch chuẩn"
   ]
  },
  {
   "cell_type": "markdown",
   "id": "361459b5",
   "metadata": {},
   "source": [
    "### 36. Expanding mean"
   ]
  },
  {
   "cell_type": "code",
   "execution_count": 104,
   "id": "c3f745db",
   "metadata": {},
   "outputs": [],
   "source": [
    "expanding_mean = std250.expanding().mean()"
   ]
  },
  {
   "cell_type": "markdown",
   "id": "fb3965a5",
   "metadata": {},
   "source": [
    "### 37. Figure mới"
   ]
  },
  {
   "cell_type": "code",
   "execution_count": 105,
   "id": "6c5f6938",
   "metadata": {},
   "outputs": [
    {
     "data": {
      "text/plain": [
       "<Figure size 1000x600 with 0 Axes>"
      ]
     },
     "execution_count": 105,
     "metadata": {},
     "output_type": "execute_result"
    },
    {
     "data": {
      "text/plain": [
       "<Figure size 1000x600 with 0 Axes>"
      ]
     },
     "metadata": {},
     "output_type": "display_data"
    }
   ],
   "source": [
    "plt.figure()"
   ]
  },
  {
   "cell_type": "markdown",
   "id": "9b5eca08",
   "metadata": {},
   "source": [
    "### 38. Plot rolling mean với style"
   ]
  },
  {
   "cell_type": "code",
   "execution_count": 106,
   "id": "17dd5a3c",
   "metadata": {},
   "outputs": [
    {
     "data": {
      "text/plain": [
       "<Axes: >"
      ]
     },
     "execution_count": 106,
     "metadata": {},
     "output_type": "execute_result"
    },
    {
     "data": {
      "image/png": "[encoded data removed]",
      "text/plain": [
       "<Figure size 1000x600 with 1 Axes>"
      ]
     },
     "metadata": {},
     "output_type": "display_data"
    }
   ],
   "source": [
    "plt.style.use('grayscale')\n",
    "close_px.rolling(60).mean().plot(logy=True)"
   ]
  },
  {
   "cell_type": "markdown",
   "id": "ee879a78",
   "metadata": {},
   "source": [
    "### 39. Rolling với freq string"
   ]
  },
  {
   "cell_type": "code",
   "execution_count": 107,
   "id": "88e96f72",
   "metadata": {},
   "outputs": [
    {
     "data": {
      "text/html": [
       "<div>\n",
       "<style scoped>\n",
       "    .dataframe tbody tr th:only-of-type {\n",
       "        vertical-align: middle;\n",
       "    }\n",
       "\n",
       "    .dataframe tbody tr th {\n",
       "        vertical-align: top;\n",
       "    }\n",
       "\n",
       "    .dataframe thead th {\n",
       "        text-align: right;\n",
       "    }\n",
       "</style>\n",
       "<table border=\"1\" class=\"dataframe\">\n",
       "  <thead>\n",
       "    <tr style=\"text-align: right;\">\n",
       "      <th></th>\n",
       "      <th>AAPL</th>\n",
       "      <th>MSFT</th>\n",
       "      <th>XOM</th>\n",
       "    </tr>\n",
       "  </thead>\n",
       "  <tbody>\n",
       "    <tr>\n",
       "      <th>2003-01-02</th>\n",
       "      <td>7.400000</td>\n",
       "      <td>21.110000</td>\n",
       "      <td>29.220000</td>\n",
       "    </tr>\n",
       "    <tr>\n",
       "      <th>2003-01-03</th>\n",
       "      <td>7.425000</td>\n",
       "      <td>21.125000</td>\n",
       "      <td>29.230000</td>\n",
       "    </tr>\n",
       "    <tr>\n",
       "      <th>2003-01-06</th>\n",
       "      <td>7.433333</td>\n",
       "      <td>21.256667</td>\n",
       "      <td>29.473333</td>\n",
       "    </tr>\n",
       "    <tr>\n",
       "      <th>2003-01-07</th>\n",
       "      <td>7.432500</td>\n",
       "      <td>21.425000</td>\n",
       "      <td>29.342500</td>\n",
       "    </tr>\n",
       "    <tr>\n",
       "      <th>2003-01-08</th>\n",
       "      <td>7.402000</td>\n",
       "      <td>21.402000</td>\n",
       "      <td>29.240000</td>\n",
       "    </tr>\n",
       "    <tr>\n",
       "      <th>...</th>\n",
       "      <td>...</td>\n",
       "      <td>...</td>\n",
       "      <td>...</td>\n",
       "    </tr>\n",
       "    <tr>\n",
       "      <th>2011-10-10</th>\n",
       "      <td>389.351429</td>\n",
       "      <td>25.602143</td>\n",
       "      <td>72.527857</td>\n",
       "    </tr>\n",
       "    <tr>\n",
       "      <th>2011-10-11</th>\n",
       "      <td>388.505000</td>\n",
       "      <td>25.674286</td>\n",
       "      <td>72.835000</td>\n",
       "    </tr>\n",
       "    <tr>\n",
       "      <th>2011-10-12</th>\n",
       "      <td>388.531429</td>\n",
       "      <td>25.810000</td>\n",
       "      <td>73.400714</td>\n",
       "    </tr>\n",
       "    <tr>\n",
       "      <th>2011-10-13</th>\n",
       "      <td>388.826429</td>\n",
       "      <td>25.961429</td>\n",
       "      <td>73.905000</td>\n",
       "    </tr>\n",
       "    <tr>\n",
       "      <th>2011-10-14</th>\n",
       "      <td>391.038000</td>\n",
       "      <td>26.048667</td>\n",
       "      <td>74.185333</td>\n",
       "    </tr>\n",
       "  </tbody>\n",
       "</table>\n",
       "<p>2292 rows × 3 columns</p>\n",
       "</div>"
      ],
      "text/plain": [
       "                  AAPL       MSFT        XOM\n",
       "2003-01-02    7.400000  21.110000  29.220000\n",
       "2003-01-03    7.425000  21.125000  29.230000\n",
       "2003-01-06    7.433333  21.256667  29.473333\n",
       "2003-01-07    7.432500  21.425000  29.342500\n",
       "2003-01-08    7.402000  21.402000  29.240000\n",
       "...                ...        ...        ...\n",
       "2011-10-10  389.351429  25.602143  72.527857\n",
       "2011-10-11  388.505000  25.674286  72.835000\n",
       "2011-10-12  388.531429  25.810000  73.400714\n",
       "2011-10-13  388.826429  25.961429  73.905000\n",
       "2011-10-14  391.038000  26.048667  74.185333\n",
       "\n",
       "[2292 rows x 3 columns]"
      ]
     },
     "execution_count": 107,
     "metadata": {},
     "output_type": "execute_result"
    }
   ],
   "source": [
    "close_px.rolling(\"20D\").mean()"
   ]
  },
  {
   "cell_type": "code",
   "execution_count": 108,
   "id": "e28bb60b",
   "metadata": {},
   "outputs": [
    {
     "data": {
      "text/plain": [
       "<Figure size 1000x600 with 0 Axes>"
      ]
     },
     "execution_count": 108,
     "metadata": {},
     "output_type": "execute_result"
    },
    {
     "data": {
      "text/plain": [
       "<Figure size 1000x600 with 0 Axes>"
      ]
     },
     "metadata": {},
     "output_type": "display_data"
    }
   ],
   "source": [
    "plt.figure()"
   ]
  },
  {
   "cell_type": "markdown",
   "id": "5d30c324",
   "metadata": {},
   "source": [
    "### 40 .So sánh MA và EWMA"
   ]
  },
  {
   "cell_type": "code",
   "execution_count": 109,
   "id": "ef2c8ab8",
   "metadata": {},
   "outputs": [
    {
     "data": {
      "text/plain": [
       "<matplotlib.legend.Legend at 0x2906b687c50>"
      ]
     },
     "execution_count": 109,
     "metadata": {},
     "output_type": "execute_result"
    },
    {
     "data": {
      "image/png": "[encoded data removed]",
      "text/plain": [
       "<Figure size 1000x600 with 1 Axes>"
      ]
     },
     "metadata": {},
     "output_type": "display_data"
    }
   ],
   "source": [
    "aapl_px = close_px[\"AAPL\"][\"2006\":\"2007\"] # Lấy dữ liệu của AAPL từ năm 2006 đến 2007\n",
    "\n",
    "ma30 = aapl_px.rolling(30, min_periods=20).mean() # Tính trung bình động với cửa sổ 30 ngày, yêu cầu tối thiểu 20 giá trị không phải NaN\n",
    "ewma30 = aapl_px.ewm(span=30).mean() # Tính trung bình động mũ với span 30\n",
    "\n",
    "aapl_px.plot(style=\"k-\", label=\"Price\") # Vẽ biểu đồ giá cổ phiếu AAPL\n",
    "ma30.plot(style=\"k--\", label=\"Simple Moving Avg\") # Vẽ biểu đồ trung bình động đơn giản\n",
    "ewma30.plot(style=\"k-\", label=\"EW MA\") # Vẽ biểu đồ trung bình động mũ\n",
    "plt.legend() # Hiển thị chú thích biểu đồ"
   ]
  },
  {
   "cell_type": "code",
   "execution_count": 110,
   "id": "3b541dfb",
   "metadata": {},
   "outputs": [
    {
     "data": {
      "text/plain": [
       "<Figure size 1000x600 with 0 Axes>"
      ]
     },
     "execution_count": 110,
     "metadata": {},
     "output_type": "execute_result"
    },
    {
     "data": {
      "text/plain": [
       "<Figure size 1000x600 with 0 Axes>"
      ]
     },
     "metadata": {},
     "output_type": "display_data"
    }
   ],
   "source": [
    "plt.figure() # Tạo một biểu đồ mới"
   ]
  },
  {
   "cell_type": "code",
   "execution_count": 111,
   "id": "e02f3527",
   "metadata": {},
   "outputs": [],
   "source": [
    "spx_px = close_px_all[\"SPX\"] # Lấy dữ liệu của chỉ số SPX\n",
    "spx_rets = spx_px.pct_change() # Tính tỷ suất thay đổi của SPX\n",
    "returns = close_px.pct_change() # Tính tỷ suất thay đổi của các cổ phiếu"
   ]
  },
  {
   "cell_type": "code",
   "execution_count": 112,
   "id": "abb681d7",
   "metadata": {},
   "outputs": [
    {
     "data": {
      "text/plain": [
       "<Axes: >"
      ]
     },
     "execution_count": 112,
     "metadata": {},
     "output_type": "execute_result"
    },
    {
     "data": {
      "image/png": "[encoded data removed]",
      "text/plain": [
       "<Figure size 1000x600 with 1 Axes>"
      ]
     },
     "metadata": {},
     "output_type": "display_data"
    }
   ],
   "source": [
    "corr = returns[\"AAPL\"].rolling(125, min_periods=100).corr(spx_rets) # Tính hệ số tương quan động với cửa sổ 125 ngày giữa AAPL và SPX, yêu cầu tối thiểu 100 giá trị không phải NaN\n",
    "corr.plot()"
   ]
  },
  {
   "cell_type": "code",
   "execution_count": 113,
   "id": "a126c3ee",
   "metadata": {},
   "outputs": [
    {
     "data": {
      "text/plain": [
       "<Figure size 1000x600 with 0 Axes>"
      ]
     },
     "execution_count": 113,
     "metadata": {},
     "output_type": "execute_result"
    },
    {
     "data": {
      "text/plain": [
       "<Figure size 1000x600 with 0 Axes>"
      ]
     },
     "metadata": {},
     "output_type": "display_data"
    }
   ],
   "source": [
    "plt.figure()"
   ]
  },
  {
   "cell_type": "code",
   "execution_count": 114,
   "id": "1c63f3fe",
   "metadata": {},
   "outputs": [
    {
     "data": {
      "text/plain": [
       "<Axes: >"
      ]
     },
     "execution_count": 114,
     "metadata": {},
     "output_type": "execute_result"
    },
    {
     "data": {
      "image/png": "[encoded data removed]",
      "text/plain": [
       "<Figure size 1000x600 with 1 Axes>"
      ]
     },
     "metadata": {},
     "output_type": "display_data"
    }
   ],
   "source": [
    "corr = returns.rolling(125, min_periods=100).corr(spx_rets) # Tính hệ số tương quan động với cửa sổ 125 ngày giữa tất cả các cổ phiếu và SPX, yêu cầu tối thiểu 100 giá trị không phải NaN\n",
    "corr.plot()"
   ]
  },
  {
   "cell_type": "code",
   "execution_count": 115,
   "id": "e37a8cac",
   "metadata": {},
   "outputs": [
    {
     "data": {
      "text/plain": [
       "<Figure size 1000x600 with 0 Axes>"
      ]
     },
     "execution_count": 115,
     "metadata": {},
     "output_type": "execute_result"
    },
    {
     "data": {
      "text/plain": [
       "<Figure size 1000x600 with 0 Axes>"
      ]
     },
     "metadata": {},
     "output_type": "display_data"
    }
   ],
   "source": [
    "plt.figure()"
   ]
  },
  {
   "cell_type": "markdown",
   "id": "4ce4fb66",
   "metadata": {},
   "source": [
    "### 41. Rolling apply custom function"
   ]
  },
  {
   "cell_type": "code",
   "execution_count": 116,
   "id": "53d8b8ed",
   "metadata": {},
   "outputs": [
    {
     "data": {
      "text/plain": [
       "<Axes: >"
      ]
     },
     "execution_count": 116,
     "metadata": {},
     "output_type": "execute_result"
    },
    {
     "data": {
      "image/png": "[encoded data removed]",
      "text/plain": [
       "<Figure size 1000x600 with 1 Axes>"
      ]
     },
     "metadata": {},
     "output_type": "display_data"
    }
   ],
   "source": [
    "from scipy.stats import percentileofscore\n",
    "def score_at_2percent(x): # Hàm tính phần trăm vị trí của 0.02 trong mảng x\n",
    "    return percentileofscore(x, 0.02) \n",
    "\n",
    "result = returns[\"AAPL\"].rolling(250).apply(score_at_2percent) # Áp dụng hàm score_at_2percent trên cửa sổ 250 ngày\n",
    "result.plot()   "
   ]
  },
  {
   "cell_type": "code",
   "execution_count": null,
   "id": "211c1600",
   "metadata": {},
   "outputs": [],
   "source": []
  },
  {
   "cell_type": "code",
   "execution_count": 117,
   "id": "2572ace5",
   "metadata": {},
   "outputs": [],
   "source": [
    "pd.options.display.max_rows = PREVIOUS_MAX_ROWS"
   ]
  }
 ],
 "metadata": {
  "kernelspec": {
   "display_name": "Python 3",
   "language": "python",
   "name": "python3"
  },
  "language_info": {
   "codemirror_mode": {
    "name": "ipython",
    "version": 3
   },
   "file_extension": ".py",
   "mimetype": "text/x-python",
   "name": "python",
   "nbconvert_exporter": "python",
   "pygments_lexer": "ipython3",
   "version": "3.12.10"
  }
 },
 "nbformat": 4,
 "nbformat_minor": 5
}
