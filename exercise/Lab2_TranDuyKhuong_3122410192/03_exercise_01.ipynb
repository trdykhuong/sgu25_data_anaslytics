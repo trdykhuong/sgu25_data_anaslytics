{
 "cells": [
  {
   "cell_type": "markdown",
   "id": "a22fc2de",
   "metadata": {},
   "source": [
    "# Cơ bản về ngôn ngữ lập trình Python\n",
    "\n",
    "**Cách gõ trong ô Markdown**\n",
    "\n",
    "Online Latex Equation: https://latex.codecogs.com/eqneditor/editor.php <br/>\n",
    "Online Table Markdown: https://www.tablesgenerator.com/ <br/>\n",
    "Jupyter Markdown Cheatsheet: https://tinyurl.com/2fuw833c\n",
    "\n",
    "\n",
    "**Tham khảo code Python**\n",
    "\n",
    "Python Tutorial: https://www.w3schools.com/python/default.asp"
   ]
  },
  {
   "cell_type": "markdown",
   "id": "0d64a130",
   "metadata": {},
   "source": [
    "## 1. Nhập/xuất, biểu thức tính toán"
   ]
  },
  {
   "cell_type": "markdown",
   "id": "d7abd43f",
   "metadata": {},
   "source": [
    "### Bài 1. Tính giá trị hàm số\n",
    "**Yêu cầu**: Hãy viết chương trình nhập vào số thực x và tính giá trị biểu thức:\n",
    "$$\n",
    "    f\\left(x\\right) = x + \\frac{x^5}{5!} + \\frac{\\sqrt{|x|}}{x^{3/2}}\n",
    "$$\n",
    "> Moi ban nhap vao gia tri cua bien so x: **2.3** <br/>\n",
    "> Gia tri cua ham so f(**2.3**) = **3.27**."
   ]
  },
  {
   "cell_type": "code",
   "execution_count": null,
   "id": "a57f5176",
   "metadata": {},
   "outputs": [
    {
     "name": "stdout",
     "output_type": "stream",
     "text": [
      "Gia tri cua ham so f(2.3) =  3.27.\n"
     ]
    }
   ],
   "source": [
    "# Khai báo thư viện\n",
    "import math\n",
    "\n",
    "# Nhập dữ liệu\n",
    "x   = float(input('Moi ban nhap vao gia tri cua bien so x: '))\n",
    "# Xử lý hàm số\n",
    "f_x = x + (x**5)/math.factorial(5) + (math.sqrt(abs(x)))/x**(3/2)\n",
    "\n",
    "# Xuất dữ liệu\n",
    "print(f'Gia tri cua ham so f({x}) = {f_x: .2f}.')"
   ]
  },
  {
   "cell_type": "markdown",
   "id": "0dcba250",
   "metadata": {},
   "source": [
    "### Bài 2. Đổi sang giờ phút giây\n",
    "Một thiết bị hoạt động được t giây. Hãy viết chương trình chuyển số giây đó dưới dạng số giờ, số phút và số giây.\n",
    ">Nhap vao tong so giay: **4810** <br/>\n",
    ">**4810** giay co dang **1:20:10**"
   ]
  },
  {
   "cell_type": "code",
   "execution_count": null,
   "id": "21179373",
   "metadata": {},
   "outputs": [
    {
     "name": "stdout",
     "output_type": "stream",
     "text": [
      "4810 giay co dang 1:20:10\n"
     ]
    }
   ],
   "source": [
    "# Nhập dữ liệu\n",
    "t  = int(input('Nhap vao tong so giay: '))\n",
    "\n",
    "# Xử lý\n",
    "hh = t // 3600              # số giờ\n",
    "mm = (t % 3600) // 60       # số phút\n",
    "ss = t % 60                 # số giây\n",
    "\n",
    "# Xuất dữ liệu\n",
    "print(f'{t} giay co dang {hh}:{mm}:{ss}')"
   ]
  },
  {
   "cell_type": "markdown",
   "id": "d74e4398",
   "metadata": {},
   "source": [
    "## 2. Cấu trúc lựa chọn"
   ]
  },
  {
   "cell_type": "markdown",
   "id": "c08a6e09",
   "metadata": {},
   "source": [
    "### Bài 3. Giải phuơng trình bậc 1\n",
    "Nhập 2 số thực $a$, $b$. Tìm nghiệm của phương trình bậc 1 $ax + b = 0$.\n",
    ">Moi ban nhap he so a: **1** <br/>\n",
    ">Moi ban nhap he so b: **5** <br/>\n",
    ">Phuong trinh **1x + 5 = 0** co **1** nghiem x = **-5.00**."
   ]
  },
  {
   "cell_type": "code",
   "execution_count": null,
   "id": "3a7c5a48",
   "metadata": {},
   "outputs": [
    {
     "name": "stdout",
     "output_type": "stream",
     "text": [
      "Phuong trinh 1x + 5 = 0 co 1 nghiem x = -5.00.\n"
     ]
    }
   ],
   "source": [
    "# Nhập dữ liệu\n",
    "a  = int(input('Moi ban nhap he so a: '))\n",
    "b  = int(input('Moi ban nhap he so b: '))\n",
    "\n",
    "# Xử lý\n",
    "flag = None\n",
    "x = None\n",
    "if a==0:\n",
    "    if b == 0:\n",
    "        # Phương trình vô số nghiệm khi a = 0 va b = 0\n",
    "        flag = -1\n",
    "    # Phương trình vô nghiệm khi a = 0 va b != 0\n",
    "    flag = 0\n",
    "else:\n",
    "    # Phương trình có 1 nghiệm khi a != 0\n",
    "    flag = 1\n",
    "    x = -b/a\n",
    "    \n",
    "# Xuất dữ liệu\n",
    "s = f'Phuong trinh {a}x + {b} = 0'\n",
    "if flag == -1:\n",
    "    print(f'{s} vo so nghiem.')\n",
    "elif flag == 0:\n",
    "    print(f'{s} vo nghiem.')\n",
    "else:\n",
    "    print(f'{s} co 1 nghiem x = {x: .2f}.')"
   ]
  },
  {
   "cell_type": "markdown",
   "id": "4d83ca2e",
   "metadata": {},
   "source": [
    "### Bài 4. Chuyển ký số sang số\n",
    "Nhập một chuỗi s là chuỗi biểu diễn ký tự số trong tiếng Anh gồm {zero, one, two, three, four, five, six, seven, eight, nine}. Hãy kiểm tra chuỗi nhập có hợp lệ không? Nếu hợp lệ thì in ra ký số của chuỗi đó và chuỗi ký số bên tiếng việt tương ứng.\n",
    "> Moi ban nhap chuoi ky so s: One <br/>\n",
    "> Chuoi vua nhap hop le! \n",
    "> \"One\" bieu dien so cho \"1\" va ung voi tieng Viet \"mot\".\n",
    "\n",
    "> Moi ban nhap chuoi ky so s: hello <br/>\n",
    "> Chuoi vua nhap khong hop le!"
   ]
  },
  {
   "cell_type": "code",
   "execution_count": 21,
   "id": "35e10cd5",
   "metadata": {},
   "outputs": [
    {
     "name": "stdout",
     "output_type": "stream",
     "text": [
      "Chuoi vua nhap hop le\n",
      "\"one\" bieu dien cho \"1\" va ung voi tieng Viet \"mot\".\n"
     ]
    }
   ],
   "source": [
    "s = input(\"Moi ban nhap chuoi ky so s: \")\n",
    "\n",
    "en  = [\"zero\", \"one\", \"two\", \"three\", \"four\", \"five\", \"six\", \"seven\", \"eight\", \"nine\"]\n",
    "vi  = [\"khong\", \"mot\", \"hai\", \"ba\", \"bon\", \"nam\", \"sau\", \"bay\", \"tam\", \"chin\"]\n",
    "num = [0, 1, 2, 3, 4, 5, 6, 7, 8, 9]\n",
    "\n",
    "# Xu ly\n",
    "# Kiem tra\n",
    "s = s.lower()\n",
    "flag = 0\n",
    "for i in range(0, len(en)):\n",
    "    # Ký tự so sánh s với những từ trong en[i]\n",
    "    if s == en[i]:\n",
    "        flag = 1\n",
    "        print(\"Chuoi vua nhap hop le\")\n",
    "        print(f'\"{s}\" bieu dien cho \"{i}\" va ung voi tieng Viet \"{vi[i]}\".')\n",
    "\n",
    "if flag == 0:\n",
    "    print(\"Chuoi vua nhap khong hop le!\")"
   ]
  },
  {
   "cell_type": "markdown",
   "id": "888fa3d9",
   "metadata": {},
   "source": [
    "## 3. Cấu trúc lặp"
   ]
  },
  {
   "cell_type": "markdown",
   "id": "da24f70c",
   "metadata": {},
   "source": [
    "### Bài 5. Tính tổng các số chẵn\n",
    "Nhập một số nguyên n. Hãy tính tổng các số chẵn từ 1 đến n.\n",
    "> Moi ban nhap so nguyen n: **100** <br>\n",
    "> Tong cac so chan tu 1 den **100** la **2550**."
   ]
  },
  {
   "cell_type": "code",
   "execution_count": null,
   "id": "aabb9871",
   "metadata": {},
   "outputs": [
    {
     "name": "stdout",
     "output_type": "stream",
     "text": [
      "Tong cac so chan tu 1 den 100 la 2450.\n"
     ]
    }
   ],
   "source": [
    "# Nhập dữ liệu\n",
    "n   = int(input(\"Moi ban nhap so nguyen n: \"))\n",
    "\n",
    "# Xu ly\n",
    "s = 0\n",
    "if n <= 0:\n",
    "    print(\"Vui long nhap so lon hon 0\")\n",
    "for i in range(1, n):\n",
    "    # Kiem tra so chan\n",
    "    if i % 2 == 0:\n",
    "        s = s + i\n",
    "\n",
    "# Xuất dữ liệu\n",
    "print(f'Tong cac so chan tu 1 den {n} la {s}.')"
   ]
  },
  {
   "cell_type": "markdown",
   "id": "0271c8b3",
   "metadata": {},
   "source": [
    "### Bài 6. Kiểm tra số nguyên tố\n",
    "\n",
    "Nhập vào một số nguyên dương n. Hãy kiểm tra xem n có phải là nguyên tố không?\n",
    "> Moi nhap nhap so nguyen n: **10** <br/>\n",
    "> **10** khong phai la so nguyen to.\n",
    "\n",
    "> Moi nhap nhap so nguyen n: **97** <br/>\n",
    "> **97** la so nguyen to.\n",
    "\n",
    "**Lưu ý**: n là số nguyên tố khi và chỉ khi không tồn tại số nguyên từ $2$ đến $\\sqrt(n)$ mà chia hết cho n."
   ]
  },
  {
   "cell_type": "code",
   "execution_count": null,
   "id": "03541446",
   "metadata": {},
   "outputs": [
    {
     "name": "stdout",
     "output_type": "stream",
     "text": [
      "97 la so nguyen to.\n"
     ]
    }
   ],
   "source": [
    "# Nhập dữ liệu\n",
    "n   = int(input(\"Moi ban nhap so nguyen n: \"))\n",
    "\n",
    "# Xử lý \n",
    "lant = True\n",
    "if n < 2:\n",
    "    print(\"So da nhap khong phai la so nguyen to\")\n",
    "else:\n",
    "    # Kiem tra so nguyen to\n",
    "    for i in range(2, int(math.sqrt(n) + 1)):\n",
    "        # Kiem tra n co chia het cho i khong\n",
    "        if n % i == 0:\n",
    "            lant = False\n",
    "            break\n",
    "\n",
    "# Xuất dữ liệu\n",
    "if lant == True:\n",
    "    print(f'{n} la so nguyen to.')\n",
    "else:\n",
    "    print(f'{n} khong la so nguyen to.')"
   ]
  },
  {
   "cell_type": "markdown",
   "id": "681f43e6",
   "metadata": {},
   "source": [
    "## 4. Xử lý ngoại lệ và hàm số"
   ]
  },
  {
   "cell_type": "markdown",
   "id": "bbe62bdd",
   "metadata": {},
   "source": [
    "### Bài 7. Giải phương trình bậc 2\n",
    "Nhập 3 số thực a, b, c (có kiểm tra dữ liệu nhập số thực). Hãy xây dựng hàm giải phương trình bậc 2 $ax^2+bx+c=0$ và in kết quả giải ra màn hình.\n",
    "> Moi ban nhap he so a, b, c:  **a b c**<br/>\n",
    "> Ban nhap sai! Moi ban nhap lai!<br/>\n",
    "> Moi ban nhap he so a, b, c:  **1 a 3**<br/>\n",
    "> Ban nhap sai! Moi ban nhap lai!<br/>\n",
    "> Moi ban nhap he so a, b, c: **1 5 6**<br/>\n",
    "> Phuong trinh bac 2 **1x^2 + 5x + 6 = 0** co **2**  nghiem x1 = **-2.00**, x2 = **-3.00**."
   ]
  },
  {
   "cell_type": "code",
   "execution_count": 2,
   "id": "9c2a18a1",
   "metadata": {},
   "outputs": [],
   "source": [
    "def NhapDuLieu():\n",
    "    \"\"\"\n",
    "    Input: \n",
    "        Ban phim = 1 5 6\n",
    "    Output:\n",
    "        (a, b, c) --> (1, 5, 6)\n",
    "    \"\"\"   \n",
    "    while True:\n",
    "        try:\n",
    "            # Nhập dữ liệu dạng chuỗi, tách bằng khoảng trắng\n",
    "            a, b, c = map(int, input(\"Moi ban nhap he so a, b, c (cach nhau bang dau cach): \").split())\n",
    "            \n",
    "            # Xuất dữ liệu\n",
    "            print(f'He so a = {a}, b = {b}, c = {c}')\n",
    "            return a, b, c\n",
    "        except ValueError:\n",
    "            print(\"Ban nhap sai! Moi ban nhap lai!\")\n"
   ]
  },
  {
   "cell_type": "code",
   "execution_count": null,
   "id": "0a9deda7",
   "metadata": {},
   "outputs": [
    {
     "name": "stdout",
     "output_type": "stream",
     "text": [
      "He so a = 1, b = 2, c = 3\n"
     ]
    }
   ],
   "source": [
    "# Kiểm tra hàm\n",
    "a, b, c = NhapDuLieu()"
   ]
  },
  {
   "cell_type": "code",
   "execution_count": null,
   "id": "c783008d",
   "metadata": {},
   "outputs": [],
   "source": [
    "def GiaiPhuongTrinhBac2(a, b, c):\n",
    "    \"\"\"\n",
    "    Input: a, b, c\n",
    "    Output: \n",
    "    + flag = -1 (VSN), 0 (VN), k (k nghiem)\n",
    "    + () --> flag = -1, 0\n",
    "    + (x) --> flag = 1\n",
    "    + (x1, x2) --> flag = 2\n",
    "    \"\"\"\n",
    "    import math\n",
    "    flag = None\n",
    "    x = ()\n",
    "    \n",
    "    # kiem tra tung truong hop\n",
    "    if a == 0:\n",
    "        if b == 0:\n",
    "            if c == 0:\n",
    "                # Truong hop a, b, c bang 0\n",
    "                flag, x = -1, ()         # vo so nghiem\n",
    "            else:\n",
    "                # Truong hop a, b bang 0, c khac 0\n",
    "                flag, x = 0, ()          # vo nghiem\n",
    "        else:\n",
    "            # Truong hop a bang 0, b khac 0\n",
    "            nghiem = -c / b\n",
    "            flag, x = 1, (nghiem,)       # 1 nghiem bac nhat\n",
    "            \n",
    "    # Truong hop dat biet \n",
    "    elif a + b + c == 0:\n",
    "        x1 = 1\n",
    "        x2 = c / a\n",
    "        flag, x = 2, (x1, x2)\n",
    "    # Truong hop dat biet 2\n",
    "    elif a - b + c ==0:\n",
    "        x1 = -1\n",
    "        x2 = - (c / a)\n",
    "        flag, x = 2, (x1, x2)\n",
    "    else:\n",
    "        # Tính delta\n",
    "        delta = b**2 - 4*a*c\n",
    "        if delta < 0:\n",
    "            flag, x = 0, ()              # vô nghiệm\n",
    "        elif delta == 0:\n",
    "            nghiem = -b / (2*a)\n",
    "            flag, x = 1, (nghiem,)       # nghiệm kép\n",
    "        else:\n",
    "            x1 = (-b + math.sqrt(delta)) / (2*a)\n",
    "            x2 = (-b - math.sqrt(delta)) / (2*a)\n",
    "            flag, x = 2, (x1, x2)        # 2 nghiệm phân biệt\n",
    "    # ...    \n",
    "    \n",
    "    return flag, x"
   ]
  },
  {
   "cell_type": "code",
   "execution_count": null,
   "id": "a3ce5e1f",
   "metadata": {},
   "outputs": [
    {
     "name": "stdout",
     "output_type": "stream",
     "text": [
      "a = 0\n",
      "So nghiem: -1, nghiem = ()\n",
      "So nghiem: 0, nghiem = ()\n",
      "So nghiem: 1, nghiem = (-1.2,)\n",
      "a <> 0\n",
      "So nghiem: 0, nghiem = ()\n",
      "So nghiem: 2, nghiem = (-1, -1.0)\n",
      "So nghiem: 2, nghiem = (-2.0, -3.0)\n"
     ]
    }
   ],
   "source": [
    "# GiaiPhuongTrinhBac2\n",
    "print(\"a = 0\")\n",
    "flag, x = GiaiPhuongTrinhBac2(0, 0, 0)\n",
    "print(f'So nghiem: {flag}, nghiem = {x}')\n",
    "flag, x = GiaiPhuongTrinhBac2(0, 0, 5)\n",
    "print(f'So nghiem: {flag}, nghiem = {x}')\n",
    "flag, x = GiaiPhuongTrinhBac2(0, 5, 6)\n",
    "print(f'So nghiem: {flag}, nghiem = {x}')\n",
    "\n",
    "print(\"a <> 0\")\n",
    "flag, x = GiaiPhuongTrinhBac2(5, 1, 2)\n",
    "print(f'So nghiem: {flag}, nghiem = {x}')\n",
    "flag, x = GiaiPhuongTrinhBac2(1, 2, 1)\n",
    "print(f'So nghiem: {flag}, nghiem = {x}')\n",
    "flag, x = GiaiPhuongTrinhBac2(1, 5, 6)\n",
    "print(f'So nghiem: {flag}, nghiem = {x}')"
   ]
  },
  {
   "cell_type": "code",
   "execution_count": 5,
   "id": "e3ca0b13",
   "metadata": {},
   "outputs": [
    {
     "name": "stdout",
     "output_type": "stream",
     "text": [
      "He so a = 1, b = 5, c = 6\n",
      "Phuong trinh bac 2 1x^2 + 5x + 6 = 0 co 2 nghiem, x1 = -2.0, x2 = -3.0!\n"
     ]
    }
   ],
   "source": [
    "# Kết nối bài\n",
    "a, b, c = NhapDuLieu()\n",
    "# Gọi hàm giải\n",
    "flag, x = GiaiPhuongTrinhBac2(a, b, c)\n",
    "# Xuất dữ liệu\n",
    "s = f'Phuong trinh bac 2 {a}x^2 + {b}x + {c} = 0'\n",
    "if flag == -1:\n",
    "    print(f'{s} co vo so nghiem!')\n",
    "elif flag == 0:\n",
    "    print(f'{s} vo nghiem!')\n",
    "elif flag == 1:\n",
    "    print(f'{s} co 1 nghiem, x = {x[0]}!')\n",
    "elif flag == 2:\n",
    "    print(f'{s} co 2 nghiem, x1 = {x[0]}, x2 = {x[1]}!')\n",
    "# if"
   ]
  },
  {
   "cell_type": "markdown",
   "id": "3599a9c3",
   "metadata": {},
   "source": [
    "## 5. Dữ liệu nâng cao (List, Tuple, Set, Dictionary)"
   ]
  },
  {
   "cell_type": "markdown",
   "id": "40440f39",
   "metadata": {},
   "source": [
    "### Bài 8. Các thao tác xử lý mảng số\n",
    "\n",
    "Viết chương trình xây dựng các hàm sau cho List và kiểm tra tính đúng đắn của các hàm số:\n",
    "+ Nhập một mảng số từ bàn phím cách nhau bởi khoảng trắng. Xuất mảng ra màn hình. <br/>\n",
    "+ Sinh một mảng số ngẫu nhiên có n phần tử trong khoảng a, b.\n",
    "+ Tính tổng của mảng số, đếm các phần tử chẵn, lẻ trong mảng.\n",
    "+ Cho một mảng số, hãy trả về dãy chẳn, dãy lẻ.\n",
    "\n",
    "> a = NhapMang() <br/>\n",
    "> XuatMang(a) <br/>\n",
    "> b = SinhNgauNhien(10, -10, 10) <br/>\n",
    "> XuatMang(b) <br/>\n",
    "> tong, chan, le = TinhTongChanLe(b) <br/>\n",
    "> a_chan, a_le = TimChanLe(b) <br/>"
   ]
  },
  {
   "cell_type": "code",
   "execution_count": null,
   "id": "f2d6c35d",
   "metadata": {},
   "outputs": [],
   "source": [
    "def NhapMang():\n",
    "    \"\"\"\n",
    "    Input:\n",
    "        Ban phim = 1 4 1 2 3 4 1 2 3 3 1 2 3 4 10 2\n",
    "    Output:\n",
    "        a = [1, 4, 1, 2, 3, 4, 1, 2, 3, 3, 1, 2, 3, 4, 10, 2]\n",
    "    \"\"\"\n",
    "    # Nhap du lieu\n",
    "    while True:\n",
    "        try:\n",
    "            a = list(map(int, input(\"Moi ban nhap mang (cach nhau bang dau cach): \").split()))\n",
    "            break\n",
    "        except ValueError:\n",
    "            print(\"Ban nhap sai! Moi ban nhap lai!\")\n",
    "    return a"
   ]
  },
  {
   "cell_type": "code",
   "execution_count": null,
   "id": "c9176895",
   "metadata": {},
   "outputs": [
    {
     "name": "stdout",
     "output_type": "stream",
     "text": [
      "Mang vua nhap: [1, 4, 1, 2, 3, 4, 1, 2, 3, 3, 1, 2, 3, 4, 10, 2]\n",
      "[1, 4, 1, 2, 3, 4, 1, 2, 3, 3, 1, 2, 3, 4, 10, 2]\n"
     ]
    }
   ],
   "source": [
    "# NhapMang\n",
    "a = NhapMang() # 1 4 1 2 3 4 1 2 3 3 1 2 3 4 10 2\n",
    "print(a)"
   ]
  },
  {
   "cell_type": "code",
   "execution_count": null,
   "id": "275394f9",
   "metadata": {},
   "outputs": [],
   "source": [
    "def XuatMang(a):\n",
    "    \"\"\"\n",
    "    Input:\n",
    "        a = [1, 4, 1, 2, 3, 4, 1, 2, 3, 3, 1, 2, 3, 4, 10, 2]\n",
    "    Output: \n",
    "        In ra man hinh:\n",
    "            Mang co 16 phan tu: 1 4 1 2 3 4 1 2 3 3 1 2 3 4 10 2 \n",
    "            \"\"\"\n",
    "    print(f'Mang co {len(a)} phan tu: ', end = '')\n",
    "    for i in range(len(a)):\n",
    "        print(a[i], end = ' ')\n",
    "    print()\n",
    "    "
   ]
  },
  {
   "cell_type": "code",
   "execution_count": 9,
   "id": "936f4336",
   "metadata": {},
   "outputs": [
    {
     "name": "stdout",
     "output_type": "stream",
     "text": [
      "Mang co 16 phan tu: 1 4 1 2 3 4 1 2 3 3 1 2 3 4 10 2 \n"
     ]
    }
   ],
   "source": [
    "# XuatMang\n",
    "a = [1, 4, 1, 2, 3, 4, 1, 2, 3, 3, 1, 2, 3, 4, 10, 2]\n",
    "XuatMang(a)"
   ]
  },
  {
   "cell_type": "code",
   "execution_count": null,
   "id": "585abccd",
   "metadata": {},
   "outputs": [],
   "source": [
    "import random\n",
    "def SinhNgauNhien(n, vmin = -10, vmax = 10):\n",
    "    \"\"\"\n",
    "    Input:\n",
    "        n = 30, vmin = -10, vmax = 10\n",
    "    Output:\n",
    "        a = [-1, -4, -8, 6, 4, -5, -1, -4, -9, -5, -10, 0, -6, 2, 1, -9, -9, 10, -8, -9, -7, 9, 2, -4, -1, -6, 5, -6, 9, -8]\n",
    "    \"\"\"    \n",
    "    a = []\n",
    "    for i in range(n):\n",
    "        # Sinh ngau nhien trong khoang [vmin, vmax]\n",
    "        a.append(random.randint(vmin, vmax))\n",
    "    \n",
    "    return a"
   ]
  },
  {
   "cell_type": "code",
   "execution_count": null,
   "id": "2b040bcc",
   "metadata": {},
   "outputs": [
    {
     "name": "stdout",
     "output_type": "stream",
     "text": [
      "[-6, 4, 5, 0, -1, -4, -6, -3, 7, -3, -2, -2, 6, 7, 8, 0, -2, -2, -1, 2, -5, -8, 3, 10, 5, -2, -7, 9, -7, 8]\n",
      "[3, 2, 6, 8, 10, 9, 4, 0, 5, 10, 3, 10, 7, 5, 3, 3, 4, 0, 0, 2, 2, 8, 4, 2, 8, 4, 7, 5, 2, 6]\n",
      "[-9, -5, -3, 2, -1, -4, -7, 1, -5, -4, -9, 0, -5, -2, -9, 0, -7, -4, -1, -5, 0, -2, -3, 0, -6, -9, 1, -10, -5, -2]\n"
     ]
    }
   ],
   "source": [
    "# SinhNgauNhien\n",
    "b = SinhNgauNhien(30, -10, 10)\n",
    "print(b)\n",
    "b = SinhNgauNhien(30, vmin = 0)\n",
    "print(b)\n",
    "b = SinhNgauNhien(30, vmax = 2)\n",
    "print(b)"
   ]
  },
  {
   "cell_type": "code",
   "execution_count": null,
   "id": "a02e223b",
   "metadata": {},
   "outputs": [],
   "source": [
    "def DemTongChanLe(a):\n",
    "    \"\"\"\n",
    "    Input: a[] = [1, 4, 2, 0, -1, -7, 3, -6, 4, 9, -5, 7, 7, -7, -10, 1, -10, 9, -4, -6, 10, -2, -10, -8, -3, 2, -7, -10, 6, 0]\n",
    "    Output: tong, sochan, sole\n",
    "    \"\"\"\n",
    "    tong = 0\n",
    "    sochan = 0\n",
    "    sole = 0\n",
    "    \n",
    "    # Chay vong lap de tinh tong, so chan, so le\n",
    "    for i in range(len(a)):\n",
    "        tong += a[i]\n",
    "        if a[i] % 2 == 0:\n",
    "            # So chan\n",
    "            sochan += 1\n",
    "        else:\n",
    "            # So le\n",
    "            sole += 1\n",
    "\n",
    "    return tong, sochan, sole"
   ]
  },
  {
   "cell_type": "code",
   "execution_count": 13,
   "id": "591eeb68",
   "metadata": {},
   "outputs": [
    {
     "name": "stdout",
     "output_type": "stream",
     "text": [
      "(-31, 17, 13)\n",
      "(141, 17, 13)\n"
     ]
    }
   ],
   "source": [
    "# DemTongChanLe\n",
    "a = [1, 4, 2, 0, -1, -7, 3, -6, 4, 9, -5, 7, 7, -7, -10, 1, -10, 9, -4, -6, 10, -2, -10, -8, -3, 2, -7, -10, 6, 0]\n",
    "print(DemTongChanLe(a))\n",
    "a = [9, 6, 5, 0, 8, 8, 1, 10, 0, 0, 1, 1, 2, 7, 1, 10, 9, 1, 10, 8, 2, 8, 4, 5, 4, 5, 5, 3, 6, 2]\n",
    "print(DemTongChanLe(a))"
   ]
  },
  {
   "cell_type": "code",
   "execution_count": 14,
   "id": "85e571de",
   "metadata": {},
   "outputs": [],
   "source": [
    "def DayChanLe(a): # Gia tri tra ve\n",
    "    \"\"\"\n",
    "    Input:\n",
    "        a = [1, 4, 2, 0, -1, -7, 3, -6, 4, 9, -5, 7, 7, -7, -10, 1, -10, 9, -4, -6, 10, -2, -10, -8, -3, 2, -7, -10, 6, 0]\n",
    "    Output: (achan, ale)\n",
    "        achan = [4, 2, 0, -6, 4, -10, -10, -4, -6, 10, -2, -10, -8, 2, -10, 6, 0]\n",
    "        ale = [1, -1, -7, 3, 9, -5, 7, 7, -7, 1, 9, -3, -7]\n",
    "    \"\"\"    \n",
    "    achan = []\n",
    "    ale = []\n",
    "    \n",
    "    \"\"\" CÁC BẠN LÀM BÀI Ở ĐÂY \"\"\"\n",
    "    # ...\n",
    "    for i in range(len(a)):\n",
    "        if a[i] % 2 == 0:\n",
    "            achan.append(a[i])\n",
    "        else:\n",
    "            ale.append(a[i])\n",
    "\n",
    "    return achan, ale"
   ]
  },
  {
   "cell_type": "code",
   "execution_count": 15,
   "id": "6cb8ed89",
   "metadata": {},
   "outputs": [
    {
     "name": "stdout",
     "output_type": "stream",
     "text": [
      "DayChanLe:\n",
      "Chan = [4, 2, 0, -6, 4, -10, -10, -4, -6, 10, -2, -10, -8, 2, -10, 6, 0]\n",
      "Le = [1, -1, -7, 3, 9, -5, 7, 7, -7, 1, 9, -3, -7]\n",
      "\n"
     ]
    }
   ],
   "source": [
    "# DayChanLe\n",
    "a = [1, 4, 2, 0, -1, -7, 3, -6, 4, 9, -5, 7, 7, -7, -10, 1, -10, 9, -4, -6, 10, -2, -10, -8, -3, 2, -7, -10, 6, 0]\n",
    "achan, ale = DayChanLe(a)\n",
    "print(f'DayChanLe:\\nChan = {achan}\\nLe = {ale}\\n')"
   ]
  },
  {
   "cell_type": "markdown",
   "id": "104aaa87",
   "metadata": {},
   "source": [
    "### Bài 9. Các thao tác trên tập hợp, từ điển\n",
    "\n",
    "Viết chương trình nhập vào một dãy ký tự a cách nhau bởi khoảng trắng. Hãy thực hiện:\n",
    "+ In các ký tự trong a không trùng nhau và được sắp theo thứ tự tăng dần\n",
    "+ Đếm số lần xuất hiện các ký tự trong dãy a\n"
   ]
  },
  {
   "cell_type": "code",
   "execution_count": null,
   "id": "5063fa2a",
   "metadata": {},
   "outputs": [],
   "source": [
    "def XuLyKhongTrung(a):\n",
    "    \"\"\"\n",
    "    Input:\n",
    "        a = ['A', 'G', 'C', 'A', 'C', 'F', 'F', 'T', 'H']\n",
    "    Output:\n",
    "        s = ['A', 'C', 'F', 'G', 'H', 'T']\n",
    "    \"\"\"\n",
    "    s = set([])\n",
    "\n",
    "    for i in range(len(a)):\n",
    "        # Them phan tu vao set\n",
    "        s.add(a[i])\n",
    "        \n",
    "    # Sap xep va tra ve\n",
    "    return sorted(s)"
   ]
  },
  {
   "cell_type": "code",
   "execution_count": 17,
   "id": "d847281a",
   "metadata": {},
   "outputs": [
    {
     "name": "stdout",
     "output_type": "stream",
     "text": [
      "['A', 'C', 'F', 'G', 'H', 'T']\n"
     ]
    }
   ],
   "source": [
    "# XuLyKhongTrung\n",
    "a = ['A', 'G', 'C', 'A', 'C', 'F', 'F', 'T', 'H']\n",
    "b = XuLyKhongTrung(a)\n",
    "print(b)"
   ]
  },
  {
   "cell_type": "code",
   "execution_count": null,
   "id": "b675a411",
   "metadata": {},
   "outputs": [],
   "source": [
    "def DemSoLanXuatHien(a):\n",
    "    \"\"\"\n",
    "    Input:\n",
    "        a = ['A', 'G', 'C', 'A', 'C', 'F', 'F', 'T', 'H']\n",
    "    Output:\n",
    "        dem = {'A': 2, 'G': 1, 'C': 2, 'F': 2, 'T': 1, 'H': 1}\n",
    "    \"\"\"\n",
    "    # Xu ly\n",
    "    dem = {} # (k, v): k (ky tu) v (so lan xuat hien)\n",
    "    for i in range(len(a)):\n",
    "        if a[i] in dem:\n",
    "            dem[a[i]] += 1\n",
    "        else:\n",
    "            dem[a[i]] = 1\n",
    "    \n",
    "    return dem"
   ]
  },
  {
   "cell_type": "code",
   "execution_count": 20,
   "id": "f0d91ed8",
   "metadata": {},
   "outputs": [
    {
     "name": "stdout",
     "output_type": "stream",
     "text": [
      "{'A': 2, 'G': 1, 'C': 2, 'F': 2, 'T': 1, 'H': 1}\n"
     ]
    }
   ],
   "source": [
    "# DemSoLanXuatHien\n",
    "a = ['A', 'G', 'C', 'A', 'C', 'F', 'F', 'T', 'H']\n",
    "b = DemSoLanXuatHien(a)\n",
    "print(b)"
   ]
  },
  {
   "cell_type": "markdown",
   "id": "8b9b2732",
   "metadata": {},
   "source": [
    "# Kết thúc"
   ]
  },
  {
   "cell_type": "code",
   "execution_count": 22,
   "id": "fd78de18",
   "metadata": {},
   "outputs": [
    {
     "name": "stderr",
     "output_type": "stream",
     "text": [
      "[NbConvertApp] Converting notebook 03_exercise_01.ipynb to html\n",
      "[NbConvertApp] Writing 357208 bytes to 03_exercise_01.html\n"
     ]
    }
   ],
   "source": [
    "!jupyter nbconvert --to html \"03_exercise_01.ipynb\""
   ]
  }
 ],
 "metadata": {
  "kernelspec": {
   "display_name": "Python 3",
   "language": "python",
   "name": "python3"
  },
  "language_info": {
   "codemirror_mode": {
    "name": "ipython",
    "version": 3
   },
   "file_extension": ".py",
   "mimetype": "text/x-python",
   "name": "python",
   "nbconvert_exporter": "python",
   "pygments_lexer": "ipython3",
   "version": "3.12.5"
  }
 },
 "nbformat": 4,
 "nbformat_minor": 5
}
