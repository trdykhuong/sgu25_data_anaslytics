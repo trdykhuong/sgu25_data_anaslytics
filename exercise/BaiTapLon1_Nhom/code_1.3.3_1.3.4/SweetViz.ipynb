{
 "cells": [
  {
   "cell_type": "markdown",
   "id": "396a9bbc",
   "metadata": {},
   "source": [
    "# Bài tập thực hành 1.3.3: Tìm hiểu các tính năng và cách sử dụng sản phẩm SweetViz"
   ]
  },
  {
   "cell_type": "markdown",
   "id": "6c3bc58a",
   "metadata": {},
   "source": [
    "## 1. Giới thiệu"
   ]
  },
  {
   "cell_type": "markdown",
   "id": "dafcb81b",
   "metadata": {},
   "source": [
    "### Trong lĩnh vực phân tích dữ liệu, việc thực hiện EDA (Exploratory Data Analysis) là bước quan trọng để hiểu rõ tập dữ liệu trước khi xây dựng mô hình. Hai công cụ phổ biến hỗ trợ EDA tự động là SweetViz và AutoViz. Báo cáo này sẽ tìm hiểu, hướng dẫn sử dụng và so sánh hai sản phẩm trên."
   ]
  },
  {
   "cell_type": "markdown",
   "id": "a5a3b844",
   "metadata": {},
   "source": [
    "## 2. SweetViz"
   ]
  },
  {
   "cell_type": "markdown",
   "id": "684491f9",
   "metadata": {},
   "source": [
    "### 2.1 Giới thiệu\n",
    "### SweetViz là một thư viện Python được thiết kế để tạo các báo cáo trực quan EDA một cách nhanh chóng. Nó xuất báo cáo dưới dạng file HTML với các biểu đồ, thống kê mô tả, và so sánh dữ liệu."
   ]
  },
  {
   "cell_type": "markdown",
   "id": "a037a4a4",
   "metadata": {},
   "source": [
    "### 2.2 Cài đặt"
   ]
  },
  {
   "cell_type": "code",
   "execution_count": null,
   "id": "2acd4b51",
   "metadata": {},
   "outputs": [],
   "source": [
    "# Cài đặt bằng lệnh:\n",
    "# pip install sweetviz\n",
    "# Phiên bản numpy phù hợp nhất: pip install numpy==1.23.5\n"
   ]
  },
  {
   "cell_type": "markdown",
   "id": "1ef79468",
   "metadata": {},
   "source": [
    "### 2.3 Cách sử dụng"
   ]
  },
  {
   "cell_type": "code",
   "execution_count": 1,
   "id": "31a1ed7c",
   "metadata": {},
   "outputs": [],
   "source": [
    "# Khai báo thư viện \n",
    "import sweetviz as sv\n",
    "import pandas as pd\n"
   ]
  },
  {
   "cell_type": "code",
   "execution_count": 2,
   "id": "b77bcbd3",
   "metadata": {},
   "outputs": [
    {
     "data": {
      "application/vnd.jupyter.widget-view+json": {
       "model_id": "69bc86d0374d49978adbc06218c391b1",
       "version_major": 2,
       "version_minor": 0
      },
      "text/plain": [
       "                                             |          | [  0%]   00:00 -> (? left)"
      ]
     },
     "metadata": {},
     "output_type": "display_data"
    },
    {
     "name": "stdout",
     "output_type": "stream",
     "text": [
      "Report sweetviz_report.html was generated! NOTEBOOK/COLAB USERS: the web browser MAY not pop up, regardless, the report IS saved in your notebook/colab files.\n"
     ]
    }
   ],
   "source": [
    "# Ví dụ sử dụng SweetViz trên tập dữ liệu Marketing Campaign:\n",
    "\n",
    "df = pd.read_csv('../data/marketing_campaign.csv')\n",
    "report = sv.analyze(df)\n",
    "report.show_html('sweetviz_report.html')\n",
    "\n",
    "# Sau khi chạy, báo cáo EDA trực quan được xuất ra file HTML và có thể mở bằng trình duyệt.\n"
   ]
  },
  {
   "cell_type": "markdown",
   "id": "df84afc6",
   "metadata": {},
   "source": [
    "# Kết thúc"
   ]
  }
 ],
 "metadata": {
  "kernelspec": {
   "display_name": "Python 3",
   "language": "python",
   "name": "python3"
  },
  "language_info": {
   "codemirror_mode": {
    "name": "ipython",
    "version": 3
   },
   "file_extension": ".py",
   "mimetype": "text/x-python",
   "name": "python",
   "nbconvert_exporter": "python",
   "pygments_lexer": "ipython3",
   "version": "3.11.9"
  }
 },
 "nbformat": 4,
 "nbformat_minor": 5
}
