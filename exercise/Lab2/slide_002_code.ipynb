{
  "cells": [
    {
      "cell_type": "markdown",
      "id": "6bc0b1cb",
      "metadata": {},
      "source": [
        "## Python Programing"
      ]
    },
    {
      "cell_type": "markdown",
      "metadata": {},
      "source": [
        "### Python Hello World & Syntax"
      ]
    },
    {
      "cell_type": "code",
      "execution_count": 87,
      "metadata": {},
      "outputs": [
        {
          "name": "stdout",
          "output_type": "stream",
          "text": [
            "Hello World\n"
          ]
        }
      ],
      "source": [
        "print(\"Hello World\")"
      ]
    },
    {
      "cell_type": "code",
      "execution_count": 88,
      "metadata": {},
      "outputs": [
        {
          "name": "stdout",
          "output_type": "stream",
          "text": [
            "Pass\n"
          ]
        }
      ],
      "source": [
        "# comment\n",
        "score = 80\n",
        "if score >= 60:\n",
        "    print(\"Pass\")"
      ]
    },
    {
      "cell_type": "markdown",
      "metadata": {},
      "source": [
        "### Python Variables & Data Types"
      ]
    },
    {
      "cell_type": "code",
      "execution_count": 89,
      "metadata": {},
      "outputs": [],
      "source": [
        "x = 2\n",
        "price = 2.5\n",
        "word = 'Hello'"
      ]
    },
    {
      "cell_type": "code",
      "execution_count": 90,
      "metadata": {},
      "outputs": [],
      "source": [
        "x = 2\n",
        "y = x + 1"
      ]
    },
    {
      "cell_type": "code",
      "execution_count": 91,
      "metadata": {},
      "outputs": [
        {
          "name": "stdout",
          "output_type": "stream",
          "text": [
            "Python Version: 3.13.5\n"
          ]
        }
      ],
      "source": [
        "from platform import python_version\n",
        "print('Python Version:', python_version())"
      ]
    },
    {
      "cell_type": "code",
      "execution_count": 92,
      "metadata": {},
      "outputs": [],
      "source": [
        "x = \"Hello World\"\n",
        "x = 2\n",
        "x = 2.5\n",
        "x = 7j"
      ]
    },
    {
      "cell_type": "code",
      "execution_count": 93,
      "metadata": {},
      "outputs": [],
      "source": [
        "x = [\"apple\", \"banana\", \"cherry\"]\n",
        "x = (\"apple\", \"banana\", \"cherry\")\n",
        "x = {\"name\": \"Tom\", \"age\": 20}\n",
        "x = {\"apple\", \"banana\", \"cherry\"}"
      ]
    },
    {
      "cell_type": "code",
      "execution_count": 94,
      "metadata": {},
      "outputs": [
        {
          "name": "stdout",
          "output_type": "stream",
          "text": [
            "3 <class 'str'>\n",
            "3 <class 'int'>\n",
            "3.0 <class 'float'>\n"
          ]
        }
      ],
      "source": [
        "x = str(3)\n",
        "y = int(3)\n",
        "z = float(3)\n",
        "print(x, type(x))\n",
        "print(y, type(y))\n",
        "print(z, type(z))"
      ]
    },
    {
      "cell_type": "code",
      "execution_count": 95,
      "metadata": {},
      "outputs": [
        {
          "name": "stdout",
          "output_type": "stream",
          "text": [
            "2 <class 'int'>\n",
            "3.4 <class 'float'>\n",
            "7j <class 'complex'>\n"
          ]
        }
      ],
      "source": [
        "x = 2\n",
        "y = 3.4\n",
        "z = 7j\n",
        "print(x, type(x))\n",
        "print(y, type(y))\n",
        "print(z, type(z))"
      ]
    },
    {
      "cell_type": "markdown",
      "metadata": {},
      "source": [
        "### Python Operators & Booleans"
      ]
    },
    {
      "cell_type": "code",
      "execution_count": 96,
      "metadata": {},
      "outputs": [
        {
          "name": "stdout",
          "output_type": "stream",
          "text": [
            "7 + 2 = 9\n",
            "7 - 2 = 5\n",
            "7 * 2 = 14\n",
            "7 / 2 = 3.5\n",
            "7 // 2 = 3\n",
            "7 % 2 = 1\n",
            "7 ** 2 = 49\n"
          ]
        }
      ],
      "source": [
        "print(\"7 + 2 =\", 7 + 2)\n",
        "print(\"7 - 2 =\", 7 - 2)\n",
        "print(\"7 * 2 =\", 7 * 2)\n",
        "print(\"7 / 2 =\", 7 / 2)\n",
        "print(\"7 // 2 =\", 7 // 2)\n",
        "print(\"7 % 2 =\", 7 % 2)\n",
        "print(\"7 ** 2 =\", 7 ** 2)"
      ]
    },
    {
      "cell_type": "code",
      "execution_count": 97,
      "metadata": {},
      "outputs": [
        {
          "name": "stdout",
          "output_type": "stream",
          "text": [
            "True\n",
            "False\n",
            "False\n"
          ]
        }
      ],
      "source": [
        "print(3 > 2)\n",
        "print(3 == 2)\n",
        "print(3 < 2)"
      ]
    },
    {
      "cell_type": "markdown",
      "metadata": {},
      "source": [
        "### Python Mini Projects"
      ]
    },
    {
      "cell_type": "code",
      "execution_count": 98,
      "metadata": {},
      "outputs": [
        {
          "name": "stdout",
          "output_type": "stream",
          "text": [
            "Your BMI is: 20.8\n"
          ]
        }
      ],
      "source": [
        "height_cm = 170\n",
        "weight_kg = 60\n",
        "height_m = height_cm/100\n",
        "BMI = (weight_kg/(height_m**2))\n",
        "print(\"Your BMI is:\", round(BMI,1))"
      ]
    },
    {
      "cell_type": "code",
      "execution_count": 99,
      "metadata": {},
      "outputs": [
        {
          "name": "stdout",
          "output_type": "stream",
          "text": [
            "fv = 194.87\n"
          ]
        }
      ],
      "source": [
        "fv = 100 * 1.1 ** 7\n",
        "print(\"fv =\", round(fv, 2))"
      ]
    },
    {
      "cell_type": "code",
      "execution_count": 100,
      "metadata": {},
      "outputs": [
        {
          "name": "stdout",
          "output_type": "stream",
          "text": [
            "194.87\n"
          ]
        }
      ],
      "source": [
        "pv = 100\n",
        "r = 0.1\n",
        "n = 7\n",
        "fv = pv * ((1 + r) ** n)\n",
        "print(round(fv, 2))"
      ]
    },
    {
      "cell_type": "code",
      "execution_count": 101,
      "metadata": {},
      "outputs": [
        {
          "name": "stdout",
          "output_type": "stream",
          "text": [
            "194.87\n"
          ]
        }
      ],
      "source": [
        "amount = 100\n",
        "interest = 10\n",
        "years = 7\n",
        "future_value = amount * ((1 + (0.01 * interest)) ** years)\n",
        "print(round(future_value, 2))"
      ]
    },
    {
      "cell_type": "markdown",
      "metadata": {},
      "source": [
        "### Python Data Structures"
      ]
    },
    {
      "cell_type": "code",
      "execution_count": 102,
      "metadata": {},
      "outputs": [
        {
          "name": "stdout",
          "output_type": "stream",
          "text": [
            "4\n",
            "60\n",
            "70\n",
            "90\n"
          ]
        }
      ],
      "source": [
        "x = [60, 70, 80, 90]\n",
        "print(len(x))\n",
        "print(x[0])\n",
        "print(x[1])\n",
        "print(x[-1])"
      ]
    },
    {
      "cell_type": "code",
      "execution_count": 103,
      "metadata": {},
      "outputs": [
        {
          "name": "stdout",
          "output_type": "stream",
          "text": [
            "10\n",
            "20\n",
            "30\n",
            "50\n"
          ]
        }
      ],
      "source": [
        "x = (10, 20, 30, 40, 50)\n",
        "print(x[0])\n",
        "print(x[1])\n",
        "print(x[2])\n",
        "print(x[-1])"
      ]
    },
    {
      "cell_type": "code",
      "execution_count": 104,
      "metadata": {},
      "outputs": [
        {
          "name": "stdout",
          "output_type": "stream",
          "text": [
            "True\n",
            "False\n",
            "True\n",
            "3\n",
            "3\n",
            "2\n"
          ]
        }
      ],
      "source": [
        "animals = {'cat', 'dog'}\n",
        "print('cat' in animals)\n",
        "print('fish' in animals)\n",
        "animals.add('fish')\n",
        "print('fish' in animals)\n",
        "print(len(animals))\n",
        "animals.add('cat')\n",
        "print(len(animals))\n",
        "animals.remove('cat')\n",
        "print(len(animals))"
      ]
    },
    {
      "cell_type": "code",
      "execution_count": 105,
      "metadata": {},
      "outputs": [
        {
          "name": "stdout",
          "output_type": "stream",
          "text": [
            "English\n"
          ]
        }
      ],
      "source": [
        "k = {'EN':'English', 'FR':'French'}\n",
        "print(k['EN'])"
      ]
    },
    {
      "cell_type": "markdown",
      "metadata": {},
      "source": [
        "### Python Loops"
      ]
    },
    {
      "cell_type": "code",
      "execution_count": 106,
      "metadata": {},
      "outputs": [
        {
          "name": "stdout",
          "output_type": "stream",
          "text": [
            "1\n",
            "2\n",
            "3\n",
            "4\n",
            "5\n"
          ]
        }
      ],
      "source": [
        "for i in range(1,6):\n",
        "    print(i)"
      ]
    },
    {
      "cell_type": "code",
      "execution_count": 107,
      "metadata": {},
      "outputs": [
        {
          "name": "stdout",
          "output_type": "stream",
          "text": [
            "10\n",
            "11\n",
            "12\n",
            "13\n",
            "14\n",
            "15\n",
            "16\n",
            "17\n",
            "18\n",
            "19\n"
          ]
        }
      ],
      "source": [
        "age = 10\n",
        "while age < 20:\n",
        "    print(age)\n",
        "    age += 1"
      ]
    },
    {
      "cell_type": "markdown",
      "metadata": {},
      "source": [
        "### Python Functions"
      ]
    },
    {
      "cell_type": "code",
      "execution_count": 108,
      "metadata": {},
      "outputs": [
        {
          "name": "stdout",
          "output_type": "stream",
          "text": [
            "194.87\n"
          ]
        }
      ],
      "source": [
        "def getfv(pv, r, n):\n",
        "    fv = pv * ((1 + r) ** n)\n",
        "    return fv\n",
        "print(round(getfv(100, 0.1, 7), 2))"
      ]
    },
    {
      "cell_type": "markdown",
      "metadata": {},
      "source": [
        "### Python Classes & Objects"
      ]
    },
    {
      "cell_type": "code",
      "execution_count": 109,
      "metadata": {},
      "outputs": [
        {
          "name": "stdout",
          "output_type": "stream",
          "text": [
            "Hello my name is Alan\n",
            "Alan 20\n"
          ]
        }
      ],
      "source": [
        "class Person:\n",
        "    def __init__(self, name, age):\n",
        "        self.name = name\n",
        "        self.age = age\n",
        "    def myfunc(self):\n",
        "        print(\"Hello my name is \" + self.name)\n",
        "p1 = Person(\"Alan\", 20)\n",
        "p1.myfunc()\n",
        "print(p1.name, p1.age)"
      ]
    },
    {
      "cell_type": "markdown",
      "metadata": {},
      "source": [
        "### Python Modules"
      ]
    },
    {
      "cell_type": "code",
      "execution_count": 110,
      "metadata": {},
      "outputs": [
        {
          "name": "stdout",
          "output_type": "stream",
          "text": [
            "Hello, Alan\n"
          ]
        }
      ],
      "source": [
        "# mymodule.py\n",
        "# def greeting(name):\n",
        "#     print(\"Hello, \" + name)\n",
        "\n",
        "import types\n",
        "mymodule = types.SimpleNamespace()\n",
        "mymodule.greeting = lambda name: print(\"Hello,\", name)\n",
        "mymodule.greeting(\"Alan\")"
      ]
    },
    {
      "cell_type": "markdown",
      "metadata": {},
      "source": [
        "### Python File I/O"
      ]
    },
    {
      "cell_type": "code",
      "execution_count": 111,
      "metadata": {},
      "outputs": [
        {
          "name": "stdout",
          "output_type": "stream",
          "text": [
            "Hello World\n"
          ]
        }
      ],
      "source": [
        "with open(\"myfile.txt\", \"w\") as file:\n",
        "    file.write(\"Hello World\")\n",
        "with open(\"myfile.txt\", \"r\") as file:\n",
        "    text = file.read()\n",
        "print(text)"
      ]
    },
    {
      "cell_type": "code",
      "execution_count": 112,
      "id": "f1863654",
      "metadata": {},
      "outputs": [],
      "source": [
        "import os\n"
      ]
    },
    {
      "cell_type": "code",
      "execution_count": 114,
      "id": "5ddb36a2",
      "metadata": {},
      "outputs": [
        {
          "name": "stdout",
          "output_type": "stream",
          "text": [
            "myfile.txt removed\n"
          ]
        }
      ],
      "source": [
        "# Remove file\n",
        "if os.path.exists(\"myfile.txt\"):\n",
        " os.remove(\"myfile.txt\")\n",
        " print(\"myfile.txt removed\")\n",
        "\n",
        "else:\n",
        " print(\"The file does not exist\")"
      ]
    },
    {
      "cell_type": "markdown",
      "id": "12a23252",
      "metadata": {},
      "source": [
        "### Python OS, IO, files, and Google Drive"
      ]
    },
    {
      "cell_type": "code",
      "execution_count": null,
      "id": "6397f63c",
      "metadata": {},
      "outputs": [
        {
          "name": "stdout",
          "output_type": "stream",
          "text": [
            "d:\\HK1_2025-2026\\Phân tích dữ liệu\\sgu25_data_anaslytics\\exercise\\Lab2\n"
          ]
        }
      ],
      "source": [
        "import os\n",
        "\n",
        "cwd = os.getcwd()\n",
        "print(cwd)"
      ]
    },
    {
      "cell_type": "markdown",
      "metadata": {},
      "source": [
        "### Python Exception Handling"
      ]
    },
    {
      "cell_type": "code",
      "execution_count": null,
      "metadata": {},
      "outputs": [
        {
          "name": "stdout",
          "output_type": "stream",
          "text": [
            "(10, 20, 30, 40, 50)\n"
          ]
        }
      ],
      "source": [
        "try:\n",
        "    print(x)\n",
        "except:\n",
        "    print(\"Exception Error\")"
      ]
    },
    {
      "cell_type": "code",
      "execution_count": 115,
      "id": "b61f102c",
      "metadata": {},
      "outputs": [
        {
          "name": "stdout",
          "output_type": "stream",
          "text": [
            "Hello\n",
            "Finally process\n"
          ]
        }
      ],
      "source": [
        "#Python try except finally\n",
        "try:\n",
        " print(\"Hello\")\n",
        "except:\n",
        " print(\"Exception Error\")\n",
        "finally:\n",
        " print(\"Finally process\")"
      ]
    },
    {
      "cell_type": "code",
      "execution_count": 117,
      "id": "225e3da9",
      "metadata": {},
      "outputs": [
        {
          "name": "stdout",
          "output_type": "stream",
          "text": [
            "Hello\n",
            "No exception\n",
            "Finally process\n"
          ]
        }
      ],
      "source": [
        "#Python try except else\n",
        "try:\n",
        " print(\"Hello\")\n",
        "except:\n",
        " print(\"Exception Error\")\n",
        "else:\n",
        " print(\"No exception\")\n",
        "finally:\n",
        " print(\"Finally process\")"
      ]
    },
    {
      "cell_type": "code",
      "execution_count": 120,
      "id": "fd5ce175",
      "metadata": {},
      "outputs": [
        {
          "name": "stdout",
          "output_type": "stream",
          "text": [
            "Exception error: could not convert string to float: ' '\n",
            "Thank you.\n"
          ]
        }
      ],
      "source": [
        "# Python try except else finally\n",
        "try:\n",
        " price = float(input(\"Enter the price of the stock (e.g. 10):\"))\n",
        " shares = int(input(\"Enter the number of shares (e.g. 2):\"))\n",
        " total = price * shares\n",
        "except Exception as e:\n",
        " print(\"Exception error:\", str(e))\n",
        "else:\n",
        " print(\"The total value of the shares is:\", total)\n",
        "finally:\n",
        "    print(\"Thank you.\")"
      ]
    },
    {
      "cell_type": "code",
      "execution_count": 119,
      "id": "fac69e1f",
      "metadata": {},
      "outputs": [
        {
          "name": "stdout",
          "output_type": "stream",
          "text": [
            "Exception file Error\n",
            "Finally process\n"
          ]
        }
      ],
      "source": [
        "# Python try except with file\n",
        "try:\n",
        " file = open(\"myfile.txt\")\n",
        " file.write(\"Python write file\")\n",
        " print(\"file saved\")\n",
        "except:\n",
        " print(\"Exception file Error\")\n",
        "finally:\n",
        " file.close()\n",
        " print(\"Finally process\")"
      ]
    }
  ],
  "metadata": {
    "kernelspec": {
      "display_name": "base",
      "language": "python",
      "name": "python3"
    },
    "language_info": {
      "codemirror_mode": {
        "name": "ipython",
        "version": 3
      },
      "file_extension": ".py",
      "mimetype": "text/x-python",
      "name": "python",
      "nbconvert_exporter": "python",
      "pygments_lexer": "ipython3",
      "version": "3.13.5"
    }
  },
  "nbformat": 4,
  "nbformat_minor": 5
}
