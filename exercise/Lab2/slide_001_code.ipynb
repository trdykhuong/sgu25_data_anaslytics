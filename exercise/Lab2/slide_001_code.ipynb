{
 "cells": [
  {
   "cell_type": "markdown",
   "id": "443c1111",
   "metadata": {},
   "source": [
    "## Python Numpy Matplotlib Pandas"
   ]
  },
  {
   "cell_type": "markdown",
   "id": "3f6e6671",
   "metadata": {},
   "source": [
    "### Biến\n",
    "### Kiểu dữ liệu\n",
    "### Khối lệnh"
   ]
  },
  {
   "cell_type": "code",
   "execution_count": 127,
   "id": "9717c321",
   "metadata": {},
   "outputs": [],
   "source": [
    "n = 12 \n",
    "#biến n là kiểu nguyên\n",
    "n = n + 0.1 \n",
    "#biến n chuyển sang kiểu thực\n",
    "name = 'matt'\n",
    "#chuỗi trong nó có chứa dấu nháy đơn\n",
    "with_quote = \"I ain't gonna\"\n",
    "#chuỗi có nôi dung nằm trên 2 dòng\n",
    "longer = \"\"\"This string has multiple lines in it\"\"\"\n"
   ]
  },
  {
   "cell_type": "markdown",
   "id": "94cfe291",
   "metadata": {},
   "source": [
    "### Nhập và Xuất dữ liệu"
   ]
  },
  {
   "cell_type": "code",
   "execution_count": 128,
   "id": "47ab6a51",
   "metadata": {},
   "outputs": [
    {
     "name": "stdout",
     "output_type": "stream",
     "text": [
      "42\n",
      "a =  67\n",
      "a = \n",
      " 67\n",
      "a b\n",
      "ab\n",
      "192.168.178.42\n",
      "a:-)b\n"
     ]
    }
   ],
   "source": [
    "# Xuất dữ liệu \n",
    "print(42)\n",
    "a = 67\n",
    "print(\"a = \", a)\n",
    "print(\"a = \\n\", a)\n",
    "print(\"a\",\"b\")\n",
    "print(\"a\",\"b\",sep=\"\")\n",
    "print(192,168,178,42,sep=\".\")\n",
    "print(\"a\",\"b\",sep=\":-)\")"
   ]
  },
  {
   "cell_type": "code",
   "execution_count": 129,
   "id": "4547c7ac",
   "metadata": {},
   "outputs": [
    {
     "name": "stdout",
     "output_type": "stream",
     "text": [
      "Nice to meet you Khuong!\n",
      "You are already 21 years old, Khuong!\n",
      "You are already %d years old! 21\n"
     ]
    }
   ],
   "source": [
    "# Nhập dữ liệu \n",
    "#Sử dụng hàm input để nhập dữ liệu từ bàn phím\n",
    "name = input(\"What's your name? \")\n",
    "print(\"Nice to meet you \" + name + \"!\")\n",
    "age = input(\"Your age? \")\n",
    "print(\"You are already \" + age + \" years old, \" + name\n",
    "+ \"!\")\n",
    "#Có thể kết hợp chuyển kiểu nếu muốn tường minh\n",
    "age = int(input(\"Your age? \"))\n",
    "print(\"You are already %d years old!\", age)"
   ]
  },
  {
   "cell_type": "markdown",
   "id": "66dc4e32",
   "metadata": {},
   "source": [
    "### Giải phương trình bậc 2 "
   ]
  },
  {
   "cell_type": "code",
   "execution_count": 130,
   "id": "a5a0b991",
   "metadata": {},
   "outputs": [
    {
     "name": "stdout",
     "output_type": "stream",
     "text": [
      "Phuong trinh vo nghiem\n"
     ]
    }
   ],
   "source": [
    "a = float(input(\"A = \"))\n",
    "b = float(input(\"B = \"))\n",
    "c = float(input(\"C = \"))\n",
    "delta = b*b-4*a*c\n",
    "\n",
    "if delta==0:\n",
    " print(\"Nghiem kep: x = \", str(-b/2/a))\n",
    "if delta<0:\n",
    " print(\"Phuong trinh vo nghiem\")\n",
    "if delta>0:\n",
    " print(\"X1 = \" + str((-b+delta**0.5)/2/a))\n",
    " print(\"X2 = \" + str((-b-delta**0.5)/2/a))"
   ]
  },
  {
   "cell_type": "markdown",
   "id": "c25ec7fb",
   "metadata": {},
   "source": [
    "### Kiểu dữ liệu & phép toán liên quan"
   ]
  },
  {
   "cell_type": "code",
   "execution_count": 131,
   "id": "bcec9a62",
   "metadata": {},
   "outputs": [
    {
     "name": "stdout",
     "output_type": "stream",
     "text": [
      "(5+2j)\n"
     ]
    }
   ],
   "source": [
    "# Kiểu số\n",
    "#Python viết số nguyên theo nhiều hệ cơ số\n",
    "A = 1234 # hệ cơ số 10\n",
    "B = 0xAF1 # hệ cơ số 16\n",
    "C = 0o772 # hệ cơ số 8\n",
    "D = 0b1001 # hệ cơ số 2\n",
    "#Chuyển đổi từ số nguyên thành string ở các hệ cơ số khác nhau\n",
    "K = str(1234) # chuyển thành str ở hệ cơ số 10\n",
    "L = hex(1234) # chuyển thành str ở hệ cơ số 16\n",
    "M = oct(1234) # chuyển thành str ở hệ cơ số 8\n",
    "N = bin(1234) # chuyển thành str ở hệ cơ số 2\n",
    "\n",
    "#Số thực (float) trong python có thể viết kiểu thông thường hoặc dạng khoa học\n",
    "X = 12.34\n",
    "Y = 314.15279e-2 # dạng số nguyên và phần mũ 10\n",
    "\n",
    "#Python hỗ trợ kiểu số phức, với chữ j đại diện cho phần ảo\n",
    "A = 3+4j\n",
    "B = 2-2j\n",
    "print(A+B) # sẽ in ra (5+2j)"
   ]
  },
  {
   "cell_type": "markdown",
   "id": "9d1271b1",
   "metadata": {},
   "source": [
    "### Cấu trúc rẽ nhánh "
   ]
  },
  {
   "cell_type": "code",
   "execution_count": 132,
   "id": "71789676",
   "metadata": {},
   "outputs": [
    {
     "name": "stdout",
     "output_type": "stream",
     "text": [
      "Nice to meet you Khuong!\n",
      "You are already 12 years old, Khuong !\n",
      "Nhỏ quá\n"
     ]
    }
   ],
   "source": [
    "name = input(\"What's your name? \")\n",
    "print(\"Nice to meet you \" + name + \"!\")\n",
    "age = int(input(\"Your age? \"))\n",
    "print(\"You are already\", age, \"years old,\",\n",
    "name, \"!\")\n",
    "if age>=18:\n",
    " print(\"Đủ tuổi đi bầu cử\")\n",
    "if age>100:\n",
    " print(\"Có vẻ sai sai!\")\n",
    "else:\n",
    " print(\"Nhỏ quá\")"
   ]
  },
  {
   "cell_type": "markdown",
   "id": "0e83fec5",
   "metadata": {},
   "source": [
    "### Vòng lặp"
   ]
  },
  {
   "cell_type": "code",
   "execution_count": 133,
   "id": "b89756c4",
   "metadata": {},
   "outputs": [
    {
     "name": "stdout",
     "output_type": "stream",
     "text": [
      "10\n",
      "11\n",
      "12\n",
      "13\n",
      "14\n",
      "15\n",
      "16\n",
      "17\n",
      "18\n",
      "19\n",
      "20\n",
      "19\n",
      "18\n",
      "17\n",
      "16\n",
      "15\n",
      "14\n",
      "13\n",
      "12\n",
      "11\n"
     ]
    }
   ],
   "source": [
    "# Vòng lặp for \n",
    "for d in range(10,20): # in các số từ 10 đến 19\n",
    " print(d)\n",
    "for d in range(20,10,-1): # in các số từ 20 đến 11\n",
    " print(d)"
   ]
  },
  {
   "cell_type": "markdown",
   "id": "3a136feb",
   "metadata": {},
   "source": [
    "### Hàm"
   ]
  },
  {
   "cell_type": "code",
   "execution_count": 134,
   "id": "34a9fc37",
   "metadata": {},
   "outputs": [
    {
     "name": "stdout",
     "output_type": "stream",
     "text": [
      "200\n",
      "10\n",
      "5\n",
      "30\n"
     ]
    }
   ],
   "source": [
    "#Hàm có thể chỉ ra giá trị mặc định của tham số\n",
    "def tich(a, b = 1):\n",
    " return a*b\n",
    "#Như vậy với hàm trên ta có thể gọi thực hiện nó:\n",
    "print(tich(10, 20)) # 200\n",
    "print(tich(10)) # 10\n",
    "print(tich(a=5)) # 5\n",
    "print(tich(b=6, a=5)) # 30"
   ]
  },
  {
   "cell_type": "markdown",
   "id": "b8a67e5d",
   "metadata": {},
   "source": [
    "### Chuỗi và danh sách "
   ]
  },
  {
   "cell_type": "markdown",
   "id": "82c52098",
   "metadata": {},
   "source": [
    "### Chuỗi "
   ]
  },
  {
   "cell_type": "code",
   "execution_count": 135,
   "id": "be480384",
   "metadata": {},
   "outputs": [
    {
     "name": "stdout",
     "output_type": "stream",
     "text": [
      "Good Morning!\n",
      "ABABAB\n",
      "True\n"
     ]
    }
   ],
   "source": [
    "#Phép nối chuỗi (+): \n",
    "s = \"Good\" + \" \" + \"Morning!\"\n",
    "print(s)\n",
    "#Phép nhân bản (*): \n",
    "s = \"AB\" * 3 # số nguyên\n",
    "print(s) # 'ABABAB'\n",
    "#Kiểm tra nội dung: \n",
    "s in '1ABABABCD' # True\n",
    "print(s in '1ABABABCD')"
   ]
  },
  {
   "cell_type": "code",
   "execution_count": 136,
   "id": "d8da7587",
   "metadata": {},
   "outputs": [
    {
     "name": "stdout",
     "output_type": "stream",
     "text": [
      "345\n",
      "3456789\n",
      "012345\n",
      "345\n",
      "\n",
      "654\n",
      "0123456789\n",
      "012345678\n",
      "0123456789\n",
      "9876543210\n",
      "9876543210\n",
      "876543210\n"
     ]
    }
   ],
   "source": [
    "# Cắt chuỗi\n",
    "s = '0123456789'\n",
    "print(s[3:6])\n",
    "# 345\n",
    "print(s[3:])\n",
    "# 3456789\n",
    "print(s[:6])\n",
    "# 012345\n",
    "print(s[-7:-4])\n",
    "# 345\n",
    "print(s[-4:-7])\n",
    "#\n",
    "print(s[-4:-7:-1]) # 654\n",
    "print(s[:len(s)])\n",
    "# 0123456789\n",
    "print(s[:len(s)-1])\n",
    "# 012345678\n",
    "print(s[:])\n",
    "# 0123456789\n",
    "print(s[len(s)::-1]) # 9876543210\n",
    "print(s[len(s)-1::-1])\n",
    "# 9876543210\n",
    "print(s[len(s)-2::-1])\n",
    "# 876543210"
   ]
  },
  {
   "cell_type": "code",
   "execution_count": 137,
   "id": "067bd7a7",
   "metadata": {},
   "outputs": [
    {
     "data": {
      "text/plain": [
       "'Can bac 2 cua 2 = 1.4142136'"
      ]
     },
     "execution_count": 137,
     "metadata": {},
     "output_type": "execute_result"
    }
   ],
   "source": [
    "# Định dạng chuỗi \n",
    "#Ví dụ:\n",
    "\"Chao %s, gio la %d gio\" % ('txnam', 10)\n",
    "\"Can bac 2 cua 2 = %f\" % (2**0.5)\n",
    "\"Can bac 2 cua 2 = %10.3f\" % (2**0.5)\n",
    "\"Can bac 2 cua 2 = %10f\" % (2**0.5)\n",
    "\"Can bac 2 cua 2 = %.7f\" % (2**0.5)"
   ]
  },
  {
   "cell_type": "code",
   "execution_count": 138,
   "id": "6f5b1eec",
   "metadata": {},
   "outputs": [
    {
     "data": {
      "text/plain": [
       "'1: 111, 2: 222'"
      ]
     },
     "execution_count": 138,
     "metadata": {},
     "output_type": "execute_result"
    }
   ],
   "source": [
    "# Định dạng chuỗi \n",
    "#Python cho phép định dạng chuỗi ở dạng f-string\n",
    "myname = 'DHNTT'\n",
    "s = f'This is {myname}.' # 'This is DHNTT.'\n",
    "w = f'{s} {myname}' # 'This is DHNTT. DHNTT '\n",
    "z = f'{{s}} {s}' # '{s} This is DHNTT.‘\n",
    "\n",
    "#Mạnh mẽ nhất là định dạng bằng format\n",
    "# điền lần lượt từng giá trị vào giữa cặp ngoặc nhọn\n",
    "'a: {}, b: {}, c: {}'.format(1, 2, 3)\n",
    "# điền nhưng không lần lượt\n",
    "'a: {1}, b: {2}, c: {0}'.format('one', 'two', 'three')\n",
    "'two same values: {0}, {0}'.format(1, 2)\n",
    "# điền và chỉ định từng giá trị\n",
    "'1: {one}, 2: {two}'.format(one=111, two=222)"
   ]
  },
  {
   "cell_type": "code",
   "execution_count": 139,
   "id": "d59c8d86",
   "metadata": {},
   "outputs": [
    {
     "data": {
      "text/plain": [
       "'+++aaaa+++'"
      ]
     },
     "execution_count": 139,
     "metadata": {},
     "output_type": "execute_result"
    }
   ],
   "source": [
    "#Định dạng bằng format cho phép căn lề phong phú\n",
    "# căn giữa: ' aaaa '\n",
    "'{:^10}'.format('aaaa')\n",
    "# căn lề trái: 'aaaa '\n",
    "'{:<10}'.format('aaaa')\n",
    "# căn lề phải ' aaaa'\n",
    "'{:>10}'.format('aaaa')\n",
    "# căn lề phải, thay khoảng trắng bằng -: '------aaaa'\n",
    "'{:->10}'.format('aaaa')\n",
    "# căn lề trái, thay khoảng trắng *: 'aaa******'\n",
    "'{:*<10}'.format('aaaa')\n",
    "# căn giữa, thay khoảng trắng bằng +: '+++aaaa+++'\n",
    "'{:+^10}'.format('aaaa')"
   ]
  },
  {
   "cell_type": "markdown",
   "id": "e756638b",
   "metadata": {},
   "source": [
    "### List "
   ]
  },
  {
   "cell_type": "code",
   "execution_count": 140,
   "id": "af14f77e",
   "metadata": {},
   "outputs": [
    {
     "name": "stdout",
     "output_type": "stream",
     "text": [
      "['An', 'Nguyen', 'Van']\n"
     ]
    }
   ],
   "source": [
    "#Tạo list bằng constructor\n",
    "l1 = list([1, 2, 3, 4]) # list 4 số nguyên\n",
    "l2 = list('abc') # list 3 chuỗi con\n",
    "l3 = list() # list rỗng\n",
    "\n",
    "#Tạo list bằng list comprehension\n",
    "# list 1000 số nguyên từ 0 đến 999\n",
    "X = [n for n in range(1000)]\n",
    "# list gồm 10 list con là các cặp [x, x2]\n",
    "# với x chạy từ 0 đến 9\n",
    "Y = [[x, x*x] for x in range(10)]\n",
    "\n",
    "# Các phương thức của list\n",
    "x = \"Nguyen Van An\".split()\n",
    "x.sort(key=str.lower)\n",
    "print(x)"
   ]
  },
  {
   "cell_type": "markdown",
   "id": "38a40206",
   "metadata": {},
   "source": [
    "### Tuple"
   ]
  },
  {
   "cell_type": "code",
   "execution_count": 141,
   "id": "b230057a",
   "metadata": {},
   "outputs": [
    {
     "data": {
      "text/plain": [
       "()"
      ]
     },
     "execution_count": 141,
     "metadata": {},
     "output_type": "execute_result"
    }
   ],
   "source": [
    "(1, 2, 3, 4, 5) # tuple 5 số nguyên\n",
    "('a', 'b', 'c', 'd') # tuple 4 chuỗi\n",
    "(1, 'one', [2, 'two']) # tuple hỗ hợp\n",
    "(1,) # tuple 1 phần tử\n",
    "() # tuple rỗngS"
   ]
  },
  {
   "cell_type": "markdown",
   "id": "59908eeb",
   "metadata": {},
   "source": [
    "### Tập hợp"
   ]
  },
  {
   "cell_type": "code",
   "execution_count": 142,
   "id": "967b5b3f",
   "metadata": {},
   "outputs": [
    {
     "name": "stdout",
     "output_type": "stream",
     "text": [
      "{'orange', 'pear', 'apple'}\n",
      "a= {1, 2, 3, 4, 5}\n"
     ]
    }
   ],
   "source": [
    "# Set (tập hợp)\n",
    "basket = {'apple','orange','apple','pear'}\n",
    "print(basket)\n",
    "#{'orange','pear','apple'} : xóa trùng nhau\n",
    "a = {5,2,3,1,4}\n",
    "print(\"a=\", a) #a = {1, 2, 3, 4, 5}\n",
    "\n",
    "#Tạo set bằng constructor\n",
    "s1 = set([1, 2, 3, 4]) # {1, 2, 3, 4}\n",
    "s2 = set((1, 1, 1)) # {1}\n",
    "s3 = s1 - s2 # {2, 3, 4}\n",
    "s4 = set(range(1,100)) # {1, 2, 3,..., 98, 99}"
   ]
  },
  {
   "cell_type": "code",
   "execution_count": 143,
   "id": "c08bf14c",
   "metadata": {},
   "outputs": [
    {
     "name": "stdout",
     "output_type": "stream",
     "text": [
      "ketqua_Set= {8.0, 'Sinh viên', (1, 2, 3)}\n",
      "{1, 2, 3, 4, 5, 6, 8}\n"
     ]
    }
   ],
   "source": [
    "# Set Hỗn hợp\n",
    "# Ví dụ\n",
    "my_set = {8.0, \"Sinh viên\", (1, 2, 3)}\n",
    "print(\"ketqua_Set=\", my_set)\n",
    "# Output: ketqua_Set= {'Sinh viên', 8.0, (1, 2, 3)}\n",
    "\n",
    "# Ví dụ\n",
    "# Khởi tạo my_set\n",
    "my_set = {1, 3}\n",
    "my_set.add(2)  # thêm\n",
    "my_set.update([2, 3, 4])  # Cập nhật\n",
    "my_set.update([4, 5], {1, 6, 8})  # Cập nhật set\n",
    "print(my_set)\n",
    "\n",
    "# Output: {1, 2, 3, 4, 5, 6, 8}\n"
   ]
  },
  {
   "cell_type": "code",
   "execution_count": 144,
   "id": "e9741766",
   "metadata": {},
   "outputs": [
    {
     "name": "stdout",
     "output_type": "stream",
     "text": [
      "{'r', 'b', 'd'}\n",
      "{'l', 'r', 'm', 'b', 'c', 'd', 'a', 'z'}\n",
      "{'a', 'c'}\n",
      "{'m', 'l', 'd', 'b', 'r', 'z'}\n"
     ]
    }
   ],
   "source": [
    "# các phép toán trên set\n",
    "a = set('abracadabra') # {'d', 'r', 'c', 'b', 'a'}\n",
    "b = set('alacazam') # {'z', 'c', 'm', 'l', 'a'}\n",
    "# Phép Hiệu: thuộc a nhưng không thuộc b\n",
    "\n",
    "print(a - b) # {'r', 'd', 'b'}\n",
    "\n",
    "# Phép Hợp: thuộc a hoặc b\n",
    "# {'a', 'c', 'r', 'd', 'b', 'm', 'z', 'l'}\n",
    "\n",
    "print(a | b)\n",
    "\n",
    "# Phép Giao: thuộc cả a và b\n",
    "\n",
    "print(a & b) # {'a', 'c'}\n",
    "\n",
    "# Phép Xor: thuộc hoặc a, hoặc b nhưng không phải cả 2\n",
    "# {'r', 'd', 'b', 'm', 'z', 'l'}\n",
    "print(a ^ b)"
   ]
  },
  {
   "cell_type": "markdown",
   "id": "5e1e46a9",
   "metadata": {},
   "source": [
    "### Các phương thức của set"
   ]
  },
  {
   "cell_type": "code",
   "execution_count": 145,
   "id": "a7c3b7bd",
   "metadata": {},
   "outputs": [
    {
     "name": "stdout",
     "output_type": "stream",
     "text": [
      "Số lớn nhất là : 33\n"
     ]
    }
   ],
   "source": [
    "num = {1,3,5,6,8,20,7,8,29,33}\n",
    "print(\"Số lớn nhất là :\", max(num))\n",
    "#Số lớn nhất là : 33"
   ]
  },
  {
   "cell_type": "markdown",
   "id": "109fa72e",
   "metadata": {},
   "source": [
    "### Vòng lặp for của set"
   ]
  },
  {
   "cell_type": "code",
   "execution_count": 146,
   "id": "c8a08681",
   "metadata": {},
   "outputs": [
    {
     "name": "stdout",
     "output_type": "stream",
     "text": [
      "orange\n",
      "pear\n",
      "apple\n",
      "lemon\n",
      "h\n",
      "u\n",
      "g\n",
      "n\n",
      "c\n",
      "i\n",
      "v\n",
      "o\n"
     ]
    }
   ],
   "source": [
    "#Ví dụ:\n",
    "setFruits = {'lemon','orange','apple','pear'}\n",
    "for x in setFruits:\n",
    " print(x)\n",
    "#Ví dụ:\n",
    "for letter in set(\"chivuong\"):\n",
    " print(letter)"
   ]
  },
  {
   "cell_type": "markdown",
   "id": "49dda2ff",
   "metadata": {},
   "source": [
    "### Dictionary (từ điển)"
   ]
  },
  {
   "cell_type": "code",
   "execution_count": 147,
   "id": "1bf217e5",
   "metadata": {},
   "outputs": [
    {
     "name": "stdout",
     "output_type": "stream",
     "text": [
      "one\n",
      "{1: 'one', 2: 'two', 3: 'three', 4: 'four'}\n",
      "('a', 1)\n",
      "('b', 2)\n",
      "('c', 3)\n"
     ]
    },
    {
     "data": {
      "text/plain": [
       "('c', 3)"
      ]
     },
     "execution_count": 147,
     "metadata": {},
     "output_type": "execute_result"
    }
   ],
   "source": [
    "#Từ điển có thể khai báo theo cú pháp của set\n",
    "dict = {1:'one',2:'two',3:'three'}\n",
    "print(dict[1]) #'one'\n",
    "dict[4]='four'\n",
    "print(dict)\n",
    "{1: 'one',2:'two',3:'three',4:'four'}\n",
    "\n",
    "#Dùng zip để ghép 2 list thành từ điển\n",
    "l1 = [\"a\",\"b\",\"c\"]\n",
    "l2 = [1,2,3]\n",
    "c = zip(l1, l2)\n",
    "for i in c:\n",
    " print(i)\n",
    "\n",
    "('a', 1)\n",
    "('b', 2)\n",
    "('c', 3)"
   ]
  },
  {
   "cell_type": "code",
   "execution_count": 148,
   "id": "c4be75cb",
   "metadata": {},
   "outputs": [
    {
     "name": "stdout",
     "output_type": "stream",
     "text": [
      "{1: 'Nguyen', 2: 'Van', 3: 'An'}\n",
      "{'Name': 'dict', 1: [1, 2, 3, 4]}\n"
     ]
    }
   ],
   "source": [
    "#Tạo mới từ điển\n",
    "#Ví dụ: Tạo 1 từ diển\n",
    "# tạo một dict với key là các số nguyên\n",
    "Dict = {1: 'Nguyen', 2: 'Van', 3: 'An'}\n",
    "print(Dict)\n",
    "# {1: ‘Nguyen’, 2: ‘Van’, 3: ‘an’}\n",
    "# tạo một dict với key hỗn hợp\n",
    "Dict = {'Name': 'dict', 1: [1, 2, 3, 4]}\n",
    "print(Dict)\n",
    "# {'Name': 'dict', 1: [1, 2, 3, 4]}"
   ]
  },
  {
   "cell_type": "code",
   "execution_count": 149,
   "id": "169d84c5",
   "metadata": {},
   "outputs": [
    {
     "name": "stdout",
     "output_type": "stream",
     "text": [
      "{0: 'Xin chao', 1: 'lop hoc Khoa học du lieu'}\n"
     ]
    }
   ],
   "source": [
    "#Thêm các giá trị vào từ điển\n",
    "#Ví dụ:\n",
    "# tạo một từ điển\n",
    "Dict = {}\n",
    "# thêm các giá trị\n",
    "Dict[0] = 'Xin chao'\n",
    "Dict[1] = 'lop hoc Khoa học du lieu'\n",
    "print(Dict)\n",
    "# {0: ' Xin chao ', 1: ' Khoa học du lieu'}"
   ]
  },
  {
   "cell_type": "code",
   "execution_count": 150,
   "id": "3c90de78",
   "metadata": {},
   "outputs": [
    {
     "name": "stdout",
     "output_type": "stream",
     "text": [
      "Lớp\n",
      "Dữ liệu\n"
     ]
    }
   ],
   "source": [
    "#Truy cập giá trị của từ điển\n",
    "#Ví dụ:\n",
    "# tạo một dict mới\n",
    "Dict = {1: 'Lớp', 2: 'Khoa học', 3: 'Dữ liệu'}\n",
    "# truy cập theo cách thông thường\n",
    "print(Dict[1])\n",
    "# Lớp\n",
    "# truy cập bằng phương thức get()\n",
    "print(Dict.get(3))\n",
    "# Dữ liệu"
   ]
  },
  {
   "cell_type": "code",
   "execution_count": 151,
   "id": "d9db82e0",
   "metadata": {},
   "outputs": [
    {
     "name": "stdout",
     "output_type": "stream",
     "text": [
      "Chuỗi tương đương là: {'Ten': 'An', 'Tuoi': 20}\n",
      "{'Cúc': 18, 'Lan': 21, 'Hồng': 20, 'Mai': 27, 'Đào': 25}\n"
     ]
    }
   ],
   "source": [
    "# ❖ Chuyển từ điển thành chuỗi: str()\n",
    "Dict = {'Ten': 'An', 'Tuoi': 20}\n",
    "print(\"Chuỗi tương đương là:\", str(Dict))\n",
    "# Chuỗi tương đương là: {'Ten': 'An', 'Tuoi': 20}\n",
    "\n",
    "\n",
    "# ❖ Cập nhật 1 giá trị của từ điển: update()\n",
    "# Hàm update() sẽ thêm vào một giá trị mới, hoặc sẽ cập nhật một giá trị\n",
    "# nếu có các khóa trùng nhau.\n",
    "Dict = {'Cúc': 18, 'Lan': 19, 'Hồng': 20, 'Mai': 27}\n",
    "Dict.update({'Lan': 21})  # cập nhật tuổi cho Lan\n",
    "Dict.update({'Đào': 25})  # thêm một phần tử mới là Đào\n",
    "print(Dict)\n",
    "# {'Cúc': 18, 'Lan': 21, 'Hồng': 20, 'Mai': 27, 'Đào': 25}\n"
   ]
  },
  {
   "cell_type": "markdown",
   "id": "1199dfc9",
   "metadata": {},
   "source": [
    "### Module và Package"
   ]
  },
  {
   "cell_type": "code",
   "execution_count": 152,
   "id": "e59754d8",
   "metadata": {},
   "outputs": [],
   "source": [
    "import numpy\n",
    "import numpy as np\n",
    "from numpy import array"
   ]
  },
  {
   "cell_type": "code",
   "execution_count": 153,
   "id": "be0ef534",
   "metadata": {},
   "outputs": [],
   "source": [
    "#Package = Thư mục các module (lưu trữ vật lý)\n",
    "A = array([1, 2, 3]) # lỗi\n",
    "A = numpy.array([1, 2, 3]) # ok\n",
    "\n",
    "B = np.array([1, 2, 3]) # ok\n",
    "\n",
    "C = array([1, 2, 3]) # ok"
   ]
  },
  {
   "cell_type": "markdown",
   "id": "d442850d",
   "metadata": {},
   "source": [
    "### Thư viện NumPy"
   ]
  },
  {
   "cell_type": "markdown",
   "id": "14d8247d",
   "metadata": {},
   "source": [
    "### Khởi tạo mảng và chỉ số"
   ]
  },
  {
   "cell_type": "code",
   "execution_count": 154,
   "id": "3caedfa8",
   "metadata": {},
   "outputs": [],
   "source": [
    "#Tạo mảng và truy cập\n",
    "\n",
    "import numpy as np"
   ]
  },
  {
   "cell_type": "code",
   "execution_count": 155,
   "id": "d48ea3e1",
   "metadata": {},
   "outputs": [
    {
     "name": "stdout",
     "output_type": "stream",
     "text": [
      "<class 'numpy.ndarray'>\n",
      "(3,)\n",
      "1 2 3\n",
      "[5 2 3]\n",
      "(2, 3)\n",
      "1 2 4\n",
      "[[1 0 0]\n",
      " [0 3 0]\n",
      " [0 0 4]]\n"
     ]
    }
   ],
   "source": [
    "a = np.array([1, 2, 3]) # tạo mảng 1 chiều\n",
    "print(type(a)) # in \"<class 'numpy.ndarray'>\"\n",
    "print(a.shape) # in \"(3,)\"\n",
    "print(a[0], a[1], a[2]) # in \"1 2 3\"\n",
    "a[0] = 5\n",
    "print(a) # in \"[5, 2, 3]\"\n",
    "b = np.array([[1, 2, 3],[4, 5, 6]]) # tạo mảng 2 chiều\n",
    "print(b.shape) # in \"(2, 3)\"\n",
    "print(b[0, 0], b[0, 1], b[1, 0]) # in \"1 2 4\"\n",
    "print(np.diag([1, 3, 4])) # in ra mảng đường chéo"
   ]
  },
  {
   "cell_type": "code",
   "execution_count": 156,
   "id": "05d9756d",
   "metadata": {},
   "outputs": [],
   "source": [
    "import numpy as np"
   ]
  },
  {
   "cell_type": "code",
   "execution_count": 157,
   "id": "35312865",
   "metadata": {},
   "outputs": [
    {
     "name": "stdout",
     "output_type": "stream",
     "text": [
      "2 6\n",
      "(2, 3)\n",
      "int32\n"
     ]
    }
   ],
   "source": [
    "# Một số cách khởi tạo khác \n",
    "x = np.arange(3.0)  # mảng [0. 1. 2.]\n",
    "a = np.zeros((2, 2))  # mảng 2x2 toàn số 0\n",
    "b = np.ones((1, 2))  # mảng 1x2 toàn số 1\n",
    "c = np.full((3, 2, 2), 9)  # mảng 3x2x2 toàn số 9\n",
    "d = np.eye(2)  # ma trận đơn vị 2x2\n",
    "e = np.random.random((3, 2))  # mảng 3x2 ngẫu nhiên [0,1)\n",
    "\n",
    "# mảng 2x3 điền các số từ 1 đến 6, kiểu số nguyên 32 bit\n",
    "x = np.array([[1, 2, 3], [4, 5, 6]], np.int32)\n",
    "print(x.ndim, x.size)\n",
    "print(x.shape)  # in \"(2, 3)\"\n",
    "print(x.dtype)  # in \"dtype('int32')\"\n"
   ]
  },
  {
   "cell_type": "code",
   "execution_count": 158,
   "id": "5ec150a0",
   "metadata": {},
   "outputs": [
    {
     "name": "stdout",
     "output_type": "stream",
     "text": [
      "2\n",
      "77\n"
     ]
    }
   ],
   "source": [
    "# Truy cập theo chỉ số \n",
    "# mảng 3x4\n",
    "a = np.array([[1, 2, 3, 4], [5, 6, 7, 8], [9, 10, 11, 12]])\n",
    "# mảng 2x2 trích xuất từ a, dòng 0+1, cột 1+2\n",
    "b = a[:2, 1:3]\n",
    "# chú ý: mảng của numpy tham chiếu chứ không copy dữ liệu\n",
    "print(a[0, 1]) # in \"2\"\n",
    "b[0, 0] = 77 # b[0, 0] cũng là a[0, 1]\n",
    "print(a[0, 1]) # in \"77\""
   ]
  },
  {
   "cell_type": "markdown",
   "id": "f9c54125",
   "metadata": {},
   "source": [
    "### Các phép toán trên mảng"
   ]
  },
  {
   "cell_type": "code",
   "execution_count": 159,
   "id": "b2156b1c",
   "metadata": {},
   "outputs": [
    {
     "name": "stdout",
     "output_type": "stream",
     "text": [
      "[[ 6.  8.]\n",
      " [10. 12.]]\n",
      "[[-4. -4.]\n",
      " [-4. -4.]]\n",
      "[[ 5. 12.]\n",
      " [21. 32.]]\n",
      "[[0.2        0.33333333]\n",
      " [0.42857143 0.5       ]]\n",
      "[[1.         1.41421356]\n",
      " [1.73205081 2.        ]]\n",
      "[[ 2.  4.]\n",
      " [ 8. 16.]]\n"
     ]
    }
   ],
   "source": [
    "x = np.array([[1, 2], [3, 4]], dtype=np.float64)\n",
    "y = np.array([[5, 6], [7, 8]], dtype=np.float64)\n",
    "print(x + y) # print(np.add(x, y)), xử lý khác list\n",
    "print(x - y) # print(np.subtract(x, y))\n",
    "print(x * y) # print(np.multiply(x, y))\n",
    "print(x / y) # print(np.divide(x, y))\n",
    "print(np.sqrt(x)) # khai căn tất cả các phần tử\n",
    "print(2**x) # tính 2 mũ các phần tử trong x\n",
    "# chú ý: phép nhân/chia thực hiện theo cặp phần tử của x và y"
   ]
  },
  {
   "cell_type": "code",
   "execution_count": 160,
   "id": "bad29be6",
   "metadata": {},
   "outputs": [
    {
     "name": "stdout",
     "output_type": "stream",
     "text": [
      "219\n",
      "[29 67]\n",
      "[[19 22]\n",
      " [43 50]]\n",
      "[[-2.   1. ]\n",
      " [ 1.5 -0.5]]\n"
     ]
    }
   ],
   "source": [
    "#Nhân ma trận (dot) và nghịch đảo\n",
    "\n",
    "x = np.array([[1, 2],[3, 4]])\n",
    "y = np.array([[5, 6],[7, 8]])\n",
    "v = np.array([9, 10])\n",
    "w = np.array([11, 12])\n",
    "print(v.dot(w)) # tương tự print(np.dot(v, w))\n",
    "print(x.dot(v)) # tương tự print(np.dot(x, v))\n",
    "print(x.dot(y)) # tương tự print(np.dot(x, y))\n",
    "print(np.linalg.inv(x)) # tính và in nghịch đảo của x"
   ]
  },
  {
   "cell_type": "code",
   "execution_count": 161,
   "id": "1ed57ab5",
   "metadata": {},
   "outputs": [
    {
     "name": "stdout",
     "output_type": "stream",
     "text": [
      "[[1 2]\n",
      " [3 4]]\n",
      "[[1 3]\n",
      " [2 4]]\n",
      "[1 2 3]\n",
      "[1 2 3]\n",
      "[[1]\n",
      " [2]\n",
      " [3]]\n"
     ]
    }
   ],
   "source": [
    "#Ma trận chuyển vị\n",
    "\n",
    "import numpy as np\n",
    "x = np.array([[1, 2], [3, 4]])\n",
    "print(x) # in ra \"[[1 2]\n",
    "# [3 4]]\"\n",
    "print(x.T) # in ra \"[[1 3]\n",
    "# [2 4]]\"\n",
    "# chú ý: mảng 1 chiều không có chuyển vị\n",
    "y = np.array([1, 2, 3])\n",
    "print(y) # in ra \"[1 2 3]\"\n",
    "print(y.T) # in ra \"[1 2 3]\"\n",
    "z = np.array([[1, 2, 3]])\n",
    "print(z.T) # in ra \"[[1]"
   ]
  },
  {
   "cell_type": "markdown",
   "id": "55c90a72",
   "metadata": {},
   "source": [
    "### Một số thao tác thông dụng"
   ]
  },
  {
   "cell_type": "code",
   "execution_count": 162,
   "id": "fa093c50",
   "metadata": {},
   "outputs": [
    {
     "name": "stdout",
     "output_type": "stream",
     "text": [
      "[[ 2  2  4]\n",
      " [ 5  5  7]\n",
      " [ 8  8 10]\n",
      " [11 11 13]]\n"
     ]
    }
   ],
   "source": [
    "#Cơ chế broadcasting\n",
    "\n",
    "x = np.array([[1, 2, 3], [4, 5, 6], [7, 8, 9], [10, 11, 12]])\n",
    "v = np.array([1, 0, 1])\n",
    "y = x + v\n",
    "print(y) "
   ]
  },
  {
   "cell_type": "code",
   "execution_count": 163,
   "id": "2813bfc6",
   "metadata": {},
   "outputs": [
    {
     "name": "stdout",
     "output_type": "stream",
     "text": [
      "10\n",
      "[4 6]\n",
      "[3 7]\n"
     ]
    }
   ],
   "source": [
    "# Tính tổng theo các trục\n",
    "x = np.array([[1, 2], [3, 4]])\n",
    "\n",
    "print(np.sum(x)) # tính tổng toàn bộ x, in \"10“\n",
    "print(np.sum(x, axis=0)) # tính tổng mỗi cột, in \"[4 6]“\n",
    "print(np.sum(x, axis=1)) # tính tổng mỗi hàng, in \"[3 7]\""
   ]
  },
  {
   "cell_type": "code",
   "execution_count": 164,
   "id": "c5c0bef6",
   "metadata": {},
   "outputs": [
    {
     "name": "stdout",
     "output_type": "stream",
     "text": [
      "[1 4 5]\n",
      "[1 4 5]\n",
      "[2 2]\n",
      "[2 2]\n"
     ]
    }
   ],
   "source": [
    "#Trích xuất dữ liệu theo dãy\n",
    "\n",
    "import numpy as np\n",
    "a = np.array([[1,2], [3, 4], [5, 6]])\n",
    "# Prints \"[1 4 5]\"\n",
    "print(a[[0, 1, 2], [0, 1, 0]])\n",
    "# Prints \"[1 4 5]\"\n",
    "print(np.array([a[0, 0], a[1, 1], a[2, 0]]))\n",
    "# Prints \"[2 2]\"\n",
    "print(a[[0, 0], [1, 1]])\n",
    "# Prints \"[2 2]\"\n",
    "print(np.array([a[0, 1], a[0, 1]]))"
   ]
  },
  {
   "cell_type": "code",
   "execution_count": 165,
   "id": "7c2f4857",
   "metadata": {},
   "outputs": [
    {
     "name": "stdout",
     "output_type": "stream",
     "text": [
      "[ 1  6  7 11]\n",
      "[[11  2  3]\n",
      " [ 4  5 16]\n",
      " [17  8  9]\n",
      " [10 21 12]]\n"
     ]
    }
   ],
   "source": [
    "# Lọc phần tử theo chỉ số\n",
    "\n",
    "a = np.array([[1, 2, 3], [4, 5, 6], [7, 8, 9], [10, 11, 12]])\n",
    "b = np.array([0, 2, 0, 1]) # b là mảng các chỉ số\n",
    "print(a[np.arange(4), b]) # in ra \"[1 6 7 11]\"\n",
    "# cộng tất cả các phần tử được lọc thêm 10\n",
    "a[np.arange(4), b] += 10\n",
    "print(a)"
   ]
  },
  {
   "cell_type": "code",
   "execution_count": 166,
   "id": "0f6451a2",
   "metadata": {},
   "outputs": [
    {
     "name": "stdout",
     "output_type": "stream",
     "text": [
      "[[False False]\n",
      " [ True  True]\n",
      " [ True  True]]\n",
      "[3 4 5 6]\n",
      "[3 4 5 6]\n"
     ]
    }
   ],
   "source": [
    "# Lọc dữ liệu theo điều kiện\n",
    "\n",
    "a = np.array([[1, 2], [3, 4], [5, 6]])\n",
    "bool_idx = (a > 2)\n",
    "print(bool_idx) # in ra \"[[False False]\n",
    "# [ True True]\n",
    "# [ True True]]\"\n",
    "# lọc dữ liệu trong a, trả về một dãy\n",
    "print(a[bool_idx]) # Prints \"[3 4 5 6]\"\n",
    "# có thể viết trực tiếp điều kiện (ngắn gọn hơn)\n",
    "print(a[a > 2]) # Prints \"[3 4 5 6]\""
   ]
  },
  {
   "cell_type": "code",
   "execution_count": 167,
   "id": "45afed67",
   "metadata": {},
   "outputs": [
    {
     "data": {
      "text/plain": [
       "array([[1, 3, 4],\n",
       "       [4, 4, 2]])"
      ]
     },
     "execution_count": 167,
     "metadata": {},
     "output_type": "execute_result"
    }
   ],
   "source": [
    "# Điều chỉnh cỡ ma trận \n",
    "x = np.array([[1, 3], [4, 4], [4, 2]])\n",
    "x.shape\n",
    "(3, 2)\n",
    "x = np.array([[1, 3], [4, 4], [4, 2]])\n",
    "x\n",
    "x = x.reshape(2, 3) #chỉnh thành 2x3\n",
    "\n",
    "array([[1, 3, 4], [4, 4, 2]])\n",
    "x = np.array([[1, 3], [4, 4], [4, 2]])\n",
    "x = x.reshape(2, -1) # tự tính chiều còn lại\n",
    "x\n",
    "array([[1, 3, 4], [4, 4, 2]])"
   ]
  },
  {
   "cell_type": "code",
   "execution_count": 168,
   "id": "f3d8301c",
   "metadata": {},
   "outputs": [
    {
     "data": {
      "text/plain": [
       "array([1, 4, 9])"
      ]
     },
     "execution_count": 168,
     "metadata": {},
     "output_type": "execute_result"
    }
   ],
   "source": [
    "#Elementwise operation\n",
    "x = np.array([1, 2, 3])\n",
    "np.log(x) #lấy log cơ số e từng phần tử\n",
    "array([ 0, 0.69314718, 1.09861229])\n",
    "np.abs(x) #lấy trị tuyệt đối từng phần tử\n",
    "array([1, 2, 3])\n",
    "np.maximum(x, 2)\n",
    "#lấy max\n",
    "array([2, 2, 3])\n",
    "np.minimum(x, 2)\n",
    "#lấy min\n",
    "array([1, 2, 2])\n",
    "x**2 # lũy thừa 2 từng phần tử\n",
    "array([1, 4, 9])"
   ]
  },
  {
   "cell_type": "code",
   "execution_count": 169,
   "id": "1df2165a",
   "metadata": {},
   "outputs": [
    {
     "data": {
      "text/plain": [
       "array([[ 5., 10.]])"
      ]
     },
     "execution_count": 169,
     "metadata": {},
     "output_type": "execute_result"
    }
   ],
   "source": [
    "# Tính norm cấp 2 của vector\n",
    "\n",
    "# norm cấp 2 của vector là chiều dài của vector đó\n",
    "\n",
    "x = np.array([[0, 3], [4, 3], [6, 8]])\n",
    "\n",
    "# tính norm mỗi dòng, kết quả: array([[3], [5], [10]])\n",
    "np.linalg.norm(x, axis = 1, keepdims = True)\n",
    "x = np.array([[0, 6], [4, 0], [3, 8]])\n",
    "\n",
    "# tính norm mỗi cột, kết quả: array([[5, 10]])\n",
    "np.linalg.norm(x, axis = 0, keepdims = True)"
   ]
  },
  {
   "cell_type": "code",
   "execution_count": 170,
   "id": "979ce011",
   "metadata": {},
   "outputs": [
    {
     "name": "stdout",
     "output_type": "stream",
     "text": [
      "[[0.0241288  0.49654799]\n",
      " [0.77168131 0.52943855]\n",
      " [0.28695822 0.78617075]]\n",
      "-1.0184562566207869\n",
      "[-2.02050012  1.6270806  -0.48359873]\n",
      "[[ 0.04989224 -0.16055142 -0.82469987 -0.11839594]\n",
      " [-0.6463359   1.2045845   0.63997734 -1.10938729]\n",
      " [-0.33028013 -0.85324007 -1.10137855  1.99005726]]\n",
      "[[ 6 14  7  3]\n",
      " [ 3  3  6  4]]\n",
      "[ 6 11 12  9 18  0 10  1 19 14 16  4  3  5  8 17 15  2 13  7]\n"
     ]
    }
   ],
   "source": [
    "# Sinh mảng ngẫu nhiên\n",
    "print(np.random.random((3, 2)))  # mảng 3x2 ngẫu nhiên trong [0,1)\n",
    "\n",
    "print(np.random.randn())         # một số sinh theo phân phối chuẩn\n",
    "print(np.random.randn(3))        # mảng 3 số theo phân phối chuẩn\n",
    "print(np.random.randn(3, 4))     # mảng 3x4 theo phân phối chuẩn\n",
    "\n",
    "# mảng 2x4 gồm các số nguyên trong [3,15)\n",
    "print(np.random.randint(3, 15, (2, 4)))\n",
    "\n",
    "# sinh một dãy là hoán vị ngẫu nhiên của dãy (0, 1, 2,..., 19)\n",
    "print(np.random.permutation(20))\n"
   ]
  },
  {
   "cell_type": "code",
   "execution_count": 171,
   "id": "811c2fec",
   "metadata": {},
   "outputs": [
    {
     "name": "stdout",
     "output_type": "stream",
     "text": [
      "-0.044088321324115526\n",
      "0.39743169633904435\n",
      "[0.86147081 0.5348271  0.85277047 0.34919836]\n",
      "[0.43954474 1.11303964 0.45161406]\n"
     ]
    }
   ],
   "source": [
    "# Các hàm thống kê \n",
    "a = np.random.randn(3, 4)\n",
    "# tính trung bình của cả ma trận a\n",
    "print(np.mean(a))\n",
    "# tính trung vị của cột đầu tiên\n",
    "print(np.median(a[:,0]))\n",
    "# tính độ lệch chuẩn của từng dòng\n",
    "print(a.std(axis=0))\n",
    "# tính phương sai của từng cột\n",
    "print(a.var(axis=1))"
   ]
  },
  {
   "cell_type": "markdown",
   "id": "8b780a55",
   "metadata": {},
   "source": [
    "### Thư viện matplotlib"
   ]
  },
  {
   "cell_type": "markdown",
   "id": "29cbaa81",
   "metadata": {},
   "source": [
    "### Vẽ biểu đồ đơn giản"
   ]
  },
  {
   "cell_type": "code",
   "execution_count": 172,
   "id": "ecffd21f",
   "metadata": {},
   "outputs": [],
   "source": [
    "#Ví dụ: vẽ biểu đồ y = x^2\n",
    "\n",
    "import numpy as np # thư viện numpy\n",
    "import matplotlib.pyplot as plt # thư viện pyplot"
   ]
  },
  {
   "cell_type": "code",
   "execution_count": 173,
   "id": "e1bd2a00",
   "metadata": {},
   "outputs": [
    {
     "data": {
      "image/png": "[encoded data removed]",
      "text/plain": [
       "<Figure size 640x480 with 1 Axes>"
      ]
     },
     "metadata": {},
     "output_type": "display_data"
    }
   ],
   "source": [
    "# chia đoạn từ -20 đến 20 thành 1000 đoạn\n",
    "x = np.linspace(-20, 20, 1000)\n",
    "# tính y\n",
    "y = x * x\n",
    "# vẽ biểu đồ tương quan giữa x và y\n",
    "plt.plot(x, y)\n",
    "# hiển thị biểu đồ\n",
    "plt.show()"
   ]
  },
  {
   "cell_type": "code",
   "execution_count": 174,
   "id": "33f86aa0",
   "metadata": {},
   "outputs": [
    {
     "data": {
      "image/png": "[encoded data removed]",
      "text/plain": [
       "<Figure size 640x480 with 1 Axes>"
      ]
     },
     "metadata": {},
     "output_type": "display_data"
    }
   ],
   "source": [
    "# Vẽ biểu đồ hình sin \n",
    "# chia đoạn từ 0 đến 3π thành các đoạn con 0.1\n",
    "x = np.arange(0, 3 * np.pi, 0.1)\n",
    "# tính sin tương ứng với từng phần tử của x\n",
    "y = np.sin(x)\n",
    "# vẽ biểu đồ tương quan giữa x và y\n",
    "plt.plot(x, y)\n",
    "# hiển thị biểu đồ\n",
    "plt.show()"
   ]
  },
  {
   "cell_type": "code",
   "execution_count": 175,
   "id": "989a0c30",
   "metadata": {},
   "outputs": [
    {
     "data": {
      "image/png": "[encoded data removed]",
      "text/plain": [
       "<Figure size 640x480 with 1 Axes>"
      ]
     },
     "metadata": {},
     "output_type": "display_data"
    }
   ],
   "source": [
    "# Vẽ biểu đồ hàm sin và cos\n",
    "x = np.arange(0, 3 * np.pi, 0.1)\n",
    "y_sin = np.sin(x)\n",
    "y_cos = np.cos(x)\n",
    "plt.plot(x, y_sin)\n",
    "plt.plot(x, y_cos)\n",
    "plt.xlabel('Trục X')\n",
    "plt.ylabel('Trục Y')\n",
    "plt.title('Hàm SIN và COS trong khoảng 0 đến 3pi')\n",
    "plt.legend(['SIN(x)', 'COS(x)'])\n",
    "plt.show()"
   ]
  },
  {
   "cell_type": "markdown",
   "id": "61949c6c",
   "metadata": {},
   "source": [
    "### Một số loại biểu đồ thông dụng trong matplotlib"
   ]
  },
  {
   "cell_type": "code",
   "execution_count": 176,
   "id": "71ab336e",
   "metadata": {},
   "outputs": [
    {
     "data": {
      "image/png": "[encoded data removed]",
      "text/plain": [
       "<Figure size 640x480 with 1 Axes>"
      ]
     },
     "metadata": {},
     "output_type": "display_data"
    }
   ],
   "source": [
    "#Biểu đồ dạng đường (line plot)\n",
    "\n",
    "# chia đoạn 0-5 thành các bước 0.2\n",
    "\n",
    "t = np.arange(0., 5., 0.2)\n",
    "# Vẽ 3 đường: #- màu đỏ nét đứt: y = x\n",
    "# - màu xanh dương, đánh dấu ô vuông:\n",
    "y = x*x #- màu xanh lá, đánh dấu tam giác:\n",
    "y = x*x*x\n",
    "plt.plot(t, t, 'r--', t, t**2, 'bs',\n",
    "t, t**3, 'g^')\n",
    "plt.show()"
   ]
  },
  {
   "cell_type": "code",
   "execution_count": 177,
   "id": "8d9b92ea",
   "metadata": {},
   "outputs": [
    {
     "data": {
      "image/png": "[encoded data removed]",
      "text/plain": [
       "<Figure size 640x480 with 1 Axes>"
      ]
     },
     "metadata": {},
     "output_type": "display_data"
    }
   ],
   "source": [
    "#Biểu đồ dạng cột (bar plot)\n",
    "#Biểu đồ dạng cột chiều đứng\n",
    "D = { 'Dược học': 3000,\n",
    "'KT-NH': 900,\n",
    "'QTKD': 2000,\n",
    "'CNTT': 1200,\n",
    "'CK-Oto': 1500,\n",
    "'NN': 500 }\n",
    "plt.bar(range(len(D)), D.values(),\n",
    "align='center')\n",
    "plt.xticks(range(len(D)),\n",
    "D.keys())\n",
    "plt.title('Các ngành tuyển sinh của Đại học Nguyễn Tất Thành')\n",
    "plt.show()"
   ]
  },
  {
   "cell_type": "code",
   "execution_count": 178,
   "id": "4e499cf8",
   "metadata": {},
   "outputs": [
    {
     "data": {
      "image/png": "[encoded data removed]",
      "text/plain": [
       "<Figure size 640x480 with 1 Axes>"
      ]
     },
     "metadata": {},
     "output_type": "display_data"
    }
   ],
   "source": [
    "#Biểu đồ dạng cột chiều ngang\n",
    "D = { \n",
    "    'Dược học': 3000,\n",
    "    'KT-NH': 900,\n",
    "    'QTKD': 2000,\n",
    "    'CNTT': 1200,\n",
    "    'CK-Oto': 1500,\n",
    "    'NN': 500 \n",
    "}\n",
    "\n",
    "plt.barh(range(len(D)), D.values(), align='center')\n",
    "plt.yticks(range(len(D)), D.keys())\n",
    "plt.title('Các ngành tuyển sinh của Đại học Nguyễn Tất Thành')\n",
    "plt.xlabel('Số lượng tuyển sinh')\n",
    "plt.ylabel('Ngành học')\n",
    "plt.show()\n"
   ]
  },
  {
   "cell_type": "code",
   "execution_count": 179,
   "id": "94ee0473",
   "metadata": {},
   "outputs": [
    {
     "data": {
      "image/png": "[encoded data removed]",
      "text/plain": [
       "<Figure size 640x480 with 1 Axes>"
      ]
     },
     "metadata": {},
     "output_type": "display_data"
    }
   ],
   "source": [
    "# Ghép 2 biểu đồ\n",
    "plt.bar([1,3,5,7,9],[5,2,7,8,2], label=\"One\")\n",
    "plt.bar([2,4,6,8,10],[8,6,2,5,6], label=\"Two\", color='g')\n",
    "plt.legend()\n",
    "plt.xlabel('bar number')\n",
    "plt.ylabel('bar height')\n",
    "plt.title('Ghép 2 biểu đồ')\n",
    "plt.show()"
   ]
  },
  {
   "cell_type": "code",
   "execution_count": 180,
   "id": "db5a00cd",
   "metadata": {},
   "outputs": [
    {
     "data": {
      "image/png": "[encoded data removed]",
      "text/plain": [
       "<Figure size 640x480 with 1 Axes>"
      ]
     },
     "metadata": {},
     "output_type": "display_data"
    }
   ],
   "source": [
    "#Biểu đồ bánh (pie chart)\n",
    "D = { 'Dược học': 3000,\n",
    "'KT-NH': 900,\n",
    "'QTKD': 2000,\n",
    "'CNTT': 1200,\n",
    "'CK-Oto': 1500,\n",
    "'NN': 500 }\n",
    "plt.pie(D.values(),\n",
    "labels=D.keys(), autopct='%1.1f%%')\n",
    "plt.axis('equal') # trục x = trục y\n",
    "plt.show()"
   ]
  },
  {
   "cell_type": "markdown",
   "id": "811ceb75",
   "metadata": {},
   "source": [
    "### Một số chức năng hữu ích"
   ]
  },
  {
   "cell_type": "code",
   "execution_count": 181,
   "id": "3416df24",
   "metadata": {},
   "outputs": [
    {
     "data": {
      "image/png": "[encoded data removed]",
      "text/plain": [
       "<Figure size 640x480 with 2 Axes>"
      ]
     },
     "metadata": {},
     "output_type": "display_data"
    }
   ],
   "source": [
    "# Chia thành các biểu đồ con\n",
    "x = np.arange(0, 3 * np.pi, 0.1)\n",
    "y_sin = np.sin(x)\n",
    "y_cos = np.cos(x)\n",
    "plt.subplot(2, 1, 1) # biểu đồ 1\n",
    "plt.plot(x, y_sin)\n",
    "plt.title('SIN(x)')\n",
    "plt.subplot(2, 1, 2) # biểu đồ 2\n",
    "plt.plot(x, y_cos)\n",
    "plt.title('COS(x)')\n",
    "plt.show()"
   ]
  },
  {
   "cell_type": "code",
   "execution_count": 182,
   "id": "781b4293",
   "metadata": {},
   "outputs": [
    {
     "data": {
      "image/png": "[encoded data removed]",
      "text/plain": [
       "<Figure size 640x480 with 2 Axes>"
      ]
     },
     "metadata": {},
     "output_type": "display_data"
    }
   ],
   "source": [
    "# Một số biểu đồ khác \n",
    "x1 = np.linspace(0.0, 5.0)\n",
    "x2 = np.linspace(0.0, 2.0)\n",
    "y1 = np.cos(2 * np.pi * x1) * np.exp(-x1)\n",
    "y2 = np.cos(2 * np.pi * x2)\n",
    "plt.subplot(2, 1, 1)\n",
    "plt.plot(x1, y1, 'o-')\n",
    "plt.subplot(2, 1, 2)\n",
    "plt.plot(x2, y2, '.-')\n",
    "plt.show()"
   ]
  },
  {
   "cell_type": "code",
   "execution_count": 183,
   "id": "dcea9ede",
   "metadata": {},
   "outputs": [],
   "source": [
    "#Nạp ảnh (png_jpg)\n",
    "import matplotlib.pyplot as plt\n",
    "import matplotlib.image as mpimg"
   ]
  },
  {
   "cell_type": "code",
   "execution_count": 184,
   "id": "b61f9939",
   "metadata": {},
   "outputs": [
    {
     "data": {
      "image/png": "[encoded data removed]",
      "text/plain": [
       "<Figure size 500x500 with 4 Axes>"
      ]
     },
     "metadata": {},
     "output_type": "display_data"
    }
   ],
   "source": [
    "image = mpimg.imread('pi.png')\n",
    "fig, axs = plt.subplots(2, 2,figsize=(5, 5))\n",
    "axs[0, 0].imshow(image)\n",
    "axs[1, 0].imshow(image)\n",
    "axs[0, 1].imshow(image)\n",
    "axs[1, 1].imshow(image)\n",
    "plt.show()"
   ]
  },
  {
   "cell_type": "code",
   "execution_count": 185,
   "id": "45b97a34",
   "metadata": {},
   "outputs": [
    {
     "data": {
      "image/png": "[encoded data removed]",
      "text/plain": [
       "<Figure size 500x500 with 4 Axes>"
      ]
     },
     "metadata": {},
     "output_type": "display_data"
    }
   ],
   "source": [
    "#lưu biểu đồ ra file\n",
    "image = mpimg.imread('pi.png')\n",
    "fig, axs = plt.subplots(2, 2, figsize=(5, 5))\n",
    "axs[0, 0].imshow(image)\n",
    "axs[1, 0].imshow(image)\n",
    "axs[0, 1].imshow(image)\n",
    "axs[1, 1].imshow(image)\n",
    "\n",
    "plt.savefig('1.jpg')\n",
    "plt.savefig('1.pdf')"
   ]
  },
  {
   "cell_type": "markdown",
   "id": "0df7bed5",
   "metadata": {},
   "source": [
    "### Thư viện Panda"
   ]
  },
  {
   "cell_type": "code",
   "execution_count": 186,
   "id": "32832053",
   "metadata": {},
   "outputs": [],
   "source": [
    "import pandas as pd\n",
    "import numpy as np"
   ]
  },
  {
   "cell_type": "code",
   "execution_count": 187,
   "id": "ddcfd34b",
   "metadata": {},
   "outputs": [
    {
     "name": "stdout",
     "output_type": "stream",
     "text": [
      "0    22\n",
      "1    84\n",
      "2    41\n",
      "3    60\n",
      "dtype: int32\n",
      "RangeIndex(start=0, stop=4, step=1)\n",
      "[22 84 41 60]\n"
     ]
    }
   ],
   "source": [
    "#Tạo dữ liệu series (1)\n",
    "S = pd.Series(np.random.randint(100, size = 4))\n",
    "print(S)\n",
    "print(S.index)\n",
    "print(S.values)"
   ]
  },
  {
   "cell_type": "code",
   "execution_count": 188,
   "id": "31ffe590",
   "metadata": {},
   "outputs": [
    {
     "name": "stdout",
     "output_type": "stream",
     "text": [
      "Ke toan    310\n",
      "KT         360\n",
      "CNTT       580\n",
      "Co khi     340\n",
      "dtype: int64\n",
      "Index(['Ke toan', 'KT', 'CNTT', 'Co khi'], dtype='object')\n",
      "[310 360 580 340]\n"
     ]
    }
   ],
   "source": [
    "#Tạo dữ liệu series (2)\n",
    "chi_so = [\"Ke toan\", \"KT\", \"CNTT\", \"Co khi\"]\n",
    "gia_tri = [310, 360, 580, 340]\n",
    "S = pd.Series(gia_tri, index=chi_so)\n",
    "print(S)\n",
    "print(S.index)\n",
    "print(S.values)"
   ]
  },
  {
   "cell_type": "code",
   "execution_count": 189,
   "id": "922f8641",
   "metadata": {},
   "outputs": [
    {
     "name": "stdout",
     "output_type": "stream",
     "text": [
      "KT        310\n",
      "KT        360\n",
      "CNTT      580\n",
      "Co khi    340\n",
      "dtype: int64\n",
      "Index(['KT', 'KT', 'CNTT', 'Co khi'], dtype='object')\n",
      "[310 360 580 340]\n"
     ]
    }
   ],
   "source": [
    "#Tạo dữ liệu series (3)\n",
    "chi_so = [\"KT\", \"KT\", \"CNTT\", \"Co khi\"] # trùng nhau\n",
    "gia_tri = [310, 360, 580, 340]\n",
    "S = pd.Series(gia_tri, index=chi_so)\n",
    "print(S)\n",
    "print(S.index)\n",
    "print(S.values)"
   ]
  },
  {
   "cell_type": "code",
   "execution_count": 190,
   "id": "51d93bc4",
   "metadata": {},
   "outputs": [
    {
     "name": "stdout",
     "output_type": "stream",
     "text": [
      "340\n",
      "KT    310\n",
      "KT    360\n",
      "dtype: int64\n",
      "580\n"
     ]
    }
   ],
   "source": [
    "#Truy vấn dữ liệu thông qua chỉ số\n",
    "chi_so = [\"KT\", \"KT\", \"CNTT\", \"Co khi\"] # trùng nhau\n",
    "gia_tri = [310, 360, 580, 340]\n",
    "S = pd.Series(gia_tri, index=chi_so)\n",
    "print(S['Co khi'])\n",
    "print(S['KT'])\n",
    "print(S.CNTT)"
   ]
  },
  {
   "cell_type": "code",
   "execution_count": 191,
   "id": "41f9029a",
   "metadata": {},
   "outputs": [
    {
     "name": "stdout",
     "output_type": "stream",
     "text": [
      "CNTT       680.0\n",
      "Co khi       NaN\n",
      "KT           NaN\n",
      "Ke toan      NaN\n",
      "PM           NaN\n",
      "dtype: float64\n"
     ]
    }
   ],
   "source": [
    "#Phép toán trên series\n",
    "chi_so = [\"Ke toan\", \"KT\", \"CNTT\", \"Co khi\"]\n",
    "gia_tri = [310, 360, 580, 340]\n",
    "# chỉ số giống nhau thì tính gộp, nếu không thì NaN\n",
    "S = pd.Series(gia_tri, index=chi_so)\n",
    "P = pd.Series([100, 100], ['CNTT',\n",
    "'PM'])\n",
    "Y = S + P\n",
    "print(Y)"
   ]
  },
  {
   "cell_type": "code",
   "execution_count": 192,
   "id": "ee7f361e",
   "metadata": {},
   "outputs": [
    {
     "name": "stdout",
     "output_type": "stream",
     "text": [
      "Ke toan    1310\n",
      "KT         1360\n",
      "CNTT        580\n",
      "Co khi     1340\n",
      "dtype: int64\n"
     ]
    }
   ],
   "source": [
    "import pandas as pd\n",
    "\n",
    "# Hàm tăng giá trị\n",
    "def Tang(x):\n",
    "    return x if x > 500 else x + 1000\n",
    "\n",
    "chi_so = [\"Ke toan\", \"KT\", \"CNTT\", \"Co khi\"]\n",
    "gia_tri = [310, 360, 580, 340]\n",
    "\n",
    "S = pd.Series(gia_tri, chi_so)\n",
    "\n",
    "# áp dụng Tang trên S (không thay đổi S gốc)\n",
    "print(S.apply(Tang))\n"
   ]
  },
  {
   "cell_type": "markdown",
   "id": "78be9290",
   "metadata": {},
   "source": [
    "### Làm việc với dataframe"
   ]
  },
  {
   "cell_type": "code",
   "execution_count": 193,
   "id": "77a4d97b",
   "metadata": {},
   "outputs": [
    {
     "name": "stdout",
     "output_type": "stream",
     "text": [
      "   Year  Population    Total  Violent\n",
      "0  1960   179323175  3384200   288460\n",
      "1  1961   182992000  3488000   289390\n",
      "2  1962   185771000  3752200   301510\n",
      "3  1963   188483000  4109500   316970\n",
      "4  1964   191141000  4564600   364220\n"
     ]
    }
   ],
   "source": [
    "# Tạo dataframe từ list\n",
    "crimes_rates = {\n",
    "\"Year\":[1960,1961,1962,1963,1964],\n",
    "\"Population\":[179323175,182992000,185771000,188483000,\n",
    "191141000],\n",
    "\"Total\":[3384200,3488000,3752200,4109500,4564600],\n",
    "\"Violent\":[288460,289390,301510,316970,364220]\n",
    "}\n",
    "crimes_dataframe = pd.DataFrame(crimes_rates)\n",
    "print(crimes_dataframe)"
   ]
  },
  {
   "cell_type": "code",
   "execution_count": 194,
   "id": "c0469d80",
   "metadata": {},
   "outputs": [
    {
     "name": "stdout",
     "output_type": "stream",
     "text": [
      "                MIT  Stanford   DHTL\n",
      "NumOfStudents  5000      4500  15000\n",
      "ranking           1         2    200\n",
      "int64\n"
     ]
    }
   ],
   "source": [
    "# Tạo DataFrame từ dictionary\n",
    "data = [\n",
    "{'MIT': 5000, 'Stanford': 4500, \"DHTL\":15000},\n",
    "{'MIT': 1, 'Stanford': 2, \"DHTL\":200}\n",
    "]\n",
    "df = pd.DataFrame(data, index=['NumOfStudents', \"ranking\"])\n",
    "print(df)\n",
    "print(df.DHTL.dtype)"
   ]
  },
  {
   "cell_type": "code",
   "execution_count": 195,
   "id": "5263f8c3",
   "metadata": {},
   "outputs": [
    {
     "name": "stdout",
     "output_type": "stream",
     "text": [
      "    one   two\n",
      "1   1.0  1000\n",
      "2  23.0  2400\n",
      "3  45.0  1132\n",
      "4   NaN  3434\n"
     ]
    }
   ],
   "source": [
    "#Tạo dataframe từ dictionary serias\n",
    "data = {\n",
    "\"one\": pd.Series([1,23,45], index = [1,2,3]),\n",
    "\"two\": pd.Series([1000,2400,1132,3434], index =\n",
    "[1,2,3,4])\n",
    "}\n",
    "df = pd.DataFrame(data)\n",
    "print(df)"
   ]
  },
  {
   "cell_type": "code",
   "execution_count": 196,
   "id": "4e9420f5",
   "metadata": {},
   "outputs": [
    {
     "name": "stdout",
     "output_type": "stream",
     "text": [
      "   HoTen  Tuoi Nganh\n",
      "0     An    20  CNTT\n",
      "1   Bình    22  QTKD\n",
      "2  Cường    21    KT\n",
      "3  Duyên    23    NN\n"
     ]
    }
   ],
   "source": [
    "#Đọc dữ liệu từ file .csv\n",
    "d = pd.read_csv('sinhvien.csv')\n",
    "print(d)"
   ]
  },
  {
   "cell_type": "markdown",
   "id": "bac0a5cd",
   "metadata": {},
   "source": [
    "### Kết hợp giữa pandas và matplotlib"
   ]
  },
  {
   "cell_type": "code",
   "execution_count": 197,
   "id": "57780c08",
   "metadata": {},
   "outputs": [
    {
     "data": {
      "image/png": "[encoded data removed]",
      "text/plain": [
       "<Figure size 640x480 with 1 Axes>"
      ]
     },
     "metadata": {},
     "output_type": "display_data"
    }
   ],
   "source": [
    "# Đọc file, lấy HoTen làm index\n",
    "d = pd.read_csv(\"sinhvien.csv\", index_col=0)\n",
    "\n",
    "# Đếm số sinh viên theo ngành\n",
    "count_nganh = d[\"Nganh\"].value_counts()\n",
    "\n",
    "# Vẽ biểu đồ cột\n",
    "count_nganh.plot(kind=\"bar\")\n",
    "plt.title(\"Số lượng sinh viên theo ngành\")\n",
    "plt.xlabel(\"Ngành học\")\n",
    "plt.ylabel(\"Số lượng\")\n",
    "plt.show()\n"
   ]
  },
  {
   "cell_type": "code",
   "execution_count": 198,
   "id": "ba2f11c7",
   "metadata": {},
   "outputs": [
    {
     "name": "stdout",
     "output_type": "stream",
     "text": [
      "       Tuoi Nganh\n",
      "HoTen            \n",
      "An       20  CNTT\n",
      "Bình     22  QTKD\n",
      "Cường    21    KT\n",
      "Duyên    23    NN\n"
     ]
    }
   ],
   "source": [
    "# Truy cập vào từng ô trong dataframe\n",
    "d = pd.read_csv(\"sinhvien.csv\", index_col=0)\n",
    "print(d)"
   ]
  },
  {
   "cell_type": "code",
   "execution_count": 199,
   "id": "c10b84d5",
   "metadata": {},
   "outputs": [
    {
     "name": "stdout",
     "output_type": "stream",
     "text": [
      "       Tuoi Nganh\n",
      "HoTen            \n",
      "Bình     22  QTKD\n",
      "Cường    21    KT\n",
      "Duyên    23    NN\n",
      "       Tuoi\n",
      "HoTen      \n",
      "An       20\n",
      "Bình     22\n",
      "Cường    21\n",
      "Duyên    23\n"
     ]
    }
   ],
   "source": [
    "# Xóa dòng hoặc cột\n",
    "print(d.drop(\"An\")) # xóa dòng có index là An\n",
    "print(d.drop(\"Nganh\", axis=1)) # xóa cột Ngan"
   ]
  },
  {
   "cell_type": "markdown",
   "id": "19c59b1f",
   "metadata": {},
   "source": [
    "### Làm việc với panel"
   ]
  },
  {
   "cell_type": "code",
   "execution_count": 200,
   "id": "719804a1",
   "metadata": {},
   "outputs": [],
   "source": [
    "import pandas as pd\n",
    "import numpy as np"
   ]
  },
  {
   "cell_type": "code",
   "execution_count": 201,
   "id": "e27fba3c",
   "metadata": {},
   "outputs": [
    {
     "name": "stdout",
     "output_type": "stream",
     "text": [
      "Mảng NumPy 3D:\n",
      "[[[0.74154697 0.44164585 0.64621755 0.47800403]\n",
      "  [0.2188229  0.83915682 0.80662807 0.35400905]\n",
      "  [0.34668158 0.74062427 0.14207359 0.7751459 ]]\n",
      "\n",
      " [[0.35759756 0.09896749 0.68353622 0.20713819]\n",
      "  [0.53867889 0.53354478 0.95275009 0.94338911]\n",
      "  [0.89820631 0.94932624 0.87508895 0.6357602 ]]]\n"
     ]
    }
   ],
   "source": [
    "\n",
    "data = np.random.rand(2, 3, 4)\n",
    "print(\"Mảng NumPy 3D:\")\n",
    "print(data)\n"
   ]
  },
  {
   "cell_type": "markdown",
   "id": "7fe3c40d",
   "metadata": {},
   "source": [
    "### Chọn và nhóm phần tử"
   ]
  },
  {
   "cell_type": "code",
   "execution_count": 202,
   "id": "7a275c8f",
   "metadata": {},
   "outputs": [
    {
     "data": {
      "text/html": [
       "<div>\n",
       "<style scoped>\n",
       "    .dataframe tbody tr th:only-of-type {\n",
       "        vertical-align: middle;\n",
       "    }\n",
       "\n",
       "    .dataframe tbody tr th {\n",
       "        vertical-align: top;\n",
       "    }\n",
       "\n",
       "    .dataframe thead th {\n",
       "        text-align: right;\n",
       "    }\n",
       "</style>\n",
       "<table border=\"1\" class=\"dataframe\">\n",
       "  <thead>\n",
       "    <tr style=\"text-align: right;\">\n",
       "      <th></th>\n",
       "      <th>Y</th>\n",
       "    </tr>\n",
       "    <tr>\n",
       "      <th>X</th>\n",
       "      <th></th>\n",
       "    </tr>\n",
       "  </thead>\n",
       "  <tbody>\n",
       "    <tr>\n",
       "      <th>A</th>\n",
       "      <td>7</td>\n",
       "    </tr>\n",
       "    <tr>\n",
       "      <th>B</th>\n",
       "      <td>3</td>\n",
       "    </tr>\n",
       "  </tbody>\n",
       "</table>\n",
       "</div>"
      ],
      "text/plain": [
       "   Y\n",
       "X   \n",
       "A  7\n",
       "B  3"
      ]
     },
     "execution_count": 202,
     "metadata": {},
     "output_type": "execute_result"
    }
   ],
   "source": [
    "#Nhóm phần tử\n",
    "df2 = pd.DataFrame({'X' : ['B', 'B', 'A', 'A'], 'Y' : [1, 2, 3, 4]})\n",
    "df2.groupby(['X']).sum()"
   ]
  },
  {
   "cell_type": "code",
   "execution_count": 203,
   "id": "0f274163",
   "metadata": {},
   "outputs": [
    {
     "data": {
      "text/html": [
       "<div>\n",
       "<style scoped>\n",
       "    .dataframe tbody tr th:only-of-type {\n",
       "        vertical-align: middle;\n",
       "    }\n",
       "\n",
       "    .dataframe tbody tr th {\n",
       "        vertical-align: top;\n",
       "    }\n",
       "\n",
       "    .dataframe thead th {\n",
       "        text-align: right;\n",
       "    }\n",
       "</style>\n",
       "<table border=\"1\" class=\"dataframe\">\n",
       "  <thead>\n",
       "    <tr style=\"text-align: right;\">\n",
       "      <th></th>\n",
       "      <th>Y</th>\n",
       "    </tr>\n",
       "    <tr>\n",
       "      <th>X</th>\n",
       "      <th></th>\n",
       "    </tr>\n",
       "  </thead>\n",
       "  <tbody>\n",
       "    <tr>\n",
       "      <th>B</th>\n",
       "      <td>3</td>\n",
       "    </tr>\n",
       "    <tr>\n",
       "      <th>A</th>\n",
       "      <td>7</td>\n",
       "    </tr>\n",
       "  </tbody>\n",
       "</table>\n",
       "</div>"
      ],
      "text/plain": [
       "   Y\n",
       "X   \n",
       "B  3\n",
       "A  7"
      ]
     },
     "execution_count": 203,
     "metadata": {},
     "output_type": "execute_result"
    }
   ],
   "source": [
    "#Nhóm phần tử\n",
    "df2.groupby(['X'], sort=False).sum()"
   ]
  },
  {
   "cell_type": "code",
   "execution_count": 204,
   "id": "78d5f56c",
   "metadata": {},
   "outputs": [
    {
     "name": "stderr",
     "output_type": "stream",
     "text": [
      "C:\\Users\\Admin\\AppData\\Local\\Temp\\ipykernel_19364\\2994302590.py:4: FutureWarning: When grouping with a length-1 list-like, you will need to pass a length-1 tuple to get_group in a future version of pandas. Pass `(name,)` instead of `name` to silence this warning.\n",
      "  df3.groupby(['X']).get_group('A')\n"
     ]
    },
    {
     "data": {
      "text/html": [
       "<div>\n",
       "<style scoped>\n",
       "    .dataframe tbody tr th:only-of-type {\n",
       "        vertical-align: middle;\n",
       "    }\n",
       "\n",
       "    .dataframe tbody tr th {\n",
       "        vertical-align: top;\n",
       "    }\n",
       "\n",
       "    .dataframe thead th {\n",
       "        text-align: right;\n",
       "    }\n",
       "</style>\n",
       "<table border=\"1\" class=\"dataframe\">\n",
       "  <thead>\n",
       "    <tr style=\"text-align: right;\">\n",
       "      <th></th>\n",
       "      <th>X</th>\n",
       "      <th>Y</th>\n",
       "    </tr>\n",
       "  </thead>\n",
       "  <tbody>\n",
       "    <tr>\n",
       "      <th>0</th>\n",
       "      <td>A</td>\n",
       "      <td>1</td>\n",
       "    </tr>\n",
       "    <tr>\n",
       "      <th>2</th>\n",
       "      <td>A</td>\n",
       "      <td>3</td>\n",
       "    </tr>\n",
       "  </tbody>\n",
       "</table>\n",
       "</div>"
      ],
      "text/plain": [
       "   X  Y\n",
       "0  A  1\n",
       "2  A  3"
      ]
     },
     "execution_count": 204,
     "metadata": {},
     "output_type": "execute_result"
    }
   ],
   "source": [
    "#Nhóm phầm tử\n",
    "df3 = pd.DataFrame({'X' : ['A', 'B', 'A', 'B'], 'Y' :\n",
    "[1, 4, 3, 2]})\n",
    "df3.groupby(['X']).get_group('A')"
   ]
  },
  {
   "cell_type": "code",
   "execution_count": 205,
   "id": "002cbe49",
   "metadata": {},
   "outputs": [
    {
     "name": "stderr",
     "output_type": "stream",
     "text": [
      "C:\\Users\\Admin\\AppData\\Local\\Temp\\ipykernel_19364\\3299341889.py:2: FutureWarning: When grouping with a length-1 list-like, you will need to pass a length-1 tuple to get_group in a future version of pandas. Pass `(name,)` instead of `name` to silence this warning.\n",
      "  df3.groupby(['X']).get_group('B')\n"
     ]
    },
    {
     "data": {
      "text/html": [
       "<div>\n",
       "<style scoped>\n",
       "    .dataframe tbody tr th:only-of-type {\n",
       "        vertical-align: middle;\n",
       "    }\n",
       "\n",
       "    .dataframe tbody tr th {\n",
       "        vertical-align: top;\n",
       "    }\n",
       "\n",
       "    .dataframe thead th {\n",
       "        text-align: right;\n",
       "    }\n",
       "</style>\n",
       "<table border=\"1\" class=\"dataframe\">\n",
       "  <thead>\n",
       "    <tr style=\"text-align: right;\">\n",
       "      <th></th>\n",
       "      <th>X</th>\n",
       "      <th>Y</th>\n",
       "    </tr>\n",
       "  </thead>\n",
       "  <tbody>\n",
       "    <tr>\n",
       "      <th>1</th>\n",
       "      <td>B</td>\n",
       "      <td>4</td>\n",
       "    </tr>\n",
       "    <tr>\n",
       "      <th>3</th>\n",
       "      <td>B</td>\n",
       "      <td>2</td>\n",
       "    </tr>\n",
       "  </tbody>\n",
       "</table>\n",
       "</div>"
      ],
      "text/plain": [
       "   X  Y\n",
       "1  B  4\n",
       "3  B  2"
      ]
     },
     "execution_count": 205,
     "metadata": {},
     "output_type": "execute_result"
    }
   ],
   "source": [
    "# Nhóm phần tử\n",
    "df3.groupby(['X']).get_group('B')"
   ]
  },
  {
   "cell_type": "markdown",
   "id": "2026baa3",
   "metadata": {},
   "source": [
    "### Sử dụng pandas trong bài toán thực tế"
   ]
  },
  {
   "cell_type": "markdown",
   "id": "c5366792",
   "metadata": {},
   "source": [
    "### Dữ liệu về kết quả xổ số"
   ]
  },
  {
   "cell_type": "markdown",
   "id": "3bef6b54",
   "metadata": {},
   "source": [
    "### Đọc và tiền xử lý dữ liệu"
   ]
  },
  {
   "cell_type": "code",
   "execution_count": 206,
   "id": "94c911c1",
   "metadata": {},
   "outputs": [
    {
     "ename": "FileNotFoundError",
     "evalue": "[Errno 2] No such file or directory: 'kqxs.csv'",
     "output_type": "error",
     "traceback": [
      "\u001b[1;31m---------------------------------------------------------------------------\u001b[0m",
      "\u001b[1;31mFileNotFoundError\u001b[0m                         Traceback (most recent call last)",
      "Cell \u001b[1;32mIn[206], line 6\u001b[0m\n\u001b[0;32m      3\u001b[0m \u001b[38;5;28;01mimport\u001b[39;00m\u001b[38;5;250m \u001b[39m\u001b[38;5;21;01mnumpy\u001b[39;00m\u001b[38;5;250m \u001b[39m\u001b[38;5;28;01mas\u001b[39;00m\u001b[38;5;250m \u001b[39m\u001b[38;5;21;01mnp\u001b[39;00m\n\u001b[0;32m      5\u001b[0m \u001b[38;5;66;03m# đọc dữ liệu từ file csv, chuyển dữ liệu cột 1 sang date\u001b[39;00m\n\u001b[1;32m----> 6\u001b[0m df \u001b[38;5;241m=\u001b[39m pd\u001b[38;5;241m.\u001b[39mread_csv(\u001b[38;5;124m\"\u001b[39m\u001b[38;5;124mkqxs.csv\u001b[39m\u001b[38;5;124m\"\u001b[39m, index_col \u001b[38;5;241m=\u001b[39m \u001b[38;5;241m0\u001b[39m, parse_dates\u001b[38;5;241m=\u001b[39m\u001b[38;5;28;01mTrue\u001b[39;00m)\n\u001b[0;32m      8\u001b[0m \u001b[38;5;66;03m# xóa bỏ các dòng không có dữ liệu\u001b[39;00m\n\u001b[0;32m      9\u001b[0m df\u001b[38;5;241m.\u001b[39mdropna(inplace\u001b[38;5;241m=\u001b[39m\u001b[38;5;28;01mTrue\u001b[39;00m)\n",
      "File \u001b[1;32mc:\\ProgramData\\anaconda3\\Lib\\site-packages\\pandas\\io\\parsers\\readers.py:1026\u001b[0m, in \u001b[0;36mread_csv\u001b[1;34m(filepath_or_buffer, sep, delimiter, header, names, index_col, usecols, dtype, engine, converters, true_values, false_values, skipinitialspace, skiprows, skipfooter, nrows, na_values, keep_default_na, na_filter, verbose, skip_blank_lines, parse_dates, infer_datetime_format, keep_date_col, date_parser, date_format, dayfirst, cache_dates, iterator, chunksize, compression, thousands, decimal, lineterminator, quotechar, quoting, doublequote, escapechar, comment, encoding, encoding_errors, dialect, on_bad_lines, delim_whitespace, low_memory, memory_map, float_precision, storage_options, dtype_backend)\u001b[0m\n\u001b[0;32m   1013\u001b[0m kwds_defaults \u001b[38;5;241m=\u001b[39m _refine_defaults_read(\n\u001b[0;32m   1014\u001b[0m     dialect,\n\u001b[0;32m   1015\u001b[0m     delimiter,\n\u001b[1;32m   (...)\u001b[0m\n\u001b[0;32m   1022\u001b[0m     dtype_backend\u001b[38;5;241m=\u001b[39mdtype_backend,\n\u001b[0;32m   1023\u001b[0m )\n\u001b[0;32m   1024\u001b[0m kwds\u001b[38;5;241m.\u001b[39mupdate(kwds_defaults)\n\u001b[1;32m-> 1026\u001b[0m \u001b[38;5;28;01mreturn\u001b[39;00m _read(filepath_or_buffer, kwds)\n",
      "File \u001b[1;32mc:\\ProgramData\\anaconda3\\Lib\\site-packages\\pandas\\io\\parsers\\readers.py:620\u001b[0m, in \u001b[0;36m_read\u001b[1;34m(filepath_or_buffer, kwds)\u001b[0m\n\u001b[0;32m    617\u001b[0m _validate_names(kwds\u001b[38;5;241m.\u001b[39mget(\u001b[38;5;124m\"\u001b[39m\u001b[38;5;124mnames\u001b[39m\u001b[38;5;124m\"\u001b[39m, \u001b[38;5;28;01mNone\u001b[39;00m))\n\u001b[0;32m    619\u001b[0m \u001b[38;5;66;03m# Create the parser.\u001b[39;00m\n\u001b[1;32m--> 620\u001b[0m parser \u001b[38;5;241m=\u001b[39m TextFileReader(filepath_or_buffer, \u001b[38;5;241m*\u001b[39m\u001b[38;5;241m*\u001b[39mkwds)\n\u001b[0;32m    622\u001b[0m \u001b[38;5;28;01mif\u001b[39;00m chunksize \u001b[38;5;129;01mor\u001b[39;00m iterator:\n\u001b[0;32m    623\u001b[0m     \u001b[38;5;28;01mreturn\u001b[39;00m parser\n",
      "File \u001b[1;32mc:\\ProgramData\\anaconda3\\Lib\\site-packages\\pandas\\io\\parsers\\readers.py:1620\u001b[0m, in \u001b[0;36mTextFileReader.__init__\u001b[1;34m(self, f, engine, **kwds)\u001b[0m\n\u001b[0;32m   1617\u001b[0m     \u001b[38;5;28mself\u001b[39m\u001b[38;5;241m.\u001b[39moptions[\u001b[38;5;124m\"\u001b[39m\u001b[38;5;124mhas_index_names\u001b[39m\u001b[38;5;124m\"\u001b[39m] \u001b[38;5;241m=\u001b[39m kwds[\u001b[38;5;124m\"\u001b[39m\u001b[38;5;124mhas_index_names\u001b[39m\u001b[38;5;124m\"\u001b[39m]\n\u001b[0;32m   1619\u001b[0m \u001b[38;5;28mself\u001b[39m\u001b[38;5;241m.\u001b[39mhandles: IOHandles \u001b[38;5;241m|\u001b[39m \u001b[38;5;28;01mNone\u001b[39;00m \u001b[38;5;241m=\u001b[39m \u001b[38;5;28;01mNone\u001b[39;00m\n\u001b[1;32m-> 1620\u001b[0m \u001b[38;5;28mself\u001b[39m\u001b[38;5;241m.\u001b[39m_engine \u001b[38;5;241m=\u001b[39m \u001b[38;5;28mself\u001b[39m\u001b[38;5;241m.\u001b[39m_make_engine(f, \u001b[38;5;28mself\u001b[39m\u001b[38;5;241m.\u001b[39mengine)\n",
      "File \u001b[1;32mc:\\ProgramData\\anaconda3\\Lib\\site-packages\\pandas\\io\\parsers\\readers.py:1880\u001b[0m, in \u001b[0;36mTextFileReader._make_engine\u001b[1;34m(self, f, engine)\u001b[0m\n\u001b[0;32m   1878\u001b[0m     \u001b[38;5;28;01mif\u001b[39;00m \u001b[38;5;124m\"\u001b[39m\u001b[38;5;124mb\u001b[39m\u001b[38;5;124m\"\u001b[39m \u001b[38;5;129;01mnot\u001b[39;00m \u001b[38;5;129;01min\u001b[39;00m mode:\n\u001b[0;32m   1879\u001b[0m         mode \u001b[38;5;241m+\u001b[39m\u001b[38;5;241m=\u001b[39m \u001b[38;5;124m\"\u001b[39m\u001b[38;5;124mb\u001b[39m\u001b[38;5;124m\"\u001b[39m\n\u001b[1;32m-> 1880\u001b[0m \u001b[38;5;28mself\u001b[39m\u001b[38;5;241m.\u001b[39mhandles \u001b[38;5;241m=\u001b[39m get_handle(\n\u001b[0;32m   1881\u001b[0m     f,\n\u001b[0;32m   1882\u001b[0m     mode,\n\u001b[0;32m   1883\u001b[0m     encoding\u001b[38;5;241m=\u001b[39m\u001b[38;5;28mself\u001b[39m\u001b[38;5;241m.\u001b[39moptions\u001b[38;5;241m.\u001b[39mget(\u001b[38;5;124m\"\u001b[39m\u001b[38;5;124mencoding\u001b[39m\u001b[38;5;124m\"\u001b[39m, \u001b[38;5;28;01mNone\u001b[39;00m),\n\u001b[0;32m   1884\u001b[0m     compression\u001b[38;5;241m=\u001b[39m\u001b[38;5;28mself\u001b[39m\u001b[38;5;241m.\u001b[39moptions\u001b[38;5;241m.\u001b[39mget(\u001b[38;5;124m\"\u001b[39m\u001b[38;5;124mcompression\u001b[39m\u001b[38;5;124m\"\u001b[39m, \u001b[38;5;28;01mNone\u001b[39;00m),\n\u001b[0;32m   1885\u001b[0m     memory_map\u001b[38;5;241m=\u001b[39m\u001b[38;5;28mself\u001b[39m\u001b[38;5;241m.\u001b[39moptions\u001b[38;5;241m.\u001b[39mget(\u001b[38;5;124m\"\u001b[39m\u001b[38;5;124mmemory_map\u001b[39m\u001b[38;5;124m\"\u001b[39m, \u001b[38;5;28;01mFalse\u001b[39;00m),\n\u001b[0;32m   1886\u001b[0m     is_text\u001b[38;5;241m=\u001b[39mis_text,\n\u001b[0;32m   1887\u001b[0m     errors\u001b[38;5;241m=\u001b[39m\u001b[38;5;28mself\u001b[39m\u001b[38;5;241m.\u001b[39moptions\u001b[38;5;241m.\u001b[39mget(\u001b[38;5;124m\"\u001b[39m\u001b[38;5;124mencoding_errors\u001b[39m\u001b[38;5;124m\"\u001b[39m, \u001b[38;5;124m\"\u001b[39m\u001b[38;5;124mstrict\u001b[39m\u001b[38;5;124m\"\u001b[39m),\n\u001b[0;32m   1888\u001b[0m     storage_options\u001b[38;5;241m=\u001b[39m\u001b[38;5;28mself\u001b[39m\u001b[38;5;241m.\u001b[39moptions\u001b[38;5;241m.\u001b[39mget(\u001b[38;5;124m\"\u001b[39m\u001b[38;5;124mstorage_options\u001b[39m\u001b[38;5;124m\"\u001b[39m, \u001b[38;5;28;01mNone\u001b[39;00m),\n\u001b[0;32m   1889\u001b[0m )\n\u001b[0;32m   1890\u001b[0m \u001b[38;5;28;01massert\u001b[39;00m \u001b[38;5;28mself\u001b[39m\u001b[38;5;241m.\u001b[39mhandles \u001b[38;5;129;01mis\u001b[39;00m \u001b[38;5;129;01mnot\u001b[39;00m \u001b[38;5;28;01mNone\u001b[39;00m\n\u001b[0;32m   1891\u001b[0m f \u001b[38;5;241m=\u001b[39m \u001b[38;5;28mself\u001b[39m\u001b[38;5;241m.\u001b[39mhandles\u001b[38;5;241m.\u001b[39mhandle\n",
      "File \u001b[1;32mc:\\ProgramData\\anaconda3\\Lib\\site-packages\\pandas\\io\\common.py:873\u001b[0m, in \u001b[0;36mget_handle\u001b[1;34m(path_or_buf, mode, encoding, compression, memory_map, is_text, errors, storage_options)\u001b[0m\n\u001b[0;32m    868\u001b[0m \u001b[38;5;28;01melif\u001b[39;00m \u001b[38;5;28misinstance\u001b[39m(handle, \u001b[38;5;28mstr\u001b[39m):\n\u001b[0;32m    869\u001b[0m     \u001b[38;5;66;03m# Check whether the filename is to be opened in binary mode.\u001b[39;00m\n\u001b[0;32m    870\u001b[0m     \u001b[38;5;66;03m# Binary mode does not support 'encoding' and 'newline'.\u001b[39;00m\n\u001b[0;32m    871\u001b[0m     \u001b[38;5;28;01mif\u001b[39;00m ioargs\u001b[38;5;241m.\u001b[39mencoding \u001b[38;5;129;01mand\u001b[39;00m \u001b[38;5;124m\"\u001b[39m\u001b[38;5;124mb\u001b[39m\u001b[38;5;124m\"\u001b[39m \u001b[38;5;129;01mnot\u001b[39;00m \u001b[38;5;129;01min\u001b[39;00m ioargs\u001b[38;5;241m.\u001b[39mmode:\n\u001b[0;32m    872\u001b[0m         \u001b[38;5;66;03m# Encoding\u001b[39;00m\n\u001b[1;32m--> 873\u001b[0m         handle \u001b[38;5;241m=\u001b[39m \u001b[38;5;28mopen\u001b[39m(\n\u001b[0;32m    874\u001b[0m             handle,\n\u001b[0;32m    875\u001b[0m             ioargs\u001b[38;5;241m.\u001b[39mmode,\n\u001b[0;32m    876\u001b[0m             encoding\u001b[38;5;241m=\u001b[39mioargs\u001b[38;5;241m.\u001b[39mencoding,\n\u001b[0;32m    877\u001b[0m             errors\u001b[38;5;241m=\u001b[39merrors,\n\u001b[0;32m    878\u001b[0m             newline\u001b[38;5;241m=\u001b[39m\u001b[38;5;124m\"\u001b[39m\u001b[38;5;124m\"\u001b[39m,\n\u001b[0;32m    879\u001b[0m         )\n\u001b[0;32m    880\u001b[0m     \u001b[38;5;28;01melse\u001b[39;00m:\n\u001b[0;32m    881\u001b[0m         \u001b[38;5;66;03m# Binary mode\u001b[39;00m\n\u001b[0;32m    882\u001b[0m         handle \u001b[38;5;241m=\u001b[39m \u001b[38;5;28mopen\u001b[39m(handle, ioargs\u001b[38;5;241m.\u001b[39mmode)\n",
      "\u001b[1;31mFileNotFoundError\u001b[0m: [Errno 2] No such file or directory: 'kqxs.csv'"
     ]
    }
   ],
   "source": [
    "import matplotlib.pyplot as plt\n",
    "import pandas as pd\n",
    "import numpy as np\n",
    "\n",
    "# đọc dữ liệu từ file csv, chuyển dữ liệu cột 1 sang date\n",
    "df = pd.read_csv(\"kqxs.csv\", index_col = 0, parse_dates=True)\n",
    "\n",
    "# xóa bỏ các dòng không có dữ liệu\n",
    "df.dropna(inplace=True)\n",
    "# thêm cột mới là 2 số cuối của giải độc đắc\n",
    "df['Cuoi'] = df.So % 100"
   ]
  },
  {
   "cell_type": "code",
   "execution_count": null,
   "id": "77952ebe",
   "metadata": {},
   "outputs": [],
   "source": [
    "# Khảo sat dữ liệu\n",
    "# trích xuất cột mới thành dữ liệu series để dễ xử lý\n",
    "s = pd.Series(df.Cuoi, dtype='int64')\n",
    "\n",
    "# xem phân bổ dữ liệu: biểu đồ histogram, 100 nhóm\n",
    "s.plot('hist', bins=100)\n",
    "plt.show()\n",
    "\n",
    "# một dạng phân bổ dữ liệu khác: biểu đồ bar, đếm tần suất\n",
    "s.value_counts().sort_index().plot('bar')\n",
    "plt.show()"
   ]
  },
  {
   "cell_type": "code",
   "execution_count": null,
   "id": "af7a4a5d",
   "metadata": {},
   "outputs": [
    {
     "name": "stdout",
     "output_type": "stream",
     "text": [
      "Lời/lỗ 1 ngày: 67000\n",
      "Tổng tiền sau nhiều ngày: 195000\n"
     ]
    }
   ],
   "source": [
    "# Hàm tính số tiền thu về\n",
    "# thử bộ số myNums, kết quả về là result, số tiền chơi là money\n",
    "def one_day(myNums, result, money):\n",
    "    pay = len(myNums) * money\n",
    "    get = money * 70 if result in myNums else 0\n",
    "    return get - pay\n",
    "\n",
    "# chơi nhiều ngày bộ số myNums, kết quả về là results\n",
    "def many_day(myNums, results, money):\n",
    "    total = 0\n",
    "    for x in results:\n",
    "        total += one_day(myNums, x, money)\n",
    "    return total\n",
    "\n",
    "\n",
    "# Ví dụ chạy thử:\n",
    "myNums = [12, 34, 56]          # bộ số mình chọn\n",
    "results = [12, 45, 56, 78, 34] # kết quả xổ trong nhiều ngày\n",
    "money = 1000                   # số tiền chơi mỗi con số\n",
    "\n",
    "print(\"Lời/lỗ 1 ngày:\", one_day(myNums, 12, money))\n",
    "print(\"Tổng tiền sau nhiều ngày:\", many_day(myNums, results, money))\n"
   ]
  },
  {
   "cell_type": "code",
   "execution_count": null,
   "id": "4a21758e",
   "metadata": {},
   "outputs": [
    {
     "name": "stdout",
     "output_type": "stream",
     "text": [
      "Chơi con 76 toàn năm 2000: -14000\n",
      "Chơi con 76 toàn bộ các năm: -14000\n",
      "Nuôi nhiều số toàn năm 2000: -84000\n",
      "Nuôi nhiều số toàn bộ các năm: -84000\n"
     ]
    }
   ],
   "source": [
    "#Chiến lược nuôi một số\n",
    "money = 1000\n",
    "\n",
    "# thử chiến lược chơi: nuôi một con\n",
    "print(\"Chơi con 76 toàn năm 2000:\", many_day([76], s[0:367], money))\n",
    "print(\"Chơi con 76 toàn bộ các năm:\", many_day([76], s, money))\n",
    "# thử chiến lược chơi: nuôi nhiều con\n",
    "print(\"Nuôi nhiều số toàn năm 2000:\", many_day([76, 92, 3, 10, 51, 45], s[0:367], money))\n",
    "print(\"Nuôi nhiều số toàn bộ các năm:\", many_day([76, 92, 3, 10, 51,45], s, money))"
   ]
  },
  {
   "cell_type": "code",
   "execution_count": null,
   "id": "2b7d7a84",
   "metadata": {},
   "outputs": [],
   "source": [
    "# Chiến lược: thống kê\n",
    "# thống kê con ra nhiều nhất rồi chơi\n",
    "\n",
    "x = s[0:362].value_counts().idxmax()\n",
    "y = s.value_counts().idxmax()\n",
    "print(\"Chơi theo số ra nhiều nhất năm 2000:\", x,\n",
    "many_day([x], s, money))\n",
    "print(\"Chơi theo số ra nhiều nhất các năm:\", y,\n",
    "many_day([y], s, money))"
   ]
  },
  {
   "cell_type": "code",
   "execution_count": null,
   "id": "32592b91",
   "metadata": {},
   "outputs": [
    {
     "name": "stdout",
     "output_type": "stream",
     "text": [
      "Chơi ngẫu nhiên: -14000\n"
     ]
    }
   ],
   "source": [
    "# Chiến lược: ngẫu nhiên\n",
    "# chơi ngẫu nhiên, mỗi ngày một con\n",
    "\n",
    "total = 0\n",
    "for d in s:\n",
    " total -= money\n",
    "m = np.random.randint(100)\n",
    "if (m == d): total += 70 * money\n",
    "print(\"Chơi ngẫu nhiên:\", total)"
   ]
  },
  {
   "cell_type": "markdown",
   "id": "c651b1c6",
   "metadata": {},
   "source": [
    "### Thư viện scikit-learn"
   ]
  },
  {
   "cell_type": "markdown",
   "id": "ed44b42b",
   "metadata": {},
   "source": [
    "### Dự báo sử dụng hồi quy tuyến tính"
   ]
  },
  {
   "cell_type": "code",
   "execution_count": null,
   "id": "4f718b4f",
   "metadata": {},
   "outputs": [],
   "source": [
    "import matplotlib.pyplot as plt\n",
    "import pandas as pd\n",
    "import numpy as np\n",
    "from sklearn import linear_model, metrics"
   ]
  },
  {
   "cell_type": "code",
   "execution_count": null,
   "id": "68ba67af",
   "metadata": {},
   "outputs": [],
   "source": [
    "# đọc dữ liệu từ file csv\n",
    "df = pd.read_csv(\"nguoi.csv\", index_col = 0)\n",
    "print(df)\n",
    "# vẽ biểu đồ minh họa dataset\n",
    "plt.plot(df.Cao, df.Nang, 'ro')\n",
    "plt.xlabel('Chiều cao (cm)')\n",
    "plt.ylabel('Cân nặng (kg)')\n",
    "plt.show()\n",
    "# sử dụng hồi quy tuyến tính\n",
    "X = df.loc[:, ['Cao']].values\n",
    "y = df.Nang.values\n",
    "\n",
    "# X là dữ liệu đầu vào\n",
    "# y là dữ liệu đầu ra\n",
    "# loại mô hình\n",
    "# tập huấn trên dữ liệu\n",
    "\n",
    "model = linear_model.LinearRegression()\n",
    "model.fit(X, y)\n",
    "# in một số thông tin về mô hình\n",
    "mse = metrics.mean_squared_error(model.predict(X), y)\n",
    "print(\"Tổng bình phương sai số trên tập mẫu:\", mse)\n",
    "print(\"Hệ số hồi quy:\", model.coef_)\n",
    "print(\"Sai số:\", model.intercept_)\n",
    "print(f\"Công thức: [Nặng] = {model.coef_} x [Cao] +{model.intercept_}\")\n",
    "# vẽ lại sơ đồ\n",
    "plt.scatter(X, y, c='b')\n",
    "plt.plot(X, model.predict(X))\n",
    "plt.show()\n",
    "\n",
    "# dự báo một số tình huống\n",
    "while True:\n",
    "\n",
    " x = float(input(\"Nhập chiều cao (nhập 0 để dừng): \"))\n",
    " if x <= 0: break\n",
    " print(\"Người cao\", x, \"cm, dự báo cân nặng\",\n",
    "\n",
    "model.predict([[x]]))"
   ]
  },
  {
   "cell_type": "code",
   "execution_count": null,
   "id": "e9c300d3",
   "metadata": {},
   "outputs": [],
   "source": [
    "# Mở rộng mô hình (thêm cột giới tính)\n",
    "import matplotlib.pyplot as plt\n",
    "import pandas as pd\n",
    "import numpy as np\n",
    "from sklearn import linear_model, metrics"
   ]
  },
  {
   "cell_type": "code",
   "execution_count": null,
   "id": "fb8f73d2",
   "metadata": {},
   "outputs": [],
   "source": [
    "\n",
    "# đọc dữ liệu từ file csv\n",
    "df = pd.read_csv(\"nguoi2.csv\", index_col = 0)\n",
    "print(df)\n",
    "# thêm cột mới, giới tính Nam = 1, giới tính Nữ = 0\n",
    "df['GT'] = df.Gioitinh.apply(lambda x: 1 if x=='Nam' else 0)\n",
    "print(df)\n",
    "# sử dụng hồi quy tuyến tính\n",
    "X = df.loc[:, ['Cao', 'GT']].values\n",
    "y = df.Nang.values\n",
    "\n",
    "# X là dữ liệu đầu vào\n",
    "# y là dữ liệu đầu ra\n",
    "model = linear_model.LinearRegression() # loại mô hình\n",
    "model.fit(X, y) # tập huấn trên dữ liệu\n",
    "\n",
    "# in một số thông tin về mô hình\n",
    "mse = metrics.mean_squared_error(model.predict(X), y)\n",
    "print(\"Tổng bình phương sai số trên tập mẫu:\", mse)\n",
    "print(\"Hệ số hồi quy:\", model.coef_)\n",
    "print(\"Sai số:\", model.intercept_)\n",
    "print(f\"Công thức: [Nặng] = {model.coef_} x [Cao, Giới tính] + {model.intercept_}\")\n",
    "\n",
    "# dự báo một số tình huống\n",
    "while True:\n",
    "\n",
    " x = float(input(\"Nhập chiều cao (nhập 0 để dừng): \"))\n",
    " if x <= 0: break\n",
    " print(\"Nam giới cao\", x, \"cm, dự báo cân nặng\",\n",
    "\n",
    " model.predict([[x, 1]]))\n",
    "\n",
    " print(\"Nữ giới cao\", x, \"cm, dự báo cân nặng\",\n",
    "\n",
    " model.predict([[x, 0]]))"
   ]
  },
  {
   "cell_type": "markdown",
   "id": "952eb5fc",
   "metadata": {},
   "source": [
    "## Kết thúc"
   ]
  }
 ],
 "metadata": {
  "kernelspec": {
   "display_name": "base",
   "language": "python",
   "name": "python3"
  },
  "language_info": {
   "codemirror_mode": {
    "name": "ipython",
    "version": 3
   },
   "file_extension": ".py",
   "mimetype": "text/x-python",
   "name": "python",
   "nbconvert_exporter": "python",
   "pygments_lexer": "ipython3",
   "version": "3.13.5"
  }
 },
 "nbformat": 4,
 "nbformat_minor": 5
}
