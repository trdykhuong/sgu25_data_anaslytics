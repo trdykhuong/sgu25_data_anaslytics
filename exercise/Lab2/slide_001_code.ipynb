{
 "cells": [
  {
   "cell_type": "markdown",
   "id": "443c1111",
   "metadata": {},
   "source": [
    "## Python Numpy Matplotlib Pandas"
   ]
  },
  {
   "cell_type": "markdown",
   "id": "3f6e6671",
   "metadata": {},
   "source": [
    "### Biến\n",
    "### Kiểu dữ liệu\n",
    "### Khối lệnh"
   ]
  },
  {
   "cell_type": "code",
   "execution_count": 1,
   "id": "9717c321",
   "metadata": {},
   "outputs": [],
   "source": [
    "n = 12 \n",
    "#biến n là kiểu nguyên\n",
    "n = n + 0.1 \n",
    "#biến n chuyển sang kiểu thực\n",
    "name = 'matt'\n",
    "#chuỗi trong nó có chứa dấu nháy đơn\n",
    "with_quote = \"I ain't gonna\"\n",
    "#chuỗi có nôi dung nằm trên 2 dòng\n",
    "longer = \"\"\"This string has multiple lines in it\"\"\"\n"
   ]
  },
  {
   "cell_type": "markdown",
   "id": "94cfe291",
   "metadata": {},
   "source": [
    "### Nhập và Xuất dữ liệu"
   ]
  },
  {
   "cell_type": "code",
   "execution_count": null,
   "id": "47ab6a51",
   "metadata": {},
   "outputs": [
    {
     "name": "stdout",
     "output_type": "stream",
     "text": [
      "42\n",
      "a =  67\n",
      "a = \n",
      " 67\n",
      "a b\n",
      "ab\n",
      "192.168.178.42\n",
      "a:-)b\n"
     ]
    }
   ],
   "source": [
    "# Xuất dữ liệu \n",
    "print(42)\n",
    "a = 67\n",
    "print(\"a = \", a)\n",
    "print(\"a = \\n\", a)\n",
    "print(\"a\",\"b\")\n",
    "print(\"a\",\"b\",sep=\"\")\n",
    "print(192,168,178,42,sep=\".\")\n",
    "print(\"a\",\"b\",sep=\":-)\")"
   ]
  },
  {
   "cell_type": "code",
   "execution_count": null,
   "id": "4547c7ac",
   "metadata": {},
   "outputs": [
    {
     "name": "stdout",
     "output_type": "stream",
     "text": [
      "Nice to meet you Khuong!\n",
      "You are already 21 years old, Khuong!\n",
      "You are already %d years old! 21\n"
     ]
    }
   ],
   "source": [
    "# Nhập dữ liệu \n",
    "#Sử dụng hàm input để nhập dữ liệu từ bàn phím\n",
    "name = input(\"What's your name? \")\n",
    "print(\"Nice to meet you \" + name + \"!\")\n",
    "age = input(\"Your age? \")\n",
    "print(\"You are already \" + age + \" years old, \" + name\n",
    "+ \"!\")\n",
    "#Có thể kết hợp chuyển kiểu nếu muốn tường minh\n",
    "age = int(input(\"Your age? \"))\n",
    "print(\"You are already %d years old!\", age)"
   ]
  },
  {
   "cell_type": "markdown",
   "id": "66dc4e32",
   "metadata": {},
   "source": [
    "### Giải phương trình bậc 2 "
   ]
  },
  {
   "cell_type": "code",
   "execution_count": 5,
   "id": "a5a0b991",
   "metadata": {},
   "outputs": [
    {
     "name": "stdout",
     "output_type": "stream",
     "text": [
      "Phuong trinh vo nghiem\n"
     ]
    }
   ],
   "source": [
    "a = float(input(\"A = \"))\n",
    "b = float(input(\"B = \"))\n",
    "c = float(input(\"C = \"))\n",
    "delta = b*b-4*a*c\n",
    "\n",
    "if delta==0:\n",
    " print(\"Nghiem kep: x = \", str(-b/2/a))\n",
    "if delta<0:\n",
    " print(\"Phuong trinh vo nghiem\")\n",
    "if delta>0:\n",
    " print(\"X1 = \" + str((-b+delta**0.5)/2/a))\n",
    " print(\"X2 = \" + str((-b-delta**0.5)/2/a))"
   ]
  },
  {
   "cell_type": "markdown",
   "id": "c25ec7fb",
   "metadata": {},
   "source": [
    "### Kiểu dữ liệu & phép toán liên quan"
   ]
  },
  {
   "cell_type": "code",
   "execution_count": 6,
   "id": "bcec9a62",
   "metadata": {},
   "outputs": [
    {
     "name": "stdout",
     "output_type": "stream",
     "text": [
      "(5+2j)\n"
     ]
    }
   ],
   "source": [
    "# Kiểu số\n",
    "#Python viết số nguyên theo nhiều hệ cơ số\n",
    "A = 1234 # hệ cơ số 10\n",
    "B = 0xAF1 # hệ cơ số 16\n",
    "C = 0o772 # hệ cơ số 8\n",
    "D = 0b1001 # hệ cơ số 2\n",
    "#Chuyển đổi từ số nguyên thành string ở các hệ cơ số khác nhau\n",
    "K = str(1234) # chuyển thành str ở hệ cơ số 10\n",
    "L = hex(1234) # chuyển thành str ở hệ cơ số 16\n",
    "M = oct(1234) # chuyển thành str ở hệ cơ số 8\n",
    "N = bin(1234) # chuyển thành str ở hệ cơ số 2\n",
    "\n",
    "#Số thực (float) trong python có thể viết kiểu thông thường hoặc dạng khoa học\n",
    "X = 12.34\n",
    "Y = 314.15279e-2 # dạng số nguyên và phần mũ 10\n",
    "\n",
    "#Python hỗ trợ kiểu số phức, với chữ j đại diện cho phần ảo\n",
    "A = 3+4j\n",
    "B = 2-2j\n",
    "print(A+B) # sẽ in ra (5+2j)"
   ]
  },
  {
   "cell_type": "markdown",
   "id": "9d1271b1",
   "metadata": {},
   "source": [
    "### Cấu trúc rẽ nhánh "
   ]
  },
  {
   "cell_type": "code",
   "execution_count": 7,
   "id": "71789676",
   "metadata": {},
   "outputs": [
    {
     "name": "stdout",
     "output_type": "stream",
     "text": [
      "Nice to meet you 17!\n",
      "You are already 12 years old, 17 !\n",
      "Nhỏ quá\n"
     ]
    }
   ],
   "source": [
    "name = input(\"What's your name? \")\n",
    "print(\"Nice to meet you \" + name + \"!\")\n",
    "age = int(input(\"Your age? \"))\n",
    "print(\"You are already\", age, \"years old,\",\n",
    "name, \"!\")\n",
    "if age>=18:\n",
    " print(\"Đủ tuổi đi bầu cử\")\n",
    "if age>100:\n",
    " print(\"Có vẻ sai sai!\")\n",
    "else:\n",
    " print(\"Nhỏ quá\")"
   ]
  },
  {
   "cell_type": "markdown",
   "id": "0e83fec5",
   "metadata": {},
   "source": [
    "### Vòng lặp"
   ]
  },
  {
   "cell_type": "code",
   "execution_count": 8,
   "id": "b89756c4",
   "metadata": {},
   "outputs": [
    {
     "name": "stdout",
     "output_type": "stream",
     "text": [
      "10\n",
      "11\n",
      "12\n",
      "13\n",
      "14\n",
      "15\n",
      "16\n",
      "17\n",
      "18\n",
      "19\n",
      "20\n",
      "19\n",
      "18\n",
      "17\n",
      "16\n",
      "15\n",
      "14\n",
      "13\n",
      "12\n",
      "11\n"
     ]
    }
   ],
   "source": [
    "# Vòng lặp for \n",
    "for d in range(10,20): # in các số từ 10 đến 19\n",
    " print(d)\n",
    "for d in range(20,10,-1): # in các số từ 20 đến 11\n",
    " print(d)"
   ]
  },
  {
   "cell_type": "markdown",
   "id": "3a136feb",
   "metadata": {},
   "source": [
    "### Hàm"
   ]
  },
  {
   "cell_type": "code",
   "execution_count": 9,
   "id": "34a9fc37",
   "metadata": {},
   "outputs": [
    {
     "name": "stdout",
     "output_type": "stream",
     "text": [
      "200\n",
      "10\n",
      "5\n",
      "30\n"
     ]
    }
   ],
   "source": [
    "#Hàm có thể chỉ ra giá trị mặc định của tham số\n",
    "def tich(a, b = 1):\n",
    " return a*b\n",
    "#Như vậy với hàm trên ta có thể gọi thực hiện nó:\n",
    "print(tich(10, 20)) # 200\n",
    "print(tich(10)) # 10\n",
    "print(tich(a=5)) # 5\n",
    "print(tich(b=6, a=5)) # 30"
   ]
  },
  {
   "cell_type": "markdown",
   "id": "b8a67e5d",
   "metadata": {},
   "source": [
    "### Chuỗi và danh sách "
   ]
  },
  {
   "cell_type": "markdown",
   "id": "82c52098",
   "metadata": {},
   "source": [
    "### Kiểu dữ liệu tuần tự (sequential data type)"
   ]
  }
 ],
 "metadata": {
  "kernelspec": {
   "display_name": "base",
   "language": "python",
   "name": "python3"
  },
  "language_info": {
   "codemirror_mode": {
    "name": "ipython",
    "version": 3
   },
   "file_extension": ".py",
   "mimetype": "text/x-python",
   "name": "python",
   "nbconvert_exporter": "python",
   "pygments_lexer": "ipython3",
   "version": "3.13.5"
  }
 },
 "nbformat": 4,
 "nbformat_minor": 5
}
