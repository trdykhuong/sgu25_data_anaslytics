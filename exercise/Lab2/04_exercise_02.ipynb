{
 "cells": [
  {
   "cell_type": "markdown",
   "id": "e34fd8e7",
   "metadata": {},
   "source": [
    "# Kỹ thuật lập trình Python"
   ]
  },
  {
   "cell_type": "markdown",
   "id": "8c40ef1c",
   "metadata": {},
   "source": [
    "## Làm quen với Numpy"
   ]
  },
  {
   "cell_type": "markdown",
   "id": "6a33ce82",
   "metadata": {},
   "source": [
    "### Bài 1. Tính toán trên dãy số"
   ]
  },
  {
   "cell_type": "markdown",
   "id": "f954ae2a",
   "metadata": {},
   "source": [
    "#### 1. Tạo một dãy số a có N phần tử (N = 10)"
   ]
  },
  {
   "cell_type": "code",
   "execution_count": 2,
   "id": "3253d565",
   "metadata": {},
   "outputs": [
    {
     "name": "stdout",
     "output_type": "stream",
     "text": [
      "1. Tạo một dãy số a có N phần tử (N = 10)\n",
      "Day so a:  [158 177 456  66 478 758 919 731 709 271]\n"
     ]
    }
   ],
   "source": [
    "import numpy as np # Khai báo thư viện numpy\n",
    "import random\n",
    "\n",
    "print(\"1. Tạo một dãy số a có N phần tử (N = 10)\")\n",
    "N = 10\n",
    "a = np.random.randint(1, 1000, size=N)\n",
    "\n",
    "print(\"Day so a: \", a)"
   ]
  },
  {
   "cell_type": "markdown",
   "id": "16fcde73",
   "metadata": {},
   "source": [
    "#### 2. Các thao tác trên dãy số a\n",
    "(a) Bình phương các phần tử trong dãy số <br/>\n",
    "(b) Tìm số lượng các phần tử của dãy số <br/>\n",
    "(c) In ra giá trị lớn nhất, giá trị nhỏ nhất và giá trị trung bình <br/>\n",
    "(d) Tính phương sai của dãy số $\\sigma^2 = \\frac{\\sum{\\left(a_i - \\mu\\right)^2}}{N - 1}$ với $\\mu = \\frac{\\sum{a_i}}{N}$ và độ lệch chuẩn $var = \\sqrt{\\sigma^2}$"
   ]
  },
  {
   "cell_type": "code",
   "execution_count": 4,
   "id": "9195f63f",
   "metadata": {},
   "outputs": [
    {
     "name": "stdout",
     "output_type": "stream",
     "text": [
      "2. Các thao tác tính toán đơn giản với dãy số a\n",
      "a. Binh phuong a:  [ 24964  31329 207936   4356 228484 574564 844561 534361 502681  73441]\n",
      "\n",
      "b. Do dai a:  10\n",
      "\n",
      "c. Gia tri lon nhat: [919], gia tri nho nhat: [66], gia tri trung binh [472.3]\n",
      "\n",
      "d. Phuong sai: [ 79600.41] va do lech chuan: [ 282.14]\n"
     ]
    }
   ],
   "source": [
    "print(\"2. Các thao tác tính toán đơn giản với dãy số a\")\n",
    "\n",
    "a2 = a**2\n",
    "na = len(a)\n",
    "\n",
    "print(\"a. Binh phuong a: \", a2)\n",
    "print(\"\\nb. Do dai a: \", na)\n",
    "\n",
    "v_max = np.max(a)\n",
    "v_min = np.min(a)\n",
    "v_avg = np.mean(a)\n",
    "\n",
    "print(f'\\nc. Gia tri lon nhat: [{v_max}], gia tri nho nhat: [{v_min}], gia tri trung binh [{v_avg}]')\n",
    "\n",
    "v_sigma2 = np.var(a)\n",
    "v_var = np.std(a)\n",
    "\n",
    "print(f'\\nd. Phuong sai: [{v_sigma2: .2f}] va do lech chuan: [{v_var: .2f}]')"
   ]
  },
  {
   "cell_type": "markdown",
   "id": "be35571b",
   "metadata": {},
   "source": [
    "#### 3. Toán tử trên hai dãy số\n",
    "(a) Tạo dãy số x có 10 phần tử từ 1 đến 10 (dùng hàm np.arange) <br/>\n",
    "(b) Liệt kê và đếm số lượng phần tử chẵn và lẻ có trong dãy a và x <br/>\n",
    "(c) Tính khoảng cách giữa các phần tử ở vị trí lẻ của mảng a và x với $s = \\sqrt{\\sum{\\left(a_i - x_i\\right)^2}}$ với $i$ lẻ<br/>\n",
    "(d) Tìm khoảng cách nhỏ nhất giữa tập a và x. Ví dụ: min({1, 3, 5}, {2, 10, 8}} = 1"
   ]
  },
  {
   "cell_type": "code",
   "execution_count": 7,
   "id": "39c978c1",
   "metadata": {},
   "outputs": [
    {
     "name": "stdout",
     "output_type": "stream",
     "text": [
      "3. Xử lý khác trên dãy số\n",
      "a. Day so x: [ 1  2  3  4  5  6  7  8  9 10]\n"
     ]
    }
   ],
   "source": [
    "print(\"3. Xử lý khác trên dãy số\")\n",
    "N = 10\n",
    "x = np.arange(1, N + 1) \n",
    "\n",
    "print(f'a. Day so x: {x}')"
   ]
  },
  {
   "cell_type": "code",
   "execution_count": 9,
   "id": "94a8d8df",
   "metadata": {},
   "outputs": [
    {
     "name": "stdout",
     "output_type": "stream",
     "text": [
      "b. Cac phan tu chan trong day a, b: \n",
      "+ Day a: [158 177 456  66 478 758 919 731 709 271]\n",
      "  - Loc chan: [ True False  True  True  True  True False False False False]\n",
      "  - Day chua phan tu chan trong a: [158 456  66 478 758], so luong 5 phan tu.\n",
      "+ Day x: [ 1  2  3  4  5  6  7  8  9 10]\n",
      "  - Loc chan: [False  True False  True False  True False  True False  True]\n",
      "  - Day chua phan tu chan trong a: [ 2  4  6  8 10], so luong 5 phan tu.\n"
     ]
    }
   ],
   "source": [
    "# (b) Liệt kê và đếm số lượng phần tử chẵn và lẻ có trong dãy a và x\n",
    "a_la_chan = a % 2 == 0\n",
    "a_chan = a[a_la_chan]\n",
    "n_a_chan = len(a_chan)\n",
    "\n",
    "x_la_chan = x % 2 == 0\n",
    "x_chan = x[x_la_chan]\n",
    "n_x_chan = len(x_chan)\n",
    "\n",
    "print( \"b. Cac phan tu chan trong day a, b: \")\n",
    "print(f\"+ Day a: {a}\")\n",
    "print(f\"  - Loc chan: {a_la_chan}\")\n",
    "print(f\"  - Day chua phan tu chan trong a: {a_chan}, so luong {n_a_chan} phan tu.\")\n",
    "print(f\"+ Day x: {x}\")\n",
    "print(f\"  - Loc chan: {x_la_chan}\")\n",
    "print(f\"  - Day chua phan tu chan trong a: {x_chan}, so luong {n_x_chan} phan tu.\")"
   ]
  },
  {
   "cell_type": "code",
   "execution_count": null,
   "id": "44d1462f",
   "metadata": {},
   "outputs": [
    {
     "name": "stdout",
     "output_type": "stream",
     "text": [
      "c.Tính hiệu các phần tử ở vị trí lẻ của mảng a và x: \n",
      "+ Vi tri le trong a va x: [1 3 5 7 9]\n",
      "+ Day so a: [158 177 456  66 478 758 919 731 709 271] va cac so o vi tri le: [177  66 758 731 271]\n",
      "+ Day so x: [ 1  2  3  4  5  6  7  8  9 10] va cac so o vi tri le: [ 2  4  6  8 10]\n",
      "+ Hieu cua a va x o vi tri le: [175  62 752 723 261]\n",
      "+ Khoang cach cac phan tu cua a va x o vi tri le:  1091.25\n"
     ]
    }
   ],
   "source": [
    "# (c) Tính khoảng cách giữa các phần tử ở vị trí lẻ của mảng a và x với s = sqrt(sum((a_i - x_i)^2)) với i lẻ\n",
    "v_le = np.arange(1, N, 2)  # Vị trí lẻ: 1, 3, 5, 7, 9\n",
    "a_le = a[v_le]\n",
    "x_le = x[v_le]\n",
    "# Khoảng cách s: s = sqrt(sum((a_i - x_i)^2))\n",
    "hieu_le = a_le - x_le\n",
    "kc_le = np.sqrt(np.sum(hieu_le**2))\n",
    "\n",
    "print( \"c.Tính hiệu các phần tử ở vị trí lẻ của mảng a và x: \")\n",
    "print(f\"+ Vi tri le trong a va x: {v_le}\")\n",
    "print(f\"+ Day so a: {a} va cac so o vi tri le: {a_le}\")\n",
    "print(f\"+ Day so x: {x} va cac so o vi tri le: {x_le}\")\n",
    "print(f\"+ Hieu cua a va x o vi tri le: {hieu_le}\")\n",
    "print(f\"+ Khoang cach cac phan tu cua a va x o vi tri le: {kc_le: .2f}\")"
   ]
  },
  {
   "cell_type": "code",
   "execution_count": null,
   "id": "7e9fe70e",
   "metadata": {},
   "outputs": [
    {
     "name": "stdout",
     "output_type": "stream",
     "text": [
      "d. Tìm khoảng cách nhỏ nhất giữa tập a và x. Ví dụ: min({1, 3, 5}, {2, 10, 8}} = 1\n",
      "+ Day a: [158 177 456  66 478 758 919 731 709 271]\n",
      "+ Day x: [ 1  2  3  4  5  6  7  8  9 10]\n",
      "+ Khoang cach nho nhat: 56\n"
     ]
    }
   ],
   "source": [
    "print(\"d. Tìm khoảng cách nhỏ nhất giữa tập a và x. Ví dụ: min({1, 3, 5}, {2, 10, 8}} = 1\")\n",
    "\"\"\"\n",
    "Gợi ý: Áp dụng toán tử broatcasting\n",
    "[[1],                    [[1, 1, 1],        [[2, 10, 8],    =   [[-1, -9, -7],\n",
    " [3],   - [2, 10, 8] =    [3, 3, 3],   -     [2, 10, 8],         [ 1, -7, -5],  --> np.min(np.abs(...)) = 1\n",
    " [5]]                     [5, 5, 5]]         [2, 10, 8]]         [ 3, -5, -3]]\n",
    "\"\"\"\n",
    "# Tăng số chiều dùng tại vị trí chiều cuối dùng np.newaxis như sau: a[:, np.newaxis]\n",
    "# Khi đó a sẽ có dạng [[a1], [a2], [a3], ..., [aN]]\n",
    "# Khi đó phép trừ sẽ được thực hiện giữa ma trận cột a và ma trận hàng x\n",
    "# Kết quả là một ma trận có kích thước (N, N) với phần tử (i, j) là hiệu giữa a[i] và x[j]\n",
    "hieu = a[:, np.newaxis] - x\n",
    "# Tìm giá trị tuyệt đối nhỏ nhất trong ma trận hiệu\n",
    "v_min = np.min(np.abs(hieu))\n",
    "\n",
    "print(f\"+ Day a: {a}\")\n",
    "print(f\"+ Day x: {x}\")\n",
    "print(f\"+ Khoang cach nho nhat: {v_min}\")"
   ]
  },
  {
   "cell_type": "markdown",
   "id": "4760f14c",
   "metadata": {},
   "source": [
    "#### 4. Sinh ngẫu nhiên dãy số\n",
    "(a) Sinh ngẫu nhiên dãy số có 100 phần tử theo phân bố đều với giá trị trong đoạn [1, 10] và vẽ đồ thị tần số xuất hiện <br/> \n",
    "(b) Sinh ngẫu nhiên N diem (x, y) với y là hàm phân phối chuẩn $N(\\mu = 1, \\sigma^2 = 1.0)$: <br/>\n",
    " $$\n",
    " y = f\\left(x| \\mu, \\sigma\\right) = \\frac{1}{\\sigma\\sqrt{2\\pi}}exp\\left(-\\frac{\\left(x - \\mu\\right)^2}{2\\sigma^2}\\right)\n",
    " $$\n",
    " nơi mà $x \\in [\\mu - 5\\sigma, \\mu + 5\\sigma]$ <br/> \n",
    " (c) Sinh ngẫu nhiên dãy số có 100000 phần tử theo phân bố chuẩn $N(\\mu = 1, \\sigma^2 = 1.0)$ và vẽ đồ thị tần số xuất hiện <br/> <br/> "
   ]
  },
  {
   "cell_type": "code",
   "execution_count": 13,
   "id": "cdc3aa1d",
   "metadata": {},
   "outputs": [
    {
     "name": "stdout",
     "output_type": "stream",
     "text": [
      "a. Sinh ngẫu nhiên theo phân bố đều\n",
      "+ Giá trị: [ 1  2  3  4  5  6  7  8  9 10]\n",
      "+ Số lần xuất hiện: [ 9 12 16  6  7 16  6  8 12  8]\n",
      "+ Đồ thị hàm số xuất hiện\n"
     ]
    },
    {
     "data": {
      "image/png": "[encoded data removed]",
      "text/plain": [
       "<Figure size 600x600 with 1 Axes>"
      ]
     },
     "metadata": {},
     "output_type": "display_data"
    }
   ],
   "source": [
    "import matplotlib.pyplot as plt  # Khai báo thư viện pyplot trong matplotlib\n",
    "\n",
    "# ---------------------------\n",
    "# (a) Sinh ngẫu nhiên dãy số có 100 phần tử theo phân bố đều [1, 10]\n",
    "# ---------------------------\n",
    "N = 100\n",
    "a = np.random.randint(1, 11, size=N)  # sinh số ngẫu nhiên trong [1,10]\n",
    "\n",
    "value, cnt = np.unique(a, return_counts=True)  # lấy các giá trị duy nhất và số lần xuất hiện\n",
    "\n",
    "print(\"a. Sinh ngẫu nhiên theo phân bố đều\")\n",
    "print(f\"+ Giá trị: {value}\")\n",
    "print(f\"+ Số lần xuất hiện: {cnt}\")\n",
    "print(\"+ Đồ thị hàm số xuất hiện\")\n",
    "plt.figure(figsize=(6,6))      #  kich thuoc ban ve\n",
    "plt.bar(value, cnt)            #  ve cac khoi chu nhat theo day x, y\n",
    "plt.xlim(0, 11)                #  gioi han truc x\n",
    "plt.ylim(0, np.max(cnt) + 10)  #  gioi han truc y\n",
    "plt.savefig(\"4a.png\")          #  luu do thi\n",
    "plt.show()                     #  hien thi do thi"
   ]
  },
  {
   "cell_type": "code",
   "execution_count": 14,
   "id": "41060dc0",
   "metadata": {},
   "outputs": [
    {
     "name": "stdout",
     "output_type": "stream",
     "text": [
      "b. Sinh cặp (x, y) với y làm hàm phân phối chuẩn\n",
      "+ x: -4.0 <= min [-4.00] <= max [ 5.91] <= 6.0\n",
      "+ Ve ham so y(x)\n"
     ]
    },
    {
     "data": {
      "image/png": "[encoded data removed]",
      "text/plain": [
       "<Figure size 600x600 with 1 Axes>"
      ]
     },
     "metadata": {},
     "output_type": "display_data"
    }
   ],
   "source": [
    "# Sử dụm hàm np.random.rand() sinh số ngẫu nhiên trong [0,1) --> [0,1) * (b - a) + a --> [a, b)\n",
    "# Sử dụng hàm sau để tính hàm xác suất chuẩn N(m, s): np.sqrt, np.exp\n",
    "# Khai báo tham số\n",
    "mu, sigma = 1.0, 1.0\n",
    "N = 200  # số điểm ngẫu nhiên\n",
    "\n",
    "# Giới hạn x trong [mu - 5σ, mu + 5σ]\n",
    "x_min, x_max = mu - 5*sigma, mu + 5*sigma\n",
    "\n",
    "# Sinh N điểm ngẫu nhiên trong khoảng [x_min, x_max]\n",
    "x = np.random.rand(N) * (x_max - x_min) + x_min\n",
    "\n",
    "# Tính giá trị hàm mật độ chuẩn N(mu, sigma^2)\n",
    "y = 1 / (sigma * np.sqrt(2*np.pi)) * np.exp(-(x - mu)**2 / (2*sigma**2))\n",
    "\n",
    "print(\"b. Sinh cặp (x, y) với y làm hàm phân phối chuẩn\")\n",
    "print(f\"+ x: {x_min} <= min [{np.min(x): .2f}] <= max [{np.max(x): .2f}] <= {x_max}\")\n",
    "print(f\"+ Ve ham so y(x)\")\n",
    "plt.figure(figsize=(6,6))      # kich thuoc ban ve\n",
    "plt.scatter(x, y)              # ve cac diem (xi, yi)\n",
    "plt.savefig(\"4b.png\")          #  luu do thi\n",
    "plt.show()                     #  hien thi do thi"
   ]
  },
  {
   "cell_type": "code",
   "execution_count": 15,
   "id": "b956d02d",
   "metadata": {},
   "outputs": [
    {
     "name": "stdout",
     "output_type": "stream",
     "text": [
      "c. Sinh day so theo phan phoi chuan\n",
      "+ x: len = 100000, min [-3.731875043000035], max [5.252912650983445]\n",
      "+ Mat so xac suat cua day so x\n"
     ]
    },
    {
     "data": {
      "image/png": "[encoded data removed]",
      "text/plain": [
       "<Figure size 600x600 with 1 Axes>"
      ]
     },
     "metadata": {},
     "output_type": "display_data"
    }
   ],
   "source": [
    "# Sử dụng hàm np.random.randn() sinh phân phối chuẩn N(0,1) --> N(m,s^2) = m + N(0,1) * s\n",
    "# Sử dụng hàm np.histogram với density=True để thống kê số lần xuất hiện với số bins = 300 (do dãy số thực)\n",
    "# Khai báo tham số\n",
    "mu, sigma = 1.0, 1.0\n",
    "N = 100000  # số phần tử\n",
    "\n",
    "# Sinh dữ liệu theo phân phối chuẩn N(mu, sigma^2)\n",
    "x = mu + np.random.randn(N) * sigma\n",
    "\n",
    "# Dùng histogram để thống kê tần suất xuất hiện\n",
    "cnt, val = np.histogram(x, bins=300, density=True)\n",
    "\n",
    "# Tính trục hoành (tọa độ x ở giữa các bins)\n",
    "val = (val[:-1] + val[1:]) / 2  \n",
    "print( \"c. Sinh day so theo phan phoi chuan\")\n",
    "print(f\"+ x: len = {len(x)}, min [{np.min(x)}], max [{np.max(x)}]\")\n",
    "print(f\"+ Mat so xac suat cua day so x\")\n",
    "plt.figure(figsize=(6,6))      # kich thuoc ban ve\n",
    "plt.xlim(np.min(val), np.max(val))\n",
    "plt.scatter(val, cnt)\n",
    "plt.show()"
   ]
  },
  {
   "cell_type": "markdown",
   "id": "64d06f31",
   "metadata": {},
   "source": [
    "### Bài 2. Tính toán trên ma trận"
   ]
  },
  {
   "cell_type": "markdown",
   "id": "63b6a0f2",
   "metadata": {},
   "source": [
    "#### 1. Tạo ma trận a có M = 6 dòng, N = 4 cột"
   ]
  },
  {
   "cell_type": "code",
   "execution_count": 16,
   "id": "d30775f1",
   "metadata": {},
   "outputs": [
    {
     "name": "stdout",
     "output_type": "stream",
     "text": [
      "Ma trận a: \n",
      " [[153 123 145 165]\n",
      " [180 186 149 185]\n",
      " [118 114 196 116]\n",
      " [152 126 152 134]\n",
      " [144 141 193 106]\n",
      " [157 140 195 151]]\n"
     ]
    }
   ],
   "source": [
    "# a = np.random.randint(100, 200, (6, 4))\n",
    "\"\"\" CÁC BẠN LÀM BÀI Ở ĐÂY \"\"\"\n",
    "a = np.random.randint(100, 200, size=(6, 4))\n",
    "\n",
    "print(\"Ma trận a: \\n\", a)"
   ]
  },
  {
   "cell_type": "markdown",
   "id": "5f30e592",
   "metadata": {},
   "source": [
    "#### 2. Các thao tác trên ma trận a\n",
    "(a) In ra ma trận chuyển vị <br/>\n",
    "(b) In ra phần tử ở vị trí dòng 2 cột 3 <br/>\n",
    "(c) Trích xuất dòng đầu, dòng cuối, dòng 2 <br/>\n",
    "(d) Trích xuất cột kế cuối, cột đầu <br/>\n",
    "(e) Đảo các giá trị trên từng cột <br/>\n",
    "(f) Tính tổng các dòng, trung bình các cột <br/>"
   ]
  },
  {
   "cell_type": "code",
   "execution_count": 17,
   "id": "631d5d9e",
   "metadata": {},
   "outputs": [
    {
     "name": "stdout",
     "output_type": "stream",
     "text": [
      "a. In ra ma trận chuyển vị: \n",
      "[[153 180 118 152 144 157]\n",
      " [123 186 114 126 141 140]\n",
      " [145 149 196 152 193 195]\n",
      " [165 185 116 134 106 151]]\n",
      "\n",
      "b. In ra phần tử ở vị trí dòng 2 cột 3: 116\n",
      "\n",
      "c. Trích xuất các dòng: \n",
      "   + Dòng đầu : [153 123 145 165]\n",
      "   + Dòng cuối: [157 140 195 151]\n",
      "   + Dòng hai : [118 114 196 116]\n",
      "\n",
      "d. Trích xuất các cột: \n",
      "   + Cột kế cuối: [145 149 196 152 193 195]\n",
      "   + Cột đầu: [153 180 118 152 144 157]\n",
      "\n",
      "e. Đảo các giá trị trên từng cột: \n",
      " [[157 140 195 151]\n",
      " [144 141 193 106]\n",
      " [152 126 152 134]\n",
      " [118 114 196 116]\n",
      " [180 186 149 185]\n",
      " [153 123 145 165]]\n",
      "\n",
      "f. Phép tính theo trục:\n",
      "   + Tổng dòng: [586 700 544 564 584 643]\n",
      "   + Trung bình cột: [150.66666667 138.33333333 171.66666667 142.83333333]\n"
     ]
    }
   ],
   "source": [
    "# (a) In ra ma trận chuyển vị của a\n",
    "a_t = a.T\n",
    "# Phan tu o vi tri dong 2 cot 3\n",
    "v_23 = a[2, 3]\n",
    "# Trích xuất các dòng\n",
    "d_0 = a[0, :]      # Dòng đầu\n",
    "d_last = a[-1, :]  # Dòng cuối\n",
    "d_2 = a[2, :]      # Dòng hai\n",
    "# Trích xuất các cột\n",
    "c_l1 = a[:, -2]  # Cột kế cuối\n",
    "c_0 = a[:, 0]    # Cột đầu\n",
    "# Đảo các giá trị trên từng cột\n",
    "dao_cot = a[::-1, :]\n",
    "# Phép tính theo trục\n",
    "tong_dong = np.sum(a, axis=1)      # Tổng dòng\n",
    "tb_cot = np.mean(a, axis=0)        # Trung bình cột\n",
    "\n",
    "print(f\"a. In ra ma trận chuyển vị: \\n{a_t}\")\n",
    "print(f\"\\nb. In ra phần tử ở vị trí dòng 2 cột 3: {v_23}\")\n",
    "print(f\"\\nc. Trích xuất các dòng: \")\n",
    "print(f\"   + Dòng đầu : {d_0}\")\n",
    "print(f\"   + Dòng cuối: {d_last}\")\n",
    "print(f\"   + Dòng hai : {d_2}\")\n",
    "print(f\"\\nd. Trích xuất các cột: \")\n",
    "print(f\"   + Cột kế cuối: {c_l1}\")\n",
    "print(f\"   + Cột đầu: {c_0}\")\n",
    "print(f\"\\ne. Đảo các giá trị trên từng cột: \\n {dao_cot}\")\n",
    "print(f\"\\nf. Phép tính theo trục:\")\n",
    "print(f\"   + Tổng dòng: {tong_dong}\")\n",
    "print(f\"   + Trung bình cột: {tb_cot}\")"
   ]
  },
  {
   "cell_type": "markdown",
   "id": "58a5de4e",
   "metadata": {},
   "source": [
    "#### 3. Các toán tử trên hai ma trận\n",
    "(a) Tạo hai ma trận A và B có 4 dòng x 3 cột và X có 3 dòng x 4 cột <br/>\n",
    "(b) Tính tổng, hiệu, tích của từng phần tử trên hai ma trận A và B <br/>\n",
    "(c) Tính phép nhân ma trận Y = A x X"
   ]
  },
  {
   "cell_type": "code",
   "execution_count": 18,
   "id": "5514603e",
   "metadata": {},
   "outputs": [
    {
     "name": "stdout",
     "output_type": "stream",
     "text": [
      "a. Tạo hai ma trận A và B có 4 dòng x 3 cột và X có 3 dòng x 4 cột\n",
      "+ Ma tran A: \n",
      "[[7 7 4]\n",
      " [8 2 1]\n",
      " [6 6 7]\n",
      " [1 4 4]]\n",
      "+ Ma tran B: \n",
      "[[9 8 3]\n",
      " [8 5 3]\n",
      " [2 4 1]\n",
      " [8 9 6]]\n",
      "+ Ma tran X: \n",
      "[[5 1 3 9]\n",
      " [7 5 6 7]\n",
      " [8 4 1 5]]\n",
      "\n",
      "b. Tính tổng, hiệu, tích của từng phần tử trên hai ma trận A và B\n",
      "A + B = \n",
      "[[16 15  7]\n",
      " [16  7  4]\n",
      " [ 8 10  8]\n",
      " [ 9 13 10]]\n",
      "A - B = \n",
      "[[-2 -1  1]\n",
      " [ 0 -3 -2]\n",
      " [ 4  2  6]\n",
      " [-7 -5 -2]]\n",
      "A . B = \n",
      "[[63 56 12]\n",
      " [64 10  3]\n",
      " [12 24  7]\n",
      " [ 8 36 24]]\n",
      "\n",
      "c. Tính phép nhân ma trận Y = A x X\n",
      "Y = A x X --> shape A ((4, 3)) x shape X ((3, 4)) = shape Y ((4, 4)) \n",
      "[[116  58  67 132]\n",
      " [ 62  22  37  91]\n",
      " [128  64  61 131]\n",
      " [ 65  37  31  57]]\n"
     ]
    }
   ],
   "source": [
    "# Sử dụng hàm np.random.randint() để tạo ma trận số nguyên ngẫu nhiên\n",
    "# Sử dụng các toán tử +, -, * để tính tổng, hiệu, tích của hai ma trận\n",
    "# Sử dụng hàm np.dot() để tính tích ma trận\n",
    "# Tạo ma trận A, B có kích thước 4x3 và X có kích thước 3x4\n",
    "A = np.random.randint(1, 10, size=(4, 3))\n",
    "B = np.random.randint(1, 10, size=(4, 3))\n",
    "X = np.random.randint(1, 10, size=(3, 4))\n",
    "# Tính tổng, hiệu, tích từng phần tử của hai ma trận A và B\n",
    "AB_add = A + B\n",
    "AB_sub = A - B\n",
    "AB_mul = A * B\n",
    "# Tính tích ma trận Y = A x X\n",
    "Y = np.dot(A, X)\n",
    "\n",
    "print(\"a. Tạo hai ma trận A và B có 4 dòng x 3 cột và X có 3 dòng x 4 cột\")\n",
    "print(f\"+ Ma tran A: \\n{A}\")\n",
    "print(f\"+ Ma tran B: \\n{B}\")\n",
    "print(f\"+ Ma tran X: \\n{X}\")\n",
    "\n",
    "print(\"\\nb. Tính tổng, hiệu, tích của từng phần tử trên hai ma trận A và B\")\n",
    "print(f\"A + B = \\n{AB_add}\")\n",
    "print(f\"A - B = \\n{AB_sub}\")\n",
    "print(f\"A . B = \\n{AB_mul}\")\n",
    "\n",
    "print(\"\\nc. Tính phép nhân ma trận Y = A x X\")\n",
    "print(f\"Y = A x X --> shape A ({A.shape}) x shape X ({X.shape}) = shape Y ({Y.shape}) \\n{Y}\")"
   ]
  },
  {
   "cell_type": "markdown",
   "id": "76beffe4",
   "metadata": {},
   "source": [
    "#### 4. Giải hệ phương trình tuyến tính\n",
    "Giải hệ phương trình tuyến tính sau:\n",
    "$$\n",
    "\\left\\{\\begin{matrix}\n",
    "        4x_1  + 3x_2 - 5x_3 = 2 \\\\ \n",
    "        -2x_1 - 4x_2 + 5x_3 = 5 \\\\ \n",
    "        8x_1 + 8x_2 = -3 \\\\ \n",
    "\\end{matrix}\\right.\n",
    "$$"
   ]
  },
  {
   "cell_type": "code",
   "execution_count": 19,
   "id": "43cdbded",
   "metadata": {},
   "outputs": [
    {
     "name": "stdout",
     "output_type": "stream",
     "text": [
      "+ Ma tran A: \n",
      "[[ 4.  3. -5.]\n",
      " [-2. -4.  5.]\n",
      " [ 8.  8.  0.]]\n",
      "+ Vector y: [ 2.  5. -3.]\n",
      "+ Nghiem x: [ 2.20833333 -2.58333333 -0.18333333]\n",
      "+ Kiem tra: yy = Ax = [ 2.  5. -3.] ==> ||yy -y ||_2 =  0.00\n"
     ]
    }
   ],
   "source": [
    "# Ma trận A và vector y\n",
    "A = np.array([\n",
    "    [ 4,  3, -5],\n",
    "    [-2, -4,  5],\n",
    "    [ 8,  8,  0]\n",
    "], dtype=float)\n",
    "\n",
    "y = np.array([2, 5, -3], dtype=float)\n",
    "\n",
    "# Giải hệ phương trình\n",
    "x = np.linalg.solve(A, y)\n",
    "\n",
    "# Kiểm tra nghiệm\n",
    "yy = A @ x\n",
    "diff = np.linalg.norm(yy - y, 2)\n",
    "\n",
    "print(f\"+ Ma tran A: \\n{A}\")\n",
    "print(f\"+ Vector y: {y}\")\n",
    "print(f\"+ Nghiem x: {x}\")\n",
    "print(f\"+ Kiem tra: yy = Ax = {yy} ==> ||yy -y ||_2 = {diff: .2f}\")"
   ]
  },
  {
   "cell_type": "markdown",
   "id": "a3d305e4",
   "metadata": {},
   "source": [
    "## Bài tập áp dụng"
   ]
  },
  {
   "cell_type": "markdown",
   "id": "7b25ea02",
   "metadata": {},
   "source": [
    "### Bài 3. Tính gần đúng số pi dùng phương pháp Monte Carlo\n",
    "\n",
    "Vẽ một đường tròn $C$ có bán kính $r$ nội tiếp một hình vuông $C$, và đặt ngẫu nhiên $N$ chấm lên hình vuông. Tỉ lệ các chấm nằm trong hình tròn trên tổng số chấm xấp xỉ bằng diện tích của hình tròn chia cho hình vuông như sau:\n",
    "$$\n",
    "\\frac{N_C}{N} \\approx  \\frac{\\mathbb{S}_C}{\\mathbb{S}_N}\n",
    "$$\n",
    "nơi mà $N_C$ là các chấm trong hình tròn, $N$ là tổng số chấm, $\\mathbb{S}_C$ và $\\mathbb{S}_N$ lần lượt là diện tích của hình tròn và hình vuông.\n",
    "$$ \\mathbb{S}_C = \\pi * r^2 $$\n",
    "$$ \\mathbb{S}_N = (2*r)^2 = 4r^2 $$\n",
    "Do đó, công thức trên trở thành:\n",
    "$$\n",
    "\\frac{N_C}{N} \\approx \\frac{\\pi * r^2}{4r^2} = \\frac{\\pi}{4}\n",
    "$$\n",
    "Suy ra, ta có giá trị số $\\pi$ được tính như sau:\n",
    "$$\n",
    "\\pi \\approx \\frac{4N_C}{N}\n",
    "$$\n",
    "\n",
    "Các bạn hãy lập trình tính sấp xỉ số $\\pi$ dùng phương pháp Monte Carlo. Cho biết các sai số với $N = 100$, $N = 10000$, và $N = 1000000$. Vẽ đồ thị minh họa cho chương trình.\n",
    "\n",
    "**Hướng dẫn**: Viết chương trình phát sinh $N$ điểm $(x_i, y_i)$ với $x_i, y_i \\in [-1, -1]$. $(x_i, y_i)$ thuộc hình tròn tâm $(0, 0)$ bán kính 1 nội tiếp hình vuông có tâm tại $(0, 0)$ độ dài cạnh 2 khi và chỉ khi $x_i^2 + y_i^2 <= 1$."
   ]
  },
  {
   "cell_type": "code",
   "execution_count": 20,
   "id": "0c7d69d1",
   "metadata": {},
   "outputs": [
    {
     "data": {
      "image/png": "[encoded data removed]",
      "text/plain": [
       "<Figure size 600x600 with 1 Axes>"
      ]
     },
     "metadata": {},
     "output_type": "display_data"
    }
   ],
   "source": [
    "import matplotlib.pyplot as plt # khai báo thư viện vẽ pyplot\n",
    "import math\n",
    "\n",
    "circle = plt.Circle((0, 0), 1, color='g') # tạo đối tượng vòng tròn\n",
    "\n",
    "fig, ax = plt.subplots(figsize=(6, 6)) # lấy figure và vùng vẽ\n",
    "\n",
    "plt.plot(0, 0, 'o', color=(0.9, 0.9, 1.0), alpha=0.8) # vẽ điểm tại tâm (0,0)\n",
    "ax.add_patch(circle) # thêm vòng tròn vào vùng vẽ\n",
    "\n",
    "x = 0.75; y = math.sqrt(1 - (x ** 2)) # (x = 0.75, y = căn bậc 2 của 1 - x^2)\n",
    "plt.arrow(0, 0, x, y)\n",
    "\n",
    "plt.xlim(-1, 1) # giới hạn trục x\n",
    "plt.ylim(-1, 1) # giới hạn trục y\n",
    "\n",
    "plt.savefig('pi.png') # lưu đồ thị xuống tập tin\n",
    "plt.show()            # hiển thị đồ thị"
   ]
  },
  {
   "cell_type": "code",
   "execution_count": 23,
   "id": "ade49c72",
   "metadata": {},
   "outputs": [],
   "source": [
    "def calc_pi_monte_carlo(n = 100):\n",
    "    \"\"\"\n",
    "    Tính số π bằng phương pháp Monte Carlo\n",
    "    \n",
    "    Args:\n",
    "        n: số điểm ngẫu nhiên cần sinh\n",
    "    \n",
    "    Returns:\n",
    "        pi: giá trị π ước tính\n",
    "    \"\"\"\n",
    "    # Sinh n điểm ngẫu nhiên trong khoảng [0, 1) cho cả x và y\n",
    "    # Sau đó chuyển về khoảng [-1, 1] bằng cách nhân 2 và trừ 1\n",
    "    x = np.random.rand(n) * 2 - 1  # x_i ∈ [-1, 1]\n",
    "    y = np.random.rand(n) * 2 - 1  # y_i ∈ [-1, 1]\n",
    "    \n",
    "    # Tính khoảng cách từ mỗi điểm đến tâm (0, 0)\n",
    "    distances_squared = x**2 + y**2\n",
    "    \n",
    "    # Đếm số điểm nằm trong hình tròn (khoảng cách ≤ 1)\n",
    "    points_inside_circle = np.sum(distances_squared <= 1)\n",
    "    \n",
    "    # Tính π theo công thức: π ≈ 4 * N_C / N\n",
    "    pi = 4 * points_inside_circle / n\n",
    "    \n",
    "    return pi"
   ]
  },
  {
   "cell_type": "code",
   "execution_count": 24,
   "id": "38f3cb9c",
   "metadata": {},
   "outputs": [
    {
     "name": "stdout",
     "output_type": "stream",
     "text": [
      "epsilon(n=100):  0.018407346410207026\n",
      "epsilon(n=100):  -0.10159265358979308\n",
      "epsilon(n=10000):  0.01760734641020667\n",
      "epsilon(n=10000):  -0.008792653589793087\n",
      "epsilon(n=1000000):  0.001843346410206781\n",
      "epsilon(n=1000000):  -0.0033046535897929274\n"
     ]
    }
   ],
   "source": [
    "# calc_pi_monte_carlo\n",
    "print(\"epsilon(n=100): \", calc_pi_monte_carlo(n = 100) - math.pi)\n",
    "print(\"epsilon(n=100): \", calc_pi_monte_carlo(n = 100) - math.pi)\n",
    "print(\"epsilon(n=10000): \", calc_pi_monte_carlo(n = 10000) - math.pi)\n",
    "print(\"epsilon(n=10000): \", calc_pi_monte_carlo(n = 10000) - math.pi)\n",
    "print(\"epsilon(n=1000000): \", calc_pi_monte_carlo(n = 1000000) - math.pi)\n",
    "print(\"epsilon(n=1000000): \", calc_pi_monte_carlo(n = 1000000) - math.pi)"
   ]
  },
  {
   "cell_type": "code",
   "execution_count": 25,
   "id": "aee63c49",
   "metadata": {},
   "outputs": [
    {
     "name": "stderr",
     "output_type": "stream",
     "text": [
      "[NbConvertApp] Converting notebook 04_exercise_02.ipynb to html\n",
      "[NbConvertApp] WARNING | Alternative text is missing on 4 image(s).\n",
      "[NbConvertApp] Writing 445168 bytes to 04_exercise_02.html\n"
     ]
    }
   ],
   "source": [
    "!jupyter nbconvert --to html \"04_exercise_02.ipynb\""
   ]
  }
 ],
 "metadata": {
  "kernelspec": {
   "display_name": "Python 3",
   "language": "python",
   "name": "python3"
  },
  "language_info": {
   "codemirror_mode": {
    "name": "ipython",
    "version": 3
   },
   "file_extension": ".py",
   "mimetype": "text/x-python",
   "name": "python",
   "nbconvert_exporter": "python",
   "pygments_lexer": "ipython3",
   "version": "3.12.5"
  }
 },
 "nbformat": 4,
 "nbformat_minor": 5
}
