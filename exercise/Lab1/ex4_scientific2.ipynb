{
 "cells": [
  {
   "cell_type": "markdown",
   "id": "7a4624e2-9922-4fec-bd8d-95ad8bbdd95a",
   "metadata": {},
   "source": [
    "# ex4_scientific2\n",
    "## Nội dung bài\n",
    "Hiển thị 2 đồ thị sin(x), cos(x) trong khoảng $x \\in \\left[-\\pi, \\pi\\right]$\n",
    "## Bài làm"
   ]
  },
  {
   "cell_type": "markdown",
   "id": "c5d64b3a-af14-42eb-925a-081c7e182828",
   "metadata": {},
   "source": [
    "### Import thư viện"
   ]
  },
  {
   "cell_type": "code",
   "execution_count": null,
   "id": "b6526116-0fb7-4edc-ac26-eaa2fb76dc03",
   "metadata": {},
   "outputs": [],
   "source": [
    "import numpy as np\n",
    "import matplotlib.pyplot as plt"
   ]
  },
  {
   "cell_type": "markdown",
   "id": "109c4177-205b-485e-a842-7eba8f279075",
   "metadata": {},
   "source": [
    "### Sinh dữ liệu hàm số"
   ]
  },
  {
   "cell_type": "code",
   "execution_count": null,
   "id": "455a47a6-67e5-4f4f-bbed-5590ef5b5107",
   "metadata": {},
   "outputs": [],
   "source": [
    "X = np.linspace(-np.pi, np.pi, 256, endpoint=True) # generate x in [-pi, pi]\n",
    "C, S = np.cos(X), np.sin(X)"
   ]
  },
  {
   "cell_type": "code",
   "execution_count": null,
   "id": "3cf85b40-e508-484a-98f4-eac7a5b6328d",
   "metadata": {},
   "outputs": [],
   "source": [
    "print(f'+ X: |X|={len(X)}, x in [{np.min(X):.2f}, {np.max(X):.2f}], 10 samples: {X[0:10]}')\n",
    "print(f'+ Cos(X): |C|={len(C)}, C in [{np.min(C):.2f}, {np.max(C):.2f}], 10 samples: {C[0:10]}')\n",
    "print(f'+ Sin(X): |S|={len(S)}, S in [{np.min(S):.2f}, {np.max(S):.2f}], 10 samples: {S[0:10]}')"
   ]
  },
  {
   "cell_type": "markdown",
   "id": "8e6af0b2-96a8-458c-8830-344519283762",
   "metadata": {},
   "source": [
    "### Hiển thị đồ thị"
   ]
  },
  {
   "cell_type": "code",
   "execution_count": null,
   "id": "cb07db6c-c29d-40ec-87b0-d3dd5430d066",
   "metadata": {},
   "outputs": [],
   "source": [
    "# visualize data\n",
    "plt.plot(X, C, color=\"blue\", linewidth=2.5, linestyle=\"-\");\n",
    "plt.plot(X, S, color=\"red\", linewidth=2.5, linestyle=\"-\");\n",
    "\n",
    "# limit on x axis\n",
    "\n",
    "plt.xlim(X.min() * 1.1, X.max() * 1.1);\n",
    "plt.xticks([-np.pi, -np.pi / 2, 0, np.pi / 2, np.pi],\n",
    "[r'$-\\pi$', r'$-\\pi/2$', r'$0$', r'$+\\pi/2$', r'$+\\pi$']);\n",
    "# limit on y axis\n",
    "\n",
    "plt.ylim(C.min() * 1.1, C.max() * 1.1);\n",
    "plt.yticks([-1, 0, +1], [r'$-1$', r'$0$', r'$+1$']);\n",
    "plt.show()"
   ]
  },
  {
   "cell_type": "markdown",
   "id": "bd9f1ec1-08df-4b19-8de4-ae27e9cf79c4",
   "metadata": {},
   "source": [
    "# Kết thúc"
   ]
  }
 ],
 "metadata": {
  "kernelspec": {
   "display_name": "Python 3 (ipykernel)",
   "language": "python",
   "name": "python3"
  },
  "language_info": {
   "codemirror_mode": {
    "name": "ipython",
    "version": 3
   },
   "file_extension": ".py",
   "mimetype": "text/x-python",
   "name": "python",
   "nbconvert_exporter": "python",
   "pygments_lexer": "ipython3",
   "version": "3.13.5"
  }
 },
 "nbformat": 4,
 "nbformat_minor": 5
}
