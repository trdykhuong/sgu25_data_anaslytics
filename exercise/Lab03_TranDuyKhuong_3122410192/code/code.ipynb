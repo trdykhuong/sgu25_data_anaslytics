{
 "cells": [
  {
   "cell_type": "markdown",
   "id": "fa4ac031",
   "metadata": {},
   "source": [
    "# Bệnh đái tháo đường ở nữ giới Pima Indian"
   ]
  },
  {
   "cell_type": "markdown",
   "id": "38c522e1",
   "metadata": {},
   "source": [
    "## 1. Định nghĩa vấn đề (Define Problem)"
   ]
  },
  {
   "cell_type": "markdown",
   "id": "17d33cbc",
   "metadata": {},
   "source": [
    "* Phân tích vấn đề:\n",
    "- Người da đỏ Pima tại Arizona có tỷ lệ mắc tiểu đường type 2 rất cao.\n",
    "- Viện Quốc gia về Bệnh tiểu đường, Tiêu hóa và Thận (NIDDK) đã nghiên cứu liên tục từ 1965.\n",
    "- Bệnh tiểu đường được chẩn đoán theo WHO: glucose huyết tương ≥ 200 mg/dL sau 2 giờ OGTT hoặc được phát hiện trong chăm sóc y tế thường quy.\n",
    "- Mục tiêu: xây dựng mô hình dự báo khả năng mắc bệnh tiểu đường trong vòng 5 năm, dựa trên các yếu tố nguy cơ.\n",
    "\n",
    "* Mô tả: \n",
    " Dataset Pima Indians Diabetes chứa thông tin của 768 bệnh nhân nữ, ít nhất 21 tuổi, thuộc cộng đồng Pima Indian gần Phoenix, Arizona, USA. Mục tiêu là dự đoán xem một bệnh nhân có bị đái tháo đường (Class = 1) hay không (Class = 0) dựa trên 8 thuộc tính y tế.\n",
    "\n",
    "* Dữ liệu vào:\n",
    "   1. Pregnancies: Số lần mang thai, phản ánh tiền sử sinh sản có thể liên quan đến nguy cơ đái tháo đường.\n",
    "   2. Glucose: Nồng độ glucose huyết tương sau 2 giờ trong bài kiểm tra dung nạp glucose (mg/dl), chỉ số quan trọng để chẩn đoán đái tháo đường.\n",
    "   3. BloodPressure: Huyết áp tâm thu (mm Hg), đo áp lực máu khi tim giãn ra, liên quan đến sức khỏe tim mạch.\n",
    "   4. SkinThickness: Độ dày nếp gấp da tay (mm), đại diện cho lượng mỡ dưới da, một yếu tố liên quan đến béo phì.\n",
    "   5. Insulin: Mức insulin huyết thanh sau 2 giờ (mu U/ml), phản ánh khả năng sản xuất insulin của cơ thể.\n",
    "   6. BMI: Chỉ số khối cơ thể (kg/m²), đo lường mức độ béo phì, một yếu tố nguy cơ lớn của đái tháo đường loại 2.\n",
    "   7. DiabetesPedigreeFunction: Hàm phả hệ đái tháo đường, đánh giá nguy cơ di truyền dựa trên lịch sử gia đình.\n",
    "   8. Age: Tuổi (năm), ảnh hưởng đến nguy cơ mắc bệnh do sự lão hóa.\n",
    "   9. Outcome: Biến lớp (0: Không đái tháo đường, 1: Có đái tháo đường), mục tiêu chính của phân tích.\n",
    "    \n",
    "    - Trong đó  Hàm phả hệ đái tháo đường(DPF):\n",
    "        $$\n",
    "        + DPF = \\frac{\\sum_i K_i (88 - ADM_i) + 20}{\\sum_j K_j (ALC_j - 14) + 50}\n",
    "        $$\n",
    "        + Được xây dựng để lượng hóa yếu tố di truyền dựa trên tiền sử bệnh tiểu đường của cha mẹ, ông bà, anh chị em, họ hàng gần.\n",
    "        + DPF tăng khi số lượng thân nhân mắc bệnh tăng, tuổi mắc bệnh trẻ hơn, và mức độ quan hệ huyết thống gần.\n",
    "        + DPF giảm khi thân nhân không mắc bệnh và có tuổi thọ cao.\n",
    "\n",
    "* Lựa chọn trường hợp:\n",
    "    - Tiêu chí:\n",
    "        + Nữ, ≥ 21 tuổi, OGTT ban đầu không bị tiểu đường.\n",
    "    - Sau 5 năm:\n",
    "        + Hoặc phát hiện tiểu đường (positive case).\n",
    "        + Hoặc kiểm tra lại ≥ 5 năm sau vẫn không mắc (negative case).\n",
    "        + Loại bỏ trường hợp phát hiện tiểu đường trong vòng < 1 năm (do quá dễ dự báo).\n",
    "    - Tổng số mẫu: 768\n",
    "        + 576 mẫu cho tập huấn luyện\n",
    "        + 192 mẫu cho tập dự báo (test set).\n",
    "\n",
    "* Hướng giải quyết:\n",
    "    - Sử dụng ADAP (Adaptive Learning Algorithm) – một dạng mô hình học máy dựa trên perceptron, để dự báo khả năng mắc bệnh trong vòng 5 năm.\n",
    "    - Biến đầu vào gồm 8 yếu tố nguy cơ chính + nhãn phân loại (có/không mắc bệnh).\n",
    "\n",
    "* Kết quả (từ nghiên cứu trước đó [Smith et al., 1988]):\n",
    "    - ADAP đưa ra dự đoán dạng xác suất (0–1), sau đó quy đổi thành nhị phân.\n",
    "    - Với cutoff 0.448, mô hình đạt:\n",
    "        + Sensitivity (độ nhạy): ~76%\n",
    "        + Specificity (độ đặc hiệu): ~76%\n",
    "    - Đây là kết quả khá tốt trong bối cảnh dữ liệu y tế thời kỳ đó, và bộ dữ liệu trở thành benchmark nổi tiếng trong cộng đồng Machine Learning.\n",
    "\n",
    "* Kết quả: \n",
    "    - Biến mục tiêu (Outcome): Biến nhị phân (0 hoặc 1) biểu thị trạng thái đái tháo đường\n",
    "        + 0: Không bị đái tháo đường (500 mẫu).\n",
    "        + 1: Bị đái tháo đường (268 mẫu).\n",
    "* Thông tin bổ sung:\n",
    "    - Giá trị thiếu: Dữ liệu có chứa giá trị thiếu, thường được biểu thị bằng 0 trong các cột như Glucose, BloodPressure, SkinThickness, Insulin, và BMI, cần được xử lý trong quá trình phân tích.\n",
    "    - Nghiên cứu trước: Một nghiên cứu trước đây của Smith et al. (1988) sử dụng thuật toán ADAP, đạt độ nhạy (sensitivity) và độ đặc hiệu (specificity) 76% trên 192 mẫu kiểm tra sau khi huấn luyện với 576 mẫu, với ngưỡng cắt 0.448.\n",
    "    - Mục tiêu phân tích: Xây dựng một mô hình dự đoán hiệu quả, so sánh với kết quả ADAP, và khám phá các yếu tố quan trọng ảnh hưởng đến nguy cơ đái tháo đường."
   ]
  },
  {
   "cell_type": "markdown",
   "id": "3e8d120e",
   "metadata": {},
   "source": [
    "## 2. Chuẩn bị vấn đề (Prepare Problem)"
   ]
  },
  {
   "cell_type": "markdown",
   "id": "8114f877",
   "metadata": {},
   "source": [
    "### 2.1 Mô tả vấn đề\n",
    "- Bệnh tiểu đường type 2 có tỷ lệ rất cao trong cộng đồng này.\n",
    "- Việc chẩn đoán chỉ dựa vào tiêu chuẩn WHO OGTT (≥ 200 mg/dL sau 2 giờ) mới cho kết luận rõ ràng, nhưng điều này chỉ xác định khi bệnh đã xuất hiện.\n",
    "- Mục tiêu:\n",
    "    +  Trong phần này, chúng ta sẽ thiết lập môi trường làm việc bằng cách khai báo các thư viện cần thiết, load dataset Pima Indians Diabetes, và giải thích ý nghĩa của từng cột dữ liệu để bạn dễ dàng hiểu rõ giá trị mà chúng mang lại. Đây là bước nền tảng quan trọng để tiến hành phân tích sâu hơn về nguy cơ đái tháo đường trong cộng đồng Pima Indian.\n",
    "    + Nhu cầu đặt ra: dự đoán sớm nguy cơ mắc bệnh tiểu đường trong tương lai dựa trên các yếu tố nguy cơ (tuổi, BMI, insulin, huyết áp, di truyền…).\n",
    "- Dữ liệu:\n",
    "    -  Dataset được cung cấp dưới dạng file pima-indians-diabetes.csv, chứa 768 mẫu với 8 thuộc tính số và 1 biến lớp (Outcome). Dữ liệu có thể chứa giá trị thiếu, cần được xử lý phù hợp. \n",
    "- Thách thức:\n",
    "    + Dữ liệu y tế thường có mối quan hệ phi tuyến phức tạp giữa các biến.\n",
    "    + Có sự hiện diện của missing values và outliers (ví dụ insulin = 0).\n",
    "    + Cần một mô hình dự đoán chính xác nhưng cũng có thể giải thích được trong ngữ cảnh y tế."
   ]
  },
  {
   "cell_type": "markdown",
   "id": "e4db5448",
   "metadata": {},
   "source": [
    "### 2.1 Khai báo thư viện (Load Libraries)"
   ]
  },
  {
   "cell_type": "markdown",
   "id": "b1b861af",
   "metadata": {},
   "source": [
    "- **pandas** là một thư viện mạnh mẽ trong Python, được sử dụng rộng rãi cho **phân tích và xử lý dữ liệu**.\n",
    "- Cung cấp cấu trúc dữ liệu chính:\n",
    "  - **Series**: tương tự như một mảng 1 chiều có nhãn.\n",
    "  - **DataFrame**: bảng dữ liệu 2 chiều (giống Excel hoặc SQL table).\n",
    "- Các tính năng chính:\n",
    "  - Đọc/ghi dữ liệu từ nhiều định dạng (CSV, Excel, SQL, JSON, ...).\n",
    "  - Xử lý dữ liệu: lọc, nhóm, gộp, sắp xếp, thống kê.\n",
    "  - Làm sạch dữ liệu: xử lý missing values, outliers.\n",
    "  - Hỗ trợ tích hợp với NumPy, Matplotlib, Seaborn để trực quan hóa dữ liệu."
   ]
  },
  {
   "cell_type": "code",
   "execution_count": 3,
   "id": "bc55633a",
   "metadata": {},
   "outputs": [],
   "source": [
    "import pandas as pd"
   ]
  },
  {
   "cell_type": "markdown",
   "id": "902e5501",
   "metadata": {},
   "source": [
    "### 2.2 Nạp dữ liệu (Load Dataset)"
   ]
  },
  {
   "cell_type": "markdown",
   "id": "ff4a7182",
   "metadata": {},
   "source": [
    "- Thực hiện việc **nạp dữ liệu gốc** từ file `pima-indians-diabetes.csv` vào Python bằng thư viện `pandas`.  \n",
    "- Do file CSV không chứa tiêu đề cột (header), ta cần **tự gán tên cột** dựa trên mô tả trong tài liệu nghiên cứu gốc.  \n",
    "- Kết quả: dữ liệu được lưu vào một **DataFrame** có cấu trúc rõ ràng, giúp dễ dàng phân tích, trực quan hóa và xây dựng mô hình dự báo."
   ]
  },
  {
   "cell_type": "code",
   "execution_count": 4,
   "id": "193848d5",
   "metadata": {},
   "outputs": [],
   "source": [
    "# Đọc dữ liệu từ file CSV\n",
    "data_path = 'pima-indians-diabetes.csv'  # Đường dẫn tới file dữ liệu\n",
    "\n",
    "# Gán tên cột dựa trên mô tả trong tài liệu\n",
    "column_names = ['Pregnancies', 'Glucose', 'BloodPressure', 'SkinThickness', 'Insulin', 'BMI', 'DiabetesPedigreeFunction', 'Age', 'Outcome'] # Tên các cột\n",
    "\n",
    "# Đọc dữ liệu từ file CSV\n",
    "data = pd.read_csv(data_path, header=None, names=column_names)"
   ]
  },
  {
   "cell_type": "markdown",
   "id": "b5e2be08",
   "metadata": {},
   "source": [
    "### 2.3 Kiểm tra một số thông tin cơ bản"
   ]
  },
  {
   "cell_type": "markdown",
   "id": "88fd4490",
   "metadata": {},
   "source": [
    "- Sử dụng các hàm cơ bản của pd đễ hỗ trợ cho chúng ta có một cái nhìn tổng quát về số liệu của file "
   ]
  },
  {
   "cell_type": "code",
   "execution_count": 5,
   "id": "9bbaf43d",
   "metadata": {},
   "outputs": [
    {
     "name": "stdout",
     "output_type": "stream",
     "text": [
      "5 dòng đầu của dữ liệu:\n",
      "   Pregnancies  Glucose  BloodPressure  SkinThickness  Insulin   BMI  \\\n",
      "0            6      148             72             35        0  33.6   \n",
      "1            1       85             66             29        0  26.6   \n",
      "2            8      183             64              0        0  23.3   \n",
      "3            1       89             66             23       94  28.1   \n",
      "4            0      137             40             35      168  43.1   \n",
      "\n",
      "   DiabetesPedigreeFunction  Age  Outcome  \n",
      "0                     0.627   50        1  \n",
      "1                     0.351   31        0  \n",
      "2                     0.672   32        1  \n",
      "3                     0.167   21        0  \n",
      "4                     2.288   33        1  \n"
     ]
    }
   ],
   "source": [
    "# Hiển thị 5 dòng đầu để kiểm tra\n",
    "print(\"5 dòng đầu của dữ liệu:\")\n",
    "print(data.head())"
   ]
  },
  {
   "cell_type": "code",
   "execution_count": 6,
   "id": "55370618",
   "metadata": {},
   "outputs": [
    {
     "data": {
      "text/plain": [
       "Pregnancies                 111\n",
       "Glucose                       5\n",
       "BloodPressure                35\n",
       "SkinThickness               227\n",
       "Insulin                     374\n",
       "BMI                          11\n",
       "DiabetesPedigreeFunction      0\n",
       "Age                           0\n",
       "Outcome                     500\n",
       "dtype: int64"
      ]
     },
     "execution_count": 6,
     "metadata": {},
     "output_type": "execute_result"
    }
   ],
   "source": [
    "(data==0).sum()"
   ]
  },
  {
   "cell_type": "markdown",
   "id": "abda25d4",
   "metadata": {},
   "source": [
    "- **Nhận xét về dữ liệu có giá trị 0:**  \n",
    "   1. Pregnancies (111 giá trị 0):\n",
    "      + 0 lần mang thai là hợp lý (có những phụ nữ chưa từng mang thai).\n",
    "      + Không cần xử lý coi là missing.\n",
    "   2. Glucose (5 giá trị 0):\n",
    "      + Về mặt y khoa, glucose máu không thể = 0.\n",
    "      + Đây là giá trị bất thường → coi là dữ liệu thiếu.\n",
    "   3. BloodPressure (35 giá trị 0):\n",
    "      + Huyết áp tâm trương không thể = 0.\n",
    "      + Các giá trị này là missing values cần xử lý\n",
    "   4. SkinThickness (227 giá trị 0):\n",
    "      + 0 mm nếp gấp da là không hợp lý.\n",
    "      + Đây là một biến có nhiều thiếu dữ liệu (≈ 30% dữ liệu).\n",
    "   5. Insulin (374 giá trị 0):\n",
    "      + 0 µU/mL insulin là không thực tế.\n",
    "      + Biến này có nhiều dữ liệu thiếu nhất (≈ 49%).\n",
    "   6. BMI (11 giá trị 0):\n",
    "      + BMI = 0 là bất hợp lý.\n",
    "      + Một số ít dữ liệu cần xử lý missing.\n",
    "   7. DiabetesPedigreeFunction (0 giá trị 0):\n",
    "      + Không có giá trị 0, dữ liệu đầy đủ.\n",
    "   8. Age (0 giá trị 0):\n",
    "      + Không có giá trị 0, dữ liệu đầy đủ.\n",
    "   9. Outcome (500 giá trị 0):\n",
    "      + Đây là biến nhãn (class):\n",
    "         + 0 = không mắc tiểu đường (500 mẫu).\n",
    "         + 1 = mắc tiểu đường (268 mẫu).\n",
    "      + Đây không phải dữ liệu thiếu mà là nhãn hợp lệ."
   ]
  },
  {
   "cell_type": "code",
   "execution_count": 7,
   "id": "41b49d94",
   "metadata": {},
   "outputs": [
    {
     "name": "stdout",
     "output_type": "stream",
     "text": [
      "<class 'pandas.core.frame.DataFrame'>\n",
      "RangeIndex: 768 entries, 0 to 767\n",
      "Data columns (total 9 columns):\n",
      " #   Column                    Non-Null Count  Dtype  \n",
      "---  ------                    --------------  -----  \n",
      " 0   Pregnancies               768 non-null    int64  \n",
      " 1   Glucose                   768 non-null    int64  \n",
      " 2   BloodPressure             768 non-null    int64  \n",
      " 3   SkinThickness             768 non-null    int64  \n",
      " 4   Insulin                   768 non-null    int64  \n",
      " 5   BMI                       768 non-null    float64\n",
      " 6   DiabetesPedigreeFunction  768 non-null    float64\n",
      " 7   Age                       768 non-null    int64  \n",
      " 8   Outcome                   768 non-null    int64  \n",
      "dtypes: float64(2), int64(7)\n",
      "memory usage: 54.1 KB\n",
      "None\n"
     ]
    }
   ],
   "source": [
    "# Hiển thị thông tin cơ bản về dữ liệu\n",
    "print(data.info())"
   ]
  },
  {
   "cell_type": "markdown",
   "id": "4de49809",
   "metadata": {},
   "source": [
    "- Nhận xét sơ bộ\n",
    "- **Cấu trúc dữ liệu:**  \n",
    "   - Tổng cộng **767 dòng × 9 cột**.  \n",
    "   - Tất cả các biến đều dạng số (`int` hoặc `float`). "
   ]
  },
  {
   "cell_type": "code",
   "execution_count": 8,
   "id": "a76a7f95",
   "metadata": {},
   "outputs": [
    {
     "name": "stdout",
     "output_type": "stream",
     "text": [
      "       Pregnancies     Glucose  BloodPressure  SkinThickness     Insulin  \\\n",
      "count   768.000000  768.000000     768.000000     768.000000  768.000000   \n",
      "mean      3.845052  120.894531      69.105469      20.536458   79.799479   \n",
      "std       3.369578   31.972618      19.355807      15.952218  115.244002   \n",
      "min       0.000000    0.000000       0.000000       0.000000    0.000000   \n",
      "25%       1.000000   99.000000      62.000000       0.000000    0.000000   \n",
      "50%       3.000000  117.000000      72.000000      23.000000   30.500000   \n",
      "75%       6.000000  140.250000      80.000000      32.000000  127.250000   \n",
      "max      17.000000  199.000000     122.000000      99.000000  846.000000   \n",
      "\n",
      "              BMI  DiabetesPedigreeFunction         Age     Outcome  \n",
      "count  768.000000                768.000000  768.000000  768.000000  \n",
      "mean    31.992578                  0.471876   33.240885    0.348958  \n",
      "std      7.884160                  0.331329   11.760232    0.476951  \n",
      "min      0.000000                  0.078000   21.000000    0.000000  \n",
      "25%     27.300000                  0.243750   24.000000    0.000000  \n",
      "50%     32.000000                  0.372500   29.000000    0.000000  \n",
      "75%     36.600000                  0.626250   41.000000    1.000000  \n",
      "max     67.100000                  2.420000   81.000000    1.000000  \n"
     ]
    }
   ],
   "source": [
    "# Thống kê mô tả\n",
    "print(data.describe())\n"
   ]
  },
  {
   "cell_type": "markdown",
   "id": "9748f3ad",
   "metadata": {},
   "source": [
    "- Các thống kê mô tả chính và ý nghĩa:\n",
    "    + count: số lượng mẫu dữ liệu (ở đây tất cả cột = 768).\n",
    "    + mean: giá trị trung bình.\n",
    "    + std: độ lệch chuẩn → mức độ phân tán quanh trung bình.\n",
    "    + min, max: giá trị nhỏ nhất và lớn nhất.\n",
    "    + 25%, 50%, 75% (quartiles): các mốc phân vị → dùng để đánh giá sự phân phối dữ liệu."
   ]
  },
  {
   "cell_type": "markdown",
   "id": "ca728ba5",
   "metadata": {},
   "source": [
    "- Chỉ số đo lường sự biến động (Dispersion):\n",
    "    + std (độ lệch chuẩn):\n",
    "        + Glucose: 32 → biến thiên khá lớn, thể hiện sự khác biệt giữa người khỏe mạnh và người có nguy cơ cao.\n",
    "        + Insulin: 115, lớn hơn cả mean (~80) → chứng tỏ dữ liệu rất phân tán và nhiều ngoại lệ.\n",
    "        + BMI: 7.88 → tương đối ổn định, dao động vừa phải.\n",
    "        + Age: 11.8 → đa dạng độ tuổi, từ 21 đến 81 tuổi.\n",
    "- Khoảng (range = max - min):\n",
    "    + Pregnancies: 0–17, cho thấy có vài trường hợp đặc biệt mang thai rất nhiều lần.\n",
    "    + Insulin: 0–846, cực kỳ phân tán → cần chuẩn hóa hoặc log-transform khi phân tích.\n",
    "    + SkinThickness: 0–99, cũng có nhiều giá trị bất hợp lý."
   ]
  },
  {
   "cell_type": "code",
   "execution_count": 9,
   "id": "780387df",
   "metadata": {},
   "outputs": [
    {
     "name": "stdout",
     "output_type": "stream",
     "text": [
      "\n",
      "Phân bố biến lớp (Outcome):\n",
      "Outcome\n",
      "0    500\n",
      "1    268\n",
      "Name: count, dtype: int64\n"
     ]
    }
   ],
   "source": [
    "# Phân bố lớp\n",
    "print(\"\\nPhân bố biến lớp (Outcome):\")\n",
    "print(data['Outcome'].value_counts())"
   ]
  },
  {
   "cell_type": "markdown",
   "id": "ecafd297",
   "metadata": {},
   "source": [
    "- Tỉ lệ mắc ~35% và không mắc ~65%"
   ]
  },
  {
   "cell_type": "markdown",
   "id": "9932faae",
   "metadata": {},
   "source": [
    "## 3. Chuẩn bị dữ liệu (Prepare Data)"
   ]
  },
  {
   "cell_type": "markdown",
   "id": "fce00459",
   "metadata": {},
   "source": [
    "### 3.1 Mô tả vấn đề"
   ]
  },
  {
   "cell_type": "markdown",
   "id": "74c88645",
   "metadata": {},
   "source": [
    "- Mục tiêu: Trong phần này, chúng ta sẽ làm sạch dataset Pima Indians Diabetes bằng cách xử lý giá trị thiếu, loại bỏ dữ liệu trùng lặp, và thực hiện các thao tác cần thiết để đảm bảo dữ liệu sẵn sàng cho phân tích sâu hơn. Điều này giúp loại bỏ các sai lệch và chuẩn bị một nền tảng vững chắc cho các bước tiếp theo như trực quan hóa và mô hình hóa."
   ]
  },
  {
   "cell_type": "markdown",
   "id": "8af6b45c",
   "metadata": {},
   "source": [
    "### 3.1 Làm sạch dữ liệu (Data Cleaning)"
   ]
  },
  {
   "cell_type": "markdown",
   "id": "55469ef1",
   "metadata": {},
   "source": [
    "#### Xử lý dữ liệu bị thiếu"
   ]
  },
  {
   "cell_type": "markdown",
   "id": "cce367e3",
   "metadata": {},
   "source": [
    "- ***Giới thiệu thư viện NumPy và SimpleImputer***\n",
    "- **NumPy (`numpy`)**:\n",
    "    + Là thư viện **tính toán khoa học** cốt lõi trong Python.  \n",
    "    + Hỗ trợ mảng đa chiều (`ndarray`) và nhiều hàm toán học tối ưu.  \n",
    "    + Trong phân tích dữ liệu, NumPy thường được dùng kết hợp với `pandas` để xử lý dữ liệu số học, thống kê, và tối ưu hiệu năng. \n",
    "- **SimpleImputer (từ `sklearn.impute`)**:\n",
    "    + Là công cụ trong thư viện **Scikit-learn** hỗ trợ **xử lý dữ liệu thiếu (missing values)**.  \n",
    "    + Có thể thay thế (impute) giá trị thiếu bằng:  \n",
    "        - Trung bình (`mean`)  \n",
    "        - Trung vị (`median`)  \n",
    "        - Giá trị thường gặp nhất (`most_frequent`)  \n",
    "        - Một hằng số tùy chọn (`constant`) \n",
    "    + Đây là bước quan trọng để đảm bảo dữ liệu **sạch và đầy đủ** trước khi đưa vào huấn luyện mô hình học máy.   "
   ]
  },
  {
   "cell_type": "code",
   "execution_count": 10,
   "id": "c97a6c1d",
   "metadata": {},
   "outputs": [
    {
     "ename": "ModuleNotFoundError",
     "evalue": "No module named 'sklearn'",
     "output_type": "error",
     "traceback": [
      "\u001b[31m---------------------------------------------------------------------------\u001b[39m",
      "\u001b[31mModuleNotFoundError\u001b[39m                       Traceback (most recent call last)",
      "\u001b[36mCell\u001b[39m\u001b[36m \u001b[39m\u001b[32mIn[10]\u001b[39m\u001b[32m, line 2\u001b[39m\n\u001b[32m      1\u001b[39m \u001b[38;5;28;01mimport\u001b[39;00m\u001b[38;5;250m \u001b[39m\u001b[34;01mnumpy\u001b[39;00m\u001b[38;5;250m \u001b[39m\u001b[38;5;28;01mas\u001b[39;00m\u001b[38;5;250m \u001b[39m\u001b[34;01mnp\u001b[39;00m\n\u001b[32m----> \u001b[39m\u001b[32m2\u001b[39m \u001b[38;5;28;01mfrom\u001b[39;00m\u001b[38;5;250m \u001b[39m\u001b[34;01msklearn\u001b[39;00m\u001b[34;01m.\u001b[39;00m\u001b[34;01mimpute\u001b[39;00m\u001b[38;5;250m \u001b[39m\u001b[38;5;28;01mimport\u001b[39;00m SimpleImputer\n",
      "\u001b[31mModuleNotFoundError\u001b[39m: No module named 'sklearn'"
     ]
    }
   ],
   "source": [
    "import numpy as np\n",
    "from sklearn.impute import SimpleImputer"
   ]
  },
  {
   "cell_type": "code",
   "execution_count": null,
   "id": "7fd21a67",
   "metadata": {},
   "outputs": [],
   "source": [
    "# Thay thế giá trị 0 bằng NaN để xử lý\n",
    "for column in ['Glucose', 'BloodPressure', 'SkinThickness', 'Insulin', 'BMI']:\n",
    "    data[column] = data[column].replace(0, np.nan)\n",
    "\n",
    "# Sử dụng SimpleImputer để điền giá trị thiếu bằng trung bình\n",
    "imputer = SimpleImputer(strategy='mean')\n",
    "data[['Glucose', 'BloodPressure', 'SkinThickness', 'Insulin', 'BMI']] = imputer.fit_transform(data[['Glucose', 'BloodPressure', 'SkinThickness', 'Insulin', 'BMI']])\n",
    "\n",
    "# Kiểm tra lại số lượng giá trị thiếu\n",
    "print(\"Số lượng giá trị thiếu sau khi xử lý:\")\n",
    "print(data.isnull().sum())"
   ]
  },
  {
   "cell_type": "markdown",
   "id": "38fba8f0",
   "metadata": {},
   "source": [
    "- Giải thích:\n",
    "\n",
    "    - Việc thay thế bằng trung bình giúp duy trì tính đại diện của dữ liệu mà không làm mất thông tin quan trọng.\n",
    "    - SimpleImputer với chiến lược mean thay thế các giá trị thiếu (bao gồm cả null và NaN) bằng trung bình của cột, giữ nguyên ý nghĩa thống kê.\n",
    "    - Sau khi xử lý, tất cả giá trị thiếu sẽ được điền, đảm bảo dữ liệu không còn khoảng trống."
   ]
  },
  {
   "cell_type": "markdown",
   "id": "3e06c2e6",
   "metadata": {},
   "source": [
    "#### Xóa dữ liệu trùng lặp"
   ]
  },
  {
   "cell_type": "code",
   "execution_count": null,
   "id": "68d3372e",
   "metadata": {},
   "outputs": [],
   "source": [
    "# Kiểm tra và xóa dữ liệu trùng lặp\n",
    "initial_rows = data.shape[0]\n",
    "data = data.drop_duplicates()\n",
    "\n",
    "# Hiển thị số lượng mẫu trước và sau khi xóa trùng lặp\n",
    "print(f\"\\nSố lượng mẫu trước khi xóa trùng lặp: {initial_rows}\")\n",
    "print(f\"Số lượng mẫu sau khi xóa trùng lặp: {data.shape[0]}\")\n",
    "if initial_rows == data.shape[0]:\n",
    "    print(\"Không có dữ liệu trùng lặp trong dataset.\")\n",
    "else:\n",
    "    print(f\"Đã xóa {initial_rows - data.shape[0]} mẫu trùng lặp.\")"
   ]
  },
  {
   "cell_type": "markdown",
   "id": "1466ccd2",
   "metadata": {},
   "source": [
    "- Giải thích:\n",
    "\n",
    "    - drop_duplicates() loại bỏ các hàng có giá trị giống nhau hoàn toàn.\n",
    "    - Kết quả sẽ cho biết có bao nhiêu mẫu bị trùng lặp (nếu có), giúp dữ liệu trở nên sạch sẽ và đáng tin cậy hơn."
   ]
  },
  {
   "cell_type": "markdown",
   "id": "f18db5cf",
   "metadata": {},
   "source": [
    "#### Xử lý chuẩn hóa dữ liệu"
   ]
  },
  {
   "cell_type": "markdown",
   "id": "ffe7ff0e",
   "metadata": {},
   "source": [
    "- Giới thiệu MinMaxScaler (sklearn.preprocessing)\n",
    "- **MinMaxScaler** là một công cụ trong thư viện **Scikit-learn** dùng để **chuẩn hóa dữ liệu (feature scaling)**.  \n",
    "- Nguyên lý hoạt động: đưa toàn bộ giá trị của một biến về trong **khoảng [0, 1]** (hoặc một khoảng tùy chọn do người dùng định nghĩa). \n",
    "Công thức biến đổi:\n",
    "$$\n",
    "X' = \\frac{X - X_{min}}{X_{max} - X_{min}}\n",
    "$$\n",
    "Trong đó:  \n",
    "- \\(X\\) là giá trị gốc,  \n",
    "- \\(X_{min}\\) là giá trị nhỏ nhất của cột,  \n",
    "- \\(X_{max}\\) là giá trị lớn nhất của cột,  \n",
    "- \\(X'\\) là giá trị đã được scale (nằm trong [0,1]). "
   ]
  },
  {
   "cell_type": "code",
   "execution_count": null,
   "id": "31479c47",
   "metadata": {},
   "outputs": [],
   "source": [
    "# Chuẩn hóa dữ liệu bằng MinMaxScaler\n",
    "from sklearn.preprocessing import MinMaxScaler"
   ]
  },
  {
   "cell_type": "code",
   "execution_count": null,
   "id": "9c101ea0",
   "metadata": {},
   "outputs": [],
   "source": [
    "# Kiểm tra phạm vi giá trị của các cột\n",
    "print(\"\\nPhạm vi giá trị của các cột:\")\n",
    "print(data.describe())\n",
    "\n",
    "scaler = MinMaxScaler()\n",
    "data_scaled = pd.DataFrame(scaler.fit_transform(data.drop('Outcome', axis=1)), columns=data.drop('Outcome', axis=1).columns)\n",
    "data_scaled['Outcome'] = data['Outcome']\n",
    "\n",
    "# Hiển thị 5 dòng đầu của dữ liệu đã chuẩn hóa\n",
    "print(\"\\n5 dòng đầu của dữ liệu đã chuẩn hóa:\")\n",
    "print(data_scaled.head())"
   ]
  },
  {
   "cell_type": "markdown",
   "id": "cf650732",
   "metadata": {},
   "source": [
    "- Giải thích:\n",
    "\n",
    "    - describe() kiểm tra phạm vi giá trị (min, max) để đánh giá cần chuẩn hóa không. Ví dụ, Age và Pregnancies có thể có giá trị lớn hơn các cột khác.\n",
    "    - MinMaxScaler chuẩn hóa dữ liệu về khoảng [0, 1], giúp các thuộc tính có cùng thang đo, đặc biệt quan trọng cho mô hình hóa sau này.\n",
    "    - Dữ liệu chuẩn hóa được lưu vào data_scaled. Có thể gán data = data_scaled nếu muốn sử dụng ngay."
   ]
  },
  {
   "cell_type": "markdown",
   "id": "dca2814a",
   "metadata": {},
   "source": [
    "#### Kiểm tra dữ liệu sau khi xử lý"
   ]
  },
  {
   "cell_type": "code",
   "execution_count": null,
   "id": "b14cf7ff",
   "metadata": {},
   "outputs": [],
   "source": [
    "# Hiển thị thông tin cơ bản sau khi xử lý\n",
    "print(\"\\nThông tin cơ bản về dữ liệu sau khi xử lý:\")\n",
    "print(data.info())\n",
    "\n",
    "# Phân bố lớp sau khi xử lý\n",
    "print(\"\\nPhân bố biến lớp (Outcome) sau khi xử lý:\")\n",
    "print(data['Outcome'].value_counts())"
   ]
  },
  {
   "cell_type": "markdown",
   "id": "76bd5c76",
   "metadata": {},
   "source": [
    "- Giải thích:\n",
    "\n",
    "    - info() xác nhận không còn giá trị thiếu và kiểu dữ liệu phù hợp.\n",
    "    - value_counts() kiểm tra phân bố lớp vẫn giữ nguyên (500 mẫu 0 và 268 mẫu 1), đảm bảo không mất dữ liệu quan trọng."
   ]
  },
  {
   "cell_type": "markdown",
   "id": "0560609b",
   "metadata": {},
   "source": [
    "## 4. Phân tích dữ liệu (Analyze Data)"
   ]
  },
  {
   "cell_type": "markdown",
   "id": "95231a70",
   "metadata": {},
   "source": [
    "### 4.1 Mô tả vấn đề"
   ]
  },
  {
   "cell_type": "markdown",
   "id": "5d8c070c",
   "metadata": {},
   "source": [
    "- Mục tiêu: \n",
    "    - Trong phần này, chúng ta sẽ trực quan hóa dataset Pima Indians Diabetes để khám phá các xu hướng, mối quan hệ giữa các thuộc tính, và nhận xét dựa trên phân tích. Đặc biệt, mình sẽ áp dụng các công thức và phương pháp từ bài báo \"Using the ADAP Learning Algorithm\" (paper2.pdf), như độ nhạy (sensitivity), độ đặc hiệu (specificity), và đường cong ROC, để đánh giá hiệu suất dự đoán đái tháo đường. Điều này giúp hiểu rõ hơn về dữ liệu và chuẩn bị cho mô hình hóa.\n",
    "\n",
    "- Dữ liệu: \n",
    "    - Dataset đã được làm sạch trong Phần 3 ***(data_scaled)***, với 768 mẫu, 8 thuộc tính y tế, và biến lớp Outcome (0: Không đái tháo đường, 1: Có đái tháo đường)."
   ]
  },
  {
   "cell_type": "markdown",
   "id": "8388136b",
   "metadata": {},
   "source": [
    "### 4.2 Thống kê mô tả"
   ]
  },
  {
   "cell_type": "markdown",
   "id": "8d7bce18",
   "metadata": {},
   "source": [
    "#### (1) Hiển thị một số thông tin về dữ liệu\n",
    "+ Số dòng, số cột của dữ liệu\n",
    "+ Kiểu dữ liệu của từng cột\n",
    "+ 5 dòng đầu và 5 dòng cuối của bảng dữ liệu\n",
    "+ Thông tin chung về dữ liệu"
   ]
  },
  {
   "cell_type": "code",
   "execution_count": null,
   "id": "6351e742",
   "metadata": {},
   "outputs": [],
   "source": [
    "# shape\n",
    "print(f'+ Shape: {data_scaled.shape}')\n",
    "# types\n",
    "print(f'+ Data Types: \\n{data_scaled.dtypes}')\n",
    "# head, tail\n",
    "print(f'+ Contents: ')\n",
    "print('--- First 5 rows ---')\n",
    "print(data_scaled.head(5))\n",
    "print('--- Last 5 rows ---')\n",
    "print(data_scaled.tail(5))\n",
    "# info\n",
    "data_scaled.info()"
   ]
  },
  {
   "cell_type": "markdown",
   "id": "a1d720d3",
   "metadata": {},
   "source": [
    "**Nhận xét:**\n",
    "\n",
    "- Dataset sau khi chuẩn hóa (`data_scaled`) có 768 dòng và 9 cột, không có giá trị thiếu, đảm bảo chất lượng dữ liệu cho phân tích tiếp theo.\n",
    "- Các thuộc tính số đã được chuẩn hóa về khoảng [0, 1], giúp các đặc trưng có cùng thang đo, thuận lợi cho các thuật toán học máy.\n",
    "- Kiểu dữ liệu của các cột phù hợp: hầu hết là `float64`, riêng biến mục tiêu `Outcome` là `int64`.\n",
    "- Phân bố lớp (`Outcome`) vẫn giữ nguyên, đảm bảo không mất dữ liệu quan trọng sau các bước xử lý.\n",
    "- Việc chuẩn hóa và làm sạch dữ liệu giúp tăng độ tin cậy và hiệu quả cho các bước phân tích, trực quan hóa và xây dựng mô hình dự đoán sau này."
   ]
  },
  {
   "cell_type": "markdown",
   "id": "6a0d09a6",
   "metadata": {},
   "source": [
    "#### (2) Kiểm tra tính toàn vẹn của dữ liệu\n",
    "1. Có còn giá trị thiếu (NaN, Null) nào trong từng cột không?\n",
    "2. Có dòng dữ liệu nào bị trùng lặp không?\n",
    "3. Các giá trị của biến mục tiêu (Outcome) có nằm ngoài tập {0, 1} không?\n",
    "4. Có cột nào chứa toàn giá trị giống nhau không?\n",
    "5. Các cột số đã chuẩn hóa có nằm trong khoảng [0, 1] không?"
   ]
  },
  {
   "cell_type": "code",
   "execution_count": null,
   "id": "e147c667",
   "metadata": {},
   "outputs": [],
   "source": [
    "\n",
    "# Kiểm tra tính toàn vẹn của dữ liệu\n",
    "print(\"1. Có còn giá trị thiếu (NaN, Null) nào trong từng cột không?\")\n",
    "print(data_scaled.isnull().sum())\n",
    "\n",
    "print(\"\\n2. Có dòng dữ liệu nào bị trùng lặp không?\")\n",
    "print(f\"Số dòng trùng lặp: {data_scaled.duplicated().sum()}\")\n",
    "\n",
    "print(\"\\n3. Các giá trị của biến mục tiêu (Outcome) có nằm ngoài tập {0, 1} không?\")\n",
    "print(data_scaled['Outcome'].unique())\n",
    "\n",
    "print(\"\\n4. Có cột nào chứa toàn giá trị giống nhau không?\")    \n",
    "for col in data_scaled.columns:\n",
    "    if data_scaled[col].nunique() == 1:\n",
    "        print(f\"Cột {col} chỉ có một giá trị duy nhất.\")\n",
    "        \n",
    "print(\"\\n5. Các cột số đã chuẩn hóa có nằm trong khoảng [0, 1] không?\")\n",
    "for col in data_scaled.columns:\n",
    "    if col != 'Outcome':\n",
    "        min_val = data_scaled[col].min()\n",
    "        max_val = data_scaled[col].max()\n",
    "        if min_val < 0 or max_val > 1:\n",
    "            print(f\"Cột {col} có giá trị ngoài khoảng [0, 1]: min={min_val}, max={max_val}\")"
   ]
  },
  {
   "cell_type": "code",
   "execution_count": null,
   "id": "2c9e7e24",
   "metadata": {},
   "outputs": [],
   "source": [
    "data.to_csv('output.csv', index=False)"
   ]
  },
  {
   "cell_type": "markdown",
   "id": "519103c9",
   "metadata": {},
   "source": [
    "**Nhận xét:**\n",
    "- Không còn giá trị thiếu (NaN, Null) trong bất kỳ cột nào, đảm bảo dữ liệu đầy đủ cho phân tích.\n",
    "- Không có dòng dữ liệu nào bị trùng lặp, dữ liệu duy nhất và đáng tin cậy.\n",
    "- Biến mục tiêu (Outcome) chỉ chứa giá trị 0 và 1, đúng định dạng nhị phân.\n",
    "- Không có cột nào chứa toàn giá trị giống nhau, đảm bảo các thuộc tính đều có ý nghĩa phân biệt.\n",
    "- Các cột số đã được chuẩn hóa nằm trong khoảng [0, 1], phù hợp cho các thuật toán học máy và phân tích tiếp theo."
   ]
  },
  {
   "cell_type": "markdown",
   "id": "8737ea2a",
   "metadata": {},
   "source": [
    "### 4.3 Trực quan hóa dữ liệu"
   ]
  },
  {
   "cell_type": "markdown",
   "id": "24bf579e",
   "metadata": {},
   "source": [
    "#### (1) Phân bố biến lớp (Outcome)"
   ]
  },
  {
   "cell_type": "markdown",
   "id": "c03b945f",
   "metadata": {},
   "source": [
    "Giới thiệu thư viện Seaborn và Matplotlib\n",
    "- **Matplotlib (`matplotlib.pyplot`)**  \n",
    "  - Là thư viện trực quan hóa dữ liệu cơ bản và mạnh mẽ nhất trong Python.  \n",
    "  - Cho phép vẽ nhiều loại biểu đồ: line chart, bar chart, scatter plot, histogram, pie chart...  \n",
    "  - Thường được sử dụng như “nền tảng” cho các thư viện trực quan hóa khác.  \n"
   ]
  },
  {
   "cell_type": "markdown",
   "id": "8fa52772",
   "metadata": {},
   "source": [
    "- **Seaborn (`seaborn`)**  \n",
    "  - Được xây dựng dựa trên Matplotlib, cung cấp **giao diện đơn giản và đẹp mắt** để trực quan hóa dữ liệu thống kê.  \n",
    "  - Tích hợp tốt với **pandas DataFrame**.  \n",
    "  - Hỗ trợ nhiều biểu đồ nâng cao: heatmap, pairplot, violin plot, boxplot...  \n",
    "  - Tự động tối ưu hóa màu sắc và phong cách hiển thị. "
   ]
  },
  {
   "cell_type": "code",
   "execution_count": null,
   "id": "3fde5b20",
   "metadata": {},
   "outputs": [],
   "source": [
    "import seaborn as sns\n",
    "import matplotlib.pyplot as plt"
   ]
  },
  {
   "cell_type": "code",
   "execution_count": null,
   "id": "d3a5f1ec",
   "metadata": {},
   "outputs": [],
   "source": [
    "# Phân bố lớp\n",
    "plt.figure(figsize=(8, 5))\n",
    "sns.countplot(x='Outcome', data=data_scaled, palette='Set2')\n",
    "plt.title('Phân bố số lượng bệnh nhân theo trạng thái đái tháo đường')\n",
    "# Hiển thị thêm con số trên cột\n",
    "for p in plt.gca().patches:\n",
    "    plt.gca().annotate(f'{p.get_height()}', (p.get_x() + p.get_width() / 2., p.get_height()), ha='center', va='center', fontsize=11, color='black', xytext=(0, 5), textcoords='offset points')\n",
    "    # giải thích: p.get_x() + p.get_width() / 2. là vị trí x ở giữa cột, p.get_height() là vị trí y trên đỉnh cột\n",
    "plt.xlabel('Outcome (0: Không, 1: Có)')\n",
    "plt.ylabel('Số lượng')\n",
    "plt.show()"
   ]
  },
  {
   "cell_type": "markdown",
   "id": "c52e62aa",
   "metadata": {},
   "source": [
    "**Nhận xét:** \n",
    "- Dữ liệu cho thấy 500 mẫu không đái tháo đường (0) và 268 mẫu có đái tháo đường (1), chiếm tỷ lệ khoảng 65% và 35%. Sự mất cân bằng này cần được xem xét khi xây dựng mô hình, phù hợp với phân bố được ghi nhận trong tài liệu."
   ]
  },
  {
   "cell_type": "markdown",
   "id": "e503999a",
   "metadata": {},
   "source": [
    "#### (2) Phân bố các thuộc tính"
   ]
  },
  {
   "cell_type": "markdown",
   "id": "d827d710",
   "metadata": {},
   "source": [
    "Ý nghĩa của việc sử dụng biểu đồ Histogram + KDE để trực quan dữ liệu\n",
    "- **Histogram (biểu đồ tần suất):**  \n",
    "  - Cho thấy sự phân bố của dữ liệu theo từng biến (feature).  \n",
    "  - Giúp ta hiểu được giá trị nào xuất hiện nhiều, giá trị nào ít, có bị lệch (skewness) hay không.  \n",
    "  - Dễ dàng nhận ra các giá trị bất thường (outliers) hoặc dữ liệu thiếu (ví dụ: nhiều giá trị 0 ở `Insulin`, `SkinThickness`).  "
   ]
  },
  {
   "cell_type": "markdown",
   "id": "c0d6c646",
   "metadata": {},
   "source": [
    "- **KDE (đường mật độ):**  \n",
    "  - Biểu diễn đường cong mật độ xác suất ước lượng từ histogram.  \n",
    "  - Làm cho ta thấy rõ hơn **hình dạng phân phối** (chuẩn, lệch phải, lệch trái).  \n",
    "  - Giúp so sánh mượt mà hơn giữa các nhóm.     "
   ]
  },
  {
   "cell_type": "markdown",
   "id": "de63d1ba",
   "metadata": {},
   "source": [
    "- **Sử dụng `hue='Outcome'`:**  \n",
    "  - Cho phép **so sánh phân phối** giữa hai nhóm:  \n",
    "    - `Outcome = 0`: không mắc tiểu đường.  \n",
    "    - `Outcome = 1`: mắc tiểu đường.  \n",
    "  - Giúp ta phát hiện biến nào có **khả năng phân biệt mạnh** (ví dụ: Glucose, BMI), và biến nào ít phân biệt (ví dụ: BloodPressure). "
   ]
  },
  {
   "cell_type": "markdown",
   "id": "21de15cf",
   "metadata": {},
   "source": [
    "Biểu đồ này giúp:\n",
    "1. **Hiểu cấu trúc dữ liệu** trước khi làm mô hình.  \n",
    "2. **Xác định biến quan trọng** (feature importance trực quan).  \n",
    "3. **Phát hiện dữ liệu bất thường hoặc thiếu**.  \n",
    "4. Đưa ra định hướng cho **tiền xử lý dữ liệu** (xử lý outlier, missing values, chuẩn hóa). "
   ]
  },
  {
   "cell_type": "code",
   "execution_count": null,
   "id": "c6fecf08",
   "metadata": {},
   "outputs": [],
   "source": [
    "# Vẽ histogram cho tất cả các thuộc tính\n",
    "plt.figure(figsize=(15, 10))\n",
    "for i, column in enumerate(data.columns[:-1], 1):  # Loại bỏ 'Outcome' khỏi histogram\n",
    "    plt.subplot(3, 3, i)\n",
    "    sns.histplot(data=data, x=column, hue='Outcome', kde=True, palette='deep')\n",
    "    plt.title(f'Phân bố {column} theo trạng thái đái tháo đường')\n",
    "    plt.xlabel(column)\n",
    "    plt.ylabel('Số lượng')\n",
    "plt.tight_layout()\n",
    "plt.show()"
   ]
  },
  {
   "cell_type": "markdown",
   "id": "2fc35a16",
   "metadata": {},
   "source": [
    "**Nhận xét:**\n",
    "- Pregnancies (Số lần mang thai):\n",
    "    - Phân bố lệch phải, với phần lớn giá trị từ 0-5. Nhóm Outcome = 1 có xu hướng tập trung ở số lần mang thai cao hơn (4-10), gợi ý rằng tiền sử sinh sản nhiều có thể làm tăng nguy cơ, phù hợp với nghiên cứu dịch tễ trong paper3.pdf.\n",
    "\n",
    "- Glucose (Nồng độ glucose):\n",
    "    - Đây là biến phân tách rõ ràng nhất:\n",
    "    - Phân bố gần chuẩn, nhưng nhóm Outcome = 1 có đỉnh rõ ở mức >120 mg/dl, hỗ trợ tiêu chí chẩn đoán WHO (≥200 mg/dl, paper1.pdf).\n",
    "    - Nhóm tiểu đường có giá trị glucose cao hơn hẳn nhóm không tiểu đường.\n",
    "    -Đây là biến quan trọng nhất để phân loại.\n",
    "\n",
    "- BloodPressure (Huyết áp tâm thu):\n",
    "    -Phân bố tập trung quanh 70-80 mm Hg, không có sự khác biệt rõ rệt giữa hai nhóm, cho thấy huyết áp có thể không phải yếu tố quyết định trong dataset này.\n",
    "\n",
    "- SkinThickness (Độ dày nếp gấp da):\n",
    "    - Phân bố lệch phải, nhóm Outcome = 1 có xu hướng cao hơn (20-40 mm), phản ánh mối liên hệ với béo phì, như được đề cập trong paper3.pdf.\n",
    "\n",
    "- Insulin (Insulin huyết thanh):\n",
    "    - Phân bố rất lệch, với nhiều giá trị thấp. Nhóm Outcome = 1 có xu hướng cao hơn, nhưng dữ liệu thiếu nhiều (giá trị 0 ban đầu) có thể ảnh hưởng đến phân tích.\n",
    "\n",
    "- BMI (Chỉ số khối cơ thể):\n",
    "    - Phân bố tập trung quanh 30-40, với nhóm Outcome = 1 nghiêng về BMI >30 (béo phì), củng cố vai trò của béo phì trong đái tháo đường loại 2 (paper3.pdf).\n",
    "    - Nhóm tiểu đường có xu hướng BMI cao hơn.\n",
    "    - Đây là một yếu tố nguy cơ quan trọng.\n",
    "\n",
    "- DiabetesPedigreeFunction (Hàm phả hệ):\n",
    "    - Phân bố lệch phải, nhóm Outcome = 1 có giá trị cao hơn (0.4-1.0), cho thấy yếu tố di truyền quan trọng, như phân tích trong paper2.pdf.\n",
    "\n",
    "- Age (Tuổi):\n",
    "    - Người tiểu đường có xu hướng lớn tuổi hơn.\n",
    "    - Yếu tố tuổi tác cũng góp phần tăng nguy cơ.\n",
    "    - Phân bố lệch phải, nhóm Outcome = 1 tập trung ở tuổi >40, phù hợp với nghiên cứu về lão hóa và nguy cơ đái tháo đường (paper1.pdf).\n"
   ]
  },
  {
   "cell_type": "markdown",
   "id": "8bb4b31b",
   "metadata": {},
   "source": [
    "### 4.4 Trực quan hóa mối quan hệ giữa các thuộc tính"
   ]
  },
  {
   "cell_type": "markdown",
   "id": "f9312afc",
   "metadata": {},
   "source": [
    "#### (1) Ma trận tương quan"
   ]
  },
  {
   "cell_type": "markdown",
   "id": "08d09d44",
   "metadata": {},
   "source": [
    "- **Ý nghĩa:**  \n",
    "  - Ma trận tương quan cho thấy mối quan hệ tuyến tính giữa các cặp biến.  \n",
    "  - Hệ số tương quan (Pearson):  \n",
    "    - Gần **1** → tương quan thuận mạnh.  \n",
    "    - Gần **-1** → tương quan nghịch mạnh.  \n",
    "    - Gần **0** → ít hoặc không có quan hệ tuyến tính.  \n",
    "  - Màu sắc trên heatmap:  \n",
    "    - **Đỏ** = tương quan dương mạnh.  \n",
    "    - **Xanh** = tương quan yếu hoặc âm.  "
   ]
  },
  {
   "cell_type": "code",
   "execution_count": null,
   "id": "62f25c22",
   "metadata": {},
   "outputs": [],
   "source": [
    "# Ma trận tương quan\n",
    "plt.figure(figsize=(10, 8))\n",
    "sns.heatmap(data_scaled.corr(), annot=True, cmap='coolwarm', fmt='.2f')\n",
    "plt.title('Ma trận tương quan giữa các thuộc tính')\n",
    "plt.show()"
   ]
  },
  {
   "cell_type": "markdown",
   "id": "90830897",
   "metadata": {},
   "source": [
    "**Nhận xét:**\n",
    "\n",
    "1. **Mối quan hệ với nhãn `Outcome`:**  \n",
    "   - `Glucose` có tương quan cao nhất (0.49) → cho thấy nồng độ glucose cao là yếu tố dự báo quan trọng cho bệnh đái tháo đường, phù hợp với kiến thức y học.\n",
    "   - `BMI` (0.31), `Age` (0.24), `Pregnancies` (0.22), `SkinThickness` (0.22) → có mối quan hệ dương nhưng yếu hơn. cho thấy béo phì, tuổi cao và yếu tố di truyền đều góp phần làm tăng nguy cơ mắc bệnh. \n",
    "   - `BloodPressure`, `Insulin`, `DiabetesPedigreeFunction` → tương quan rất thấp (< 0.21).\n",
    "\n",
    "2. **Mối quan hệ giữa các biến độc lập:**  \n",
    "   - `SkinThickness` ↔ `BMI` (0.54) → hợp lý, do mỡ dưới da thường liên quan đến BMI.  \n",
    "   - `Pregnancies` ↔ `Age` (0.54) → càng lớn tuổi thì số lần mang thai càng nhiều.  \n",
    "   - `Glucose` ↔ `Insulin` (0.42) → đường huyết cao thường đi kèm insulin cao.    \n",
    "\n",
    "3. **Đánh giá cho mô hình học máy:**  \n",
    "    - Không có cặp biến nào tương quan quá cao (>0.8) → ít nguy cơ đa cộng tuyến.  \n",
    "    - Các biến khác nhau đóng góp bổ sung thông tin.  \n",
    "    - Không có cặp thuộc tính nào có tương quan tuyệt đối (gần 1 hoặc -1), do đó dữ liệu phù hợp cho các mô hình học máy mà không lo trùng lặp thông tin."
   ]
  },
  {
   "cell_type": "markdown",
   "id": "81a353bd",
   "metadata": {},
   "source": [
    "#### (2) Hiển thị nhiều tính chất"
   ]
  },
  {
   "cell_type": "markdown",
   "id": "33cb995f",
   "metadata": {},
   "source": [
    "- ***Phân tích biểu đồ Pairplot***\n",
    "- Pairplot là một công cụ trực quan hóa mạnh mẽ để hiển thị mối quan hệ giữa tất cả các cặp biến trong dataset. Biểu đồ này tạo ra một ma trận các scatter plot (biểu đồ phân tán) và histogram.\n",
    "**Cấu trúc biểu đồ:**\n",
    "- Đường chéo chính: Histogram phân phối của từng biến\n",
    "- Các ô ngoài đường chéo: Scatter plot giữa hai biến\n",
    "- Màu sắc: Phân biệt theo nhóm (Outcome: 0 = không đái tháo đường, 1 = có đái tháo đường)\n",
    "**Mục đích:**\n",
    "Biểu đồ pairplot này cung cấp một cái nhìn toàn diện về mối quan hệ giữa các yếu tố nguy cơ và tình trạng đái tháo đường. "
   ]
  },
  {
   "cell_type": "code",
   "execution_count": null,
   "id": "64fa26ae",
   "metadata": {},
   "outputs": [],
   "source": [
    "# Vẽ pairplot để phân tích mối quan hệ đa biến\n",
    "plt.figure(figsize=(12, 10))\n",
    "sns.pairplot(data, hue='Outcome', palette='deep', diag_kind='hist')\n",
    "plt.suptitle('Mối quan hệ đa biến giữa các thuộc tính theo trạng thái đái tháo đường', y=1.02)\n",
    "plt.show()"
   ]
  },
  {
   "cell_type": "markdown",
   "id": "56660091",
   "metadata": {},
   "source": [
    "**Nhận xét:**\n",
    "\n",
    "1. Glucose (Đường huyết)\n",
    "    Quan sát: Có sự phân tách rõ ràng giữa 2 nhóm\n",
    "    Ý nghĩa: Những người có glucose cao (>120-140 mg/dL) có xu hướng mắc đái tháo đường\n",
    "    Kết luận: Glucose là yếu tố dự đoán mạnh nhất\n",
    "\n",
    "2. BMI (Chỉ số khối cơ thể)\n",
    "    Quan sát: Nhóm bị đái tháo đường có BMI cao hơn\n",
    "    Ý nghĩa: Thể trọng tăng là yếu tố nguy cơ quan trọng\n",
    "    Kết luận: BMI > 30 tăng nguy cơ đáng kể\n",
    "\n",
    "3. Age (Tuổi)\n",
    "    Quan sát: Tần suất bệnh tăng theo tuổi\n",
    "    Ý nghĩa: Tuổi tác là yếu tố nguy cơ tự nhiên\n",
    "    Kết luận: Người trên 40 tuổi có nguy cơ cao hơn\n",
    "\n",
    "4. Pregnancies (Số lần mang thai)\n",
    "    Quan sát: Có mối liên hệ với bệnh ở phụ nữ\n",
    "    Ý nghĩa: Đái tháo đường thai kỳ có thể dẫn đến đái tháo đường type 2\n",
    "    Kết luận: Nhiều lần mang thai tăng nguy cơ\n",
    "\n",
    "5. DiabetesPedigreeFunction (Yếu tố di truyền)\n",
    "    Quan sát: Phân bố khác biệt giữa 2 nhóm\n",
    "    Ý nghĩa: Tiền sử gia đình ảnh hưởng đến nguy cơ\n",
    "    Kết luận: Di truyền là yếu tố quan trọng\n",
    "\n",
    "**Mối quan hệ giữa các biến:**\n",
    "- Tương quan tích cực mạnh:\n",
    "Glucose - Outcome: Mối liên hệ mạnh nhất\n",
    "BMI - SkinThickness: Thể hiện tình trạng béo phì\n",
    "Age - Pregnancies: Tự nhiên theo thời gian\n",
    "\n",
    "- Tương quan yếu hoặc không đáng kể:\n",
    "BloodPressure: Không phân biệt rõ ràng giữa 2 nhóm\n",
    "SkinThickness: Có xu hướng nhưng không mạnh\n",
    "Insulin: Phân tán nhiều, khó phân biệt\n",
    "\n",
    "**Ý nghĩa lâm sàng:**\n",
    "- Chẩn đoán và sàng lọc:\n",
    "Glucose là chỉ số quan trọng nhất để chẩn đoán\n",
    "BMI giúp đánh giá nguy cơ\n",
    "Age và Pregnancies là yếu tố nguy cơ bổ sung\n",
    "\n",
    "- Dự phòng:\n",
    "Kiểm soát cân nặng (BMI)\n",
    "Theo dõi đường huyết định kỳ\n",
    "Chú ý đặc biệt với phụ nữ có nhiều lần mang thai\n",
    "Tầm soát sớm ở người có tiền sử gia đình\n",
    "\n",
    "***Kết luận tổng thể:***\n",
    "Biểu đồ pairplot cho thấy Glucose, BMI, và Age là ba yếu tố quan trọng nhất trong việc dự đoán đái tháo đường. Sự kết hợp của nhiều yếu tố sẽ cho độ chính xác cao hơn so với chỉ dựa vào một yếu tố đơn lẻ. Điều này hỗ trợ việc phát triển các mô hình machine learning để dự đoán và chẩn đoán bệnh đái tháo đường."
   ]
  },
  {
   "cell_type": "markdown",
   "id": "94a261f9",
   "metadata": {},
   "source": [
    "#### (2) Biểu đồ scatter giữa Glucose và BMI (tiêu biểu)"
   ]
  },
  {
   "cell_type": "markdown",
   "id": "c662048b",
   "metadata": {},
   "source": [
    "***Phân tích biểu đồ Scatter***\n",
    "**Ý nghĩa của biểu đồ Scatter Plot**\n",
    "- Scatter plot (biểu đồ phân tán) hiển thị mối quan hệ giữa hai biến liên tục - trong trường hợp này là Glucose (đường huyết) và BMI (chỉ số khối cơ thể). Màu sắc phân biệt giữa hai nhóm:\n",
    "    - Màu xanh (0): Không bị đái tháo đường\n",
    "    - Màu cam (1): Bị đái tháo đường"
   ]
  },
  {
   "cell_type": "code",
   "execution_count": null,
   "id": "48061761",
   "metadata": {},
   "outputs": [],
   "source": [
    "# Biểu đồ scatter giữa Glucose và BMI\n",
    "plt.figure(figsize=(8, 5))\n",
    "sns.scatterplot(x='Glucose', y='BMI', hue='Outcome', data=data)\n",
    "plt.title('Mối quan hệ giữa Glucose và BMI theo trạng thái đái tháo đường')\n",
    "plt.xlabel('Glucose (mg/dl)')\n",
    "plt.ylabel('BMI (kg/m²)')\n",
    "plt.show()"
   ]
  },
  {
   "cell_type": "markdown",
   "id": "fce4d75c",
   "metadata": {},
   "source": [
    "**Phân tích chi tiết các vùng trên biểu đồ**\n",
    "- Vùng 1: Glucose thấp (< 100 mg/dl) - BMI thấp (< 25)\n",
    "    Đặc điểm: Chủ yếu là điểm màu xanh (không bị bệnh)\n",
    "    Ý nghĩa: Vùng \"an toàn\" - ít nguy cơ đái tháo đường nhất\n",
    "    Khuyến nghị: Duy trì lối sống lành mạnh để giữ ở mức này\n",
    "\n",
    "- Vùng 2: Glucose cao (> 126 mg/dl) - BMI cao (> 30)\n",
    "    Đặc điểm: Tập trung nhiều điểm màu cam (bị bệnh)\n",
    "    Ý nghĩa: Vùng \"nguy hiểm\" - nguy cơ cao nhất\n",
    "    Khuyến nghị: Cần can thiệp y tế tích cực, kiểm soát cả đường huyết và cân nặng\n",
    "\n",
    "- Vùng 3: Glucose trung bình (100-126 mg/dl) - BMI trung bình (25-30)\n",
    "    Đặc điểm: Hỗn hợp cả hai màu, nhưng có xu hướng tăng màu cam\n",
    "    Ý nghĩa: Vùng \"cảnh báo\" - tiền đái tháo đường\n",
    "    Khuyến nghị: Theo dõi sát, thay đổi lối sống để phòng ngừa"
   ]
  },
  {
   "cell_type": "markdown",
   "id": "5377e86a",
   "metadata": {},
   "source": [
    "### 4.5 Thuật toán học ADAP để dự đoán sự khởi phát của bệnh đái tháo đường"
   ]
  },
  {
   "cell_type": "markdown",
   "id": "53559f06",
   "metadata": {},
   "source": [
    "#### (1) Bối cảnh và Tầm Quan trọng"
   ]
  },
  {
   "cell_type": "markdown",
   "id": "676be497",
   "metadata": {},
   "source": [
    "- Dữ liệu nghiên cứu: Nghiên cứu sử dụng dữ liệu từ dân số Pima Indian, được theo dõi từ năm 1965 bởi National Institute of Diabetes and Digestive and Kidney Diseases (NIDDK). Dân số này có tỷ lệ đái tháo đường cao, đặc biệt là loại không phụ thuộc insulin (NIDDM), do yếu tố di truyền và lối sống.\n",
    "- Thách thức: Các phương pháp thống kê truyền thống thường thất bại khi dữ liệu có mẫu nhỏ, mối quan hệ hàm phức tạp, hoặc tương tác đa biến không rõ ràng. ADAP nổi bật nhờ khả năng học từ dữ liệu và điều chỉnh dự đoán dựa trên sai số.\n",
    "- Mục tiêu: Dự đoán sự khởi phát đái tháo đường trong 5 năm dựa trên 8 biến số (số lần mang thai, nồng độ glucose huyết tương, huyết áp, độ dày nếp gấp da, insulin huyết thanh, chỉ số khối cơ thể, hàm số pedigree đái tháo đường, và tuổi)."
   ]
  },
  {
   "cell_type": "markdown",
   "id": "1f91e213",
   "metadata": {},
   "source": [
    "#### (2) ADAP là gì?"
   ]
  },
  {
   "cell_type": "markdown",
   "id": "5654e63f",
   "metadata": {},
   "source": [
    "- ADAP là một thuật toán học thích nghi, mô phỏng các thiết bị giống perceptron, được thiết kế để tạo ra các mô hình \"phân vùng\" đặc biệt cho từng vấn đề cụ thể. Nó học bằng cách điều chỉnh nội bộ khi dự đoán sai, dựa trên sai số giữa giá trị dự đoán và giá trị thực tế.\n",
    "- Quy trình hoạt động:\n",
    "\n",
    "    - Đào tạo: Sử dụng 576 trường hợp để ADAP học mẫu từ 8 biến số.\n",
    "    - Dự đoán: Áp dụng trên 192 trường hợp kiểm tra để dự đoán nguy cơ đái tháo đường trong 5 năm.\n",
    "    - Điều chỉnh: So sánh kết quả dự đoán với thực tế, điều chỉnh nội bộ để cải thiện độ chính xác.\n",
    "\n",
    "- Đặc điểm nổi bật: ADAP không yêu cầu giả định về mối quan hệ hàm (khác với hồi quy), phù hợp với dữ liệu y tế phức tạp."
   ]
  },
  {
   "cell_type": "markdown",
   "id": "0b65f29e",
   "metadata": {},
   "source": [
    "#### (3) Dữ liệu và Biến số Nhập vào: *đã miêu tả ở phần 1 gồm 8 thuộc tính*"
   ]
  },
  {
   "cell_type": "markdown",
   "id": "9f16fa10",
   "metadata": {},
   "source": [
    "- Hàm số DPF được định nghĩa:\n",
    "$ DPF = \\frac{\\sum v_i (88 - ADM_i) + 20}{\\sum K_j (ACL_j - 14) + 50} $\n",
    "\n",
    "    - $ v_i $: Tỷ lệ gen chung với họ hàng đã mắc đái tháo đường.\n",
    "    - $ ADM_i $: Tuổi họ hàng khi được chẩn đoán.\n",
    "    - $ K_j $: Tỷ lệ gen chung với họ hàng chưa mắc.\n",
    "    - $ ACL_j $: Tuổi họ hàng ở lần kiểm tra cuối cùng không đái tháo đường."
   ]
  },
  {
   "cell_type": "markdown",
   "id": "358148dd",
   "metadata": {},
   "source": [
    "#### (5) Kết quả và Đánh giá"
   ]
  },
  {
   "cell_type": "markdown",
   "id": "5e01beb6",
   "metadata": {},
   "source": [
    "- Hiệu suất: ADAP đạt độ nhạy (sensitivity) và độ đặc hiệu (specificity) 76% trên 192 trường hợp kiểm tra, với điểm cắt (cutoff) 0.448. Điều này có nghĩa là thuật toán dự đoán đúng 76% trường hợp mắc và không mắc bệnh.\n",
    "- Đường cong ROC: Được sử dụng để đánh giá hiệu quả phân loại, cho thấy ADAP có khả năng phân biệt tốt giữa các nhóm.\n",
    "- So sánh: Nghiên cứu đang so sánh ADAP với hồi quy logistic và perceptron tuyến tính để kiểm tra độ ưu việt."
   ]
  },
  {
   "cell_type": "markdown",
   "id": "c8b09522",
   "metadata": {},
   "source": [
    "#### (6) Ứng dụng Thực tế"
   ]
  },
  {
   "cell_type": "markdown",
   "id": "2329ff8f",
   "metadata": {},
   "source": [
    "\n",
    "- Y tế dự phòng: ADAP có thể được tích hợp vào hệ thống y tế để sàng lọc sớm nguy cơ đái tháo đường, đặc biệt ở các cộng đồng có nguy cơ cao.\n",
    "- Cá nhân hóa: Dựa trên dữ liệu cá nhân (8 biến số), bác sĩ có thể đưa ra kế hoạch can thiệp (chế độ ăn, tập luyện) trước khi bệnh phát triển.\n",
    "- Nghiên cứu thêm: Kết hợp ADAP với dữ liệu di truyền hiện đại (genomics) để nâng cao độ chính xác."
   ]
  },
  {
   "cell_type": "markdown",
   "id": "11902f59",
   "metadata": {},
   "source": [
    "#### (7) Ưu điểm và Hạn chế"
   ]
  },
  {
   "cell_type": "markdown",
   "id": "bf5aa170",
   "metadata": {},
   "source": [
    "**Ưu điểm:**\n",
    "\n",
    "- Linh hoạt với dữ liệu phức tạp.\n",
    "- Không yêu cầu giả định thống kê nghiêm ngặt.\n",
    "- Tiềm năng cải thiện với dữ liệu lớn hơn.\n",
    "\n",
    "**Hạn chế:**\n",
    "\n",
    "- Yêu cầu dữ liệu chất lượng cao để đào tạo.\n",
    "- Hiệu suất 76% vẫn chưa tối ưu, cần cải tiến.\n",
    "- Chưa được kiểm chứng rộng rãi ngoài dân số Pima."
   ]
  },
  {
   "cell_type": "markdown",
   "id": "c067550e",
   "metadata": {},
   "source": [
    "### 4.6 Mô phỏng và trực quan hóa\n",
    "**Mô hình:**\n",
    "- Sử dụng mô hình Logistic Regression để tính và vẽ đường cong ROC, cũng như tính sensitivity và specificity với ngưỡng cắt 0.448 – một thông số được đề cập trong nghiên cứu ADAP.\n",
    "\n",
    "**Mục tiêu:**\n",
    "- Mục tiêu là mô phỏng và so sánh hiệu suất dự đoán với kết quả mà ADAP đã đạt được (76% sensitivity và specificity trên 192 mẫu kiểm tra).\n",
    "\n",
    "**Ý nghĩa:**\n",
    "- Là một cách để tái hiện và kiểm tra các phương pháp đánh giá từ ADAP, nhưng nó không phải là đánh giá trực tiếp mô hình ADAP."
   ]
  },
  {
   "cell_type": "markdown",
   "id": "7e2d0e1e",
   "metadata": {},
   "source": [
    "Chia dữ liệu và huấn luyện mô hình cơ bản"
   ]
  },
  {
   "cell_type": "markdown",
   "id": "ccad84cd",
   "metadata": {},
   "source": [
    " Giới thiệu `train_test_split` và `LogisticRegression`\n",
    " - **`train_test_split` (từ sklearn.model_selection)**  \n",
    "  - Dùng để **chia dữ liệu** thành 2 (hoặc nhiều) tập:  \n",
    "    - **Training set**: dùng để huấn luyện mô hình.  \n",
    "    - **Testing set**: dùng để đánh giá hiệu suất mô hình trên dữ liệu chưa từng thấy.  \n",
    "  - Giúp kiểm tra khả năng **tổng quát hóa (generalization)** của mô hình, tránh overfitting.  \n",
    "  - Thông số thường dùng:  \n",
    "    - `test_size=0.2`: 20% dữ liệu làm tập test.  \n",
    "    - `random_state=42`: đảm bảo kết quả chia cố định (tái lặp được).  \n"
   ]
  },
  {
   "cell_type": "code",
   "execution_count": null,
   "id": "bc8efa8e",
   "metadata": {},
   "outputs": [],
   "source": [
    "from sklearn.model_selection import train_test_split\n",
    "from sklearn.linear_model import LogisticRegression"
   ]
  },
  {
   "cell_type": "code",
   "execution_count": null,
   "id": "aafb333e",
   "metadata": {},
   "outputs": [],
   "source": [
    "# Chia dữ liệu thành tập huấn luyện và kiểm tra\n",
    "X = data_scaled.drop('Outcome', axis=1) # Các biến đầu vào (8 biến)\n",
    "y = data_scaled['Outcome'] # Biến mục tiêu (Outcome)\n",
    "X_train, X_test, y_train, y_test = train_test_split(X, y, test_size=0.25, random_state=42) # Chia 75% huấn luyện, 25% kiểm tra\n",
    "\n",
    "# Huấn luyện mô hình Logistic Regression\n",
    "model = LogisticRegression(max_iter=1000) # Tăng max_iter để đảm bảo hội tụ\n",
    "model.fit(X_train, y_train) # Huấn luyện mô hình\n",
    "\n",
    "# Dự đoán xác suất\n",
    "y_prob = model.predict_proba(X_test)[:, 1] # Lấy xác suất của lớp 1 (có đái tháo đường)\n"
   ]
  },
  {
   "cell_type": "markdown",
   "id": "293ccd83",
   "metadata": {},
   "source": [
    "**Giải thích:**\n",
    "- Sử dụng Logistic Regression để mô phỏng, tương tự như cách ADAP tạo giá trị thực từ 0 đến 1, với ngưỡng cắt 0.448 như trong nghiên cứu."
   ]
  },
  {
   "cell_type": "markdown",
   "id": "c95265f0",
   "metadata": {},
   "source": [
    "Tính và vẽ đường cong ROC"
   ]
  },
  {
   "cell_type": "markdown",
   "id": "352d89a6",
   "metadata": {},
   "source": [
    "***Giới thiệu về ROC Curve và AUC***\n",
    "**ROC Curve (Receiver Operating Characteristic)**\n",
    "- ROC Curve là một công cụ đánh giá hiệu suất quan trọng trong machine learning, đặc biệt cho các bài toán phân loại nhị phân (binary classification). Đường cong này thể hiện mối quan hệ giữa:\n",
    "    - Trục Y (True Positive Rate - TPR): Độ nhạy (Sensitivity) = TP / (TP + FN)\n",
    "    - Trục X (False Positive Rate - FPR): 1 - Độ đặc hiệu (Specificity) = FP / (FP + TN)\n",
    "\n",
    "**AUC (Area Under the Curve)**\n",
    "- AUC là diện tích dưới đường cong ROC, có giá trị từ 0 đến 1:\n",
    "    - AUC = 1.0: Mô hình hoàn hảo\n",
    "    - AUC = 0.5: Mô hình ngẫu nhiên (không có khả năng phân biệt)\n",
    "    - AUC < 0.5: Mô hình tệ hơn dự đoán ngẫu nhiên"
   ]
  },
  {
   "cell_type": "code",
   "execution_count": null,
   "id": "dcc2e2c9",
   "metadata": {},
   "outputs": [],
   "source": [
    "from sklearn.metrics import confusion_matrix\n",
    "from sklearn.metrics import roc_curve, auc"
   ]
  },
  {
   "cell_type": "code",
   "execution_count": null,
   "id": "d76b325c",
   "metadata": {},
   "outputs": [],
   "source": [
    "# Tính ROC curve và AUC\n",
    "fpr, tpr, thresholds = roc_curve(y_test, y_prob)\n",
    "roc_auc = auc(fpr, tpr)\n",
    "\n",
    "# Vẽ ROC curve\n",
    "plt.figure(figsize=(8, 5))\n",
    "plt.plot(fpr, tpr, color='darkorange', lw=2, label=f'ROC curve (AUC = {roc_auc:.2f})')\n",
    "plt.plot([0, 1], [0, 1], color='navy', lw=2, linestyle='--', label='Random guess')\n",
    "plt.xlim([0.0, 1.0])\n",
    "plt.ylim([0.0, 1.05])\n",
    "plt.xlabel('False Positive Rate (1 - Specificity)')\n",
    "plt.ylabel('True Positive Rate (Sensitivity)')\n",
    "plt.title('Receiver Operating Characteristic (ROC) Curve')\n",
    "plt.legend(loc=\"lower right\")\n",
    "plt.show()"
   ]
  },
  {
   "cell_type": "markdown",
   "id": "19f2b94b",
   "metadata": {},
   "source": [
    "**Phân tích kết quả từ biểu đồ (AUC = 0.80)**\n",
    "Đánh giá chất lượng mô hình:\n",
    "- Điểm mạnh:\n",
    "    - AUC = 0.80: Mô hình có hiệu suất tốt (Good performance)\n",
    "    - Đường cong cong lên phía trên: Cho thấy mô hình tốt hơn dự đoán ngẫu nhiên\n",
    "    - Tăng nhanh ở đầu: TPR tăng nhanh khi FPR còn thấp\n",
    "\n",
    "**Ứng dụng trong chẩn đoán đái tháo đường**\n",
    "- Lợi ích của AUC = 0.80:\n",
    "    - Sàng lọc cộng đồng:\n",
    "    - Có thể phát hiện 80% ca bệnh với tỷ lệ dương tính giả chấp nhận được\n",
    "    - Giảm tải cho hệ thống y tế\n",
    "\n",
    "- Hỗ trợ bác sĩ:\n",
    "    - Cung cấp thông tin bổ sung cho quyết định lâm sàng\n",
    "    - Không thay thế nhưng hỗ trợ chẩn đoán\n",
    "\n",
    "- Theo dõi nguy cơ:\n",
    "    - Phân tầng bệnh nhân theo mức độ nguy cơ\n",
    "    - Lên kế hoạch can thiệp sớm"
   ]
  },
  {
   "cell_type": "markdown",
   "id": "6eb2c88d",
   "metadata": {},
   "source": [
    "Tính sensitivity và specificity"
   ]
  },
  {
   "cell_type": "code",
   "execution_count": null,
   "id": "d8d590b6",
   "metadata": {},
   "outputs": [],
   "source": [
    "# Tính dự đoán với ngưỡng 0.448 (theo paper2.pdf)\n",
    "y_pred = (y_prob >= 0.448).astype(int)\n",
    "\n",
    "# Tính ma trận nhầm lẫn\n",
    "# Ma trận nhầm lẫn là một bảng tóm tắt hiệu suất của mô hình phân loại.\n",
    "# Nó hiển thị số lượng dự đoán đúng và sai cho mỗi lớp.\n",
    "# Từ ma trận nhầm lẫn, ta có thể tính sensitivity và specificity\n",
    "conf_matrix = confusion_matrix(y_test, y_pred)\n",
    "tn, fp, fn, tp = conf_matrix.ravel()\n",
    "# ý nghĩa:\n",
    "# tn: true negative (dự đoán âm tính đúng)\n",
    "# fp: false positive (dự đoán dương tính sai)\n",
    "# fn: false negative (dự đoán âm tính sai)\n",
    "# tp: true positive (dự đoán dương tính đúng)\n",
    "\n",
    "# Tính sensitivity và specificity\n",
    "sensitivity = tp / (tp + fn)  # Độ nhạy: Tỷ lệ dự đoán đúng các ca dương tính\n",
    "specificity = tn / (tn + fp)  # Độ đặc hiệu: Tỷ lệ dự đoán đúng các ca âm tính\n",
    "\n",
    "print(f\"\\nMa trận nhầm lẫn:\")\n",
    "print(conf_matrix)\n",
    "print(f\"Sensitivity (Độ nhạy): {sensitivity:.2f}\")\n",
    "print(f\"Specificity (Độ đặc hiệu): {specificity:.2f}\")"
   ]
  },
  {
   "cell_type": "markdown",
   "id": "51ab41ca",
   "metadata": {},
   "source": [
    "**Nhận xét:**\n",
    "\n",
    "- Sensitivity và specificity được tính dựa trên ma trận nhầm lẫn, tương tự phương pháp trong paper2. Kết quả kỳ vọng gần 76%, phù hợp với nghiên cứu ADAP.\n",
    "- Nếu kết quả thấp hơn, có thể cần điều chỉnh ngưỡng hoặc sử dụng mô hình phức tạp hơn."
   ]
  }
 ],
 "metadata": {
  "kernelspec": {
   "display_name": "Python 3",
   "language": "python",
   "name": "python3"
  },
  "language_info": {
   "codemirror_mode": {
    "name": "ipython",
    "version": 3
   },
   "file_extension": ".py",
   "mimetype": "text/x-python",
   "name": "python",
   "nbconvert_exporter": "python",
   "pygments_lexer": "ipython3",
   "version": "3.11.9"
  }
 },
 "nbformat": 4,
 "nbformat_minor": 5
}
