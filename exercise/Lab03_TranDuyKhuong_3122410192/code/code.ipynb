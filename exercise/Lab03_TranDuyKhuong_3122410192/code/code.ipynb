{
 "cells": [
  {
   "cell_type": "markdown",
   "id": "fd6178c6",
   "metadata": {},
   "source": [
    "## Bệnh đái tháo đường ở nữ giới Pima Indian"
   ]
  },
  {
   "cell_type": "markdown",
   "id": "4142e852",
   "metadata": {},
   "source": [
    "### 1. Định nghĩa vấn đề"
   ]
  },
  {
   "cell_type": "markdown",
   "id": "b5259274",
   "metadata": {},
   "source": [
    "* Phân tích vấn đề:\n",
    "- Người da đỏ Pima tại Arizona có tỷ lệ mắc tiểu đường type 2 rất cao.\n",
    "- Viện Quốc gia về Bệnh tiểu đường, Tiêu hóa và Thận (NIDDK) đã nghiên cứu liên tục từ 1965.\n",
    "- Bệnh tiểu đường được chẩn đoán theo WHO: glucose huyết tương ≥ 200 mg/dL sau 2 giờ OGTT hoặc được phát hiện trong chăm sóc y tế thường quy.\n",
    "- Mục tiêu: xây dựng mô hình dự báo khả năng mắc bệnh tiểu đường trong vòng 5 năm, dựa trên các yếu tố nguy cơ.\n",
    "\n",
    "* Mô tả: \n",
    " Dataset Pima Indians Diabetes chứa thông tin của 768 bệnh nhân nữ, ít nhất 21 tuổi, thuộc cộng đồng Pima Indian gần Phoenix, Arizona, USA. Mục tiêu là dự đoán xem một bệnh nhân có bị đái tháo đường (Class = 1) hay không (Class = 0) dựa trên 8 thuộc tính y tế.\n",
    "\n",
    "* Dữ liệu vào:\n",
    "   1. Pregnancies: Số lần mang thai, phản ánh tiền sử sinh sản có thể liên quan đến nguy cơ đái tháo đường.\n",
    "   2. Glucose: Nồng độ glucose huyết tương sau 2 giờ trong bài kiểm tra dung nạp glucose (mg/dl), chỉ số quan trọng để chẩn đoán đái tháo đường.\n",
    "   3. BloodPressure: Huyết áp tâm thu (mm Hg), đo áp lực máu khi tim giãn ra, liên quan đến sức khỏe tim mạch.\n",
    "   4. SkinThickness: Độ dày nếp gấp da tay (mm), đại diện cho lượng mỡ dưới da, một yếu tố liên quan đến béo phì.\n",
    "   5. Insulin: Mức insulin huyết thanh sau 2 giờ (mu U/ml), phản ánh khả năng sản xuất insulin của cơ thể.\n",
    "   6. BMI: Chỉ số khối cơ thể (kg/m²), đo lường mức độ béo phì, một yếu tố nguy cơ lớn của đái tháo đường loại 2.\n",
    "   7. DiabetesPedigreeFunction: Hàm phả hệ đái tháo đường, đánh giá nguy cơ di truyền dựa trên lịch sử gia đình.\n",
    "   8. Age: Tuổi (năm), ảnh hưởng đến nguy cơ mắc bệnh do sự lão hóa.\n",
    "   9. Outcome: Biến lớp (0: Không đái tháo đường, 1: Có đái tháo đường), mục tiêu chính của phân tích.\n",
    "    \n",
    "    - Trong đó  Hàm phả hệ đái tháo đường(DPF):\n",
    "        $$\n",
    "        + DPF = \\frac{\\sum_i K_i (88 - ADM_i) + 20}{\\sum_j K_j (ALC_j - 14) + 50}\n",
    "        $$\n",
    "        + Được xây dựng để lượng hóa yếu tố di truyền dựa trên tiền sử bệnh tiểu đường của cha mẹ, ông bà, anh chị em, họ hàng gần.\n",
    "        + DPF tăng khi số lượng thân nhân mắc bệnh tăng, tuổi mắc bệnh trẻ hơn, và mức độ quan hệ huyết thống gần.\n",
    "        + DPF giảm khi thân nhân không mắc bệnh và có tuổi thọ cao.\n",
    "\n",
    "* Lựa chọn trường hợp:\n",
    "    - Tiêu chí:\n",
    "        + Nữ, ≥ 21 tuổi, OGTT ban đầu không bị tiểu đường.\n",
    "    - Sau 5 năm:\n",
    "        + Hoặc phát hiện tiểu đường (positive case).\n",
    "        + Hoặc kiểm tra lại ≥ 5 năm sau vẫn không mắc (negative case).\n",
    "        + Loại bỏ trường hợp phát hiện tiểu đường trong vòng < 1 năm (do quá dễ dự báo).\n",
    "    - Tổng số mẫu: 768\n",
    "        + 576 mẫu cho tập huấn luyện\n",
    "        + 192 mẫu cho tập dự báo (test set).\n",
    "\n",
    "* Hướng giải quyết:\n",
    "    - Sử dụng ADAP (Adaptive Learning Algorithm) – một dạng mô hình học máy dựa trên perceptron, để dự báo khả năng mắc bệnh trong vòng 5 năm.\n",
    "    - Biến đầu vào gồm 8 yếu tố nguy cơ chính + nhãn phân loại (có/không mắc bệnh).\n",
    "\n",
    "* Kết quả (từ nghiên cứu trước đó [Smith et al., 1988]):\n",
    "    - ADAP đưa ra dự đoán dạng xác suất (0–1), sau đó quy đổi thành nhị phân.\n",
    "    - Với cutoff 0.448, mô hình đạt:\n",
    "        + Sensitivity (độ nhạy): ~76%\n",
    "        + Specificity (độ đặc hiệu): ~76%\n",
    "    - Đây là kết quả khá tốt trong bối cảnh dữ liệu y tế thời kỳ đó, và bộ dữ liệu trở thành benchmark nổi tiếng trong cộng đồng Machine Learning.\n",
    "\n",
    "* Kết quả: \n",
    "    - Biến mục tiêu (Outcome): Biến nhị phân (0 hoặc 1) biểu thị trạng thái đái tháo đường\n",
    "        + 0: Không bị đái tháo đường (500 mẫu).\n",
    "        + 1: Bị đái tháo đường (268 mẫu).\n",
    "* Thông tin bổ sung:\n",
    "    - Giá trị thiếu: Dữ liệu có chứa giá trị thiếu, thường được biểu thị bằng 0 trong các cột như Glucose, BloodPressure, SkinThickness, Insulin, và BMI, cần được xử lý trong quá trình phân tích.\n",
    "    - Nghiên cứu trước: Một nghiên cứu trước đây của Smith et al. (1988) sử dụng thuật toán ADAP, đạt độ nhạy (sensitivity) và độ đặc hiệu (specificity) 76% trên 192 mẫu kiểm tra sau khi huấn luyện với 576 mẫu, với ngưỡng cắt 0.448.\n",
    "    - Mục tiêu phân tích: Xây dựng một mô hình dự đoán hiệu quả, so sánh với kết quả ADAP, và khám phá các yếu tố quan trọng ảnh hưởng đến nguy cơ đái tháo đường."
   ]
  },
  {
   "cell_type": "markdown",
   "id": "925ab805",
   "metadata": {},
   "source": [
    "### 2. Chuẩn bị vấn đề"
   ]
  },
  {
   "cell_type": "markdown",
   "id": "c0fbfddd",
   "metadata": {},
   "source": [
    "#### Mô tả vấn đề\n",
    "- Bệnh tiểu đường type 2 có tỷ lệ rất cao trong cộng đồng này.\n",
    "- Việc chẩn đoán chỉ dựa vào tiêu chuẩn WHO OGTT (≥ 200 mg/dL sau 2 giờ) mới cho kết luận rõ ràng, nhưng điều này chỉ xác định khi bệnh đã xuất hiện.\n",
    "- Mục tiêu:\n",
    "    +  Trong phần này, chúng ta sẽ thiết lập môi trường làm việc bằng cách khai báo các thư viện cần thiết, load dataset Pima Indians Diabetes, và giải thích ý nghĩa của từng cột dữ liệu để bạn dễ dàng hiểu rõ giá trị mà chúng mang lại. Đây là bước nền tảng quan trọng để tiến hành phân tích sâu hơn về nguy cơ đái tháo đường trong cộng đồng Pima Indian.\n",
    "    + Nhu cầu đặt ra: dự đoán sớm nguy cơ mắc bệnh tiểu đường trong tương lai dựa trên các yếu tố nguy cơ (tuổi, BMI, insulin, huyết áp, di truyền…).\n",
    "- Dữ liệu:\n",
    "    -  Dataset được cung cấp dưới dạng file pima-indians-diabetes.csv, chứa 768 mẫu với 8 thuộc tính số và 1 biến lớp (Outcome). Dữ liệu có thể chứa giá trị thiếu, cần được xử lý phù hợp. \n",
    "- Thách thức:\n",
    "    + Dữ liệu y tế thường có mối quan hệ phi tuyến phức tạp giữa các biến.\n",
    "    + Có sự hiện diện của missing values và outliers (ví dụ insulin = 0).\n",
    "    + Cần một mô hình dự đoán chính xác nhưng cũng có thể giải thích được trong ngữ cảnh y tế."
   ]
  },
  {
   "cell_type": "markdown",
   "id": "f730ce07",
   "metadata": {},
   "source": [
    "#### 2.1 Khai báo thư viện "
   ]
  },
  {
   "cell_type": "markdown",
   "id": "53c81d7f",
   "metadata": {},
   "source": [
    "- **pandas** là một thư viện mạnh mẽ trong Python, được sử dụng rộng rãi cho **phân tích và xử lý dữ liệu**.\n",
    "- Cung cấp cấu trúc dữ liệu chính:\n",
    "  - **Series**: tương tự như một mảng 1 chiều có nhãn.\n",
    "  - **DataFrame**: bảng dữ liệu 2 chiều (giống Excel hoặc SQL table).\n",
    "- Các tính năng chính:\n",
    "  - Đọc/ghi dữ liệu từ nhiều định dạng (CSV, Excel, SQL, JSON, ...).\n",
    "  - Xử lý dữ liệu: lọc, nhóm, gộp, sắp xếp, thống kê.\n",
    "  - Làm sạch dữ liệu: xử lý missing values, outliers.\n",
    "  - Hỗ trợ tích hợp với NumPy, Matplotlib, Seaborn để trực quan hóa dữ liệu."
   ]
  },
  {
   "cell_type": "code",
   "execution_count": 1,
   "id": "b0627cdb",
   "metadata": {},
   "outputs": [],
   "source": [
    "import pandas as pd"
   ]
  },
  {
   "cell_type": "markdown",
   "id": "9ed398ed",
   "metadata": {},
   "source": [
    "#### 2.2 Nạp dữ liệu"
   ]
  },
  {
   "cell_type": "markdown",
   "id": "337e167e",
   "metadata": {},
   "source": [
    "- Thực hiện việc **nạp dữ liệu gốc** từ file `pima-indians-diabetes.csv` vào Python bằng thư viện `pandas`.  \n",
    "- Do file CSV không chứa tiêu đề cột (header), ta cần **tự gán tên cột** dựa trên mô tả trong tài liệu nghiên cứu gốc.  \n",
    "- Kết quả: dữ liệu được lưu vào một **DataFrame** có cấu trúc rõ ràng, giúp dễ dàng phân tích, trực quan hóa và xây dựng mô hình dự báo."
   ]
  },
  {
   "cell_type": "code",
   "execution_count": 2,
   "id": "984c008f",
   "metadata": {},
   "outputs": [],
   "source": [
    "# Đọc dữ liệu từ file CSV\n",
    "data_path = 'pima-indians-diabetes.csv'  # Đường dẫn tới file dữ liệu\n",
    "\n",
    "# Gán tên cột dựa trên mô tả trong tài liệu\n",
    "column_names = ['Pregnancies', 'Glucose', 'BloodPressure', 'SkinThickness', 'Insulin', 'BMI', 'DiabetesPedigreeFunction', 'Age', 'Outcome'] # Tên các cột\n",
    "\n",
    "# Đọc dữ liệu từ file CSV\n",
    "data = pd.read_csv(data_path, header=None, names=column_names)"
   ]
  },
  {
   "cell_type": "markdown",
   "id": "a8e0e838",
   "metadata": {},
   "source": [
    "#### 2.3 Kiểm tra một số thông tin cơ bản"
   ]
  },
  {
   "cell_type": "markdown",
   "id": "e8292ee0",
   "metadata": {},
   "source": [
    "- Sử dụng các hàm cơ bản của pd đễ hỗ trợ cho chúng ta có một cái nhìn tổng quát về số liệu của file "
   ]
  },
  {
   "cell_type": "code",
   "execution_count": 3,
   "id": "423f630f",
   "metadata": {},
   "outputs": [
    {
     "name": "stdout",
     "output_type": "stream",
     "text": [
      "5 dòng đầu của dữ liệu:\n",
      "   Pregnancies  Glucose  BloodPressure  SkinThickness  Insulin   BMI  \\\n",
      "0            6      148             72             35        0  33.6   \n",
      "1            1       85             66             29        0  26.6   \n",
      "2            8      183             64              0        0  23.3   \n",
      "3            1       89             66             23       94  28.1   \n",
      "4            0      137             40             35      168  43.1   \n",
      "\n",
      "   DiabetesPedigreeFunction  Age  Outcome  \n",
      "0                     0.627   50        1  \n",
      "1                     0.351   31        0  \n",
      "2                     0.672   32        1  \n",
      "3                     0.167   21        0  \n",
      "4                     2.288   33        1  \n"
     ]
    }
   ],
   "source": [
    "# Hiển thị 5 dòng đầu để kiểm tra\n",
    "print(\"5 dòng đầu của dữ liệu:\")\n",
    "print(data.head())"
   ]
  },
  {
   "cell_type": "code",
   "execution_count": 4,
   "id": "76df1304",
   "metadata": {},
   "outputs": [
    {
     "data": {
      "text/plain": [
       "Pregnancies                 111\n",
       "Glucose                       5\n",
       "BloodPressure                35\n",
       "SkinThickness               227\n",
       "Insulin                     374\n",
       "BMI                          11\n",
       "DiabetesPedigreeFunction      0\n",
       "Age                           0\n",
       "Outcome                     500\n",
       "dtype: int64"
      ]
     },
     "execution_count": 4,
     "metadata": {},
     "output_type": "execute_result"
    }
   ],
   "source": [
    "(data==0).sum()"
   ]
  },
  {
   "cell_type": "markdown",
   "id": "e5f62c9d",
   "metadata": {},
   "source": [
    "- **Nhận xét về dữ liệu có giá trị 0:**  \n",
    "   1. Pregnancies (111 giá trị 0):\n",
    "      + 0 lần mang thai là hợp lý (có những phụ nữ chưa từng mang thai).\n",
    "      + Không cần xử lý coi là missing.\n",
    "   2. Glucose (5 giá trị 0):\n",
    "      + Về mặt y khoa, glucose máu không thể = 0.\n",
    "      + Đây là giá trị bất thường → coi là dữ liệu thiếu.\n",
    "   3. BloodPressure (35 giá trị 0):\n",
    "      + Huyết áp tâm trương không thể = 0.\n",
    "      + Các giá trị này là missing values cần xử lý\n",
    "   4. SkinThickness (227 giá trị 0):\n",
    "      + 0 mm nếp gấp da là không hợp lý.\n",
    "      + Đây là một biến có nhiều thiếu dữ liệu (≈ 30% dữ liệu).\n",
    "   5. Insulin (374 giá trị 0):\n",
    "      + 0 µU/mL insulin là không thực tế.\n",
    "      + Biến này có nhiều dữ liệu thiếu nhất (≈ 49%).\n",
    "   6. BMI (11 giá trị 0):\n",
    "      + BMI = 0 là bất hợp lý.\n",
    "      + Một số ít dữ liệu cần xử lý missing.\n",
    "   7. DiabetesPedigreeFunction (0 giá trị 0):\n",
    "      + Không có giá trị 0, dữ liệu đầy đủ.\n",
    "   8. Age (0 giá trị 0):\n",
    "      + Không có giá trị 0, dữ liệu đầy đủ.\n",
    "   9. Outcome (500 giá trị 0):\n",
    "      + Đây là biến nhãn (class):\n",
    "         + 0 = không mắc tiểu đường (500 mẫu).\n",
    "         + 1 = mắc tiểu đường (268 mẫu).\n",
    "      + Đây không phải dữ liệu thiếu mà là nhãn hợp lệ."
   ]
  },
  {
   "cell_type": "code",
   "execution_count": 5,
   "id": "8aa31b25",
   "metadata": {},
   "outputs": [
    {
     "name": "stdout",
     "output_type": "stream",
     "text": [
      "<class 'pandas.core.frame.DataFrame'>\n",
      "RangeIndex: 768 entries, 0 to 767\n",
      "Data columns (total 9 columns):\n",
      " #   Column                    Non-Null Count  Dtype  \n",
      "---  ------                    --------------  -----  \n",
      " 0   Pregnancies               768 non-null    int64  \n",
      " 1   Glucose                   768 non-null    int64  \n",
      " 2   BloodPressure             768 non-null    int64  \n",
      " 3   SkinThickness             768 non-null    int64  \n",
      " 4   Insulin                   768 non-null    int64  \n",
      " 5   BMI                       768 non-null    float64\n",
      " 6   DiabetesPedigreeFunction  768 non-null    float64\n",
      " 7   Age                       768 non-null    int64  \n",
      " 8   Outcome                   768 non-null    int64  \n",
      "dtypes: float64(2), int64(7)\n",
      "memory usage: 54.1 KB\n",
      "None\n"
     ]
    }
   ],
   "source": [
    "# Hiển thị thông tin cơ bản về dữ liệu\n",
    "print(data.info())"
   ]
  },
  {
   "cell_type": "markdown",
   "id": "52e7007a",
   "metadata": {},
   "source": [
    "- Nhận xét sơ bộ\n",
    "- **Cấu trúc dữ liệu:**  \n",
    "   - Tổng cộng **767 dòng × 9 cột**.  \n",
    "   - Tất cả các biến đều dạng số (`int` hoặc `float`). "
   ]
  },
  {
   "cell_type": "code",
   "execution_count": 6,
   "id": "dc32f062",
   "metadata": {},
   "outputs": [
    {
     "name": "stdout",
     "output_type": "stream",
     "text": [
      "       Pregnancies     Glucose  BloodPressure  SkinThickness     Insulin  \\\n",
      "count   768.000000  768.000000     768.000000     768.000000  768.000000   \n",
      "mean      3.845052  120.894531      69.105469      20.536458   79.799479   \n",
      "std       3.369578   31.972618      19.355807      15.952218  115.244002   \n",
      "min       0.000000    0.000000       0.000000       0.000000    0.000000   \n",
      "25%       1.000000   99.000000      62.000000       0.000000    0.000000   \n",
      "50%       3.000000  117.000000      72.000000      23.000000   30.500000   \n",
      "75%       6.000000  140.250000      80.000000      32.000000  127.250000   \n",
      "max      17.000000  199.000000     122.000000      99.000000  846.000000   \n",
      "\n",
      "              BMI  DiabetesPedigreeFunction         Age     Outcome  \n",
      "count  768.000000                768.000000  768.000000  768.000000  \n",
      "mean    31.992578                  0.471876   33.240885    0.348958  \n",
      "std      7.884160                  0.331329   11.760232    0.476951  \n",
      "min      0.000000                  0.078000   21.000000    0.000000  \n",
      "25%     27.300000                  0.243750   24.000000    0.000000  \n",
      "50%     32.000000                  0.372500   29.000000    0.000000  \n",
      "75%     36.600000                  0.626250   41.000000    1.000000  \n",
      "max     67.100000                  2.420000   81.000000    1.000000  \n"
     ]
    }
   ],
   "source": [
    "# Thống kê mô tả\n",
    "print(data.describe())"
   ]
  },
  {
   "cell_type": "markdown",
   "id": "12d4e68d",
   "metadata": {},
   "source": [
    "- Các thống kê mô tả chính và ý nghĩa:\n",
    "    + count: số lượng mẫu dữ liệu (ở đây tất cả cột = 768).\n",
    "    + mean: giá trị trung bình.\n",
    "    + std: độ lệch chuẩn → mức độ phân tán quanh trung bình.\n",
    "    + min, max: giá trị nhỏ nhất và lớn nhất.\n",
    "    + 25%, 50%, 75% (quartiles): các mốc phân vị → dùng để đánh giá sự phân phối dữ liệu."
   ]
  },
  {
   "cell_type": "markdown",
   "id": "b253e0f9",
   "metadata": {},
   "source": [
    "- Chỉ số đo lường sự biến động (Dispersion):\n",
    "    + std (độ lệch chuẩn):\n",
    "        + Glucose: 32 → biến thiên khá lớn, thể hiện sự khác biệt giữa người khỏe mạnh và người có nguy cơ cao.\n",
    "        + Insulin: 115, lớn hơn cả mean (~80) → chứng tỏ dữ liệu rất phân tán và nhiều ngoại lệ.\n",
    "        + BMI: 7.88 → tương đối ổn định, dao động vừa phải.\n",
    "        + Age: 11.8 → đa dạng độ tuổi, từ 21 đến 81 tuổi.\n",
    "- Khoảng (range = max - min):\n",
    "    + Pregnancies: 0–17, cho thấy có vài trường hợp đặc biệt mang thai rất nhiều lần.\n",
    "    + Insulin: 0–846, cực kỳ phân tán → cần chuẩn hóa hoặc log-transform khi phân tích.\n",
    "    + SkinThickness: 0–99, cũng có nhiều giá trị bất hợp lý."
   ]
  },
  {
   "cell_type": "code",
   "execution_count": 7,
   "id": "e68e1e2a",
   "metadata": {},
   "outputs": [
    {
     "name": "stdout",
     "output_type": "stream",
     "text": [
      "\n",
      "Phân bố biến lớp (Outcome):\n",
      "Outcome\n",
      "0    500\n",
      "1    268\n",
      "Name: count, dtype: int64\n"
     ]
    }
   ],
   "source": [
    "# Phân bố lớp\n",
    "print(\"\\nPhân bố biến lớp (Outcome):\")\n",
    "print(data['Outcome'].value_counts())"
   ]
  },
  {
   "cell_type": "markdown",
   "id": "aca5cfba",
   "metadata": {},
   "source": [
    "- Tỉ lệ mắc ~35% và không mắc ~65%"
   ]
  }
 ],
 "metadata": {
  "kernelspec": {
   "display_name": "Python 3",
   "language": "python",
   "name": "python3"
  },
  "language_info": {
   "codemirror_mode": {
    "name": "ipython",
    "version": 3
   },
   "file_extension": ".py",
   "mimetype": "text/x-python",
   "name": "python",
   "nbconvert_exporter": "python",
   "pygments_lexer": "ipython3",
   "version": "3.11.9"
  }
 },
 "nbformat": 4,
 "nbformat_minor": 5
}
