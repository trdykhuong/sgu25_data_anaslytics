{
 "cells": [
  {
   "cell_type": "code",
   "execution_count": 18,
   "metadata": {},
   "outputs": [],
   "source": [
    "import pandas as pd\n",
    "import numpy as np\n",
    "import matplotlib.pyplot as plt"
   ]
  },
  {
   "cell_type": "code",
   "execution_count": 19,
   "metadata": {},
   "outputs": [],
   "source": [
    "# Gán tên cột chuẩn\n",
    "col_names = ['Pregnancies','Glucose','BloodPressure','SkinThickness','Insulin','BMI','DiabetesPedigreeFunction','Age','Outcome']\n",
    "df = pd.read_csv(\"pima-indians-diabetes.csv\", header=None, names=col_names)"
   ]
  },
  {
   "cell_type": "code",
   "execution_count": 20,
   "metadata": {},
   "outputs": [],
   "source": [
    "# Các cột mà 0 được coi là missing\n",
    "missing_cols = ['Glucose','BloodPressure','SkinThickness','Insulin','BMI']\n",
    "for col in missing_cols:\n",
    "    df[col] = df[col].replace(0, np.nan)"
   ]
  },
  {
   "cell_type": "code",
   "execution_count": 21,
   "metadata": {},
   "outputs": [
    {
     "name": "stdout",
     "output_type": "stream",
     "text": [
      "Pregnancies                   0\n",
      "Glucose                       5\n",
      "BloodPressure                35\n",
      "SkinThickness               227\n",
      "Insulin                     374\n",
      "BMI                          11\n",
      "DiabetesPedigreeFunction      0\n",
      "Age                           0\n",
      "Outcome                       0\n",
      "dtype: int64\n"
     ]
    }
   ],
   "source": [
    "# Thống kê missing\n",
    "print(df.isna().sum())\n",
    "\n",
    "# Impute đơn giản: median\n",
    "df_imputed = df.fillna(df.median())"
   ]
  },
  {
   "cell_type": "code",
   "execution_count": 22,
   "metadata": {},
   "outputs": [
    {
     "name": "stdout",
     "output_type": "stream",
     "text": [
      "Outcome\n",
      "0    500\n",
      "1    268\n",
      "Name: count, dtype: int64\n"
     ]
    }
   ],
   "source": [
    "# Phân bố Outcome\n",
    "print(df_imputed['Outcome'].value_counts())"
   ]
  },
  {
   "cell_type": "code",
   "execution_count": 23,
   "metadata": {},
   "outputs": [
    {
     "name": "stdout",
     "output_type": "stream",
     "text": [
      "            Glucose        BMI        Age  Pregnancies\n",
      "Outcome                                               \n",
      "0        110.682000  30.885600  31.190000     3.298000\n",
      "1        142.130597  35.383582  37.067164     4.865672\n"
     ]
    }
   ],
   "source": [
    "# Thống kê theo Outcome\n",
    "print(df_imputed.groupby('Outcome').mean()[['Glucose','BMI','Age','Pregnancies']])"
   ]
  },
  {
   "cell_type": "code",
   "execution_count": 24,
   "metadata": {},
   "outputs": [
    {
     "name": "stdout",
     "output_type": "stream",
     "text": [
      "Outcome                     1.000000\n",
      "Glucose                     0.492782\n",
      "BMI                         0.312038\n",
      "Age                         0.238356\n",
      "Pregnancies                 0.221898\n",
      "SkinThickness               0.214873\n",
      "Insulin                     0.203790\n",
      "DiabetesPedigreeFunction    0.173844\n",
      "BloodPressure               0.165723\n",
      "Name: Outcome, dtype: float64\n"
     ]
    }
   ],
   "source": [
    "# Correlation matrix\n",
    "corr = df_imputed.corr()\n",
    "print(corr['Outcome'].abs().sort_values(ascending=False))"
   ]
  },
  {
   "cell_type": "code",
   "execution_count": 25,
   "metadata": {},
   "outputs": [
    {
     "data": {
      "image/png": "[encoded data removed]",
      "text/plain": [
       "<Figure size 600x400 with 1 Axes>"
      ]
     },
     "metadata": {},
     "output_type": "display_data"
    }
   ],
   "source": [
    "import matplotlib.pyplot as plt\n",
    "\n",
    "plt.figure(figsize=(6,4))\n",
    "df_imputed['Glucose'].hist(bins=30)\n",
    "plt.title(\"Histogram - Glucose\")\n",
    "plt.xlabel(\"Glucose\")\n",
    "plt.ylabel(\"Count\")\n",
    "plt.tight_layout()\n",
    "\n",
    "plt.savefig(\"hist_Glucose.png\")\n",
    "plt.show()\n"
   ]
  },
  {
   "cell_type": "code",
   "execution_count": 26,
   "metadata": {},
   "outputs": [],
   "source": [
    "import seaborn as sns\n",
    "import os"
   ]
  },
  {
   "cell_type": "code",
   "execution_count": 27,
   "metadata": {},
   "outputs": [],
   "source": [
    "save_dir = \"/mnt/data/pima_plots/\"\n",
    "os.makedirs(save_dir, exist_ok=True)\n",
    "\n",
    "for col in df_imputed.columns:\n",
    "    # Histogram\n",
    "    plt.figure(figsize=(6,4))\n",
    "    df_imputed[col].hist(bins=30)\n",
    "    plt.title(f\"Histogram - {col}\")\n",
    "    plt.xlabel(col)\n",
    "    plt.ylabel(\"Count\")\n",
    "    plt.tight_layout()\n",
    "    plt.savefig(f\"{save_dir}/hist_{col}.png\")\n",
    "    plt.close()\n",
    "\n",
    "    # Boxplot\n",
    "    plt.figure(figsize=(6,4))\n",
    "    sns.boxplot(x=df_imputed[col])\n",
    "    plt.title(f\"Boxplot - {col}\")\n",
    "    plt.tight_layout()\n",
    "    plt.savefig(f\"{save_dir}/box_{col}.png\")\n",
    "    plt.close()"
   ]
  },
  {
   "cell_type": "code",
   "execution_count": 28,
   "metadata": {},
   "outputs": [],
   "source": [
    "plt.figure(figsize=(10,8))\n",
    "sns.heatmap(df_imputed.corr(), annot=True, cmap=\"coolwarm\")\n",
    "plt.title(\"Correlation Heatmap\")\n",
    "plt.tight_layout()\n",
    "plt.savefig(\"corr_heatmap.png\")\n",
    "plt.close()"
   ]
  },
  {
   "cell_type": "code",
   "execution_count": 29,
   "metadata": {},
   "outputs": [],
   "source": [
    "from pandas.plotting import scatter_matrix"
   ]
  },
  {
   "cell_type": "code",
   "execution_count": 30,
   "metadata": {},
   "outputs": [
    {
     "data": {
      "text/plain": [
       "<Figure size 640x480 with 0 Axes>"
      ]
     },
     "metadata": {},
     "output_type": "display_data"
    }
   ],
   "source": [
    "plt.figure()\n",
    "scatter_matrix(df_imputed, figsize=(12,12))\n",
    "plt.savefig(\"scatter_matrix.png\")\n",
    "plt.close()"
   ]
  }
 ],
 "metadata": {
  "kernelspec": {
   "display_name": "base",
   "language": "python",
   "name": "python3"
  },
  "language_info": {
   "codemirror_mode": {
    "name": "ipython",
    "version": 3
   },
   "file_extension": ".py",
   "mimetype": "text/x-python",
   "name": "python",
   "nbconvert_exporter": "python",
   "pygments_lexer": "ipython3",
   "version": "3.13.5"
  }
 },
 "nbformat": 4,
 "nbformat_minor": 2
}
