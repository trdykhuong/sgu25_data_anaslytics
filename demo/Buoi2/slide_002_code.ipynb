{
 "cells": [
  {
   "cell_type": "markdown",
   "id": "7a140137",
   "metadata": {},
   "source": [
    "# Python Programming"
   ]
  },
  {
   "cell_type": "markdown",
   "id": "5cd4293f",
   "metadata": {},
   "source": [
    "## 1. PYTHON CƠ BẢN"
   ]
  },
  {
   "cell_type": "markdown",
   "id": "e5fe5e6f",
   "metadata": {},
   "source": [
    "### 1.1 Hello World và Cú pháp cơ bản"
   ]
  },
  {
   "cell_type": "code",
   "execution_count": 1,
   "id": "b8e191b4",
   "metadata": {},
   "outputs": [
    {
     "name": "stdout",
     "output_type": "stream",
     "text": [
      "Hello World\n",
      "Hello World\n"
     ]
    }
   ],
   "source": [
    "#In \"Hello World\" - câu lệnh đầu tiên\n",
    "print(\"Hello World\")\n",
    "print('Hello World')  # Có thể dùng dấu nháy đơn hoặc kép"
   ]
  },
  {
   "cell_type": "markdown",
   "id": "b182a260",
   "metadata": {},
   "source": [
    "### 1.2 Comments (Chú thích)"
   ]
  },
  {
   "cell_type": "code",
   "execution_count": null,
   "id": "2bb9a154",
   "metadata": {},
   "outputs": [],
   "source": [
    "# Đây là comment - dòng này không được thực thi\n",
    "# comment để giải thích code\n",
    "score = 80  # comment có thể viết ở cuối dòng"
   ]
  },
  {
   "cell_type": "markdown",
   "id": "a1c83810",
   "metadata": {},
   "source": [
    "### 1.3 Indentation (Thụt lề)"
   ]
  },
  {
   "cell_type": "code",
   "execution_count": 2,
   "id": "b96269f3",
   "metadata": {},
   "outputs": [
    {
     "name": "stdout",
     "output_type": "stream",
     "text": [
      "Pass\n"
     ]
    }
   ],
   "source": [
    "score = 80\n",
    "if score >= 60:\n",
    "    print(\"Pass\")  # Thụt lề 4 spaces"
   ]
  },
  {
   "cell_type": "markdown",
   "id": "1f12d9a7",
   "metadata": {},
   "source": [
    "### 1.4 Kiểm tra phiên bản Python"
   ]
  },
  {
   "cell_type": "code",
   "execution_count": null,
   "id": "42a4a436",
   "metadata": {},
   "outputs": [
    {
     "name": "stdout",
     "output_type": "stream",
     "text": [
      "Python Version: 3.12.10\n"
     ]
    }
   ],
   "source": [
    "from platform import python_version #Import module platform để kiểm tra phiên bản\n",
    "print(\"Python Version:\", python_version()) #Hàm python_version() trả về phiên bản hiện tại"
   ]
  },
  {
   "cell_type": "markdown",
   "id": "8a763b82",
   "metadata": {},
   "source": [
    "## 2. BIẾN VÀ KIỂU DỮ LIỆU"
   ]
  },
  {
   "cell_type": "markdown",
   "id": "ac59b90b",
   "metadata": {},
   "source": [
    "### 2.1 Khai báo biến"
   ]
  },
  {
   "cell_type": "code",
   "execution_count": null,
   "id": "0132a519",
   "metadata": {},
   "outputs": [
    {
     "name": "stdout",
     "output_type": "stream",
     "text": [
      "<class 'int'>\n",
      "<class 'float'>\n",
      "<class 'str'>\n",
      "<class 'str'>\n",
      "<class 'str'>\n",
      "3\n"
     ]
    }
   ],
   "source": [
    "# Các kiểu biến cơ bản\n",
    "x = 2          # Số nguyên (int)\n",
    "print(type(x))\n",
    "price = 2.5    # Số thực (float)\n",
    "print(type(price))\n",
    "word = 'Hello' # Chuỗi (string)\n",
    "print(type(word))  \n",
    "word = \"Hello\" # Cũng là chuỗi\n",
    "print(type(word))  \n",
    "word = '''Hello'''  # Chuỗi nhiều dòng\n",
    "print(type(word))  \n",
    "\n",
    "# Sử dụng biến\n",
    "x = 2\n",
    "y = x + 1  # y = 3\n",
    "print(y)"
   ]
  },
  {
   "cell_type": "markdown",
   "id": "006756c6",
   "metadata": {},
   "source": [
    "### 2.2 Các kiểu dữ liệu cơ bản"
   ]
  },
  {
   "cell_type": "code",
   "execution_count": 6,
   "id": "8c264eb9",
   "metadata": {},
   "outputs": [
    {
     "name": "stdout",
     "output_type": "stream",
     "text": [
      "<class 'str'>\n",
      "<class 'int'>\n",
      "<class 'float'>\n",
      "<class 'complex'>\n",
      "<class 'bool'>\n",
      "<class 'bool'>\n",
      "<class 'NoneType'>\n"
     ]
    }
   ],
   "source": [
    "# Kiểu số\n",
    "x = \"Hello World\"  # str (string)\n",
    "print(type(x))  \n",
    "x = 2             # int (integer) \n",
    "print(type(x))  \n",
    "x = 2.5           # float\n",
    "print(type(x))  \n",
    "x = 7j            # complex (số phức)\n",
    "print(type(x))  \n",
    "\n",
    "# Kiểu boolean\n",
    "x = True          # bool\n",
    "print(type(x))  \n",
    "x = False         # bool\n",
    "print(type(x))  \n",
    "\n",
    "# Kiểu đặc biệt\n",
    "x = None          # NoneType\n",
    "print(type(x))"
   ]
  },
  {
   "cell_type": "markdown",
   "id": "4380dc05",
   "metadata": {},
   "source": [
    "### 2.3 Ép kiểu (Type Casting)"
   ]
  },
  {
   "cell_type": "code",
   "execution_count": 7,
   "id": "8daea771",
   "metadata": {},
   "outputs": [
    {
     "name": "stdout",
     "output_type": "stream",
     "text": [
      "3 <class 'str'>\n",
      "3 <class 'int'>\n",
      "3.0 <class 'float'>\n"
     ]
    }
   ],
   "source": [
    "x = str(3)    # x sẽ là '3'\n",
    "y = int(3)    # y sẽ là 3  \n",
    "z = float(3)  # z sẽ là 3.0\n",
    "\n",
    "print(x, type(x))\n",
    "print(y, type(y))\n",
    "print(z, type(z))"
   ]
  },
  {
   "cell_type": "markdown",
   "id": "5c1b5769",
   "metadata": {},
   "source": [
    "### 2.4 Kiểm tra kiểu số"
   ]
  },
  {
   "cell_type": "code",
   "execution_count": 1,
   "id": "ba37eed0",
   "metadata": {},
   "outputs": [
    {
     "name": "stdout",
     "output_type": "stream",
     "text": [
      "2 <class 'int'>\n",
      "3.4 <class 'float'>\n",
      "7j <class 'complex'>\n"
     ]
    }
   ],
   "source": [
    "x = 2    # int\n",
    "y = 3.4  # float\n",
    "z = 7j   # complex\n",
    "\n",
    "print(x, type(x))\n",
    "print(y, type(y))\n",
    "print(z, type(z))"
   ]
  },
  {
   "cell_type": "markdown",
   "id": "c3a320de",
   "metadata": {},
   "source": [
    "## 3. TOÁN TỬ TOÁN HỌC"
   ]
  },
  {
   "cell_type": "markdown",
   "id": "ed2a8dc4",
   "metadata": {},
   "source": [
    "### 3.1 Các phép toán cơ bản"
   ]
  },
  {
   "cell_type": "code",
   "execution_count": 2,
   "id": "0f5eb19a",
   "metadata": {},
   "outputs": [
    {
     "name": "stdout",
     "output_type": "stream",
     "text": [
      "7 + 2 = 9\n",
      "7 - 2 = 5\n",
      "7 * 2 = 14\n",
      "7 / 2 = 3.5\n",
      "7 // 2 = 3\n",
      "7 % 2 = 1\n",
      "7 ** 2 = 49\n"
     ]
    }
   ],
   "source": [
    "print('7 + 2 =', 7 + 2)   # Cộng\n",
    "print('7 - 2 =', 7 - 2)   # Trừ\n",
    "print('7 * 2 =', 7 * 2)   # Nhân\n",
    "print('7 / 2 =', 7 / 2)   # Chia\n",
    "print('7 // 2 =', 7 // 2) # Chia lấy phần nguyên\n",
    "print('7 % 2 =', 7 % 2)   # Chia lấy phần dư\n",
    "print('7 ** 2 =', 7 ** 2) # Lũy thừa"
   ]
  },
  {
   "cell_type": "markdown",
   "id": "57a0bf87",
   "metadata": {},
   "source": [
    "### 3.2 Toán tử Boolean"
   ]
  },
  {
   "cell_type": "code",
   "execution_count": 3,
   "id": "24e1d7c9",
   "metadata": {},
   "outputs": [
    {
     "name": "stdout",
     "output_type": "stream",
     "text": [
      "True\n",
      "False\n",
      "False\n"
     ]
    }
   ],
   "source": [
    "print(3 > 2)   # True\n",
    "print(3 == 2)  # False  \n",
    "print(3 < 2)   # False"
   ]
  },
  {
   "cell_type": "markdown",
   "id": "68cad1ef",
   "metadata": {},
   "source": [
    "## 4. ỨNG DỤNG THỰC TẾ"
   ]
  },
  {
   "cell_type": "markdown",
   "id": "1c85a7b5",
   "metadata": {},
   "source": [
    "### 4.1 Máy tính BMI"
   ]
  },
  {
   "cell_type": "code",
   "execution_count": 4,
   "id": "ffc298f6",
   "metadata": {},
   "outputs": [
    {
     "name": "stdout",
     "output_type": "stream",
     "text": [
      "Your BMI is: 20.8\n"
     ]
    }
   ],
   "source": [
    "# BMI Calculator - Máy tính chỉ số BMI\n",
    "height_cm = 170  # Chiều cao (cm)\n",
    "weight_kg = 60   # Cân nặng (kg)\n",
    "\n",
    "height_m = height_cm / 100           # Chuyển sang mét\n",
    "BMI = weight_kg / (height_m ** 2)    # Công thức BMI\n",
    "\n",
    "print(\"Your BMI is: \" + str(round(BMI, 1)))"
   ]
  },
  {
   "cell_type": "markdown",
   "id": "46ad0d33",
   "metadata": {},
   "source": [
    "### 4.2 Tính giá trị tương lai (Future Value)"
   ]
  },
  {
   "cell_type": "markdown",
   "id": "da36aef2",
   "metadata": {},
   "source": [
    "#### Cách 1: Tính trực tiếp"
   ]
  },
  {
   "cell_type": "code",
   "execution_count": 5,
   "id": "049db27d",
   "metadata": {},
   "outputs": [
    {
     "name": "stdout",
     "output_type": "stream",
     "text": [
      "fv =  194.87\n"
     ]
    }
   ],
   "source": [
    "# Tính $100 sau 7 năm với lãi suất 10%\n",
    "fv = 100 * 1.1 ** 7\n",
    "print('fv = ', round(fv, 2))"
   ]
  },
  {
   "cell_type": "markdown",
   "id": "d62e6028",
   "metadata": {},
   "source": [
    "#### Cách 2: Sử dụng biến"
   ]
  },
  {
   "cell_type": "code",
   "execution_count": 6,
   "id": "7b23debd",
   "metadata": {},
   "outputs": [
    {
     "name": "stdout",
     "output_type": "stream",
     "text": [
      "194.87\n"
     ]
    }
   ],
   "source": [
    "pv = 100  # Present Value - Giá trị hiện tại\n",
    "r = 0.1   # Interest Rate - Lãi suất (10%)\n",
    "n = 7     # Number of years - Số năm\n",
    "\n",
    "fv = pv * ((1 + r) ** n)  # Công thức FV\n",
    "print(round(fv, 2))"
   ]
  },
  {
   "cell_type": "markdown",
   "id": "a0a70c1d",
   "metadata": {},
   "source": [
    "#### Cách 3: Sử dụng phần trăm"
   ]
  },
  {
   "cell_type": "code",
   "execution_count": 7,
   "id": "8fdc42a0",
   "metadata": {},
   "outputs": [
    {
     "name": "stdout",
     "output_type": "stream",
     "text": [
      "194.87\n"
     ]
    }
   ],
   "source": [
    "amount = 100\n",
    "interest = 10    # 10% = 0.01 * 10\n",
    "years = 7\n",
    "\n",
    "future_value = amount * ((1 + (0.01 * interest)) ** years)\n",
    "print(round(future_value, 2))"
   ]
  },
  {
   "cell_type": "markdown",
   "id": "5dedd6c9",
   "metadata": {},
   "source": [
    "## 5. CẤU TRÚC DỮ LIỆU"
   ]
  },
  {
   "cell_type": "markdown",
   "id": "4445a0ae",
   "metadata": {},
   "source": [
    "### 5.1 Lists (Danh sách) - []"
   ]
  },
  {
   "cell_type": "code",
   "execution_count": 8,
   "id": "663e9c07",
   "metadata": {},
   "outputs": [
    {
     "name": "stdout",
     "output_type": "stream",
     "text": [
      "4\n",
      "60\n",
      "70\n",
      "90\n"
     ]
    }
   ],
   "source": [
    "# Tạo và truy cập list\n",
    "x = [60, 70, 80, 90]\n",
    "\n",
    "print(len(x))    # Độ dài list\n",
    "print(x[0])      # Phần tử đầu tiên\n",
    "print(x[1])      # Phần tử thứ hai\n",
    "print(x[-1])     # Phần tử cuối cùng"
   ]
  },
  {
   "cell_type": "markdown",
   "id": "394ecf6d",
   "metadata": {},
   "source": [
    "### 5.2 Tuples (Bộ) - ()"
   ]
  },
  {
   "cell_type": "code",
   "execution_count": 10,
   "id": "667185e5",
   "metadata": {},
   "outputs": [
    {
     "name": "stdout",
     "output_type": "stream",
     "text": [
      "10\n",
      "20\n",
      "30\n",
      "50\n"
     ]
    }
   ],
   "source": [
    "# Tuple không thể thay đổi\n",
    "x = (10, 20, 30, 40, 50)\n",
    "\n",
    "print(x[0])   # 10\n",
    "print(x[1])   # 20\n",
    "print(x[2])   # 30\n",
    "print(x[-1])  # 50"
   ]
  },
  {
   "cell_type": "markdown",
   "id": "4da8555d",
   "metadata": {},
   "source": [
    "### 5.3 Sets (Tập hợp) - {}"
   ]
  },
  {
   "cell_type": "code",
   "execution_count": 9,
   "id": "98e4a757",
   "metadata": {},
   "outputs": [
    {
     "name": "stdout",
     "output_type": "stream",
     "text": [
      "True\n",
      "False\n",
      "True\n",
      "3\n",
      "3\n",
      "2\n"
     ]
    }
   ],
   "source": [
    "animals = {'cat', 'dog'}\n",
    "\n",
    "print('cat' in animals)    # Kiểm tra có tồn tại\n",
    "print('fish' in animals)   # False\n",
    "\n",
    "animals.add('fish')        # Thêm phần tử\n",
    "print('fish' in animals)   # True\n",
    "print(len(animals))        # 3\n",
    "\n",
    "animals.add('cat')         # Thêm phần tử đã có\n",
    "print(len(animals))        # Vẫn 3 (không trùng lặp)\n",
    "\n",
    "animals.remove('cat')      # Xóa phần tử\n",
    "print(len(animals))        # 2"
   ]
  },
  {
   "cell_type": "markdown",
   "id": "fc0832ae",
   "metadata": {},
   "source": [
    "### 5.4 Dictionary (Từ điển) - {key: value}"
   ]
  },
  {
   "cell_type": "code",
   "execution_count": 11,
   "id": "0811a912",
   "metadata": {},
   "outputs": [
    {
     "name": "stdout",
     "output_type": "stream",
     "text": [
      "English\n"
     ]
    }
   ],
   "source": [
    "k = {'EN': 'English', 'FR': 'French'}\n",
    "print(k['EN'])  # Truy cập qua key"
   ]
  },
  {
   "cell_type": "markdown",
   "id": "b71fc767",
   "metadata": {},
   "source": [
    "### 5.5 Tổng hợp cấu trúc dữ liệu"
   ]
  },
  {
   "cell_type": "code",
   "execution_count": 13,
   "id": "54b46064",
   "metadata": {},
   "outputs": [
    {
     "name": "stdout",
     "output_type": "stream",
     "text": [
      "['apple', 'banana', 'cherry']\n",
      "('red', 'green', 'blue')\n",
      "{'dog', 'cat'}\n",
      "{'name': 'Tom', 'age': 20}\n"
     ]
    }
   ],
   "source": [
    "fruits = [\"apple\", \"banana\", \"cherry\"]     # lists []\n",
    "print(fruits)                          \n",
    "colors = (\"red\", \"green\", \"blue\")          # tuples ()\n",
    "print(colors)\n",
    "animals = {'cat', 'dog'}                   # sets {}\n",
    "print(animals)\n",
    "person = {\"name\": \"Tom\", \"age\": 20}        # dictionaries {}\n",
    "print(person)"
   ]
  },
  {
   "cell_type": "markdown",
   "id": "e771f95d",
   "metadata": {},
   "source": [
    "## 6. ỨNG DỤNG TÀI CHÍNH"
   ]
  },
  {
   "cell_type": "markdown",
   "id": "d5b63d2e",
   "metadata": {},
   "source": [
    "### 6.1 Sử dụng Lists"
   ]
  },
  {
   "cell_type": "code",
   "execution_count": 14,
   "id": "a19c73b3",
   "metadata": {},
   "outputs": [
    {
     "name": "stdout",
     "output_type": "stream",
     "text": [
      "Total expenses: 293.5\n"
     ]
    }
   ],
   "source": [
    "# Tính tổng chi phí\n",
    "expenses = [72.50, 80.75, 50.00, 90.25]\n",
    "total_expenses = sum(expenses)\n",
    "print(\"Total expenses:\", total_expenses)"
   ]
  },
  {
   "cell_type": "markdown",
   "id": "e9742dd8",
   "metadata": {},
   "source": [
    "### 6.2 Sử dụng Tuples"
   ]
  },
  {
   "cell_type": "code",
   "execution_count": 15,
   "id": "9b69562b",
   "metadata": {},
   "outputs": [
    {
     "name": "stdout",
     "output_type": "stream",
     "text": [
      "Account name: Cash Account number: 1001\n",
      "Account name: Accounts Receivable Account number: 1002\n",
      "Account name: Inventory Account number: 1003\n"
     ]
    }
   ],
   "source": [
    "# Thông tin tài khoản\n",
    "accounts = ((\"Cash\", 1001), \n",
    "           (\"Accounts Receivable\", 1002),\n",
    "           (\"Inventory\", 1003))\n",
    "\n",
    "for account in accounts:\n",
    "    print(\"Account name:\", account[0], \"Account number:\", account[1])"
   ]
  },
  {
   "cell_type": "markdown",
   "id": "52cfe0f6",
   "metadata": {},
   "source": [
    "### 6.3 Sử dụng Sets"
   ]
  },
  {
   "cell_type": "code",
   "execution_count": 16,
   "id": "faf0758e",
   "metadata": {},
   "outputs": [
    {
     "name": "stdout",
     "output_type": "stream",
     "text": [
      "Account number 1004 is not in use.\n"
     ]
    }
   ],
   "source": [
    "# Kiểm tra số tài khoản\n",
    "account_numbers = {1001, 1002, 1003}\n",
    "new_account_number = 1004\n",
    "\n",
    "if new_account_number not in account_numbers:\n",
    "    print(\"Account number\", new_account_number, \"is not in use.\")"
   ]
  },
  {
   "cell_type": "markdown",
   "id": "a79ebc81",
   "metadata": {},
   "source": [
    "### 6.4 Sử dụng Dictionaries"
   ]
  },
  {
   "cell_type": "code",
   "execution_count": 17,
   "id": "17037a00",
   "metadata": {},
   "outputs": [
    {
     "name": "stdout",
     "output_type": "stream",
     "text": [
      "Account number: 1001\n",
      "Account name: Cash\n",
      "Account balance: 500.0\n",
      "Account type: Asset\n",
      "Account number: 1002\n",
      "Account name: Accounts Receivable\n",
      "Account balance: 1000.0\n",
      "Account type: Asset\n",
      "Account number: 2001\n",
      "Account name: Accounts Payable\n",
      "Account balance: 750.0\n",
      "Account type: Liability\n"
     ]
    }
   ],
   "source": [
    "# Hệ thống tài khoản phức tạp\n",
    "accounts = {\n",
    "    \"1001\": {\"name\": \"Cash\", \"balance\": 500.00, \"type\": \"Asset\"},\n",
    "    \"1002\": {\"name\": \"Accounts Receivable\", \"balance\": 1000.00, \"type\": \"Asset\"},\n",
    "    \"2001\": {\"name\": \"Accounts Payable\", \"balance\": 750.00, \"type\": \"Liability\"}\n",
    "}\n",
    "\n",
    "for account_number, account_info in accounts.items():\n",
    "    print(\"Account number:\", account_number)\n",
    "    print(\"Account name:\", account_info[\"name\"])\n",
    "    print(\"Account balance:\", account_info[\"balance\"])\n",
    "    print(\"Account type:\", account_info[\"type\"])"
   ]
  },
  {
   "cell_type": "markdown",
   "id": "e96b7b11",
   "metadata": {},
   "source": [
    "## 7. CẤU TRÚC ĐIỀU KHIỂN"
   ]
  },
  {
   "cell_type": "markdown",
   "id": "b508caf6",
   "metadata": {},
   "source": [
    "### 7.1 Câu lệnh If"
   ]
  },
  {
   "cell_type": "code",
   "execution_count": 18,
   "id": "37a5d5e5",
   "metadata": {},
   "outputs": [
    {
     "name": "stdout",
     "output_type": "stream",
     "text": [
      "Pass\n"
     ]
    }
   ],
   "source": [
    "# If đơn giản\n",
    "score = 80\n",
    "if score >= 60:\n",
    "    print(\"Pass\")"
   ]
  },
  {
   "cell_type": "markdown",
   "id": "39b12538",
   "metadata": {},
   "source": [
    "### 7.2 If-Else"
   ]
  },
  {
   "cell_type": "code",
   "execution_count": 19,
   "id": "09cc2efe",
   "metadata": {},
   "outputs": [
    {
     "name": "stdout",
     "output_type": "stream",
     "text": [
      "Pass\n"
     ]
    }
   ],
   "source": [
    "score = 80\n",
    "if score >= 60:\n",
    "    print(\"Pass\")\n",
    "else:\n",
    "    print(\"Fail\")"
   ]
  },
  {
   "cell_type": "markdown",
   "id": "94139c4a",
   "metadata": {},
   "source": [
    "### 7.3 If-Elif-Else"
   ]
  },
  {
   "cell_type": "code",
   "execution_count": 20,
   "id": "a1831990",
   "metadata": {},
   "outputs": [
    {
     "name": "stdout",
     "output_type": "stream",
     "text": [
      "A\n"
     ]
    }
   ],
   "source": [
    "score = 95\n",
    "if score >= 90:\n",
    "    print(\"A\")\n",
    "elif score >= 60:\n",
    "    print(\"Pass\")\n",
    "else:\n",
    "    print(\"Fail\")"
   ]
  },
  {
   "cell_type": "markdown",
   "id": "021451c0",
   "metadata": {},
   "source": [
    "### 7.4 Hệ thống chấm điểm"
   ]
  },
  {
   "cell_type": "code",
   "execution_count": 21,
   "id": "ae7c39a5",
   "metadata": {},
   "outputs": [
    {
     "name": "stdout",
     "output_type": "stream",
     "text": [
      "A\n"
     ]
    }
   ],
   "source": [
    "score = 90\n",
    "grade = \"\"\n",
    "\n",
    "if score >= 90:\n",
    "    grade = \"A\"\n",
    "elif score >= 80:\n",
    "    grade = \"B\"\n",
    "elif score >= 70:\n",
    "    grade = \"C\"\n",
    "elif score >= 60:\n",
    "    grade = \"D\"\n",
    "else:\n",
    "    grade = \"E\"\n",
    "    \n",
    "print(grade)"
   ]
  },
  {
   "cell_type": "markdown",
   "id": "e7df1ca7",
   "metadata": {},
   "source": [
    "## 8. VÒNG LẶP"
   ]
  },
  {
   "cell_type": "markdown",
   "id": "059d294d",
   "metadata": {},
   "source": [
    "### 8.1 For Loop với range"
   ]
  },
  {
   "cell_type": "code",
   "execution_count": 22,
   "id": "1bfa2ccf",
   "metadata": {},
   "outputs": [
    {
     "name": "stdout",
     "output_type": "stream",
     "text": [
      "1\n",
      "2\n",
      "3\n",
      "4\n",
      "5\n"
     ]
    }
   ],
   "source": [
    "for i in range(1, 6):\n",
    "    print(i)"
   ]
  },
  {
   "cell_type": "markdown",
   "id": "6ecd9018",
   "metadata": {},
   "source": [
    "### 8.2 Vòng lặp lồng nhau"
   ]
  },
  {
   "cell_type": "code",
   "execution_count": 23,
   "id": "a0b70d13",
   "metadata": {},
   "outputs": [
    {
     "name": "stdout",
     "output_type": "stream",
     "text": [
      "1  *  1  =  1\n",
      "1  *  2  =  2\n",
      "1  *  3  =  3\n",
      "1  *  4  =  4\n",
      "1  *  5  =  5\n",
      "1  *  6  =  6\n",
      "1  *  7  =  7\n",
      "1  *  8  =  8\n",
      "1  *  9  =  9\n",
      "2  *  1  =  2\n",
      "2  *  2  =  4\n",
      "2  *  3  =  6\n",
      "2  *  4  =  8\n",
      "2  *  5  =  10\n",
      "2  *  6  =  12\n",
      "2  *  7  =  14\n",
      "2  *  8  =  16\n",
      "2  *  9  =  18\n",
      "3  *  1  =  3\n",
      "3  *  2  =  6\n",
      "3  *  3  =  9\n",
      "3  *  4  =  12\n",
      "3  *  5  =  15\n",
      "3  *  6  =  18\n",
      "3  *  7  =  21\n",
      "3  *  8  =  24\n",
      "3  *  9  =  27\n",
      "4  *  1  =  4\n",
      "4  *  2  =  8\n",
      "4  *  3  =  12\n",
      "4  *  4  =  16\n",
      "4  *  5  =  20\n",
      "4  *  6  =  24\n",
      "4  *  7  =  28\n",
      "4  *  8  =  32\n",
      "4  *  9  =  36\n",
      "5  *  1  =  5\n",
      "5  *  2  =  10\n",
      "5  *  3  =  15\n",
      "5  *  4  =  20\n",
      "5  *  5  =  25\n",
      "5  *  6  =  30\n",
      "5  *  7  =  35\n",
      "5  *  8  =  40\n",
      "5  *  9  =  45\n",
      "6  *  1  =  6\n",
      "6  *  2  =  12\n",
      "6  *  3  =  18\n",
      "6  *  4  =  24\n",
      "6  *  5  =  30\n",
      "6  *  6  =  36\n",
      "6  *  7  =  42\n",
      "6  *  8  =  48\n",
      "6  *  9  =  54\n",
      "7  *  1  =  7\n",
      "7  *  2  =  14\n",
      "7  *  3  =  21\n",
      "7  *  4  =  28\n",
      "7  *  5  =  35\n",
      "7  *  6  =  42\n",
      "7  *  7  =  49\n",
      "7  *  8  =  56\n",
      "7  *  9  =  63\n",
      "8  *  1  =  8\n",
      "8  *  2  =  16\n",
      "8  *  3  =  24\n",
      "8  *  4  =  32\n",
      "8  *  5  =  40\n",
      "8  *  6  =  48\n",
      "8  *  7  =  56\n",
      "8  *  8  =  64\n",
      "8  *  9  =  72\n",
      "9  *  1  =  9\n",
      "9  *  2  =  18\n",
      "9  *  3  =  27\n",
      "9  *  4  =  36\n",
      "9  *  5  =  45\n",
      "9  *  6  =  54\n",
      "9  *  7  =  63\n",
      "9  *  8  =  72\n",
      "9  *  9  =  81\n"
     ]
    }
   ],
   "source": [
    "# Bảng cửu chương\n",
    "for i in range(1, 10):\n",
    "    for j in range(1, 10):\n",
    "        print(i, ' * ', j, ' = ', i*j)"
   ]
  },
  {
   "cell_type": "markdown",
   "id": "f7cd2674",
   "metadata": {},
   "source": [
    "### 8.3 While Loop"
   ]
  },
  {
   "cell_type": "code",
   "execution_count": 24,
   "id": "df511b17",
   "metadata": {},
   "outputs": [
    {
     "name": "stdout",
     "output_type": "stream",
     "text": [
      "10\n",
      "11\n",
      "12\n",
      "13\n",
      "14\n",
      "15\n",
      "16\n",
      "17\n",
      "18\n",
      "19\n"
     ]
    }
   ],
   "source": [
    "age = 10\n",
    "while age < 20:\n",
    "    print(age)\n",
    "    age = age + 1"
   ]
  },
  {
   "cell_type": "markdown",
   "id": "5ce20a56",
   "metadata": {},
   "source": [
    "## 9. HÀM (FUNCTIONS)"
   ]
  },
  {
   "cell_type": "markdown",
   "id": "62311ada",
   "metadata": {},
   "source": [
    "### 9.1 Định nghĩa hàm"
   ]
  },
  {
   "cell_type": "code",
   "execution_count": 25,
   "id": "a26f6413",
   "metadata": {},
   "outputs": [
    {
     "name": "stdout",
     "output_type": "stream",
     "text": [
      "194.87\n"
     ]
    }
   ],
   "source": [
    "def getfv(pv, r, n):\n",
    "    \"\"\"Tính giá trị tương lai\"\"\"\n",
    "    fv = pv * ((1 + r) ** n)\n",
    "    return fv\n",
    "\n",
    "# Sử dụng hàm\n",
    "fv = getfv(100, 0.1, 7)\n",
    "print(round(fv, 2))"
   ]
  },
  {
   "cell_type": "markdown",
   "id": "7d824ca9",
   "metadata": {},
   "source": [
    "## 10. LỚP VÀ ĐỐI TƯỢNG (CLASSES & OBJECTS)"
   ]
  },
  {
   "cell_type": "markdown",
   "id": "a18dcada",
   "metadata": {},
   "source": [
    "### 10.1 Lớp đơn giản"
   ]
  },
  {
   "cell_type": "code",
   "execution_count": 26,
   "id": "d3cefd2c",
   "metadata": {},
   "outputs": [
    {
     "name": "stdout",
     "output_type": "stream",
     "text": [
      "5\n"
     ]
    }
   ],
   "source": [
    "class MyClass:\n",
    "    x = 5\n",
    "\n",
    "c1 = MyClass()\n",
    "print(c1.x)"
   ]
  },
  {
   "cell_type": "markdown",
   "id": "b772742a",
   "metadata": {},
   "source": [
    "### 10.2 Lớp với Constructor"
   ]
  },
  {
   "cell_type": "code",
   "execution_count": 27,
   "id": "0cf64ee3",
   "metadata": {},
   "outputs": [
    {
     "name": "stdout",
     "output_type": "stream",
     "text": [
      "Alan\n",
      "20\n"
     ]
    }
   ],
   "source": [
    "class Person:\n",
    "    def __init__(self, name, age):\n",
    "        self.name = name\n",
    "        self.age = age\n",
    "\n",
    "p1 = Person(\"Alan\", 20)\n",
    "print(p1.name)\n",
    "print(p1.age)"
   ]
  },
  {
   "cell_type": "markdown",
   "id": "db30cca4",
   "metadata": {},
   "source": [
    "### 10.3 Lớp với phương thức"
   ]
  },
  {
   "cell_type": "code",
   "execution_count": 28,
   "id": "6b412323",
   "metadata": {},
   "outputs": [
    {
     "name": "stdout",
     "output_type": "stream",
     "text": [
      "Hello my name is Alan\n",
      "Alan\n",
      "20\n"
     ]
    }
   ],
   "source": [
    "class Person:\n",
    "    def __init__(self, name, age):\n",
    "        self.name = name\n",
    "        self.age = age\n",
    "    \n",
    "    def myfunc(self):\n",
    "        print(\"Hello my name is \" + self.name)\n",
    "\n",
    "p1 = Person(\"Alan\", 20)\n",
    "p1.myfunc()\n",
    "print(p1.name)\n",
    "print(p1.age)"
   ]
  },
  {
   "cell_type": "markdown",
   "id": "1ec28b7a",
   "metadata": {},
   "source": [
    "### 10.4 Ví dụ thực tế - Lớp Vehicle"
   ]
  },
  {
   "cell_type": "code",
   "execution_count": 29,
   "id": "58f69fbd",
   "metadata": {},
   "outputs": [
    {
     "name": "stdout",
     "output_type": "stream",
     "text": [
      "Fer is a red convertible worth $60000.00.\n",
      "Fer\n",
      "Jump is a blue van worth $10000.00.\n",
      "Jump\n"
     ]
    }
   ],
   "source": [
    "class Vehicle:\n",
    "    name = \"\"\n",
    "    kind = \"car\"\n",
    "    color = \"\"\n",
    "    value = 100.00\n",
    "    \n",
    "    def description(self):\n",
    "        desc_str = \"%s is a %s %s worth $%.2f.\" % (\n",
    "            self.name, self.color, self.kind, self.value)\n",
    "        return desc_str\n",
    "\n",
    "# Tạo đối tượng\n",
    "car1 = Vehicle()\n",
    "car1.name = \"Fer\"\n",
    "car1.color = \"red\"\n",
    "car1.kind = \"convertible\"\n",
    "car1.value = 60000.00\n",
    "\n",
    "car2 = Vehicle()\n",
    "car2.name = \"Jump\"\n",
    "car2.color = \"blue\" \n",
    "car2.kind = \"van\"\n",
    "car2.value = 10000.00\n",
    "\n",
    "print(car1.description())\n",
    "print(car1.name)\n",
    "print(car2.description()) \n",
    "print(car2.name)"
   ]
  },
  {
   "cell_type": "markdown",
   "id": "4642941d",
   "metadata": {},
   "source": [
    "## 11. MODULES (PHÂN MẢNH CODE)"
   ]
  },
  {
   "cell_type": "markdown",
   "id": "2fbf11ce",
   "metadata": {},
   "source": [
    "### 11.1 Tạo Module"
   ]
  },
  {
   "cell_type": "code",
   "execution_count": null,
   "id": "0848d7e0",
   "metadata": {},
   "outputs": [],
   "source": [
    "# Tạo file mymodule.py\n",
    "# def greeting(name):\n",
    "#     print(\"Hello, \" + name)"
   ]
  },
  {
   "cell_type": "markdown",
   "id": "cf465770",
   "metadata": {},
   "source": [
    "### 11.2 Sử dụng Module"
   ]
  },
  {
   "cell_type": "code",
   "execution_count": 32,
   "id": "a47035bd",
   "metadata": {},
   "outputs": [
    {
     "name": "stdout",
     "output_type": "stream",
     "text": [
      "Hello, Alan\n"
     ]
    }
   ],
   "source": [
    "import mymodule\n",
    "mymodule.greeting(\"Alan\")"
   ]
  },
  {
   "cell_type": "markdown",
   "id": "81ef43d3",
   "metadata": {},
   "source": [
    "### 11.3 Tạo và import module động"
   ]
  },
  {
   "cell_type": "code",
   "execution_count": 33,
   "id": "2e888029",
   "metadata": {},
   "outputs": [
    {
     "name": "stdout",
     "output_type": "stream",
     "text": [
      "mymodule.py\n",
      "def greeting(name):\n",
      "    print(\"Hello, \" + name)\n",
      "\n",
      "Hello, Alan\n"
     ]
    }
   ],
   "source": [
    "# Tạo file module\n",
    "filename = 'mymodule.py'\n",
    "with open(filename, 'w') as file:\n",
    "    text = '''def greeting(name):\n",
    "    print(\"Hello, \" + name)\n",
    "'''\n",
    "    file.write(text)\n",
    "\n",
    "# Đọc và kiểm tra nội dung\n",
    "with open(filename, 'r') as file:\n",
    "    text = file.read()\n",
    "    print(filename)\n",
    "    print(text)\n",
    "\n",
    "# Import và sử dụng\n",
    "import mymodule\n",
    "mymodule.greeting(\"Alan\")"
   ]
  },
  {
   "cell_type": "markdown",
   "id": "a6c1e643",
   "metadata": {},
   "source": [
    "### 11.4 Hàm main()"
   ]
  },
  {
   "cell_type": "code",
   "execution_count": 34,
   "id": "879ec66e",
   "metadata": {},
   "outputs": [
    {
     "name": "stdout",
     "output_type": "stream",
     "text": [
      "Hello World!\n"
     ]
    }
   ],
   "source": [
    "def main():\n",
    "    print(\"Hello World!\")\n",
    "\n",
    "if __name__ == \"__main__\":\n",
    "    main()"
   ]
  },
  {
   "cell_type": "markdown",
   "id": "aa4a083f",
   "metadata": {},
   "source": [
    "## 12. XỬ LÝ FILE"
   ]
  },
  {
   "cell_type": "markdown",
   "id": "05c21bac",
   "metadata": {},
   "source": [
    "### 12.1 Ghi và đọc file cơ bản"
   ]
  },
  {
   "cell_type": "code",
   "execution_count": 35,
   "id": "10a1a03e",
   "metadata": {},
   "outputs": [
    {
     "name": "stdout",
     "output_type": "stream",
     "text": [
      "Hello World\n"
     ]
    }
   ],
   "source": [
    "# Ghi file\n",
    "f = open(\"myfile.txt\", \"w\") # Mở file để ghi\n",
    "f.write(\"Hello World\") # Ghi nội dung\n",
    "f.close() # Đóng file\n",
    "\n",
    "# Đọc file\n",
    "f = open(\"myfile.txt\", \"r\") # Mở file để đọc\n",
    "text = f.read() # Đọc nội dung\n",
    "print(text) # In nội dung\n",
    "f.close() # Đóng file"
   ]
  },
  {
   "cell_type": "markdown",
   "id": "2d64ee3f",
   "metadata": {},
   "source": [
    "### 12.2 Sử dụng with statement (khuyến nghị)"
   ]
  },
  {
   "cell_type": "code",
   "execution_count": 37,
   "id": "7921a309",
   "metadata": {},
   "outputs": [
    {
     "name": "stdout",
     "output_type": "stream",
     "text": [
      "Hello World\n"
     ]
    }
   ],
   "source": [
    "# Ghi file với with\n",
    "with open('myfile.txt', 'w') as file: \n",
    "    file.write('Hello World') \n",
    "\n",
    "# Đọc file với with\n",
    "with open('myfile.txt', 'r') as file:\n",
    "    text = file.read()\n",
    "    print(text)"
   ]
  },
  {
   "cell_type": "markdown",
   "id": "6656a958",
   "metadata": {},
   "source": [
    "### 12.3 Ghi nhiều dòng"
   ]
  },
  {
   "cell_type": "code",
   "execution_count": 38,
   "id": "82ddf4b6",
   "metadata": {},
   "outputs": [
    {
     "name": "stdout",
     "output_type": "stream",
     "text": [
      "Hello World\n",
      "Python File IO\n"
     ]
    }
   ],
   "source": [
    "with open('myfile.txt', 'w') as file:\n",
    "    file.write('Hello World\\nPython File IO')\n",
    "\n",
    "with open('myfile.txt', 'r') as file:\n",
    "    text = file.read()\n",
    "    print(text)"
   ]
  },
  {
   "cell_type": "markdown",
   "id": "8f52d9a5",
   "metadata": {},
   "source": [
    "### 12.4 Append (thêm vào file)"
   ]
  },
  {
   "cell_type": "code",
   "execution_count": null,
   "id": "4b8b1d59",
   "metadata": {},
   "outputs": [
    {
     "name": "stdout",
     "output_type": "stream",
     "text": [
      "Hello World\n",
      "Python File IO\n",
      "New line\n"
     ]
    }
   ],
   "source": [
    "with open('myfile.txt', 'a+') as file:\n",
    "    file.write('\\n' + 'New line') # Thêm dòng mới\n",
    "\n",
    "with open('myfile.txt', 'r') as file:\n",
    "    text = file.read()\n",
    "    print(text)"
   ]
  },
  {
   "cell_type": "markdown",
   "id": "080afa38",
   "metadata": {},
   "source": [
    "### 12.5 Làm việc với OS"
   ]
  },
  {
   "cell_type": "code",
   "execution_count": 42,
   "id": "d3577e54",
   "metadata": {},
   "outputs": [
    {
     "name": "stdout",
     "output_type": "stream",
     "text": [
      "d:\\University\\PTDL\\Repository_github\\SGU_PTDL_2025\\demo_slide\n",
      "['myfile.txt', 'mymodule.py', 'silde_002_code.ipynb', 'slide_003_code.ipynb', '__pycache__']\n",
      "d:\\University\\PTDL\\Repository_github\\SGU_PTDL_2025\\demo_slide\\sample_data\n",
      "[]\n"
     ]
    }
   ],
   "source": [
    "import os\n",
    "\n",
    "# Lấy thư mục hiện tại\n",
    "cwd = os.getcwd()\n",
    "print(cwd)\n",
    "\n",
    "# Liệt kê file trong thư mục\n",
    "print(os.listdir(cwd))\n",
    "\n",
    "# Tạo đường dẫn\n",
    "path = os.path.join(cwd, 'sample_data') # Tạo đường dẫn\n",
    "print(path) # In đường dẫn\n",
    "\n",
    "# Kiểm tra và tạo thư mục nếu chưa tồn tại\n",
    "if not os.path.exists(path):\n",
    "\tos.makedirs(path)\n",
    "\n",
    "print(os.listdir(path)) # Liệt kê file trong thư mục sample_data"
   ]
  },
  {
   "cell_type": "markdown",
   "id": "36373427",
   "metadata": {},
   "source": [
    "### 12.6 Xóa file và folder"
   ]
  },
  {
   "cell_type": "code",
   "execution_count": 43,
   "id": "47a75dfc",
   "metadata": {},
   "outputs": [
    {
     "name": "stdout",
     "output_type": "stream",
     "text": [
      "myfile.txt removed\n"
     ]
    }
   ],
   "source": [
    "import os\n",
    "\n",
    "# Xóa file\n",
    "if os.path.exists(\"myfile.txt\"):\n",
    "    os.remove(\"myfile.txt\")\n",
    "    print(\"myfile.txt removed\")\n",
    "else:\n",
    "    print(\"The file does not exist\")\n",
    "\n",
    "# Tạo và xóa folder\n",
    "os.mkdir(\"myfolder1\")      # Tạo folder\n",
    "os.rmdir(\"myfolder1\")      # Xóa folder"
   ]
  },
  {
   "cell_type": "markdown",
   "id": "74741ff8",
   "metadata": {},
   "source": [
    "## 13. XỬ LÝ NGOẠI LỆ (EXCEPTION HANDLING)"
   ]
  },
  {
   "cell_type": "markdown",
   "id": "13123c19",
   "metadata": {},
   "source": [
    "### 13.1 Try-Except cơ bản"
   ]
  },
  {
   "cell_type": "code",
   "execution_count": null,
   "id": "186bee4a",
   "metadata": {},
   "outputs": [
    {
     "name": "stdout",
     "output_type": "stream",
     "text": [
      "(10, 20, 30, 40, 50)\n"
     ]
    }
   ],
   "source": [
    "try: # Thử chạy đoạn code này\n",
    "    print(x)\n",
    "except: # Nếu lỗi xảy ra thì chạy đoạn code này\n",
    "    print(\"Exception Error\")"
   ]
  },
  {
   "cell_type": "markdown",
   "id": "2f22e4e4",
   "metadata": {},
   "source": [
    "### 13.2 Try-Except-Finally"
   ]
  },
  {
   "cell_type": "code",
   "execution_count": null,
   "id": "b38806a8",
   "metadata": {},
   "outputs": [
    {
     "name": "stdout",
     "output_type": "stream",
     "text": [
      "Hello\n",
      "Finally process\n"
     ]
    }
   ],
   "source": [
    "try:\n",
    "    print(\"Hello\")\n",
    "except:\n",
    "    print(\"Exception Error\")\n",
    "finally: # Luôn chạy đoạn code này\n",
    "    print(\"Finally process\")"
   ]
  },
  {
   "cell_type": "markdown",
   "id": "59dafc30",
   "metadata": {},
   "source": [
    "### 13.3 Try-Except-Else"
   ]
  },
  {
   "cell_type": "code",
   "execution_count": null,
   "id": "7b84cb2d",
   "metadata": {},
   "outputs": [
    {
     "name": "stdout",
     "output_type": "stream",
     "text": [
      "Hello\n",
      "No exception\n"
     ]
    }
   ],
   "source": [
    "try:\n",
    "    print(\"Hello\")\n",
    "except:\n",
    "    print(\"Exception Error\")\n",
    "else: # Nếu không lỗi thì chạy đoạn code này\n",
    "    print(\"No exception\")"
   ]
  },
  {
   "cell_type": "markdown",
   "id": "b23a92c7",
   "metadata": {},
   "source": [
    "### 13.4 Đầy đủ Try-Except-Else-Finally"
   ]
  },
  {
   "cell_type": "code",
   "execution_count": 47,
   "id": "16452736",
   "metadata": {},
   "outputs": [
    {
     "name": "stdout",
     "output_type": "stream",
     "text": [
      "Hello\n",
      "No exception\n",
      "Finally process\n"
     ]
    }
   ],
   "source": [
    "try:\n",
    "    print(\"Hello\")\n",
    "except:\n",
    "    print(\"Exception Error\")\n",
    "else:\n",
    "    print(\"No exception\")\n",
    "finally:\n",
    "    print(\"Finally process\")"
   ]
  },
  {
   "cell_type": "markdown",
   "id": "e7e6f772",
   "metadata": {},
   "source": [
    "### 13.5 Ứng dụng thực tế"
   ]
  },
  {
   "cell_type": "code",
   "execution_count": 48,
   "id": "90b99c5e",
   "metadata": {},
   "outputs": [
    {
     "name": "stdout",
     "output_type": "stream",
     "text": [
      "The total value of the shares is: 20.0\n",
      "Thank you.\n"
     ]
    }
   ],
   "source": [
    "try:\n",
    "    price = float(input(\"Enter the price of the stock (e.g. 10):\"))\n",
    "    shares = int(input(\"Enter the number of shares (e.g. 2):\"))\n",
    "    total = price * shares\n",
    "except Exception as e:\n",
    "    print(\"Exception error:\", str(e))\n",
    "else:\n",
    "    print(\"The total value of the shares is:\", total)\n",
    "finally:\n",
    "    print(\"Thank you.\")"
   ]
  },
  {
   "cell_type": "markdown",
   "id": "29078b19",
   "metadata": {},
   "source": [
    "### 13.6 Xử lý lỗi file"
   ]
  },
  {
   "cell_type": "code",
   "execution_count": 49,
   "id": "7755687f",
   "metadata": {},
   "outputs": [
    {
     "name": "stdout",
     "output_type": "stream",
     "text": [
      "Exception file Error\n"
     ]
    }
   ],
   "source": [
    "# Lỗi khi mở file không tồn tại\n",
    "try:\n",
    "    file = open(\"myfile.txt\")\n",
    "    file.write(\"Python write file\")\n",
    "    print(\"file saved\")\n",
    "except:\n",
    "    print(\"Exception file Error\")"
   ]
  },
  {
   "cell_type": "code",
   "execution_count": 50,
   "id": "271fcb6c",
   "metadata": {},
   "outputs": [
    {
     "name": "stdout",
     "output_type": "stream",
     "text": [
      "file saved\n",
      "Finally process\n"
     ]
    }
   ],
   "source": [
    "# Xử lý đúng cách\n",
    "try:\n",
    "    file = open(\"myfile.txt\", 'w')  # Mở với mode 'w'\n",
    "    file.write(\"Python write file\") \n",
    "    print(\"file saved\")\n",
    "except:\n",
    "    print(\"Exception file Error\")\n",
    "finally:\n",
    "    file.close() # Đóng file\n",
    "    print(\"Finally process\")"
   ]
  },
  {
   "cell_type": "markdown",
   "id": "c899a28e",
   "metadata": {},
   "source": [
    "# Kết thúc"
   ]
  }
 ],
 "metadata": {
  "kernelspec": {
   "display_name": "Python 3",
   "language": "python",
   "name": "python3"
  },
  "language_info": {
   "codemirror_mode": {
    "name": "ipython",
    "version": 3
   },
   "file_extension": ".py",
   "mimetype": "text/x-python",
   "name": "python",
   "nbconvert_exporter": "python",
   "pygments_lexer": "ipython3",
   "version": "3.12.10"
  }
 },
 "nbformat": 4,
 "nbformat_minor": 5
}
